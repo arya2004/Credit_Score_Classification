{
 "cells": [
  {
   "cell_type": "code",
   "execution_count": 2,
   "metadata": {
    "vscode": {
     "languageId": "r"
    }
   },
   "outputs": [
    {
     "name": "stderr",
     "output_type": "stream",
     "text": [
      "randomForest 4.6-14\n",
      "\n",
      "Type rfNews() to see new features/changes/bug fixes.\n",
      "\n",
      "Loading required package: ggplot2\n",
      "\n",
      "\n",
      "Attaching package: ‘ggplot2’\n",
      "\n",
      "\n",
      "The following object is masked from ‘package:randomForest’:\n",
      "\n",
      "    margin\n",
      "\n",
      "\n"
     ]
    }
   ],
   "source": [
    "library(randomForest)\n",
    "library(caret)\n",
    "\n",
    "\n",
    "data <- read.csv(\"trained_cleaned.csv\")\n"
   ]
  },
  {
   "cell_type": "markdown",
   "metadata": {},
   "source": [
    "# Calculate the total number of accounts (Bank Accounts + Credit Cards)\n",
    "\n",
    "train['Total_Num_Accounts'] = train['Num_Bank_Accounts'] + train['Num_Credit_Card']\n",
    "\n",
    "# Calculate the total outstanding debt per account\n",
    "\n",
    "train['Debt_Per_Account'] = train['Outstanding_Debt'] / train['Total_Num_Accounts']\n",
    "\n",
    "# Calculate the ratio of outstanding debt to annual income\n",
    "\n",
    "train['Debt_to_Income_Ratio'] = train['Outstanding_Debt'] / train['Annual_Income']\n",
    "\n",
    "# Calculate the total number of delayed payments per account\n",
    "\n",
    "train['Delayed_Payments_Per_Account'] = train['Num_of_Delayed_Payment'] / train['Total_Num_Accounts']\n",
    "\n",
    "# Calculate the total monthly expenses (EMI + Monthly Investments) \n",
    "\n",
    "train['Total_Monthly_Expenses'] = train['Total_EMI_per_month'] + train['Amount_invested_monthly']\n"
   ]
  },
  {
   "cell_type": "code",
   "execution_count": 46,
   "metadata": {
    "vscode": {
     "languageId": "r"
    }
   },
   "outputs": [],
   "source": [
    "\n",
    "X <- data[, !(names(data) %in% c(\"Credit_Score_Encoded\"))]\n",
    "y <- as.factor(data$Credit_Score_Encoded)  \n",
    "\n",
    "\n",
    "set.seed(77) \n",
    "train_index <- createDataPartition(y, p = 0.85, list = FALSE)\n",
    "X_train <- X[train_index, ]\n",
    "y_train <- y[train_index]\n",
    "X_test <- X[-train_index, ]\n",
    "y_test <- y[-train_index]\n"
   ]
  },
  {
   "cell_type": "code",
   "execution_count": 25,
   "metadata": {
    "vscode": {
     "languageId": "r"
    }
   },
   "outputs": [],
   "source": [
    "\n",
    "rf_model <- randomForest(y_train ~ ., data = data.frame(cbind(X_train, y_train)), ntree = 500)\n",
    "saveRDS(rf_model, file = \"f_model.rds\")"
   ]
  },
  {
   "cell_type": "code",
   "execution_count": 26,
   "metadata": {
    "vscode": {
     "languageId": "r"
    }
   },
   "outputs": [
    {
     "name": "stdout",
     "output_type": "stream",
     "text": [
      "Confusion Matrix and Statistics\n",
      "\n",
      "          Reference\n",
      "Prediction    0    1    2\n",
      "         0  430  146   12\n",
      "         1  205 2448  285\n",
      "         2    9  295  802\n",
      "\n",
      "Overall Statistics\n",
      "                                         \n",
      "               Accuracy : 0.7945         \n",
      "                 95% CI : (0.7825, 0.806)\n",
      "    No Information Rate : 0.6237         \n",
      "    P-Value [Acc > NIR] : < 2e-16        \n",
      "                                         \n",
      "                  Kappa : 0.6123         \n",
      "                                         \n",
      " Mcnemar's Test P-Value : 0.01464        \n",
      "\n",
      "Statistics by Class:\n",
      "\n",
      "                     Class: 0 Class: 1 Class: 2\n",
      "Sensitivity           0.66770   0.8474   0.7298\n",
      "Specificity           0.96038   0.7189   0.9140\n",
      "Pos Pred Value        0.73129   0.8332   0.7251\n",
      "Neg Pred Value        0.94708   0.7397   0.9158\n",
      "Prevalence            0.13903   0.6237   0.2373\n",
      "Detection Rate        0.09283   0.5285   0.1731\n",
      "Detection Prevalence  0.12694   0.6343   0.2388\n",
      "Balanced Accuracy     0.81404   0.7831   0.8219\n"
     ]
    }
   ],
   "source": [
    "loaded_model <- readRDS(file = \"f_model.rds\")\n",
    "predictions <- predict(rf_model, newdata = X_test)\n",
    "\n",
    "\n",
    "confusion_matrix <- confusionMatrix(predictions, y_test)\n",
    "print(confusion_matrix)\n"
   ]
  },
  {
   "cell_type": "code",
   "execution_count": 32,
   "metadata": {
    "vscode": {
     "languageId": "r"
    }
   },
   "outputs": [
    {
     "name": "stderr",
     "output_type": "stream",
     "text": [
      "Downloading package from url: https://cloud.r-project.org/src/contrib/Archive/DMwR/DMwR_0.4.1.tar.gz\n",
      "\n"
     ]
    },
    {
     "name": "stdout",
     "output_type": "stream",
     "text": [
      "bitops   (1.0-6  -> 1.0-7  ) [CRAN]\n",
      "caTools  (1.18.1 -> 1.18.2 ) [CRAN]\n",
      "gtools   (3.8.2  -> 3.9.5  ) [CRAN]\n",
      "curl     (5.2.0  -> 5.2.1  ) [CRAN]\n",
      "xts      (0.12.1 -> 0.13.2 ) [CRAN]\n",
      "gplots   (3.1.1  -> 3.1.3.1) [CRAN]\n",
      "TTR      (0.24.2 -> 0.24.4 ) [CRAN]\n",
      "quantmod (0.4.18 -> 0.4.26 ) [CRAN]\n"
     ]
    },
    {
     "name": "stderr",
     "output_type": "stream",
     "text": [
      "Installing 8 packages: bitops, caTools, gtools, curl, xts, gplots, TTR, quantmod\n",
      "\n",
      "Installing packages into ‘/home/ziegler/R/x86_64-pc-linux-gnu-library/4.0’\n",
      "(as ‘lib’ is unspecified)\n",
      "\n",
      "Installing package into ‘/home/ziegler/R/x86_64-pc-linux-gnu-library/4.0’\n",
      "(as ‘lib’ is unspecified)\n",
      "\n"
     ]
    }
   ],
   "source": [
    "#remotes::install_version(\"DMwR\", version=\"0.4.1\")"
   ]
  },
  {
   "cell_type": "code",
   "execution_count": 34,
   "metadata": {
    "vscode": {
     "languageId": "r"
    }
   },
   "outputs": [
    {
     "ename": "ERROR",
     "evalue": "Error in data[, tgt]: object of type 'closure' is not subsettable\n",
     "output_type": "error",
     "traceback": [
      "Error in data[, tgt]: object of type 'closure' is not subsettable\nTraceback:\n",
      "1. SMOTE(Credit_Score_Encoded ~ ., data = train, perc.over = 100, \n .     perc.under = 200, k = 5, seed = 77)",
      "2. levels(data[, tgt])"
     ]
    }
   ],
   "source": []
  },
  {
   "cell_type": "code",
   "execution_count": 39,
   "metadata": {
    "vscode": {
     "languageId": "r"
    }
   },
   "outputs": [
    {
     "name": "stderr",
     "output_type": "stream",
     "text": [
      "Installing package into ‘/home/ziegler/R/x86_64-pc-linux-gnu-library/4.0’\n",
      "(as ‘lib’ is unspecified)\n",
      "\n"
     ]
    },
    {
     "name": "stderr",
     "output_type": "stream",
     "text": [
      "also installing the dependency ‘dbscan’\n",
      "\n",
      "\n"
     ]
    }
   ],
   "source": [
    "\n",
    "#install.packages(\"smotefamily\")\n"
   ]
  },
  {
   "cell_type": "code",
   "execution_count": 3,
   "metadata": {
    "vscode": {
     "languageId": "r"
    }
   },
   "outputs": [
    {
     "data": {
      "text/html": [
       "0"
      ],
      "text/latex": [
       "0"
      ],
      "text/markdown": [
       "0"
      ],
      "text/plain": [
       "[1] 0"
      ]
     },
     "metadata": {},
     "output_type": "display_data"
    }
   ],
   "source": [
    "suppressWarnings(min(data))"
   ]
  },
  {
   "cell_type": "code",
   "execution_count": 4,
   "metadata": {
    "vscode": {
     "languageId": "r"
    }
   },
   "outputs": [
    {
     "data": {
      "text/plain": [
       "\n",
       "    0     1     2 \n",
       " 4295 19262  7333 "
      ]
     },
     "metadata": {},
     "output_type": "display_data"
    }
   ],
   "source": [
    "table(data$Credit_Score_Encoded)\n"
   ]
  },
  {
   "cell_type": "code",
   "execution_count": 9,
   "metadata": {
    "vscode": {
     "languageId": "r"
    }
   },
   "outputs": [
    {
     "data": {
      "text/plain": [
       "\n",
       "    0     1     2 \n",
       "38655 49622 19098 "
      ]
     },
     "metadata": {},
     "output_type": "display_data"
    }
   ],
   "source": [
    "library(DMwR)\n",
    "data$Credit_Score_Encoded <- as.factor(data$Credit_Score_Encoded)\n",
    "# Original class counts\n",
    "class_counts <- c(4295, 19262, 7333)\n",
    "\n",
    "# Calculate the target count as the average of the original class counts\n",
    "target_count <- sum(class_counts) %/% length(class_counts)\n",
    "\n",
    "# Apply over-sampling using SMOTE\n",
    "over_smote <- SMOTE(Credit_Score_Encoded ~ ., data = data, perc.over = 800, perc.under = 200, k = 5)\n",
    "\n",
    "\n",
    "# Check the class distribution after sampling\n",
    "table(over_smote$Credit_Score_Encoded)"
   ]
  },
  {
   "cell_type": "code",
   "execution_count": 12,
   "metadata": {
    "vscode": {
     "languageId": "r"
    }
   },
   "outputs": [
    {
     "data": {
      "text/html": [
       "<style>\n",
       ".list-inline {list-style: none; margin:0; padding: 0}\n",
       ".list-inline>li {display: inline-block}\n",
       ".list-inline>li:not(:last-child)::after {content: \"\\00b7\"; padding: 0 .5ex}\n",
       "</style>\n",
       "<ol class=list-inline><li>30890</li><li>18</li></ol>\n"
      ],
      "text/latex": [
       "\\begin{enumerate*}\n",
       "\\item 30890\n",
       "\\item 18\n",
       "\\end{enumerate*}\n"
      ],
      "text/markdown": [
       "1. 30890\n",
       "2. 18\n",
       "\n",
       "\n"
      ],
      "text/plain": [
       "[1] 30890    18"
      ]
     },
     "metadata": {},
     "output_type": "display_data"
    },
    {
     "name": "stdout",
     "output_type": "stream",
     "text": [
      "'data.frame':\t30890 obs. of  18 variables:\n",
      " $ Annual_Income               : num  19114 19114 19114 19114 34848 ...\n",
      " $ Num_Bank_Accounts           : int  3 3 3 3 2 2 2 2 2 2 ...\n",
      " $ Num_Credit_Card             : int  4 4 4 4 4 4 4 4 4 4 ...\n",
      " $ Interest_Rate               : int  3 3 3 3 6 6 6 6 6 6 ...\n",
      " $ Num_of_Loan                 : int  4 4 4 4 1 1 1 1 1 1 ...\n",
      " $ Delay_from_due_date         : int  5 6 3 3 7 3 3 3 3 3 ...\n",
      " $ Num_of_Delayed_Payment      : int  4 0 8 6 1 3 1 0 4 4 ...\n",
      " $ Changed_Credit_Limit        : num  6.27 11.27 11.27 11.27 7.42 ...\n",
      " $ Num_Credit_Inquiries        : num  4 4 4 4 2 2 2 2 2 2 ...\n",
      " $ Outstanding_Debt            : num  810 810 810 810 605 ...\n",
      " $ Total_EMI_per_month         : num  49.6 49.6 49.6 49.6 18.8 ...\n",
      " $ Credit_History_Age_Months   : int  268 269 271 0 320 322 323 324 325 326 ...\n",
      " $ Credit_Score_Encoded        : Factor w/ 3 levels \"0\",\"1\",\"2\": 3 3 3 2 3 3 3 3 3 3 ...\n",
      " $ Credit_Mix_Encoded          : num  2 2 2 2 2 2 2 2 2 2 ...\n",
      " $ Total_Num_Accounts          : int  7 7 7 7 6 6 6 6 6 6 ...\n",
      " $ Debt_Per_Account            : num  116 116 116 116 101 ...\n",
      " $ Debt_to_Income_Ratio        : num  0.0424 0.0424 0.0424 0.0424 0.0174 ...\n",
      " $ Delayed_Payments_Per_Account: num  0.571 0 1.143 0.857 0.167 ...\n"
     ]
    },
    {
     "data": {
      "text/html": [
       "<style>\n",
       ".list-inline {list-style: none; margin:0; padding: 0}\n",
       ".list-inline>li {display: inline-block}\n",
       ".list-inline>li:not(:last-child)::after {content: \"\\00b7\"; padding: 0 .5ex}\n",
       "</style>\n",
       "<ol class=list-inline><li>107375</li><li>18</li></ol>\n"
      ],
      "text/latex": [
       "\\begin{enumerate*}\n",
       "\\item 107375\n",
       "\\item 18\n",
       "\\end{enumerate*}\n"
      ],
      "text/markdown": [
       "1. 107375\n",
       "2. 18\n",
       "\n",
       "\n"
      ],
      "text/plain": [
       "[1] 107375     18"
      ]
     },
     "metadata": {},
     "output_type": "display_data"
    },
    {
     "name": "stdout",
     "output_type": "stream",
     "text": [
      "'data.frame':\t107375 obs. of  18 variables:\n",
      " $ Annual_Income               : num  32020 21709 83245 118884 40760 ...\n",
      " $ Num_Bank_Accounts           : num  4 3 2 5 4 2 4 7 6 4 ...\n",
      " $ Num_Credit_Card             : num  5 4 3 6 5 6 5 7 5 3 ...\n",
      " $ Interest_Rate               : num  7 8 8 8 19 12 1 6 7 12 ...\n",
      " $ Num_of_Loan                 : num  3 0 1 0 2 2 0 4 2 1 ...\n",
      " $ Delay_from_due_date         : num  20 8 7 14 10 7 0 27 23 15 ...\n",
      " $ Num_of_Delayed_Payment      : num  14 0 5 3 10 3 10 18 12 8 ...\n",
      " $ Changed_Credit_Limit        : num  1.79 11.52 5.47 11.29 19.66 ...\n",
      " $ Num_Credit_Inquiries        : num  1 7 9 3 9 4 0 0 9 1 ...\n",
      " $ Outstanding_Debt            : num  776 1047 1229 831 338 ...\n",
      " $ Total_EMI_per_month         : num  41.8 0 67.7 0 39.7 ...\n",
      " $ Credit_History_Age_Months   : num  206 292 252 255 377 326 192 242 344 253 ...\n",
      " $ Credit_Score_Encoded        : Factor w/ 3 levels \"0\",\"1\",\"2\": 3 3 2 2 3 2 2 2 2 2 ...\n",
      " $ Credit_Mix_Encoded          : num  2 2 2 2 1 2 2 1 1 1 ...\n",
      " $ Total_Num_Accounts          : num  9 7 5 11 9 8 9 14 11 7 ...\n",
      " $ Debt_Per_Account            : num  86.3 149.6 245.9 75.5 37.5 ...\n",
      " $ Debt_to_Income_Ratio        : num  0.02424 0.04824 0.01477 0.00699 0.00828 ...\n",
      " $ Delayed_Payments_Per_Account: num  1.556 0 1 0.273 1.111 ...\n"
     ]
    },
    {
     "data": {
      "text/plain": [
       "\n",
       "    0     1     2 \n",
       "38655 49644 19076 "
      ]
     },
     "metadata": {},
     "output_type": "display_data"
    }
   ],
   "source": [
    "library(randomForest)\n",
    "library(DMwR)\n",
    "\n",
    "set.seed(77)\n",
    "\n",
    "\n",
    "dim(data)\n",
    "\n",
    "str(data)\n",
    "\n",
    "data$Credit_Score_Encoded <- as.factor(data$Credit_Score_Encoded)\n",
    "\n",
    "\n",
    "smote_data <- SMOTE(Credit_Score_Encoded ~ ., data = data,k = 5,  perc.over = 800, perc.under = 200)\n",
    "\n",
    "dim(smote_data)\n",
    "\n",
    "\n",
    "str(smote_data)\n",
    "\n",
    "table(smote_data$Credit_Score_Encoded)\n"
   ]
  },
  {
   "cell_type": "code",
   "execution_count": 13,
   "metadata": {
    "vscode": {
     "languageId": "r"
    }
   },
   "outputs": [],
   "source": [
    "library(randomForest)\n",
    "library(caret)\n",
    "\n",
    "X <- smote_data[, !(names(smote_data) %in% c(\"Credit_Score_Encoded\"))]\n",
    "y <- as.factor(smote_data$Credit_Score)  \n",
    "\n",
    "\n",
    "set.seed(77)  # Set random seed\n",
    "set.seed(42) \n",
    "train_index <- createDataPartition(y, p = 0.8, list = FALSE)\n",
    "X_train <- X[train_index, ]\n",
    "y_train <- y[train_index]\n",
    "X_test <- X[-train_index, ]\n",
    "y_test <- y[-train_index]\n"
   ]
  },
  {
   "cell_type": "code",
   "execution_count": 14,
   "metadata": {
    "vscode": {
     "languageId": "r"
    }
   },
   "outputs": [],
   "source": [
    "rf_model <- randomForest(y_train ~ ., data = data.frame(cbind(X_train, y_train)), ntree = 500)\n",
    "saveRDS(rf_model, file = \"smote_model.rds\")"
   ]
  },
  {
   "cell_type": "code",
   "execution_count": 15,
   "metadata": {
    "vscode": {
     "languageId": "r"
    }
   },
   "outputs": [
    {
     "name": "stdout",
     "output_type": "stream",
     "text": [
      "Confusion Matrix and Statistics\n",
      "\n",
      "          Reference\n",
      "Prediction    0    1    2\n",
      "         0 7555  107    6\n",
      "         1  170 9624  158\n",
      "         2    6  197 3651\n",
      "\n",
      "Overall Statistics\n",
      "                                          \n",
      "               Accuracy : 0.97            \n",
      "                 95% CI : (0.9676, 0.9723)\n",
      "    No Information Rate : 0.4623          \n",
      "    P-Value [Acc > NIR] : < 2.2e-16       \n",
      "                                          \n",
      "                  Kappa : 0.952           \n",
      "                                          \n",
      " Mcnemar's Test P-Value : 0.0003287       \n",
      "\n",
      "Statistics by Class:\n",
      "\n",
      "                     Class: 0 Class: 1 Class: 2\n",
      "Sensitivity            0.9772   0.9694   0.9570\n",
      "Specificity            0.9918   0.9716   0.9885\n",
      "Pos Pred Value         0.9853   0.9670   0.9473\n",
      "Neg Pred Value         0.9873   0.9736   0.9907\n",
      "Prevalence             0.3600   0.4623   0.1777\n",
      "Detection Rate         0.3518   0.4482   0.1700\n",
      "Detection Prevalence   0.3571   0.4634   0.1795\n",
      "Balanced Accuracy      0.9845   0.9705   0.9728\n"
     ]
    }
   ],
   "source": [
    "loaded_model <- readRDS(file = \"smote_model.rds\")\n",
    "predictions <- predict(rf_model, newdata = X_test)\n",
    "\n",
    "\n",
    "confusion_matrix <- confusionMatrix(predictions, y_test)\n",
    "print(confusion_matrix)"
   ]
  },
  {
   "cell_type": "code",
   "execution_count": 21,
   "metadata": {
    "vscode": {
     "languageId": "r"
    }
   },
   "outputs": [
    {
     "name": "stdout",
     "output_type": "stream",
     "text": [
      "tibble [1 × 24] (S3: tbl_df/tbl/data.frame)\n",
      " $ X                       : int 1\n",
      " $ Month                   : int 3\n",
      " $ Age                     : num 55.3\n",
      " $ Occupation              : int 3\n",
      " $ Annual_Income           : num 5000\n",
      " $ Monthly_Inhand_Salary   : num 1319\n",
      " $ Num_Bank_Accounts       : int 2\n",
      " $ Num_Credit_Card         : int 6\n",
      " $ Interest_Rate           : num 6.41\n",
      " $ Num_of_Loan             : int 5\n",
      " $ Type_of_Loan            : int 343\n",
      " $ Delay_from_due_date     : int 6\n",
      " $ Num_of_Delayed_Payment  : int 9\n",
      " $ Changed_Credit_Limit    : num 2.44\n",
      " $ Num_Credit_Inquiries    : int 3\n",
      " $ Credit_Mix              : int 2\n",
      " $ Outstanding_Debt        : num 689\n",
      " $ Credit_Utilization_Ratio: num 29.8\n",
      " $ Credit_History_Age      : int 290\n",
      " $ Payment_of_Min_Amount   : int 0\n",
      " $ Total_EMI_per_month     : num 78.5\n",
      " $ Amount_invested_monthly : num 210\n",
      " $ Payment_Behaviour       : int 0\n",
      " $ Monthly_Balance         : num 331\n"
     ]
    },
    {
     "data": {
      "text/html": [
       "<table class=\"dataframe\">\n",
       "<caption>A tibble: 1 × 24</caption>\n",
       "<thead>\n",
       "\t<tr><th scope=col>X</th><th scope=col>Month</th><th scope=col>Age</th><th scope=col>Occupation</th><th scope=col>Annual_Income</th><th scope=col>Monthly_Inhand_Salary</th><th scope=col>Num_Bank_Accounts</th><th scope=col>Num_Credit_Card</th><th scope=col>Interest_Rate</th><th scope=col>Num_of_Loan</th><th scope=col>⋯</th><th scope=col>Num_Credit_Inquiries</th><th scope=col>Credit_Mix</th><th scope=col>Outstanding_Debt</th><th scope=col>Credit_Utilization_Ratio</th><th scope=col>Credit_History_Age</th><th scope=col>Payment_of_Min_Amount</th><th scope=col>Total_EMI_per_month</th><th scope=col>Amount_invested_monthly</th><th scope=col>Payment_Behaviour</th><th scope=col>Monthly_Balance</th></tr>\n",
       "\t<tr><th scope=col>&lt;int&gt;</th><th scope=col>&lt;int&gt;</th><th scope=col>&lt;dbl&gt;</th><th scope=col>&lt;int&gt;</th><th scope=col>&lt;dbl&gt;</th><th scope=col>&lt;dbl&gt;</th><th scope=col>&lt;int&gt;</th><th scope=col>&lt;int&gt;</th><th scope=col>&lt;dbl&gt;</th><th scope=col>&lt;int&gt;</th><th scope=col>⋯</th><th scope=col>&lt;int&gt;</th><th scope=col>&lt;int&gt;</th><th scope=col>&lt;dbl&gt;</th><th scope=col>&lt;dbl&gt;</th><th scope=col>&lt;int&gt;</th><th scope=col>&lt;int&gt;</th><th scope=col>&lt;dbl&gt;</th><th scope=col>&lt;dbl&gt;</th><th scope=col>&lt;int&gt;</th><th scope=col>&lt;dbl&gt;</th></tr>\n",
       "</thead>\n",
       "<tbody>\n",
       "\t<tr><td>1</td><td>3</td><td>55.3207</td><td>3</td><td>5000</td><td>1318.895</td><td>2</td><td>6</td><td>6.41148</td><td>5</td><td>⋯</td><td>3</td><td>2</td><td>689.2679</td><td>29.83762</td><td>290</td><td>0</td><td>78.49624</td><td>210.1267</td><td>0</td><td>331.1412</td></tr>\n",
       "</tbody>\n",
       "</table>\n"
      ],
      "text/latex": [
       "A tibble: 1 × 24\n",
       "\\begin{tabular}{lllllllllllllllllllll}\n",
       " X & Month & Age & Occupation & Annual\\_Income & Monthly\\_Inhand\\_Salary & Num\\_Bank\\_Accounts & Num\\_Credit\\_Card & Interest\\_Rate & Num\\_of\\_Loan & ⋯ & Num\\_Credit\\_Inquiries & Credit\\_Mix & Outstanding\\_Debt & Credit\\_Utilization\\_Ratio & Credit\\_History\\_Age & Payment\\_of\\_Min\\_Amount & Total\\_EMI\\_per\\_month & Amount\\_invested\\_monthly & Payment\\_Behaviour & Monthly\\_Balance\\\\\n",
       " <int> & <int> & <dbl> & <int> & <dbl> & <dbl> & <int> & <int> & <dbl> & <int> & ⋯ & <int> & <int> & <dbl> & <dbl> & <int> & <int> & <dbl> & <dbl> & <int> & <dbl>\\\\\n",
       "\\hline\n",
       "\t 1 & 3 & 55.3207 & 3 & 5000 & 1318.895 & 2 & 6 & 6.41148 & 5 & ⋯ & 3 & 2 & 689.2679 & 29.83762 & 290 & 0 & 78.49624 & 210.1267 & 0 & 331.1412\\\\\n",
       "\\end{tabular}\n"
      ],
      "text/markdown": [
       "\n",
       "A tibble: 1 × 24\n",
       "\n",
       "| X &lt;int&gt; | Month &lt;int&gt; | Age &lt;dbl&gt; | Occupation &lt;int&gt; | Annual_Income &lt;dbl&gt; | Monthly_Inhand_Salary &lt;dbl&gt; | Num_Bank_Accounts &lt;int&gt; | Num_Credit_Card &lt;int&gt; | Interest_Rate &lt;dbl&gt; | Num_of_Loan &lt;int&gt; | ⋯ ⋯ | Num_Credit_Inquiries &lt;int&gt; | Credit_Mix &lt;int&gt; | Outstanding_Debt &lt;dbl&gt; | Credit_Utilization_Ratio &lt;dbl&gt; | Credit_History_Age &lt;int&gt; | Payment_of_Min_Amount &lt;int&gt; | Total_EMI_per_month &lt;dbl&gt; | Amount_invested_monthly &lt;dbl&gt; | Payment_Behaviour &lt;int&gt; | Monthly_Balance &lt;dbl&gt; |\n",
       "|---|---|---|---|---|---|---|---|---|---|---|---|---|---|---|---|---|---|---|---|---|\n",
       "| 1 | 3 | 55.3207 | 3 | 5000 | 1318.895 | 2 | 6 | 6.41148 | 5 | ⋯ | 3 | 2 | 689.2679 | 29.83762 | 290 | 0 | 78.49624 | 210.1267 | 0 | 331.1412 |\n",
       "\n"
      ],
      "text/plain": [
       "  X Month Age     Occupation Annual_Income Monthly_Inhand_Salary\n",
       "1 1 3     55.3207 3          5000          1318.895             \n",
       "  Num_Bank_Accounts Num_Credit_Card Interest_Rate Num_of_Loan ⋯\n",
       "1 2                 6               6.41148       5           ⋯\n",
       "  Num_Credit_Inquiries Credit_Mix Outstanding_Debt Credit_Utilization_Ratio\n",
       "1 3                    2          689.2679         29.83762                \n",
       "  Credit_History_Age Payment_of_Min_Amount Total_EMI_per_month\n",
       "1 290                0                     78.49624           \n",
       "  Amount_invested_monthly Payment_Behaviour Monthly_Balance\n",
       "1 210.1267                0                 331.1412       "
      ]
     },
     "metadata": {},
     "output_type": "display_data"
    },
    {
     "data": {
      "text/html": [
       "<table class=\"dataframe\">\n",
       "<caption>A data.frame: 6 × 25</caption>\n",
       "<thead>\n",
       "\t<tr><th></th><th scope=col>X</th><th scope=col>Month</th><th scope=col>Age</th><th scope=col>Occupation</th><th scope=col>Annual_Income</th><th scope=col>Monthly_Inhand_Salary</th><th scope=col>Num_Bank_Accounts</th><th scope=col>Num_Credit_Card</th><th scope=col>Interest_Rate</th><th scope=col>Num_of_Loan</th><th scope=col>⋯</th><th scope=col>Credit_Mix</th><th scope=col>Outstanding_Debt</th><th scope=col>Credit_Utilization_Ratio</th><th scope=col>Credit_History_Age</th><th scope=col>Payment_of_Min_Amount</th><th scope=col>Total_EMI_per_month</th><th scope=col>Amount_invested_monthly</th><th scope=col>Payment_Behaviour</th><th scope=col>Monthly_Balance</th><th scope=col>Credit_Score</th></tr>\n",
       "\t<tr><th></th><th scope=col>&lt;int&gt;</th><th scope=col>&lt;int&gt;</th><th scope=col>&lt;dbl&gt;</th><th scope=col>&lt;int&gt;</th><th scope=col>&lt;dbl&gt;</th><th scope=col>&lt;dbl&gt;</th><th scope=col>&lt;dbl&gt;</th><th scope=col>&lt;dbl&gt;</th><th scope=col>&lt;dbl&gt;</th><th scope=col>&lt;dbl&gt;</th><th scope=col>⋯</th><th scope=col>&lt;int&gt;</th><th scope=col>&lt;dbl&gt;</th><th scope=col>&lt;dbl&gt;</th><th scope=col>&lt;dbl&gt;</th><th scope=col>&lt;int&gt;</th><th scope=col>&lt;dbl&gt;</th><th scope=col>&lt;dbl&gt;</th><th scope=col>&lt;int&gt;</th><th scope=col>&lt;dbl&gt;</th><th scope=col>&lt;int&gt;</th></tr>\n",
       "</thead>\n",
       "<tbody>\n",
       "\t<tr><th scope=row>1</th><td>0</td><td>1</td><td>23</td><td>12</td><td>19114.12</td><td>1824.843</td><td>3</td><td>4</td><td>3</td><td>4</td><td>⋯</td><td>1</td><td>809.98</td><td>26.82262</td><td>265</td><td>1</td><td>49.57495</td><td> 80.41530</td><td>2</td><td>312.4941</td><td>0</td></tr>\n",
       "\t<tr><th scope=row>2</th><td>1</td><td>2</td><td>23</td><td>12</td><td>19114.12</td><td>1824.843</td><td>3</td><td>4</td><td>3</td><td>4</td><td>⋯</td><td>1</td><td>809.98</td><td>31.94496</td><td>265</td><td>1</td><td>49.57495</td><td>118.28022</td><td>3</td><td>284.6292</td><td>0</td></tr>\n",
       "\t<tr><th scope=row>3</th><td>2</td><td>3</td><td>23</td><td>12</td><td>19114.12</td><td>1824.843</td><td>3</td><td>4</td><td>3</td><td>4</td><td>⋯</td><td>1</td><td>809.98</td><td>28.60935</td><td>267</td><td>1</td><td>49.57495</td><td> 81.69952</td><td>4</td><td>331.2099</td><td>0</td></tr>\n",
       "\t<tr><th scope=row>4</th><td>3</td><td>4</td><td>23</td><td>12</td><td>19114.12</td><td>1824.843</td><td>3</td><td>4</td><td>3</td><td>4</td><td>⋯</td><td>1</td><td>809.98</td><td>31.37786</td><td>268</td><td>1</td><td>49.57495</td><td>199.45807</td><td>5</td><td>223.4513</td><td>0</td></tr>\n",
       "\t<tr><th scope=row>5</th><td>4</td><td>5</td><td>23</td><td>12</td><td>19114.12</td><td>1824.843</td><td>3</td><td>4</td><td>3</td><td>4</td><td>⋯</td><td>1</td><td>809.98</td><td>24.79735</td><td>269</td><td>1</td><td>49.57495</td><td> 41.42015</td><td>1</td><td>341.4892</td><td>0</td></tr>\n",
       "\t<tr><th scope=row>6</th><td>5</td><td>6</td><td>23</td><td>12</td><td>19114.12</td><td>1824.843</td><td>3</td><td>4</td><td>3</td><td>4</td><td>⋯</td><td>1</td><td>809.98</td><td>27.26226</td><td>270</td><td>1</td><td>49.57495</td><td> 62.43017</td><td>1</td><td>340.4792</td><td>0</td></tr>\n",
       "</tbody>\n",
       "</table>\n"
      ],
      "text/latex": [
       "A data.frame: 6 × 25\n",
       "\\begin{tabular}{r|lllllllllllllllllllll}\n",
       "  & X & Month & Age & Occupation & Annual\\_Income & Monthly\\_Inhand\\_Salary & Num\\_Bank\\_Accounts & Num\\_Credit\\_Card & Interest\\_Rate & Num\\_of\\_Loan & ⋯ & Credit\\_Mix & Outstanding\\_Debt & Credit\\_Utilization\\_Ratio & Credit\\_History\\_Age & Payment\\_of\\_Min\\_Amount & Total\\_EMI\\_per\\_month & Amount\\_invested\\_monthly & Payment\\_Behaviour & Monthly\\_Balance & Credit\\_Score\\\\\n",
       "  & <int> & <int> & <dbl> & <int> & <dbl> & <dbl> & <dbl> & <dbl> & <dbl> & <dbl> & ⋯ & <int> & <dbl> & <dbl> & <dbl> & <int> & <dbl> & <dbl> & <int> & <dbl> & <int>\\\\\n",
       "\\hline\n",
       "\t1 & 0 & 1 & 23 & 12 & 19114.12 & 1824.843 & 3 & 4 & 3 & 4 & ⋯ & 1 & 809.98 & 26.82262 & 265 & 1 & 49.57495 &  80.41530 & 2 & 312.4941 & 0\\\\\n",
       "\t2 & 1 & 2 & 23 & 12 & 19114.12 & 1824.843 & 3 & 4 & 3 & 4 & ⋯ & 1 & 809.98 & 31.94496 & 265 & 1 & 49.57495 & 118.28022 & 3 & 284.6292 & 0\\\\\n",
       "\t3 & 2 & 3 & 23 & 12 & 19114.12 & 1824.843 & 3 & 4 & 3 & 4 & ⋯ & 1 & 809.98 & 28.60935 & 267 & 1 & 49.57495 &  81.69952 & 4 & 331.2099 & 0\\\\\n",
       "\t4 & 3 & 4 & 23 & 12 & 19114.12 & 1824.843 & 3 & 4 & 3 & 4 & ⋯ & 1 & 809.98 & 31.37786 & 268 & 1 & 49.57495 & 199.45807 & 5 & 223.4513 & 0\\\\\n",
       "\t5 & 4 & 5 & 23 & 12 & 19114.12 & 1824.843 & 3 & 4 & 3 & 4 & ⋯ & 1 & 809.98 & 24.79735 & 269 & 1 & 49.57495 &  41.42015 & 1 & 341.4892 & 0\\\\\n",
       "\t6 & 5 & 6 & 23 & 12 & 19114.12 & 1824.843 & 3 & 4 & 3 & 4 & ⋯ & 1 & 809.98 & 27.26226 & 270 & 1 & 49.57495 &  62.43017 & 1 & 340.4792 & 0\\\\\n",
       "\\end{tabular}\n"
      ],
      "text/markdown": [
       "\n",
       "A data.frame: 6 × 25\n",
       "\n",
       "| <!--/--> | X &lt;int&gt; | Month &lt;int&gt; | Age &lt;dbl&gt; | Occupation &lt;int&gt; | Annual_Income &lt;dbl&gt; | Monthly_Inhand_Salary &lt;dbl&gt; | Num_Bank_Accounts &lt;dbl&gt; | Num_Credit_Card &lt;dbl&gt; | Interest_Rate &lt;dbl&gt; | Num_of_Loan &lt;dbl&gt; | ⋯ ⋯ | Credit_Mix &lt;int&gt; | Outstanding_Debt &lt;dbl&gt; | Credit_Utilization_Ratio &lt;dbl&gt; | Credit_History_Age &lt;dbl&gt; | Payment_of_Min_Amount &lt;int&gt; | Total_EMI_per_month &lt;dbl&gt; | Amount_invested_monthly &lt;dbl&gt; | Payment_Behaviour &lt;int&gt; | Monthly_Balance &lt;dbl&gt; | Credit_Score &lt;int&gt; |\n",
       "|---|---|---|---|---|---|---|---|---|---|---|---|---|---|---|---|---|---|---|---|---|---|\n",
       "| 1 | 0 | 1 | 23 | 12 | 19114.12 | 1824.843 | 3 | 4 | 3 | 4 | ⋯ | 1 | 809.98 | 26.82262 | 265 | 1 | 49.57495 |  80.41530 | 2 | 312.4941 | 0 |\n",
       "| 2 | 1 | 2 | 23 | 12 | 19114.12 | 1824.843 | 3 | 4 | 3 | 4 | ⋯ | 1 | 809.98 | 31.94496 | 265 | 1 | 49.57495 | 118.28022 | 3 | 284.6292 | 0 |\n",
       "| 3 | 2 | 3 | 23 | 12 | 19114.12 | 1824.843 | 3 | 4 | 3 | 4 | ⋯ | 1 | 809.98 | 28.60935 | 267 | 1 | 49.57495 |  81.69952 | 4 | 331.2099 | 0 |\n",
       "| 4 | 3 | 4 | 23 | 12 | 19114.12 | 1824.843 | 3 | 4 | 3 | 4 | ⋯ | 1 | 809.98 | 31.37786 | 268 | 1 | 49.57495 | 199.45807 | 5 | 223.4513 | 0 |\n",
       "| 5 | 4 | 5 | 23 | 12 | 19114.12 | 1824.843 | 3 | 4 | 3 | 4 | ⋯ | 1 | 809.98 | 24.79735 | 269 | 1 | 49.57495 |  41.42015 | 1 | 341.4892 | 0 |\n",
       "| 6 | 5 | 6 | 23 | 12 | 19114.12 | 1824.843 | 3 | 4 | 3 | 4 | ⋯ | 1 | 809.98 | 27.26226 | 270 | 1 | 49.57495 |  62.43017 | 1 | 340.4792 | 0 |\n",
       "\n"
      ],
      "text/plain": [
       "  X Month Age Occupation Annual_Income Monthly_Inhand_Salary Num_Bank_Accounts\n",
       "1 0 1     23  12         19114.12      1824.843              3                \n",
       "2 1 2     23  12         19114.12      1824.843              3                \n",
       "3 2 3     23  12         19114.12      1824.843              3                \n",
       "4 3 4     23  12         19114.12      1824.843              3                \n",
       "5 4 5     23  12         19114.12      1824.843              3                \n",
       "6 5 6     23  12         19114.12      1824.843              3                \n",
       "  Num_Credit_Card Interest_Rate Num_of_Loan ⋯ Credit_Mix Outstanding_Debt\n",
       "1 4               3             4           ⋯ 1          809.98          \n",
       "2 4               3             4           ⋯ 1          809.98          \n",
       "3 4               3             4           ⋯ 1          809.98          \n",
       "4 4               3             4           ⋯ 1          809.98          \n",
       "5 4               3             4           ⋯ 1          809.98          \n",
       "6 4               3             4           ⋯ 1          809.98          \n",
       "  Credit_Utilization_Ratio Credit_History_Age Payment_of_Min_Amount\n",
       "1 26.82262                 265                1                    \n",
       "2 31.94496                 265                1                    \n",
       "3 28.60935                 267                1                    \n",
       "4 31.37786                 268                1                    \n",
       "5 24.79735                 269                1                    \n",
       "6 27.26226                 270                1                    \n",
       "  Total_EMI_per_month Amount_invested_monthly Payment_Behaviour Monthly_Balance\n",
       "1 49.57495             80.41530               2                 312.4941       \n",
       "2 49.57495            118.28022               3                 284.6292       \n",
       "3 49.57495             81.69952               4                 331.2099       \n",
       "4 49.57495            199.45807               5                 223.4513       \n",
       "5 49.57495             41.42015               1                 341.4892       \n",
       "6 49.57495             62.43017               1                 340.4792       \n",
       "  Credit_Score\n",
       "1 0           \n",
       "2 0           \n",
       "3 0           \n",
       "4 0           \n",
       "5 0           \n",
       "6 0           "
      ]
     },
     "metadata": {},
     "output_type": "display_data"
    }
   ],
   "source": [
    "library(tibble)\n",
    "\n",
    "# Generate random data for the dataframe\n",
    "set.seed(123)\n",
    "df <- tibble(\n",
    "  X = seq_len(1),\n",
    "  Month = sample(1:12, 1, replace = TRUE),\n",
    "  Age = runif(1, min = 20, max = 60),\n",
    "  Occupation = sample(1:20, 1, replace = TRUE),\n",
    "  Annual_Income = 5000,\n",
    "  Monthly_Inhand_Salary = runif(1, min = 1000, max = 8000),\n",
    "  Num_Bank_Accounts = sample(1:5, 1, replace = TRUE),\n",
    "  Num_Credit_Card = sample(1:6, 1, replace = TRUE),\n",
    "  Interest_Rate = runif(1, min = 2, max = 10),\n",
    "  Num_of_Loan = sample(1:5, 1, replace = TRUE),\n",
    "  Type_of_Loan = sample(100:900, 1, replace = TRUE),\n",
    "  Delay_from_due_date = sample(1:10, 1, replace = TRUE),\n",
    "  Num_of_Delayed_Payment = sample(1:10, 1, replace = TRUE),\n",
    "  Changed_Credit_Limit = runif(1, min = 1, max = 15),\n",
    "  Num_Credit_Inquiries = sample(1:5, 1, replace = TRUE),\n",
    "  Credit_Mix = sample(1:2, 1, replace = TRUE),\n",
    "  Outstanding_Debt = runif(1, min = 500, max = 5000),\n",
    "  Credit_Utilization_Ratio = runif(1, min = 20, max = 50),\n",
    "  Credit_History_Age = sample(200:400, 1, replace = TRUE),\n",
    "  Payment_of_Min_Amount = sample(0:1, 1, replace = TRUE),\n",
    "  Total_EMI_per_month = runif(1, min = 30, max = 100),\n",
    "  Amount_invested_monthly = runif(1, min = 50, max = 300),\n",
    "  Payment_Behaviour = sample(0:5, 1, replace = TRUE),\n",
    "  Monthly_Balance = runif(1, min = 200, max = 400),\n",
    "  #Credit_Score = sample(0:5, 1, replace = TRUE)\n",
    ")\n",
    "\n",
    "# Show the structure of the dataframe\n",
    "str(df)\n",
    "head(df)\n",
    "head(data)\n"
   ]
  },
  {
   "cell_type": "code",
   "execution_count": 22,
   "metadata": {
    "vscode": {
     "languageId": "r"
    }
   },
   "outputs": [
    {
     "ename": "ERROR",
     "evalue": "Error in table(data, reference, dnn = dnn, ...): all arguments must have the same length\n",
     "output_type": "error",
     "traceback": [
      "Error in table(data, reference, dnn = dnn, ...): all arguments must have the same length\nTraceback:\n",
      "1. confusionMatrix(predictions, y_test)",
      "2. confusionMatrix.default(predictions, y_test)",
      "3. table(data, reference, dnn = dnn, ...)",
      "4. stop(\"all arguments must have the same length\")"
     ]
    }
   ],
   "source": [
    "rf_model <- randomForest(y_train ~ ., data = data.frame(cbind(X_train, y_train)), ntree = 1)\n",
    "\n",
    "\n",
    "predictions <- predict(rf_model, newdata = df)\n",
    "\n",
    "\n",
    "confusion_matrix <- confusionMatrix(predictions, y_test)\n",
    "print(confusion_matrix)"
   ]
  },
  {
   "cell_type": "code",
   "execution_count": 32,
   "metadata": {
    "vscode": {
     "languageId": "r"
    }
   },
   "outputs": [
    {
     "name": "stdout",
     "output_type": "stream",
     "text": [
      "1 \n",
      "2 \n",
      "Levels: 0 1 2\n"
     ]
    }
   ],
   "source": [
    "library(randomForest)\n",
    "library(caret)\n",
    "\n",
    "# Sample dataframe generation code (100,000 observations)\n",
    "library(tibble)\n",
    "\n",
    "set.seed(123)\n",
    "# Assuming user inputs for each variable\n",
    "user_input <- data.frame(\n",
    "  X = 1,  # Example value, replace with actual value\n",
    "  Month = 3,  # Example value, replace with actual value\n",
    "  Age = 30,  # Example value, replace with actual value\n",
    "  Occupation = 15,  # Example value, replace with actual value\n",
    "  Annual_Income = 50000,  # Example value, replace with actual value\n",
    "  Monthly_Inhand_Salary = 4000,  # Example value, replace with actual value\n",
    "  Num_Bank_Accounts = 2,  # Example value, replace with actual value\n",
    "  Num_Credit_Card = 3,  # Example value, replace with actual value\n",
    "  Interest_Rate = 6,  # Example value, replace with actual value\n",
    "  Num_of_Loan = 2,  # Example value, replace with actual value\n",
    "  Type_of_Loan = 250,  # Example value, replace with actual value\n",
    "  Delay_from_due_date = 4,  # Example value, replace with actual value\n",
    "  Num_of_Delayed_Payment = 3,  # Example value, replace with actual value\n",
    "  Changed_Credit_Limit = 8,  # Example value, replace with actual value\n",
    "  Num_Credit_Inquiries = 2,  # Example value, replace with actual value\n",
    "  Credit_Mix = 1,  # Example value, replace with actual value\n",
    "  Outstanding_Debt = 2000,  # Example value, replace with actual value\n",
    "  Credit_Utilization_Ratio = 35,  # Example value, replace with actual value\n",
    "  Credit_History_Age = 300,  # Example value, replace with actual value\n",
    "  Payment_of_Min_Amount = 1,  # Example value, replace with actual value\n",
    "  Total_EMI_per_month = 70,  # Example value, replace with actual value\n",
    "  Amount_invested_monthly = 150,  # Example value, replace with actual value\n",
    "  Payment_Behaviour = 3,  # Example value, replace with actual value\n",
    "  Monthly_Balance = 300  # Example value, replace with actual value\n",
    " \n",
    ")\n",
    "\n",
    "\n",
    "\n",
    "\n",
    "\n",
    "# Building the random forest model\n",
    "rf_model <- randomForest(y_train ~ ., data = data.frame(cbind(X_train, y_train)), ntree = 1)\n",
    "\n",
    "# Making predictions\n",
    "predictions <- predict(rf_model, newdata = user_input)\n",
    "\n",
    "print(predictions)"
   ]
  },
  {
   "cell_type": "code",
   "execution_count": null,
   "metadata": {
    "vscode": {
     "languageId": "r"
    }
   },
   "outputs": [],
   "source": []
  },
  {
   "cell_type": "code",
   "execution_count": null,
   "metadata": {
    "vscode": {
     "languageId": "r"
    }
   },
   "outputs": [],
   "source": []
  }
 ],
 "metadata": {
  "kernelspec": {
   "display_name": "R",
   "language": "R",
   "name": "ir"
  },
  "language_info": {
   "codemirror_mode": "r",
   "file_extension": ".r",
   "mimetype": "text/x-r-source",
   "name": "R",
   "pygments_lexer": "r",
   "version": "4.0.4"
  }
 },
 "nbformat": 4,
 "nbformat_minor": 2
}
