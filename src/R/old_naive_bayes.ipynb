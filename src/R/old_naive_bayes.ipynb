{
 "cells": [
  {
   "cell_type": "markdown",
   "metadata": {},
   "source": [
    "# Naive bayes"
   ]
  },
  {
   "cell_type": "code",
   "execution_count": 34,
   "metadata": {
    "vscode": {
     "languageId": "r"
    }
   },
   "outputs": [
    {
     "data": {
      "text/html": [
       "<table class=\"dataframe\">\n",
       "<caption>A data.frame: 6 × 25</caption>\n",
       "<thead>\n",
       "\t<tr><th></th><th scope=col>X</th><th scope=col>Month</th><th scope=col>Age</th><th scope=col>Occupation</th><th scope=col>Annual_Income</th><th scope=col>Monthly_Inhand_Salary</th><th scope=col>Num_Bank_Accounts</th><th scope=col>Num_Credit_Card</th><th scope=col>Interest_Rate</th><th scope=col>Num_of_Loan</th><th scope=col>⋯</th><th scope=col>Credit_Mix</th><th scope=col>Outstanding_Debt</th><th scope=col>Credit_Utilization_Ratio</th><th scope=col>Credit_History_Age</th><th scope=col>Payment_of_Min_Amount</th><th scope=col>Total_EMI_per_month</th><th scope=col>Amount_invested_monthly</th><th scope=col>Payment_Behaviour</th><th scope=col>Monthly_Balance</th><th scope=col>Credit_Score</th></tr>\n",
       "\t<tr><th></th><th scope=col>&lt;int&gt;</th><th scope=col>&lt;int&gt;</th><th scope=col>&lt;dbl&gt;</th><th scope=col>&lt;int&gt;</th><th scope=col>&lt;dbl&gt;</th><th scope=col>&lt;dbl&gt;</th><th scope=col>&lt;dbl&gt;</th><th scope=col>&lt;dbl&gt;</th><th scope=col>&lt;dbl&gt;</th><th scope=col>&lt;dbl&gt;</th><th scope=col>⋯</th><th scope=col>&lt;int&gt;</th><th scope=col>&lt;dbl&gt;</th><th scope=col>&lt;dbl&gt;</th><th scope=col>&lt;dbl&gt;</th><th scope=col>&lt;int&gt;</th><th scope=col>&lt;dbl&gt;</th><th scope=col>&lt;dbl&gt;</th><th scope=col>&lt;int&gt;</th><th scope=col>&lt;dbl&gt;</th><th scope=col>&lt;int&gt;</th></tr>\n",
       "</thead>\n",
       "<tbody>\n",
       "\t<tr><th scope=row>1</th><td>0</td><td>1</td><td>23</td><td>12</td><td>19114.12</td><td>1824.843</td><td>3</td><td>4</td><td>3</td><td>4</td><td>⋯</td><td>1</td><td>809.98</td><td>26.82262</td><td>265</td><td>1</td><td>49.57495</td><td> 80.41530</td><td>2</td><td>312.4941</td><td>0</td></tr>\n",
       "\t<tr><th scope=row>2</th><td>1</td><td>2</td><td>23</td><td>12</td><td>19114.12</td><td>1824.843</td><td>3</td><td>4</td><td>3</td><td>4</td><td>⋯</td><td>1</td><td>809.98</td><td>31.94496</td><td>265</td><td>1</td><td>49.57495</td><td>118.28022</td><td>3</td><td>284.6292</td><td>0</td></tr>\n",
       "\t<tr><th scope=row>3</th><td>2</td><td>3</td><td>23</td><td>12</td><td>19114.12</td><td>1824.843</td><td>3</td><td>4</td><td>3</td><td>4</td><td>⋯</td><td>1</td><td>809.98</td><td>28.60935</td><td>267</td><td>1</td><td>49.57495</td><td> 81.69952</td><td>4</td><td>331.2099</td><td>0</td></tr>\n",
       "\t<tr><th scope=row>4</th><td>3</td><td>4</td><td>23</td><td>12</td><td>19114.12</td><td>1824.843</td><td>3</td><td>4</td><td>3</td><td>4</td><td>⋯</td><td>1</td><td>809.98</td><td>31.37786</td><td>268</td><td>1</td><td>49.57495</td><td>199.45807</td><td>5</td><td>223.4513</td><td>0</td></tr>\n",
       "\t<tr><th scope=row>5</th><td>4</td><td>5</td><td>23</td><td>12</td><td>19114.12</td><td>1824.843</td><td>3</td><td>4</td><td>3</td><td>4</td><td>⋯</td><td>1</td><td>809.98</td><td>24.79735</td><td>269</td><td>1</td><td>49.57495</td><td> 41.42015</td><td>1</td><td>341.4892</td><td>0</td></tr>\n",
       "\t<tr><th scope=row>6</th><td>5</td><td>6</td><td>23</td><td>12</td><td>19114.12</td><td>1824.843</td><td>3</td><td>4</td><td>3</td><td>4</td><td>⋯</td><td>1</td><td>809.98</td><td>27.26226</td><td>270</td><td>1</td><td>49.57495</td><td> 62.43017</td><td>1</td><td>340.4792</td><td>0</td></tr>\n",
       "</tbody>\n",
       "</table>\n"
      ],
      "text/latex": [
       "A data.frame: 6 × 25\n",
       "\\begin{tabular}{r|lllllllllllllllllllll}\n",
       "  & X & Month & Age & Occupation & Annual\\_Income & Monthly\\_Inhand\\_Salary & Num\\_Bank\\_Accounts & Num\\_Credit\\_Card & Interest\\_Rate & Num\\_of\\_Loan & ⋯ & Credit\\_Mix & Outstanding\\_Debt & Credit\\_Utilization\\_Ratio & Credit\\_History\\_Age & Payment\\_of\\_Min\\_Amount & Total\\_EMI\\_per\\_month & Amount\\_invested\\_monthly & Payment\\_Behaviour & Monthly\\_Balance & Credit\\_Score\\\\\n",
       "  & <int> & <int> & <dbl> & <int> & <dbl> & <dbl> & <dbl> & <dbl> & <dbl> & <dbl> & ⋯ & <int> & <dbl> & <dbl> & <dbl> & <int> & <dbl> & <dbl> & <int> & <dbl> & <int>\\\\\n",
       "\\hline\n",
       "\t1 & 0 & 1 & 23 & 12 & 19114.12 & 1824.843 & 3 & 4 & 3 & 4 & ⋯ & 1 & 809.98 & 26.82262 & 265 & 1 & 49.57495 &  80.41530 & 2 & 312.4941 & 0\\\\\n",
       "\t2 & 1 & 2 & 23 & 12 & 19114.12 & 1824.843 & 3 & 4 & 3 & 4 & ⋯ & 1 & 809.98 & 31.94496 & 265 & 1 & 49.57495 & 118.28022 & 3 & 284.6292 & 0\\\\\n",
       "\t3 & 2 & 3 & 23 & 12 & 19114.12 & 1824.843 & 3 & 4 & 3 & 4 & ⋯ & 1 & 809.98 & 28.60935 & 267 & 1 & 49.57495 &  81.69952 & 4 & 331.2099 & 0\\\\\n",
       "\t4 & 3 & 4 & 23 & 12 & 19114.12 & 1824.843 & 3 & 4 & 3 & 4 & ⋯ & 1 & 809.98 & 31.37786 & 268 & 1 & 49.57495 & 199.45807 & 5 & 223.4513 & 0\\\\\n",
       "\t5 & 4 & 5 & 23 & 12 & 19114.12 & 1824.843 & 3 & 4 & 3 & 4 & ⋯ & 1 & 809.98 & 24.79735 & 269 & 1 & 49.57495 &  41.42015 & 1 & 341.4892 & 0\\\\\n",
       "\t6 & 5 & 6 & 23 & 12 & 19114.12 & 1824.843 & 3 & 4 & 3 & 4 & ⋯ & 1 & 809.98 & 27.26226 & 270 & 1 & 49.57495 &  62.43017 & 1 & 340.4792 & 0\\\\\n",
       "\\end{tabular}\n"
      ],
      "text/markdown": [
       "\n",
       "A data.frame: 6 × 25\n",
       "\n",
       "| <!--/--> | X &lt;int&gt; | Month &lt;int&gt; | Age &lt;dbl&gt; | Occupation &lt;int&gt; | Annual_Income &lt;dbl&gt; | Monthly_Inhand_Salary &lt;dbl&gt; | Num_Bank_Accounts &lt;dbl&gt; | Num_Credit_Card &lt;dbl&gt; | Interest_Rate &lt;dbl&gt; | Num_of_Loan &lt;dbl&gt; | ⋯ ⋯ | Credit_Mix &lt;int&gt; | Outstanding_Debt &lt;dbl&gt; | Credit_Utilization_Ratio &lt;dbl&gt; | Credit_History_Age &lt;dbl&gt; | Payment_of_Min_Amount &lt;int&gt; | Total_EMI_per_month &lt;dbl&gt; | Amount_invested_monthly &lt;dbl&gt; | Payment_Behaviour &lt;int&gt; | Monthly_Balance &lt;dbl&gt; | Credit_Score &lt;int&gt; |\n",
       "|---|---|---|---|---|---|---|---|---|---|---|---|---|---|---|---|---|---|---|---|---|---|\n",
       "| 1 | 0 | 1 | 23 | 12 | 19114.12 | 1824.843 | 3 | 4 | 3 | 4 | ⋯ | 1 | 809.98 | 26.82262 | 265 | 1 | 49.57495 |  80.41530 | 2 | 312.4941 | 0 |\n",
       "| 2 | 1 | 2 | 23 | 12 | 19114.12 | 1824.843 | 3 | 4 | 3 | 4 | ⋯ | 1 | 809.98 | 31.94496 | 265 | 1 | 49.57495 | 118.28022 | 3 | 284.6292 | 0 |\n",
       "| 3 | 2 | 3 | 23 | 12 | 19114.12 | 1824.843 | 3 | 4 | 3 | 4 | ⋯ | 1 | 809.98 | 28.60935 | 267 | 1 | 49.57495 |  81.69952 | 4 | 331.2099 | 0 |\n",
       "| 4 | 3 | 4 | 23 | 12 | 19114.12 | 1824.843 | 3 | 4 | 3 | 4 | ⋯ | 1 | 809.98 | 31.37786 | 268 | 1 | 49.57495 | 199.45807 | 5 | 223.4513 | 0 |\n",
       "| 5 | 4 | 5 | 23 | 12 | 19114.12 | 1824.843 | 3 | 4 | 3 | 4 | ⋯ | 1 | 809.98 | 24.79735 | 269 | 1 | 49.57495 |  41.42015 | 1 | 341.4892 | 0 |\n",
       "| 6 | 5 | 6 | 23 | 12 | 19114.12 | 1824.843 | 3 | 4 | 3 | 4 | ⋯ | 1 | 809.98 | 27.26226 | 270 | 1 | 49.57495 |  62.43017 | 1 | 340.4792 | 0 |\n",
       "\n"
      ],
      "text/plain": [
       "  X Month Age Occupation Annual_Income Monthly_Inhand_Salary Num_Bank_Accounts\n",
       "1 0 1     23  12         19114.12      1824.843              3                \n",
       "2 1 2     23  12         19114.12      1824.843              3                \n",
       "3 2 3     23  12         19114.12      1824.843              3                \n",
       "4 3 4     23  12         19114.12      1824.843              3                \n",
       "5 4 5     23  12         19114.12      1824.843              3                \n",
       "6 5 6     23  12         19114.12      1824.843              3                \n",
       "  Num_Credit_Card Interest_Rate Num_of_Loan ⋯ Credit_Mix Outstanding_Debt\n",
       "1 4               3             4           ⋯ 1          809.98          \n",
       "2 4               3             4           ⋯ 1          809.98          \n",
       "3 4               3             4           ⋯ 1          809.98          \n",
       "4 4               3             4           ⋯ 1          809.98          \n",
       "5 4               3             4           ⋯ 1          809.98          \n",
       "6 4               3             4           ⋯ 1          809.98          \n",
       "  Credit_Utilization_Ratio Credit_History_Age Payment_of_Min_Amount\n",
       "1 26.82262                 265                1                    \n",
       "2 31.94496                 265                1                    \n",
       "3 28.60935                 267                1                    \n",
       "4 31.37786                 268                1                    \n",
       "5 24.79735                 269                1                    \n",
       "6 27.26226                 270                1                    \n",
       "  Total_EMI_per_month Amount_invested_monthly Payment_Behaviour Monthly_Balance\n",
       "1 49.57495             80.41530               2                 312.4941       \n",
       "2 49.57495            118.28022               3                 284.6292       \n",
       "3 49.57495             81.69952               4                 331.2099       \n",
       "4 49.57495            199.45807               5                 223.4513       \n",
       "5 49.57495             41.42015               1                 341.4892       \n",
       "6 49.57495             62.43017               1                 340.4792       \n",
       "  Credit_Score\n",
       "1 0           \n",
       "2 0           \n",
       "3 0           \n",
       "4 0           \n",
       "5 0           \n",
       "6 0           "
      ]
     },
     "metadata": {},
     "output_type": "display_data"
    }
   ],
   "source": [
    "data <- read.csv(\"../../data/processed/old_train_cleaned.csv\")\n",
    "head(data)"
   ]
  },
  {
   "cell_type": "code",
   "execution_count": 35,
   "metadata": {
    "vscode": {
     "languageId": "r"
    }
   },
   "outputs": [],
   "source": [
    "library(e1071)\n",
    "library(caTools)\n",
    "library(caret)"
   ]
  },
  {
   "cell_type": "code",
   "execution_count": 36,
   "metadata": {
    "vscode": {
     "languageId": "r"
    }
   },
   "outputs": [],
   "source": [
    "data <- read.csv(\"../../data/processed/old_train_cleaned.csv\")\n",
    "\n",
    "\n",
    "X <- data[, !(names(data) %in% c(\"Credit_Score\"))]\n",
    "y <- as.factor(data$Credit_Score)  \n",
    "\n",
    "\n",
    "set.seed(42) \n",
    "train_index <- createDataPartition(y, p = 0.8, list = FALSE)\n",
    "X_train <- X[train_index, ]\n",
    "y_train <- y[train_index]\n",
    "X_test <- X[-train_index, ]\n",
    "y_test <- y[-train_index]\n"
   ]
  },
  {
   "cell_type": "code",
   "execution_count": 37,
   "metadata": {
    "vscode": {
     "languageId": "r"
    }
   },
   "outputs": [
    {
     "data": {
      "text/plain": [
       "\n",
       "Naive Bayes Classifier for Discrete Predictors\n",
       "\n",
       "Call:\n",
       "naiveBayes.default(x = X, y = Y, laplace = laplace, usekernel = TRUE)\n",
       "\n",
       "A-priori probabilities:\n",
       "Y\n",
       "        0         1         2 \n",
       "0.1782830 0.2899803 0.5317367 \n",
       "\n",
       "Conditional probabilities:\n",
       "   X\n",
       "Y       [,1]     [,2]\n",
       "  0 50179.42 28994.78\n",
       "  1 49614.25 28752.07\n",
       "  2 50141.79 28859.96\n",
       "\n",
       "   Month\n",
       "Y       [,1]     [,2]\n",
       "  0 4.673351 2.270502\n",
       "  1 4.514419 2.284650\n",
       "  2 4.433921 2.299131\n",
       "\n",
       "   Age\n",
       "Y       [,1]     [,2]\n",
       "  0 36.42368 11.07699\n",
       "  1 31.24303 10.01445\n",
       "  2 33.41236 10.78363\n",
       "\n",
       "   Occupation\n",
       "Y       [,1]     [,2]\n",
       "  0 6.857323 4.256209\n",
       "  1 6.979956 4.348432\n",
       "  2 6.962435 4.314659\n",
       "\n",
       "   Annual_Income\n",
       "Y       [,1]     [,2]\n",
       "  0 64936.26 44464.71\n",
       "  1 40635.33 31955.87\n",
       "  2 51060.51 37523.60\n",
       "\n",
       "   Monthly_Inhand_Salary\n",
       "Y       [,1]     [,2]\n",
       "  0 5380.796 3698.874\n",
       "  1 3384.801 2666.138\n",
       "  2 4246.746 3124.856\n",
       "\n",
       "   Num_Bank_Accounts\n",
       "Y       [,1]     [,2]\n",
       "  0 3.444437 2.222444\n",
       "  1 6.533342 2.503467\n",
       "  2 5.389140 2.359038\n",
       "\n",
       "   Num_Credit_Card\n",
       "Y       [,1]     [,2]\n",
       "  0 4.146743 1.807328\n",
       "  1 6.628518 1.988398\n",
       "  2 5.409191 1.855231\n",
       "\n",
       "   Interest_Rate\n",
       "Y        [,1]     [,2]\n",
       "  0  7.663605 4.858869\n",
       "  1 20.221949 8.844209\n",
       "  2 13.747438 7.692350\n",
       "\n",
       "   Num_of_Loan\n",
       "Y       [,1]     [,2]\n",
       "  0 2.194069 1.652177\n",
       "  1 4.755377 2.428198\n",
       "  2 3.312529 2.376788\n",
       "\n",
       "   Type_of_Loan\n",
       "Y       [,1]     [,2]\n",
       "  0 3236.720 1639.031\n",
       "  1 3177.182 1776.231\n",
       "  2 3191.649 1705.658\n",
       "\n",
       "   Delay_from_due_date\n",
       "Y       [,1]      [,2]\n",
       "  0 10.94419  8.402399\n",
       "  1 29.79503 16.275678\n",
       "  2 19.79182 12.931569\n",
       "\n",
       "   Num_of_Delayed_Payment\n",
       "Y        [,1]     [,2]\n",
       "  0  8.547991 5.566233\n",
       "  1 15.845080 6.114722\n",
       "  2 13.554701 5.646097\n",
       "\n",
       "   Changed_Credit_Limit\n",
       "Y        [,1]     [,2]\n",
       "  0  7.249502 4.730060\n",
       "  1 11.119437 7.011807\n",
       "  2 11.173227 6.623015\n",
       "\n",
       "   Num_Credit_Inquiries\n",
       "Y       [,1]     [,2]\n",
       "  0 3.273645 2.578741\n",
       "  1 8.173283 3.717080\n",
       "  2 5.330442 3.595722\n",
       "\n",
       "   Credit_Mix\n",
       "Y        [,1]      [,2]\n",
       "  0 1.1276029 0.3884248\n",
       "  1 0.8443036 0.8996945\n",
       "  2 1.4553126 0.7694606\n",
       "\n",
       "   Outstanding_Debt\n",
       "Y        [,1]      [,2]\n",
       "  0  802.7498  613.0902\n",
       "  1 2085.9094 1146.1767\n",
       "  2 1278.4457 1133.6451\n",
       "\n",
       "   Credit_Utilization_Ratio\n",
       "Y       [,1]     [,2]\n",
       "  0 32.67933 5.223349\n",
       "  1 31.98696 5.054180\n",
       "  2 32.31374 5.108855\n",
       "\n",
       "   Credit_History_Age\n",
       "Y       [,1]     [,2]\n",
       "  0 284.6006 73.27495\n",
       "  1 169.7310 87.12082\n",
       "  2 227.3047 99.43266\n",
       "\n",
       "   Payment_of_Min_Amount\n",
       "Y       [,1]      [,2]\n",
       "  0 0.981771 0.4811159\n",
       "  1 1.593043 0.6959825\n",
       "  2 1.441561 0.6935833\n",
       "\n",
       "   Total_EMI_per_month\n",
       "Y       [,1]     [,2]\n",
       "  0 118.3675 182.8407\n",
       "  1 111.4973 104.9029\n",
       "  2 101.3058 122.5976\n",
       "\n",
       "   Amount_invested_monthly\n",
       "Y       [,1]     [,2]\n",
       "  0 680.5950 2029.356\n",
       "  1 604.4181 2059.904\n",
       "  2 611.9287 2000.347\n",
       "\n",
       "   Payment_Behaviour\n",
       "Y       [,1]     [,2]\n",
       "  0 2.387366 1.839950\n",
       "  1 3.028148 1.830787\n",
       "  2 2.683498 1.859170\n",
       "\n",
       "   Monthly_Balance\n",
       "Y       [,1]     [,2]\n",
       "  0 457.0419 225.5695\n",
       "  1 340.4770 165.1241\n",
       "  2 401.3752 200.3906\n"
      ]
     },
     "metadata": {},
     "output_type": "display_data"
    }
   ],
   "source": [
    "# Fitting Naive Bayes Model \n",
    "# to training dataset\n",
    "set.seed(120)  # Setting Seed\n",
    "classifier_cl <- naiveBayes(y_train ~ ., data = data.frame(cbind(X_train, y_train)), usekernel = TRUE)\n",
    "classifier_cl"
   ]
  },
  {
   "cell_type": "code",
   "execution_count": 38,
   "metadata": {
    "vscode": {
     "languageId": "r"
    }
   },
   "outputs": [],
   "source": [
    "predictions <- predict(classifier_cl, newdata = X_test)\n",
    " "
   ]
  },
  {
   "cell_type": "code",
   "execution_count": 39,
   "metadata": {
    "vscode": {
     "languageId": "r"
    }
   },
   "outputs": [
    {
     "name": "stdout",
     "output_type": "stream",
     "text": [
      "Confusion Matrix and Statistics\n",
      "\n",
      "          Reference\n",
      "Prediction    0    1    2\n",
      "         0 2964  997 2590\n",
      "         1   72 3945 2197\n",
      "         2  529  857 5847\n",
      "\n",
      "Overall Statistics\n",
      "                                          \n",
      "               Accuracy : 0.6379          \n",
      "                 95% CI : (0.6312, 0.6445)\n",
      "    No Information Rate : 0.5318          \n",
      "    P-Value [Acc > NIR] : < 2.2e-16       \n",
      "                                          \n",
      "                  Kappa : 0.4506          \n",
      "                                          \n",
      " Mcnemar's Test P-Value : < 2.2e-16       \n",
      "\n",
      "Statistics by Class:\n",
      "\n",
      "                     Class: 0 Class: 1 Class: 2\n",
      "Sensitivity            0.8314   0.6803   0.5498\n",
      "Specificity            0.7817   0.8402   0.8520\n",
      "Pos Pred Value         0.4525   0.6349   0.8084\n",
      "Neg Pred Value         0.9553   0.8655   0.6250\n",
      "Prevalence             0.1783   0.2900   0.5318\n",
      "Detection Rate         0.1482   0.1973   0.2924\n",
      "Detection Prevalence   0.3276   0.3107   0.3617\n",
      "Balanced Accuracy      0.8066   0.7602   0.7009\n"
     ]
    }
   ],
   "source": [
    "#C matrix\n",
    "confusion_matrix <- confusionMatrix(predictions, y_test)\n",
    "print(confusion_matrix)"
   ]
  },
  {
   "cell_type": "code",
   "execution_count": 40,
   "metadata": {
    "vscode": {
     "languageId": "r"
    }
   },
   "outputs": [
    {
     "data": {
      "image/png": "[encoded data removed]",
      "text/plain": [
       "plot without title"
      ]
     },
     "metadata": {
      "image/png": {
       "height": 420,
       "width": 420
      }
     },
     "output_type": "display_data"
    }
   ],
   "source": [
    "# Visualize the confusion matrix\n",
    "plot_confusion <- ggplot(as.data.frame(confusion_matrix$table), aes(x = Reference, y = Prediction, fill = Freq)) +\n",
    "  geom_tile() +\n",
    "  geom_text(aes(label = Freq), vjust = 1) +\n",
    "  scale_fill_gradient(low = \"white\", high = \"blue\") +\n",
    "  labs(x = \"Actual\", y = \"Predicted\", fill = \"Frequency\") +\n",
    "  theme_minimal()\n",
    "\n",
    "# Print the plot\n",
    "print(plot_confusion)"
   ]
  },
  {
   "cell_type": "code",
   "execution_count": 41,
   "metadata": {
    "vscode": {
     "languageId": "r"
    }
   },
   "outputs": [
    {
     "data": {
      "text/plain": [
       "      predictions\n",
       "y_test    0    1    2\n",
       "     0 2964   72  529\n",
       "     1  997 3945  857\n",
       "     2 2590 2197 5847"
      ]
     },
     "metadata": {},
     "output_type": "display_data"
    }
   ],
   "source": [
    "cm <- table(y_test, predictions)\n",
    "cm"
   ]
  },
  {
   "cell_type": "code",
   "execution_count": 42,
   "metadata": {
    "vscode": {
     "languageId": "r"
    }
   },
   "outputs": [
    {
     "data": {
      "text/plain": [
       "Confusion Matrix and Statistics\n",
       "\n",
       "      predictions\n",
       "y_test    0    1    2\n",
       "     0 2964   72  529\n",
       "     1  997 3945  857\n",
       "     2 2590 2197 5847\n",
       "\n",
       "Overall Statistics\n",
       "                                          \n",
       "               Accuracy : 0.6379          \n",
       "                 95% CI : (0.6312, 0.6445)\n",
       "    No Information Rate : 0.3617          \n",
       "    P-Value [Acc > NIR] : < 2.2e-16       \n",
       "                                          \n",
       "                  Kappa : 0.4506          \n",
       "                                          \n",
       " Mcnemar's Test P-Value : < 2.2e-16       \n",
       "\n",
       "Statistics by Class:\n",
       "\n",
       "                     Class: 0 Class: 1 Class: 2\n",
       "Sensitivity            0.4525   0.6349   0.8084\n",
       "Specificity            0.9553   0.8655   0.6250\n",
       "Pos Pred Value         0.8314   0.6803   0.5498\n",
       "Neg Pred Value         0.7817   0.8402   0.8520\n",
       "Prevalence             0.3276   0.3107   0.3617\n",
       "Detection Rate         0.1482   0.1973   0.2924\n",
       "Detection Prevalence   0.1783   0.2900   0.5318\n",
       "Balanced Accuracy      0.7039   0.7502   0.7167"
      ]
     },
     "metadata": {},
     "output_type": "display_data"
    }
   ],
   "source": [
    "confusionMatrix(cm)"
   ]
  },
  {
   "cell_type": "code",
   "execution_count": null,
   "metadata": {
    "vscode": {
     "languageId": "r"
    }
   },
   "outputs": [],
   "source": [
    "\n"
   ]
  },
  {
   "cell_type": "code",
   "execution_count": null,
   "metadata": {
    "vscode": {
     "languageId": "r"
    }
   },
   "outputs": [],
   "source": []
  },
  {
   "cell_type": "code",
   "execution_count": null,
   "metadata": {
    "vscode": {
     "languageId": "r"
    }
   },
   "outputs": [],
   "source": []
  }
 ],
 "metadata": {
  "kernelspec": {
   "display_name": "R",
   "language": "R",
   "name": "ir"
  },
  "language_info": {
   "codemirror_mode": "r",
   "file_extension": ".r",
   "mimetype": "text/x-r-source",
   "name": "R",
   "pygments_lexer": "r",
   "version": "4.0.4"
  }
 },
 "nbformat": 4,
 "nbformat_minor": 2
}
