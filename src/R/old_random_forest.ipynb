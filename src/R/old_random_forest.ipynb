{
 "cells": [
  {
   "cell_type": "code",
   "execution_count": 2,
   "metadata": {
    "vscode": {
     "languageId": "r"
    }
   },
   "outputs": [
    {
     "name": "stderr",
     "output_type": "stream",
     "text": [
      "randomForest 4.6-14\n",
      "\n",
      "Type rfNews() to see new features/changes/bug fixes.\n",
      "\n",
      "Loading required package: lattice\n",
      "\n",
      "Loading required package: ggplot2\n",
      "\n",
      "\n",
      "Attaching package: ‘ggplot2’\n",
      "\n",
      "\n",
      "The following object is masked from ‘package:randomForest’:\n",
      "\n",
      "    margin\n",
      "\n",
      "\n",
      "Warning message in file(file, \"rt\"):\n",
      "“cannot open file '../../data/processed/old_trained_cleaned.csv': No such file or directory”\n"
     ]
    },
    {
     "ename": "ERROR",
     "evalue": "Error in file(file, \"rt\"): cannot open the connection\n",
     "output_type": "error",
     "traceback": [
      "Error in file(file, \"rt\"): cannot open the connection\nTraceback:\n",
      "1. read.csv(\"../../data/processed/old_trained_cleaned.csv\")",
      "2. read.table(file = file, header = header, sep = sep, quote = quote, \n .     dec = dec, fill = fill, comment.char = comment.char, ...)",
      "3. file(file, \"rt\")"
     ]
    }
   ],
   "source": [
    "library(randomForest)\n",
    "library(caret)\n",
    "\n",
    "\n",
    "data <- read.csv(\"../../data/processed/old_trained_cleaned.csv\")\n",
    "\n",
    "\n",
    "X <- data[, !(names(data) %in% c(\"Credit_Score\"))]\n",
    "y <- as.factor(data$Credit_Score)  \n",
    "\n",
    "\n",
    "set.seed(42) \n",
    "train_index <- createDataPartition(y, p = 0.8, list = FALSE)\n",
    "X_train <- X[train_index, ]\n",
    "y_train <- y[train_index]\n",
    "X_test <- X[-train_index, ]\n",
    "y_test <- y[-train_index]\n",
    "\n",
    "\n",
    "\n",
    "\n"
   ]
  },
  {
   "cell_type": "code",
   "execution_count": null,
   "metadata": {
    "vscode": {
     "languageId": "r"
    }
   },
   "outputs": [],
   "source": [
    "\n",
    "rf_model <- randomForest(y_train ~ ., data = data.frame(cbind(X_train, y_train)), ntree = 500)\n",
    "saveRDS(rf_model, file = \"../../models/old_rf_model.rds\")\n"
   ]
  },
  {
   "cell_type": "code",
   "execution_count": 3,
   "metadata": {
    "vscode": {
     "languageId": "r"
    }
   },
   "outputs": [
    {
     "name": "stderr",
     "output_type": "stream",
     "text": [
      "Warning message in gzfile(file, \"rb\"):\n",
      "“cannot open compressed file '../../models/old_rf_model.rds', probable reason 'No such file or directory'”\n"
     ]
    },
    {
     "ename": "ERROR",
     "evalue": "Error in gzfile(file, \"rb\"): cannot open the connection\n",
     "output_type": "error",
     "traceback": [
      "Error in gzfile(file, \"rb\"): cannot open the connection\nTraceback:\n",
      "1. readRDS(file = \"../../models/old_rf_model.rds\")",
      "2. gzfile(file, \"rb\")"
     ]
    }
   ],
   "source": [
    "loaded_model <- readRDS(file = \"../../models/old_rf_model.rds\")\n",
    "predictions <- predict(rf_model, newdata = X_test)\n",
    "\n",
    "\n",
    "confusion_matrix <- confusionMatrix(predictions, y_test)\n",
    "print(confusion_matrix)"
   ]
  },
  {
   "cell_type": "code",
   "execution_count": 21,
   "metadata": {
    "vscode": {
     "languageId": "r"
    }
   },
   "outputs": [
    {
     "name": "stdout",
     "output_type": "stream",
     "text": [
      "tibble [1 × 24] (S3: tbl_df/tbl/data.frame)\n",
      " $ X                       : int 1\n",
      " $ Month                   : int 3\n",
      " $ Age                     : num 55.3\n",
      " $ Occupation              : int 3\n",
      " $ Annual_Income           : num 5000\n",
      " $ Monthly_Inhand_Salary   : num 1319\n",
      " $ Num_Bank_Accounts       : int 2\n",
      " $ Num_Credit_Card         : int 6\n",
      " $ Interest_Rate           : num 6.41\n",
      " $ Num_of_Loan             : int 5\n",
      " $ Type_of_Loan            : int 343\n",
      " $ Delay_from_due_date     : int 6\n",
      " $ Num_of_Delayed_Payment  : int 9\n",
      " $ Changed_Credit_Limit    : num 2.44\n",
      " $ Num_Credit_Inquiries    : int 3\n",
      " $ Credit_Mix              : int 2\n",
      " $ Outstanding_Debt        : num 689\n",
      " $ Credit_Utilization_Ratio: num 29.8\n",
      " $ Credit_History_Age      : int 290\n",
      " $ Payment_of_Min_Amount   : int 0\n",
      " $ Total_EMI_per_month     : num 78.5\n",
      " $ Amount_invested_monthly : num 210\n",
      " $ Payment_Behaviour       : int 0\n",
      " $ Monthly_Balance         : num 331\n"
     ]
    },
    {
     "data": {
      "text/html": [
       "<table class=\"dataframe\">\n",
       "<caption>A tibble: 1 × 24</caption>\n",
       "<thead>\n",
       "\t<tr><th scope=col>X</th><th scope=col>Month</th><th scope=col>Age</th><th scope=col>Occupation</th><th scope=col>Annual_Income</th><th scope=col>Monthly_Inhand_Salary</th><th scope=col>Num_Bank_Accounts</th><th scope=col>Num_Credit_Card</th><th scope=col>Interest_Rate</th><th scope=col>Num_of_Loan</th><th scope=col>⋯</th><th scope=col>Num_Credit_Inquiries</th><th scope=col>Credit_Mix</th><th scope=col>Outstanding_Debt</th><th scope=col>Credit_Utilization_Ratio</th><th scope=col>Credit_History_Age</th><th scope=col>Payment_of_Min_Amount</th><th scope=col>Total_EMI_per_month</th><th scope=col>Amount_invested_monthly</th><th scope=col>Payment_Behaviour</th><th scope=col>Monthly_Balance</th></tr>\n",
       "\t<tr><th scope=col>&lt;int&gt;</th><th scope=col>&lt;int&gt;</th><th scope=col>&lt;dbl&gt;</th><th scope=col>&lt;int&gt;</th><th scope=col>&lt;dbl&gt;</th><th scope=col>&lt;dbl&gt;</th><th scope=col>&lt;int&gt;</th><th scope=col>&lt;int&gt;</th><th scope=col>&lt;dbl&gt;</th><th scope=col>&lt;int&gt;</th><th scope=col>⋯</th><th scope=col>&lt;int&gt;</th><th scope=col>&lt;int&gt;</th><th scope=col>&lt;dbl&gt;</th><th scope=col>&lt;dbl&gt;</th><th scope=col>&lt;int&gt;</th><th scope=col>&lt;int&gt;</th><th scope=col>&lt;dbl&gt;</th><th scope=col>&lt;dbl&gt;</th><th scope=col>&lt;int&gt;</th><th scope=col>&lt;dbl&gt;</th></tr>\n",
       "</thead>\n",
       "<tbody>\n",
       "\t<tr><td>1</td><td>3</td><td>55.3207</td><td>3</td><td>5000</td><td>1318.895</td><td>2</td><td>6</td><td>6.41148</td><td>5</td><td>⋯</td><td>3</td><td>2</td><td>689.2679</td><td>29.83762</td><td>290</td><td>0</td><td>78.49624</td><td>210.1267</td><td>0</td><td>331.1412</td></tr>\n",
       "</tbody>\n",
       "</table>\n"
      ],
      "text/latex": [
       "A tibble: 1 × 24\n",
       "\\begin{tabular}{lllllllllllllllllllll}\n",
       " X & Month & Age & Occupation & Annual\\_Income & Monthly\\_Inhand\\_Salary & Num\\_Bank\\_Accounts & Num\\_Credit\\_Card & Interest\\_Rate & Num\\_of\\_Loan & ⋯ & Num\\_Credit\\_Inquiries & Credit\\_Mix & Outstanding\\_Debt & Credit\\_Utilization\\_Ratio & Credit\\_History\\_Age & Payment\\_of\\_Min\\_Amount & Total\\_EMI\\_per\\_month & Amount\\_invested\\_monthly & Payment\\_Behaviour & Monthly\\_Balance\\\\\n",
       " <int> & <int> & <dbl> & <int> & <dbl> & <dbl> & <int> & <int> & <dbl> & <int> & ⋯ & <int> & <int> & <dbl> & <dbl> & <int> & <int> & <dbl> & <dbl> & <int> & <dbl>\\\\\n",
       "\\hline\n",
       "\t 1 & 3 & 55.3207 & 3 & 5000 & 1318.895 & 2 & 6 & 6.41148 & 5 & ⋯ & 3 & 2 & 689.2679 & 29.83762 & 290 & 0 & 78.49624 & 210.1267 & 0 & 331.1412\\\\\n",
       "\\end{tabular}\n"
      ],
      "text/markdown": [
       "\n",
       "A tibble: 1 × 24\n",
       "\n",
       "| X &lt;int&gt; | Month &lt;int&gt; | Age &lt;dbl&gt; | Occupation &lt;int&gt; | Annual_Income &lt;dbl&gt; | Monthly_Inhand_Salary &lt;dbl&gt; | Num_Bank_Accounts &lt;int&gt; | Num_Credit_Card &lt;int&gt; | Interest_Rate &lt;dbl&gt; | Num_of_Loan &lt;int&gt; | ⋯ ⋯ | Num_Credit_Inquiries &lt;int&gt; | Credit_Mix &lt;int&gt; | Outstanding_Debt &lt;dbl&gt; | Credit_Utilization_Ratio &lt;dbl&gt; | Credit_History_Age &lt;int&gt; | Payment_of_Min_Amount &lt;int&gt; | Total_EMI_per_month &lt;dbl&gt; | Amount_invested_monthly &lt;dbl&gt; | Payment_Behaviour &lt;int&gt; | Monthly_Balance &lt;dbl&gt; |\n",
       "|---|---|---|---|---|---|---|---|---|---|---|---|---|---|---|---|---|---|---|---|---|\n",
       "| 1 | 3 | 55.3207 | 3 | 5000 | 1318.895 | 2 | 6 | 6.41148 | 5 | ⋯ | 3 | 2 | 689.2679 | 29.83762 | 290 | 0 | 78.49624 | 210.1267 | 0 | 331.1412 |\n",
       "\n"
      ],
      "text/plain": [
       "  X Month Age     Occupation Annual_Income Monthly_Inhand_Salary\n",
       "1 1 3     55.3207 3          5000          1318.895             \n",
       "  Num_Bank_Accounts Num_Credit_Card Interest_Rate Num_of_Loan ⋯\n",
       "1 2                 6               6.41148       5           ⋯\n",
       "  Num_Credit_Inquiries Credit_Mix Outstanding_Debt Credit_Utilization_Ratio\n",
       "1 3                    2          689.2679         29.83762                \n",
       "  Credit_History_Age Payment_of_Min_Amount Total_EMI_per_month\n",
       "1 290                0                     78.49624           \n",
       "  Amount_invested_monthly Payment_Behaviour Monthly_Balance\n",
       "1 210.1267                0                 331.1412       "
      ]
     },
     "metadata": {},
     "output_type": "display_data"
    },
    {
     "data": {
      "text/html": [
       "<table class=\"dataframe\">\n",
       "<caption>A data.frame: 6 × 25</caption>\n",
       "<thead>\n",
       "\t<tr><th></th><th scope=col>X</th><th scope=col>Month</th><th scope=col>Age</th><th scope=col>Occupation</th><th scope=col>Annual_Income</th><th scope=col>Monthly_Inhand_Salary</th><th scope=col>Num_Bank_Accounts</th><th scope=col>Num_Credit_Card</th><th scope=col>Interest_Rate</th><th scope=col>Num_of_Loan</th><th scope=col>⋯</th><th scope=col>Credit_Mix</th><th scope=col>Outstanding_Debt</th><th scope=col>Credit_Utilization_Ratio</th><th scope=col>Credit_History_Age</th><th scope=col>Payment_of_Min_Amount</th><th scope=col>Total_EMI_per_month</th><th scope=col>Amount_invested_monthly</th><th scope=col>Payment_Behaviour</th><th scope=col>Monthly_Balance</th><th scope=col>Credit_Score</th></tr>\n",
       "\t<tr><th></th><th scope=col>&lt;int&gt;</th><th scope=col>&lt;int&gt;</th><th scope=col>&lt;dbl&gt;</th><th scope=col>&lt;int&gt;</th><th scope=col>&lt;dbl&gt;</th><th scope=col>&lt;dbl&gt;</th><th scope=col>&lt;dbl&gt;</th><th scope=col>&lt;dbl&gt;</th><th scope=col>&lt;dbl&gt;</th><th scope=col>&lt;dbl&gt;</th><th scope=col>⋯</th><th scope=col>&lt;int&gt;</th><th scope=col>&lt;dbl&gt;</th><th scope=col>&lt;dbl&gt;</th><th scope=col>&lt;dbl&gt;</th><th scope=col>&lt;int&gt;</th><th scope=col>&lt;dbl&gt;</th><th scope=col>&lt;dbl&gt;</th><th scope=col>&lt;int&gt;</th><th scope=col>&lt;dbl&gt;</th><th scope=col>&lt;int&gt;</th></tr>\n",
       "</thead>\n",
       "<tbody>\n",
       "\t<tr><th scope=row>1</th><td>0</td><td>1</td><td>23</td><td>12</td><td>19114.12</td><td>1824.843</td><td>3</td><td>4</td><td>3</td><td>4</td><td>⋯</td><td>1</td><td>809.98</td><td>26.82262</td><td>265</td><td>1</td><td>49.57495</td><td> 80.41530</td><td>2</td><td>312.4941</td><td>0</td></tr>\n",
       "\t<tr><th scope=row>2</th><td>1</td><td>2</td><td>23</td><td>12</td><td>19114.12</td><td>1824.843</td><td>3</td><td>4</td><td>3</td><td>4</td><td>⋯</td><td>1</td><td>809.98</td><td>31.94496</td><td>265</td><td>1</td><td>49.57495</td><td>118.28022</td><td>3</td><td>284.6292</td><td>0</td></tr>\n",
       "\t<tr><th scope=row>3</th><td>2</td><td>3</td><td>23</td><td>12</td><td>19114.12</td><td>1824.843</td><td>3</td><td>4</td><td>3</td><td>4</td><td>⋯</td><td>1</td><td>809.98</td><td>28.60935</td><td>267</td><td>1</td><td>49.57495</td><td> 81.69952</td><td>4</td><td>331.2099</td><td>0</td></tr>\n",
       "\t<tr><th scope=row>4</th><td>3</td><td>4</td><td>23</td><td>12</td><td>19114.12</td><td>1824.843</td><td>3</td><td>4</td><td>3</td><td>4</td><td>⋯</td><td>1</td><td>809.98</td><td>31.37786</td><td>268</td><td>1</td><td>49.57495</td><td>199.45807</td><td>5</td><td>223.4513</td><td>0</td></tr>\n",
       "\t<tr><th scope=row>5</th><td>4</td><td>5</td><td>23</td><td>12</td><td>19114.12</td><td>1824.843</td><td>3</td><td>4</td><td>3</td><td>4</td><td>⋯</td><td>1</td><td>809.98</td><td>24.79735</td><td>269</td><td>1</td><td>49.57495</td><td> 41.42015</td><td>1</td><td>341.4892</td><td>0</td></tr>\n",
       "\t<tr><th scope=row>6</th><td>5</td><td>6</td><td>23</td><td>12</td><td>19114.12</td><td>1824.843</td><td>3</td><td>4</td><td>3</td><td>4</td><td>⋯</td><td>1</td><td>809.98</td><td>27.26226</td><td>270</td><td>1</td><td>49.57495</td><td> 62.43017</td><td>1</td><td>340.4792</td><td>0</td></tr>\n",
       "</tbody>\n",
       "</table>\n"
      ],
      "text/latex": [
       "A data.frame: 6 × 25\n",
       "\\begin{tabular}{r|lllllllllllllllllllll}\n",
       "  & X & Month & Age & Occupation & Annual\\_Income & Monthly\\_Inhand\\_Salary & Num\\_Bank\\_Accounts & Num\\_Credit\\_Card & Interest\\_Rate & Num\\_of\\_Loan & ⋯ & Credit\\_Mix & Outstanding\\_Debt & Credit\\_Utilization\\_Ratio & Credit\\_History\\_Age & Payment\\_of\\_Min\\_Amount & Total\\_EMI\\_per\\_month & Amount\\_invested\\_monthly & Payment\\_Behaviour & Monthly\\_Balance & Credit\\_Score\\\\\n",
       "  & <int> & <int> & <dbl> & <int> & <dbl> & <dbl> & <dbl> & <dbl> & <dbl> & <dbl> & ⋯ & <int> & <dbl> & <dbl> & <dbl> & <int> & <dbl> & <dbl> & <int> & <dbl> & <int>\\\\\n",
       "\\hline\n",
       "\t1 & 0 & 1 & 23 & 12 & 19114.12 & 1824.843 & 3 & 4 & 3 & 4 & ⋯ & 1 & 809.98 & 26.82262 & 265 & 1 & 49.57495 &  80.41530 & 2 & 312.4941 & 0\\\\\n",
       "\t2 & 1 & 2 & 23 & 12 & 19114.12 & 1824.843 & 3 & 4 & 3 & 4 & ⋯ & 1 & 809.98 & 31.94496 & 265 & 1 & 49.57495 & 118.28022 & 3 & 284.6292 & 0\\\\\n",
       "\t3 & 2 & 3 & 23 & 12 & 19114.12 & 1824.843 & 3 & 4 & 3 & 4 & ⋯ & 1 & 809.98 & 28.60935 & 267 & 1 & 49.57495 &  81.69952 & 4 & 331.2099 & 0\\\\\n",
       "\t4 & 3 & 4 & 23 & 12 & 19114.12 & 1824.843 & 3 & 4 & 3 & 4 & ⋯ & 1 & 809.98 & 31.37786 & 268 & 1 & 49.57495 & 199.45807 & 5 & 223.4513 & 0\\\\\n",
       "\t5 & 4 & 5 & 23 & 12 & 19114.12 & 1824.843 & 3 & 4 & 3 & 4 & ⋯ & 1 & 809.98 & 24.79735 & 269 & 1 & 49.57495 &  41.42015 & 1 & 341.4892 & 0\\\\\n",
       "\t6 & 5 & 6 & 23 & 12 & 19114.12 & 1824.843 & 3 & 4 & 3 & 4 & ⋯ & 1 & 809.98 & 27.26226 & 270 & 1 & 49.57495 &  62.43017 & 1 & 340.4792 & 0\\\\\n",
       "\\end{tabular}\n"
      ],
      "text/markdown": [
       "\n",
       "A data.frame: 6 × 25\n",
       "\n",
       "| <!--/--> | X &lt;int&gt; | Month &lt;int&gt; | Age &lt;dbl&gt; | Occupation &lt;int&gt; | Annual_Income &lt;dbl&gt; | Monthly_Inhand_Salary &lt;dbl&gt; | Num_Bank_Accounts &lt;dbl&gt; | Num_Credit_Card &lt;dbl&gt; | Interest_Rate &lt;dbl&gt; | Num_of_Loan &lt;dbl&gt; | ⋯ ⋯ | Credit_Mix &lt;int&gt; | Outstanding_Debt &lt;dbl&gt; | Credit_Utilization_Ratio &lt;dbl&gt; | Credit_History_Age &lt;dbl&gt; | Payment_of_Min_Amount &lt;int&gt; | Total_EMI_per_month &lt;dbl&gt; | Amount_invested_monthly &lt;dbl&gt; | Payment_Behaviour &lt;int&gt; | Monthly_Balance &lt;dbl&gt; | Credit_Score &lt;int&gt; |\n",
       "|---|---|---|---|---|---|---|---|---|---|---|---|---|---|---|---|---|---|---|---|---|---|\n",
       "| 1 | 0 | 1 | 23 | 12 | 19114.12 | 1824.843 | 3 | 4 | 3 | 4 | ⋯ | 1 | 809.98 | 26.82262 | 265 | 1 | 49.57495 |  80.41530 | 2 | 312.4941 | 0 |\n",
       "| 2 | 1 | 2 | 23 | 12 | 19114.12 | 1824.843 | 3 | 4 | 3 | 4 | ⋯ | 1 | 809.98 | 31.94496 | 265 | 1 | 49.57495 | 118.28022 | 3 | 284.6292 | 0 |\n",
       "| 3 | 2 | 3 | 23 | 12 | 19114.12 | 1824.843 | 3 | 4 | 3 | 4 | ⋯ | 1 | 809.98 | 28.60935 | 267 | 1 | 49.57495 |  81.69952 | 4 | 331.2099 | 0 |\n",
       "| 4 | 3 | 4 | 23 | 12 | 19114.12 | 1824.843 | 3 | 4 | 3 | 4 | ⋯ | 1 | 809.98 | 31.37786 | 268 | 1 | 49.57495 | 199.45807 | 5 | 223.4513 | 0 |\n",
       "| 5 | 4 | 5 | 23 | 12 | 19114.12 | 1824.843 | 3 | 4 | 3 | 4 | ⋯ | 1 | 809.98 | 24.79735 | 269 | 1 | 49.57495 |  41.42015 | 1 | 341.4892 | 0 |\n",
       "| 6 | 5 | 6 | 23 | 12 | 19114.12 | 1824.843 | 3 | 4 | 3 | 4 | ⋯ | 1 | 809.98 | 27.26226 | 270 | 1 | 49.57495 |  62.43017 | 1 | 340.4792 | 0 |\n",
       "\n"
      ],
      "text/plain": [
       "  X Month Age Occupation Annual_Income Monthly_Inhand_Salary Num_Bank_Accounts\n",
       "1 0 1     23  12         19114.12      1824.843              3                \n",
       "2 1 2     23  12         19114.12      1824.843              3                \n",
       "3 2 3     23  12         19114.12      1824.843              3                \n",
       "4 3 4     23  12         19114.12      1824.843              3                \n",
       "5 4 5     23  12         19114.12      1824.843              3                \n",
       "6 5 6     23  12         19114.12      1824.843              3                \n",
       "  Num_Credit_Card Interest_Rate Num_of_Loan ⋯ Credit_Mix Outstanding_Debt\n",
       "1 4               3             4           ⋯ 1          809.98          \n",
       "2 4               3             4           ⋯ 1          809.98          \n",
       "3 4               3             4           ⋯ 1          809.98          \n",
       "4 4               3             4           ⋯ 1          809.98          \n",
       "5 4               3             4           ⋯ 1          809.98          \n",
       "6 4               3             4           ⋯ 1          809.98          \n",
       "  Credit_Utilization_Ratio Credit_History_Age Payment_of_Min_Amount\n",
       "1 26.82262                 265                1                    \n",
       "2 31.94496                 265                1                    \n",
       "3 28.60935                 267                1                    \n",
       "4 31.37786                 268                1                    \n",
       "5 24.79735                 269                1                    \n",
       "6 27.26226                 270                1                    \n",
       "  Total_EMI_per_month Amount_invested_monthly Payment_Behaviour Monthly_Balance\n",
       "1 49.57495             80.41530               2                 312.4941       \n",
       "2 49.57495            118.28022               3                 284.6292       \n",
       "3 49.57495             81.69952               4                 331.2099       \n",
       "4 49.57495            199.45807               5                 223.4513       \n",
       "5 49.57495             41.42015               1                 341.4892       \n",
       "6 49.57495             62.43017               1                 340.4792       \n",
       "  Credit_Score\n",
       "1 0           \n",
       "2 0           \n",
       "3 0           \n",
       "4 0           \n",
       "5 0           \n",
       "6 0           "
      ]
     },
     "metadata": {},
     "output_type": "display_data"
    }
   ],
   "source": [
    "\n"
   ]
  },
  {
   "cell_type": "code",
   "execution_count": 22,
   "metadata": {
    "vscode": {
     "languageId": "r"
    }
   },
   "outputs": [
    {
     "ename": "ERROR",
     "evalue": "Error in table(data, reference, dnn = dnn, ...): all arguments must have the same length\n",
     "output_type": "error",
     "traceback": [
      "Error in table(data, reference, dnn = dnn, ...): all arguments must have the same length\nTraceback:\n",
      "1. confusionMatrix(predictions, y_test)",
      "2. confusionMatrix.default(predictions, y_test)",
      "3. table(data, reference, dnn = dnn, ...)",
      "4. stop(\"all arguments must have the same length\")"
     ]
    }
   ],
   "source": []
  },
  {
   "cell_type": "code",
   "execution_count": 32,
   "metadata": {
    "vscode": {
     "languageId": "r"
    }
   },
   "outputs": [
    {
     "name": "stdout",
     "output_type": "stream",
     "text": [
      "1 \n",
      "2 \n",
      "Levels: 0 1 2\n"
     ]
    }
   ],
   "source": []
  },
  {
   "cell_type": "code",
   "execution_count": null,
   "metadata": {
    "vscode": {
     "languageId": "r"
    }
   },
   "outputs": [],
   "source": []
  },
  {
   "cell_type": "code",
   "execution_count": null,
   "metadata": {
    "vscode": {
     "languageId": "r"
    }
   },
   "outputs": [],
   "source": []
  }
 ],
 "metadata": {
  "kernelspec": {
   "display_name": "R",
   "language": "R",
   "name": "ir"
  },
  "language_info": {
   "codemirror_mode": "r",
   "file_extension": ".r",
   "mimetype": "text/x-r-source",
   "name": "R",
   "pygments_lexer": "r",
   "version": "4.0.4"
  }
 },
 "nbformat": 4,
 "nbformat_minor": 2
}
