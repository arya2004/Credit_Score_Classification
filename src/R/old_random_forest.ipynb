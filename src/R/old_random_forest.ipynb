{
 "cells": [
  {
   "cell_type": "code",
   "execution_count": 6,
   "metadata": {
    "vscode": {
     "languageId": "r"
    }
   },
   "outputs": [],
   "source": [
    "library(randomForest)\n",
    "library(caret)\n",
    "\n",
    "\n",
    "data <- read.csv(\"../../data/processed/old_train_cleaned.csv\")\n",
    "\n",
    "\n",
    "X <- data[, !(names(data) %in% c(\"Credit_Score\"))]\n",
    "y <- as.factor(data$Credit_Score)  \n",
    "\n",
    "\n",
    "set.seed(42) \n",
    "train_index <- createDataPartition(y, p = 0.8, list = FALSE)\n",
    "X_train <- X[train_index, ]\n",
    "y_train <- y[train_index]\n",
    "X_test <- X[-train_index, ]\n",
    "y_test <- y[-train_index]\n",
    "\n",
    "\n",
    "\n",
    "\n"
   ]
  },
  {
   "cell_type": "code",
   "execution_count": 7,
   "metadata": {
    "vscode": {
     "languageId": "r"
    }
   },
   "outputs": [],
   "source": [
    "\n",
    "rf_model <- randomForest(y_train ~ ., data = data.frame(cbind(X_train, y_train)), ntree = 500)\n",
    "saveRDS(rf_model, file = \"../../models/old_rf_model.rds\")\n"
   ]
  },
  {
   "cell_type": "code",
   "execution_count": 8,
   "metadata": {
    "vscode": {
     "languageId": "r"
    }
   },
   "outputs": [
    {
     "name": "stdout",
     "output_type": "stream",
     "text": [
      "Confusion Matrix and Statistics\n",
      "\n",
      "          Reference\n",
      "Prediction    0    1    2\n",
      "         0 2891   27  687\n",
      "         1   11 4992 1110\n",
      "         2  663  780 8837\n",
      "\n",
      "Overall Statistics\n",
      "                                          \n",
      "               Accuracy : 0.8361          \n",
      "                 95% CI : (0.8309, 0.8412)\n",
      "    No Information Rate : 0.5318          \n",
      "    P-Value [Acc > NIR] : < 2.2e-16       \n",
      "                                          \n",
      "                  Kappa : 0.7295          \n",
      "                                          \n",
      " Mcnemar's Test P-Value : 5.583e-14       \n",
      "\n",
      "Statistics by Class:\n",
      "\n",
      "                     Class: 0 Class: 1 Class: 2\n",
      "Sensitivity            0.8109   0.8608   0.8310\n",
      "Specificity            0.9566   0.9211   0.8459\n",
      "Pos Pred Value         0.8019   0.8166   0.8596\n",
      "Neg Pred Value         0.9589   0.9419   0.8151\n",
      "Prevalence             0.1783   0.2900   0.5318\n",
      "Detection Rate         0.1446   0.2496   0.4419\n",
      "Detection Prevalence   0.1803   0.3057   0.5141\n",
      "Balanced Accuracy      0.8837   0.8909   0.8385\n"
     ]
    }
   ],
   "source": [
    "loaded_model <- readRDS(file = \"../../models/old_rf_model.rds\")\n",
    "predictions <- predict(rf_model, newdata = X_test)\n",
    "\n",
    "\n",
    "confusion_matrix <- confusionMatrix(predictions, y_test)\n",
    "print(confusion_matrix)"
   ]
  },
  {
   "cell_type": "code",
   "execution_count": 9,
   "metadata": {
    "vscode": {
     "languageId": "r"
    }
   },
   "outputs": [
    {
     "name": "stdout",
     "output_type": "stream",
     "text": [
      "Accuracy: 0.8358336 \n",
      "Precision: 0.9946183 \n",
      "Recall (Sensitivity): 0.9978004 \n",
      "F1 Score: 0.9962068 \n",
      "Specificity: 0.9907471 \n"
     ]
    }
   ],
   "source": [
    "\n",
    "# Assuming the necessary libraries are loaded and the variables are defined\n",
    "\n",
    "# Load the saved model\n",
    "loaded_model <- readRDS(file = \"../../models/old_rf_model.rds\")\n",
    "\n",
    "# Make predictions using the loaded model\n",
    "predictions <- predict(loaded_model, newdata = X_test)\n",
    "\n",
    "# Generate the confusion matrix\n",
    "confusion_matrix <- confusionMatrix(predictions, y_test)\n",
    "\n",
    "# Extract TP, TN, FP, FN from the confusion matrix\n",
    "TP <- confusion_matrix$table[2, 2]  # True Positives\n",
    "TN <- confusion_matrix$table[1, 1]  # True Negatives\n",
    "FP <- confusion_matrix$table[1, 2]  # False Positives\n",
    "FN <- confusion_matrix$table[2, 1]  # False Negatives\n",
    "\n",
    "# Calculate accuracy\n",
    "accuracy <- sum(diag(confusion_matrix$table)) / sum(confusion_matrix$table)\n",
    "\n",
    "# Calculate precision\n",
    "precision <- TP / (TP + FP)\n",
    "\n",
    "# Calculate recall (sensitivity)\n",
    "recall <- TP / (TP + FN)\n",
    "\n",
    "# Calculate F1 score\n",
    "f1_score <- 2 * ((precision * recall) / (precision + recall))\n",
    "\n",
    "# Calculate specificity\n",
    "specificity <- TN / (TN + FP)\n",
    "\n",
    "# Print the metrics\n",
    "cat(\"Accuracy:\", accuracy, \"\\n\")\n",
    "cat(\"Precision:\", precision, \"\\n\")\n",
    "cat(\"Recall (Sensitivity):\", recall, \"\\n\")\n",
    "cat(\"F1 Score:\", f1_score, \"\\n\")\n",
    "cat(\"Specificity:\", specificity, \"\\n\")\n"
   ]
  },
  {
   "cell_type": "code",
   "execution_count": 22,
   "metadata": {
    "vscode": {
     "languageId": "r"
    }
   },
   "outputs": [
    {
     "ename": "ERROR",
     "evalue": "Error in table(data, reference, dnn = dnn, ...): all arguments must have the same length\n",
     "output_type": "error",
     "traceback": [
      "Error in table(data, reference, dnn = dnn, ...): all arguments must have the same length\nTraceback:\n",
      "1. confusionMatrix(predictions, y_test)",
      "2. confusionMatrix.default(predictions, y_test)",
      "3. table(data, reference, dnn = dnn, ...)",
      "4. stop(\"all arguments must have the same length\")"
     ]
    }
   ],
   "source": []
  },
  {
   "cell_type": "code",
   "execution_count": 32,
   "metadata": {
    "vscode": {
     "languageId": "r"
    }
   },
   "outputs": [
    {
     "name": "stdout",
     "output_type": "stream",
     "text": [
      "1 \n",
      "2 \n",
      "Levels: 0 1 2\n"
     ]
    }
   ],
   "source": []
  },
  {
   "cell_type": "code",
   "execution_count": null,
   "metadata": {
    "vscode": {
     "languageId": "r"
    }
   },
   "outputs": [],
   "source": []
  },
  {
   "cell_type": "code",
   "execution_count": null,
   "metadata": {
    "vscode": {
     "languageId": "r"
    }
   },
   "outputs": [],
   "source": []
  }
 ],
 "metadata": {
  "kernelspec": {
   "display_name": "R",
   "language": "R",
   "name": "ir"
  },
  "language_info": {
   "codemirror_mode": "r",
   "file_extension": ".r",
   "mimetype": "text/x-r-source",
   "name": "R",
   "pygments_lexer": "r",
   "version": "4.0.4"
  }
 },
 "nbformat": 4,
 "nbformat_minor": 2
}
