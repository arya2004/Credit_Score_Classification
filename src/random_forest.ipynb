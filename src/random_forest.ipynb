{
 "cells": [
  {
   "cell_type": "code",
   "execution_count": 1,
   "metadata": {
    "vscode": {
     "languageId": "r"
    }
   },
   "outputs": [
    {
     "name": "stderr",
     "output_type": "stream",
     "text": [
      "randomForest 4.6-14\n",
      "\n"
     ]
    },
    {
     "name": "stderr",
     "output_type": "stream",
     "text": [
      "Type rfNews() to see new features/changes/bug fixes.\n",
      "\n",
      "Loading required package: lattice\n",
      "\n",
      "Loading required package: ggplot2\n",
      "\n",
      "\n",
      "Attaching package: ‘ggplot2’\n",
      "\n",
      "\n",
      "The following object is masked from ‘package:randomForest’:\n",
      "\n",
      "    margin\n",
      "\n",
      "\n"
     ]
    },
    {
     "data": {
      "text/html": [
       "<table class=\"dataframe\">\n",
       "<caption>A data.frame: 6 × 18</caption>\n",
       "<thead>\n",
       "\t<tr><th></th><th scope=col>Annual_Income</th><th scope=col>Num_Bank_Accounts</th><th scope=col>Num_Credit_Card</th><th scope=col>Interest_Rate</th><th scope=col>Num_of_Loan</th><th scope=col>Delay_from_due_date</th><th scope=col>Num_of_Delayed_Payment</th><th scope=col>Changed_Credit_Limit</th><th scope=col>Num_Credit_Inquiries</th><th scope=col>Outstanding_Debt</th><th scope=col>Total_EMI_per_month</th><th scope=col>Credit_History_Age_Months</th><th scope=col>Credit_Score_Encoded</th><th scope=col>Credit_Mix_Encoded</th><th scope=col>Total_Num_Accounts</th><th scope=col>Debt_Per_Account</th><th scope=col>Debt_to_Income_Ratio</th><th scope=col>Delayed_Payments_Per_Account</th></tr>\n",
       "\t<tr><th></th><th scope=col>&lt;dbl&gt;</th><th scope=col>&lt;int&gt;</th><th scope=col>&lt;int&gt;</th><th scope=col>&lt;int&gt;</th><th scope=col>&lt;int&gt;</th><th scope=col>&lt;int&gt;</th><th scope=col>&lt;int&gt;</th><th scope=col>&lt;dbl&gt;</th><th scope=col>&lt;dbl&gt;</th><th scope=col>&lt;dbl&gt;</th><th scope=col>&lt;dbl&gt;</th><th scope=col>&lt;int&gt;</th><th scope=col>&lt;dbl&gt;</th><th scope=col>&lt;dbl&gt;</th><th scope=col>&lt;int&gt;</th><th scope=col>&lt;dbl&gt;</th><th scope=col>&lt;dbl&gt;</th><th scope=col>&lt;dbl&gt;</th></tr>\n",
       "</thead>\n",
       "<tbody>\n",
       "\t<tr><th scope=row>1</th><td>19114.12</td><td>3</td><td>4</td><td>3</td><td>4</td><td>5</td><td>4</td><td> 6.27</td><td>4</td><td>809.98</td><td>49.57495</td><td>268</td><td>2</td><td>2</td><td>7</td><td>115.7114</td><td>0.04237600</td><td>0.5714286</td></tr>\n",
       "\t<tr><th scope=row>2</th><td>19114.12</td><td>3</td><td>4</td><td>3</td><td>4</td><td>6</td><td>0</td><td>11.27</td><td>4</td><td>809.98</td><td>49.57495</td><td>269</td><td>2</td><td>2</td><td>7</td><td>115.7114</td><td>0.04237600</td><td>0.0000000</td></tr>\n",
       "\t<tr><th scope=row>3</th><td>19114.12</td><td>3</td><td>4</td><td>3</td><td>4</td><td>3</td><td>8</td><td>11.27</td><td>4</td><td>809.98</td><td>49.57495</td><td>271</td><td>2</td><td>2</td><td>7</td><td>115.7114</td><td>0.04237600</td><td>1.1428571</td></tr>\n",
       "\t<tr><th scope=row>4</th><td>19114.12</td><td>3</td><td>4</td><td>3</td><td>4</td><td>3</td><td>6</td><td>11.27</td><td>4</td><td>809.98</td><td>49.57495</td><td>  0</td><td>1</td><td>2</td><td>7</td><td>115.7114</td><td>0.04237600</td><td>0.8571429</td></tr>\n",
       "\t<tr><th scope=row>5</th><td>34847.84</td><td>2</td><td>4</td><td>6</td><td>1</td><td>7</td><td>1</td><td> 7.42</td><td>2</td><td>605.03</td><td>18.81621</td><td>320</td><td>2</td><td>2</td><td>6</td><td>100.8383</td><td>0.01736205</td><td>0.1666667</td></tr>\n",
       "\t<tr><th scope=row>6</th><td>34847.84</td><td>2</td><td>4</td><td>6</td><td>1</td><td>3</td><td>3</td><td> 5.42</td><td>2</td><td>605.03</td><td>18.81621</td><td>322</td><td>2</td><td>2</td><td>6</td><td>100.8383</td><td>0.01736205</td><td>0.5000000</td></tr>\n",
       "</tbody>\n",
       "</table>\n"
      ],
      "text/latex": [
       "A data.frame: 6 × 18\n",
       "\\begin{tabular}{r|llllllllllllllllll}\n",
       "  & Annual\\_Income & Num\\_Bank\\_Accounts & Num\\_Credit\\_Card & Interest\\_Rate & Num\\_of\\_Loan & Delay\\_from\\_due\\_date & Num\\_of\\_Delayed\\_Payment & Changed\\_Credit\\_Limit & Num\\_Credit\\_Inquiries & Outstanding\\_Debt & Total\\_EMI\\_per\\_month & Credit\\_History\\_Age\\_Months & Credit\\_Score\\_Encoded & Credit\\_Mix\\_Encoded & Total\\_Num\\_Accounts & Debt\\_Per\\_Account & Debt\\_to\\_Income\\_Ratio & Delayed\\_Payments\\_Per\\_Account\\\\\n",
       "  & <dbl> & <int> & <int> & <int> & <int> & <int> & <int> & <dbl> & <dbl> & <dbl> & <dbl> & <int> & <dbl> & <dbl> & <int> & <dbl> & <dbl> & <dbl>\\\\\n",
       "\\hline\n",
       "\t1 & 19114.12 & 3 & 4 & 3 & 4 & 5 & 4 &  6.27 & 4 & 809.98 & 49.57495 & 268 & 2 & 2 & 7 & 115.7114 & 0.04237600 & 0.5714286\\\\\n",
       "\t2 & 19114.12 & 3 & 4 & 3 & 4 & 6 & 0 & 11.27 & 4 & 809.98 & 49.57495 & 269 & 2 & 2 & 7 & 115.7114 & 0.04237600 & 0.0000000\\\\\n",
       "\t3 & 19114.12 & 3 & 4 & 3 & 4 & 3 & 8 & 11.27 & 4 & 809.98 & 49.57495 & 271 & 2 & 2 & 7 & 115.7114 & 0.04237600 & 1.1428571\\\\\n",
       "\t4 & 19114.12 & 3 & 4 & 3 & 4 & 3 & 6 & 11.27 & 4 & 809.98 & 49.57495 &   0 & 1 & 2 & 7 & 115.7114 & 0.04237600 & 0.8571429\\\\\n",
       "\t5 & 34847.84 & 2 & 4 & 6 & 1 & 7 & 1 &  7.42 & 2 & 605.03 & 18.81621 & 320 & 2 & 2 & 6 & 100.8383 & 0.01736205 & 0.1666667\\\\\n",
       "\t6 & 34847.84 & 2 & 4 & 6 & 1 & 3 & 3 &  5.42 & 2 & 605.03 & 18.81621 & 322 & 2 & 2 & 6 & 100.8383 & 0.01736205 & 0.5000000\\\\\n",
       "\\end{tabular}\n"
      ],
      "text/markdown": [
       "\n",
       "A data.frame: 6 × 18\n",
       "\n",
       "| <!--/--> | Annual_Income &lt;dbl&gt; | Num_Bank_Accounts &lt;int&gt; | Num_Credit_Card &lt;int&gt; | Interest_Rate &lt;int&gt; | Num_of_Loan &lt;int&gt; | Delay_from_due_date &lt;int&gt; | Num_of_Delayed_Payment &lt;int&gt; | Changed_Credit_Limit &lt;dbl&gt; | Num_Credit_Inquiries &lt;dbl&gt; | Outstanding_Debt &lt;dbl&gt; | Total_EMI_per_month &lt;dbl&gt; | Credit_History_Age_Months &lt;int&gt; | Credit_Score_Encoded &lt;dbl&gt; | Credit_Mix_Encoded &lt;dbl&gt; | Total_Num_Accounts &lt;int&gt; | Debt_Per_Account &lt;dbl&gt; | Debt_to_Income_Ratio &lt;dbl&gt; | Delayed_Payments_Per_Account &lt;dbl&gt; |\n",
       "|---|---|---|---|---|---|---|---|---|---|---|---|---|---|---|---|---|---|---|\n",
       "| 1 | 19114.12 | 3 | 4 | 3 | 4 | 5 | 4 |  6.27 | 4 | 809.98 | 49.57495 | 268 | 2 | 2 | 7 | 115.7114 | 0.04237600 | 0.5714286 |\n",
       "| 2 | 19114.12 | 3 | 4 | 3 | 4 | 6 | 0 | 11.27 | 4 | 809.98 | 49.57495 | 269 | 2 | 2 | 7 | 115.7114 | 0.04237600 | 0.0000000 |\n",
       "| 3 | 19114.12 | 3 | 4 | 3 | 4 | 3 | 8 | 11.27 | 4 | 809.98 | 49.57495 | 271 | 2 | 2 | 7 | 115.7114 | 0.04237600 | 1.1428571 |\n",
       "| 4 | 19114.12 | 3 | 4 | 3 | 4 | 3 | 6 | 11.27 | 4 | 809.98 | 49.57495 |   0 | 1 | 2 | 7 | 115.7114 | 0.04237600 | 0.8571429 |\n",
       "| 5 | 34847.84 | 2 | 4 | 6 | 1 | 7 | 1 |  7.42 | 2 | 605.03 | 18.81621 | 320 | 2 | 2 | 6 | 100.8383 | 0.01736205 | 0.1666667 |\n",
       "| 6 | 34847.84 | 2 | 4 | 6 | 1 | 3 | 3 |  5.42 | 2 | 605.03 | 18.81621 | 322 | 2 | 2 | 6 | 100.8383 | 0.01736205 | 0.5000000 |\n",
       "\n"
      ],
      "text/plain": [
       "  Annual_Income Num_Bank_Accounts Num_Credit_Card Interest_Rate Num_of_Loan\n",
       "1 19114.12      3                 4               3             4          \n",
       "2 19114.12      3                 4               3             4          \n",
       "3 19114.12      3                 4               3             4          \n",
       "4 19114.12      3                 4               3             4          \n",
       "5 34847.84      2                 4               6             1          \n",
       "6 34847.84      2                 4               6             1          \n",
       "  Delay_from_due_date Num_of_Delayed_Payment Changed_Credit_Limit\n",
       "1 5                   4                       6.27               \n",
       "2 6                   0                      11.27               \n",
       "3 3                   8                      11.27               \n",
       "4 3                   6                      11.27               \n",
       "5 7                   1                       7.42               \n",
       "6 3                   3                       5.42               \n",
       "  Num_Credit_Inquiries Outstanding_Debt Total_EMI_per_month\n",
       "1 4                    809.98           49.57495           \n",
       "2 4                    809.98           49.57495           \n",
       "3 4                    809.98           49.57495           \n",
       "4 4                    809.98           49.57495           \n",
       "5 2                    605.03           18.81621           \n",
       "6 2                    605.03           18.81621           \n",
       "  Credit_History_Age_Months Credit_Score_Encoded Credit_Mix_Encoded\n",
       "1 268                       2                    2                 \n",
       "2 269                       2                    2                 \n",
       "3 271                       2                    2                 \n",
       "4   0                       1                    2                 \n",
       "5 320                       2                    2                 \n",
       "6 322                       2                    2                 \n",
       "  Total_Num_Accounts Debt_Per_Account Debt_to_Income_Ratio\n",
       "1 7                  115.7114         0.04237600          \n",
       "2 7                  115.7114         0.04237600          \n",
       "3 7                  115.7114         0.04237600          \n",
       "4 7                  115.7114         0.04237600          \n",
       "5 6                  100.8383         0.01736205          \n",
       "6 6                  100.8383         0.01736205          \n",
       "  Delayed_Payments_Per_Account\n",
       "1 0.5714286                   \n",
       "2 0.0000000                   \n",
       "3 1.1428571                   \n",
       "4 0.8571429                   \n",
       "5 0.1666667                   \n",
       "6 0.5000000                   "
      ]
     },
     "metadata": {},
     "output_type": "display_data"
    },
    {
     "name": "stdout",
     "output_type": "stream",
     "text": [
      "'data.frame':\t30890 obs. of  18 variables:\n",
      " $ Annual_Income               : num  19114 19114 19114 19114 34848 ...\n",
      " $ Num_Bank_Accounts           : int  3 3 3 3 2 2 2 2 2 2 ...\n",
      " $ Num_Credit_Card             : int  4 4 4 4 4 4 4 4 4 4 ...\n",
      " $ Interest_Rate               : int  3 3 3 3 6 6 6 6 6 6 ...\n",
      " $ Num_of_Loan                 : int  4 4 4 4 1 1 1 1 1 1 ...\n",
      " $ Delay_from_due_date         : int  5 6 3 3 7 3 3 3 3 3 ...\n",
      " $ Num_of_Delayed_Payment      : int  4 0 8 6 1 3 1 0 4 4 ...\n",
      " $ Changed_Credit_Limit        : num  6.27 11.27 11.27 11.27 7.42 ...\n",
      " $ Num_Credit_Inquiries        : num  4 4 4 4 2 2 2 2 2 2 ...\n",
      " $ Outstanding_Debt            : num  810 810 810 810 605 ...\n",
      " $ Total_EMI_per_month         : num  49.6 49.6 49.6 49.6 18.8 ...\n",
      " $ Credit_History_Age_Months   : int  268 269 271 0 320 322 323 324 325 326 ...\n",
      " $ Credit_Score_Encoded        : num  2 2 2 1 2 2 2 2 2 2 ...\n",
      " $ Credit_Mix_Encoded          : num  2 2 2 2 2 2 2 2 2 2 ...\n",
      " $ Total_Num_Accounts          : int  7 7 7 7 6 6 6 6 6 6 ...\n",
      " $ Debt_Per_Account            : num  116 116 116 116 101 ...\n",
      " $ Debt_to_Income_Ratio        : num  0.0424 0.0424 0.0424 0.0424 0.0174 ...\n",
      " $ Delayed_Payments_Per_Account: num  0.571 0 1.143 0.857 0.167 ...\n"
     ]
    }
   ],
   "source": [
    "library(randomForest)\n",
    "library(caret)\n",
    "\n",
    "\n",
    "data <- read.csv(\"../../data/processed/trained_cleaned.csv\")\n",
    "head(data)\n",
    "\n",
    "\n",
    "# Explore the structure of the data\n",
    "str(data)\n",
    "\n"
   ]
  },
  {
   "cell_type": "markdown",
   "metadata": {},
   "source": []
  },
  {
   "cell_type": "code",
   "execution_count": 2,
   "metadata": {
    "vscode": {
     "languageId": "r"
    }
   },
   "outputs": [],
   "source": [
    "\n",
    "X <- data[, !(names(data) %in% c(\"Credit_Score_Encoded\"))]\n",
    "y <- as.factor(data$Credit_Score_Encoded)  \n",
    "\n",
    "\n",
    "set.seed(77) \n",
    "train_index <- createDataPartition(y, p = 0.85, list = FALSE)\n",
    "X_train <- X[train_index, ]\n",
    "y_train <- y[train_index]\n",
    "X_test <- X[-train_index, ]\n",
    "y_test <- y[-train_index]\n"
   ]
  },
  {
   "cell_type": "code",
   "execution_count": 30,
   "metadata": {
    "vscode": {
     "languageId": "r"
    }
   },
   "outputs": [],
   "source": [
    "\n",
    "rf_model <- randomForest(y_train ~ ., data = data.frame(cbind(X_train, y_train)), ntree = 1)\n",
    "saveRDS(rf_model, file = \"../../models/f_model.rds\")"
   ]
  },
  {
   "cell_type": "code",
   "execution_count": 31,
   "metadata": {
    "vscode": {
     "languageId": "r"
    }
   },
   "outputs": [
    {
     "name": "stdout",
     "output_type": "stream",
     "text": [
      "Confusion Matrix and Statistics\n",
      "\n",
      "          Reference\n",
      "Prediction    0    1    2\n",
      "         0  367  256   75\n",
      "         1  228 2256  350\n",
      "         2   49  377  674\n",
      "\n",
      "Overall Statistics\n",
      "                                          \n",
      "               Accuracy : 0.7118          \n",
      "                 95% CI : (0.6985, 0.7248)\n",
      "    No Information Rate : 0.6237          \n",
      "    P-Value [Acc > NIR] : <2e-16          \n",
      "                                          \n",
      "                  Kappa : 0.4674          \n",
      "                                          \n",
      " Mcnemar's Test P-Value : 0.0445          \n",
      "\n",
      "Statistics by Class:\n",
      "\n",
      "                     Class: 0 Class: 1 Class: 2\n",
      "Sensitivity           0.56988   0.7809   0.6133\n",
      "Specificity           0.91700   0.6684   0.8794\n",
      "Pos Pred Value        0.52579   0.7960   0.6127\n",
      "Neg Pred Value        0.92959   0.6479   0.8797\n",
      "Prevalence            0.13903   0.6237   0.2373\n",
      "Detection Rate        0.07923   0.4870   0.1455\n",
      "Detection Prevalence  0.15069   0.6118   0.2375\n",
      "Balanced Accuracy     0.74344   0.7246   0.7464\n",
      "Accuracy: 0.7117876 \n",
      "Precision: 0.8980892 \n",
      "Recall (Sensitivity): 0.9082126 \n",
      "F1 Score: 0.9031225 \n",
      "Specificity: 0.5890851 \n"
     ]
    }
   ],
   "source": [
    "rf_model <- readRDS(file = \"../../models/f_model.rds\")\n",
    "predictions <- predict(rf_model, newdata = X_test)\n",
    "\n",
    "\n",
    "confusion_matrix <- confusionMatrix(predictions, y_test)\n",
    "print(confusion_matrix)\n",
    "# Generate the confusion matrix\n",
    "confusion_matrix <- confusionMatrix(predictions, y_test)\n",
    "\n",
    "# Extract TP, TN, FP, FN from the confusion matrix\n",
    "TP <- confusion_matrix$table[2, 2]  # True Positives\n",
    "TN <- confusion_matrix$table[1, 1]  # True Negatives\n",
    "FP <- confusion_matrix$table[1, 2]  # False Positives\n",
    "FN <- confusion_matrix$table[2, 1]  # False Negatives\n",
    "\n",
    "# Calculate accuracy\n",
    "accuracy <- sum(diag(confusion_matrix$table)) / sum(confusion_matrix$table)\n",
    "\n",
    "# Calculate precision\n",
    "precision <- TP / (TP + FP)\n",
    "\n",
    "# Calculate recall (sensitivity)\n",
    "recall <- TP / (TP + FN)\n",
    "\n",
    "# Calculate F1 score\n",
    "f1_score <- 2 * ((precision * recall) / (precision + recall))\n",
    "\n",
    "# Calculate specificity\n",
    "specificity <- TN / (TN + FP)\n",
    "\n",
    "# Print the metrics\n",
    "cat(\"Accuracy:\", accuracy, \"\\n\")\n",
    "cat(\"Precision:\", precision, \"\\n\")\n",
    "cat(\"Recall (Sensitivity):\", recall, \"\\n\")\n",
    "cat(\"F1 Score:\", f1_score, \"\\n\")\n",
    "cat(\"Specificity:\", specificity, \"\\n\")"
   ]
  },
  {
   "cell_type": "code",
   "execution_count": 32,
   "metadata": {
    "vscode": {
     "languageId": "r"
    }
   },
   "outputs": [
    {
     "data": {
      "image/png": "[encoded data removed]",
      "text/plain": [
       "plot without title"
      ]
     },
     "metadata": {
      "image/png": {
       "height": 420,
       "width": 420
      }
     },
     "output_type": "display_data"
    }
   ],
   "source": [
    "plot_confusion <- ggplot(as.data.frame(confusion_matrix$table), aes(x = Reference, y = Prediction, fill = Freq)) +\n",
    "  geom_tile() +\n",
    "  geom_text(aes(label = Freq), vjust = 1) +\n",
    "  scale_fill_gradient(low = \"white\", high = \"blue\") +\n",
    "  labs(x = \"Actual\", y = \"Predicted\", fill = \"Frequency\") +\n",
    "  theme_minimal()\n",
    "\n",
    "# Print the plot\n",
    "print(plot_confusion)"
   ]
  },
  {
   "cell_type": "code",
   "execution_count": 33,
   "metadata": {
    "vscode": {
     "languageId": "r"
    }
   },
   "outputs": [],
   "source": [
    "#remotes::install_version(\"DMwR\", version=\"0.4.1\")"
   ]
  },
  {
   "cell_type": "code",
   "execution_count": null,
   "metadata": {
    "vscode": {
     "languageId": "r"
    }
   },
   "outputs": [],
   "source": []
  },
  {
   "cell_type": "code",
   "execution_count": 34,
   "metadata": {
    "vscode": {
     "languageId": "r"
    }
   },
   "outputs": [],
   "source": [
    "\n",
    "#install.packages(\"smotefamily\")\n"
   ]
  },
  {
   "cell_type": "code",
   "execution_count": 3,
   "metadata": {
    "vscode": {
     "languageId": "r"
    }
   },
   "outputs": [
    {
     "data": {
      "text/html": [
       "0"
      ],
      "text/latex": [
       "0"
      ],
      "text/markdown": [
       "0"
      ],
      "text/plain": [
       "[1] 0"
      ]
     },
     "metadata": {},
     "output_type": "display_data"
    }
   ],
   "source": [
    "suppressWarnings(min(data))"
   ]
  },
  {
   "cell_type": "code",
   "execution_count": 4,
   "metadata": {
    "vscode": {
     "languageId": "r"
    }
   },
   "outputs": [
    {
     "data": {
      "text/plain": [
       "\n",
       "    0     1     2 \n",
       " 4295 19262  7333 "
      ]
     },
     "metadata": {},
     "output_type": "display_data"
    }
   ],
   "source": [
    "table(data$Credit_Score_Encoded)\n"
   ]
  },
  {
   "cell_type": "code",
   "execution_count": 10,
   "metadata": {
    "vscode": {
     "languageId": "r"
    }
   },
   "outputs": [
    {
     "data": {
      "text/plain": [
       "\n",
       "    0     1     2 \n",
       "12885 12502  4678 "
      ]
     },
     "metadata": {},
     "output_type": "display_data"
    }
   ],
   "source": [
    "library(DMwR)\n",
    "data$Credit_Score_Encoded <- as.factor(data$Credit_Score_Encoded)\n",
    "# Original class counts\n",
    "class_counts <- c(4295, 19262, 7333)\n",
    "\n",
    "# Calculate the target count as the average of the original class counts\n",
    "target_count <- sum(class_counts) %/% length(class_counts)\n",
    "\n",
    "# Apply over-sampling using SMOTE\n",
    "over_smote <- SMOTE(Credit_Score_Encoded ~ ., data = data, perc.over = 200, perc.under = 200, k = 5)\n",
    "\n",
    "\n",
    "# Check the class distribution after sampling\n",
    "table(over_smote$Credit_Score_Encoded)"
   ]
  },
  {
   "cell_type": "code",
   "execution_count": 38,
   "metadata": {
    "vscode": {
     "languageId": "r"
    }
   },
   "outputs": [
    {
     "data": {
      "text/html": [
       "<style>\n",
       ".list-inline {list-style: none; margin:0; padding: 0}\n",
       ".list-inline>li {display: inline-block}\n",
       ".list-inline>li:not(:last-child)::after {content: \"\\00b7\"; padding: 0 .5ex}\n",
       "</style>\n",
       "<ol class=list-inline><li>30890</li><li>18</li></ol>\n"
      ],
      "text/latex": [
       "\\begin{enumerate*}\n",
       "\\item 30890\n",
       "\\item 18\n",
       "\\end{enumerate*}\n"
      ],
      "text/markdown": [
       "1. 30890\n",
       "2. 18\n",
       "\n",
       "\n"
      ],
      "text/plain": [
       "[1] 30890    18"
      ]
     },
     "metadata": {},
     "output_type": "display_data"
    },
    {
     "name": "stdout",
     "output_type": "stream",
     "text": [
      "'data.frame':\t30890 obs. of  18 variables:\n",
      " $ Annual_Income               : num  19114 19114 19114 19114 34848 ...\n",
      " $ Num_Bank_Accounts           : int  3 3 3 3 2 2 2 2 2 2 ...\n",
      " $ Num_Credit_Card             : int  4 4 4 4 4 4 4 4 4 4 ...\n",
      " $ Interest_Rate               : int  3 3 3 3 6 6 6 6 6 6 ...\n",
      " $ Num_of_Loan                 : int  4 4 4 4 1 1 1 1 1 1 ...\n",
      " $ Delay_from_due_date         : int  5 6 3 3 7 3 3 3 3 3 ...\n",
      " $ Num_of_Delayed_Payment      : int  4 0 8 6 1 3 1 0 4 4 ...\n",
      " $ Changed_Credit_Limit        : num  6.27 11.27 11.27 11.27 7.42 ...\n",
      " $ Num_Credit_Inquiries        : num  4 4 4 4 2 2 2 2 2 2 ...\n",
      " $ Outstanding_Debt            : num  810 810 810 810 605 ...\n",
      " $ Total_EMI_per_month         : num  49.6 49.6 49.6 49.6 18.8 ...\n",
      " $ Credit_History_Age_Months   : int  268 269 271 0 320 322 323 324 325 326 ...\n",
      " $ Credit_Score_Encoded        : Factor w/ 3 levels \"0\",\"1\",\"2\": 3 3 3 2 3 3 3 3 3 3 ...\n",
      " $ Credit_Mix_Encoded          : num  2 2 2 2 2 2 2 2 2 2 ...\n",
      " $ Total_Num_Accounts          : int  7 7 7 7 6 6 6 6 6 6 ...\n",
      " $ Debt_Per_Account            : num  116 116 116 116 101 ...\n",
      " $ Debt_to_Income_Ratio        : num  0.0424 0.0424 0.0424 0.0424 0.0174 ...\n",
      " $ Delayed_Payments_Per_Account: num  0.571 0 1.143 0.857 0.167 ...\n"
     ]
    },
    {
     "data": {
      "text/html": [
       "<style>\n",
       ".list-inline {list-style: none; margin:0; padding: 0}\n",
       ".list-inline>li {display: inline-block}\n",
       ".list-inline>li:not(:last-child)::after {content: \"\\00b7\"; padding: 0 .5ex}\n",
       "</style>\n",
       "<ol class=list-inline><li>107375</li><li>18</li></ol>\n"
      ],
      "text/latex": [
       "\\begin{enumerate*}\n",
       "\\item 107375\n",
       "\\item 18\n",
       "\\end{enumerate*}\n"
      ],
      "text/markdown": [
       "1. 107375\n",
       "2. 18\n",
       "\n",
       "\n"
      ],
      "text/plain": [
       "[1] 107375     18"
      ]
     },
     "metadata": {},
     "output_type": "display_data"
    },
    {
     "name": "stdout",
     "output_type": "stream",
     "text": [
      "'data.frame':\t107375 obs. of  18 variables:\n",
      " $ Annual_Income               : num  32020 21709 83245 118884 40760 ...\n",
      " $ Num_Bank_Accounts           : num  4 3 2 5 4 2 4 7 6 4 ...\n",
      " $ Num_Credit_Card             : num  5 4 3 6 5 6 5 7 5 3 ...\n",
      " $ Interest_Rate               : num  7 8 8 8 19 12 1 6 7 12 ...\n",
      " $ Num_of_Loan                 : num  3 0 1 0 2 2 0 4 2 1 ...\n",
      " $ Delay_from_due_date         : num  20 8 7 14 10 7 0 27 23 15 ...\n",
      " $ Num_of_Delayed_Payment      : num  14 0 5 3 10 3 10 18 12 8 ...\n",
      " $ Changed_Credit_Limit        : num  1.79 11.52 5.47 11.29 19.66 ...\n",
      " $ Num_Credit_Inquiries        : num  1 7 9 3 9 4 0 0 9 1 ...\n",
      " $ Outstanding_Debt            : num  776 1047 1229 831 338 ...\n",
      " $ Total_EMI_per_month         : num  41.8 0 67.7 0 39.7 ...\n",
      " $ Credit_History_Age_Months   : num  206 292 252 255 377 326 192 242 344 253 ...\n",
      " $ Credit_Score_Encoded        : Factor w/ 3 levels \"0\",\"1\",\"2\": 3 3 2 2 3 2 2 2 2 2 ...\n",
      " $ Credit_Mix_Encoded          : num  2 2 2 2 1 2 2 1 1 1 ...\n",
      " $ Total_Num_Accounts          : num  9 7 5 11 9 8 9 14 11 7 ...\n",
      " $ Debt_Per_Account            : num  86.3 149.6 245.9 75.5 37.5 ...\n",
      " $ Debt_to_Income_Ratio        : num  0.02424 0.04824 0.01477 0.00699 0.00828 ...\n",
      " $ Delayed_Payments_Per_Account: num  1.556 0 1 0.273 1.111 ...\n"
     ]
    },
    {
     "data": {
      "text/plain": [
       "\n",
       "    0     1     2 \n",
       "38655 49644 19076 "
      ]
     },
     "metadata": {},
     "output_type": "display_data"
    }
   ],
   "source": [
    "library(randomForest)\n",
    "library(DMwR)\n",
    "\n",
    "set.seed(77)\n",
    "confusion_matrix <- confusionMatrix\n",
    "\n",
    "\n",
    "dim(data)\n",
    "\n",
    "str(data)\n",
    "\n",
    "data$Credit_Score_Encoded <- as.factor(data$Credit_Score_Encoded)\n",
    "\n",
    "\n",
    "smote_data <- SMOTE(Credit_Score_Encoded ~ ., data = data,k = 5,  perc.over = 800, perc.under = 200)\n",
    "\n",
    "dim(smote_data)\n",
    "\n",
    "\n",
    "str(smote_data)\n",
    "\n",
    "table(smote_data$Credit_Score_Encoded)\n"
   ]
  },
  {
   "cell_type": "code",
   "execution_count": 40,
   "metadata": {
    "vscode": {
     "languageId": "r"
    }
   },
   "outputs": [],
   "source": [
    "library(data.table)\n",
    "fwrite(smote_data, file = \"smote.csv\", sep = \",\", quote = FALSE)"
   ]
  },
  {
   "cell_type": "markdown",
   "metadata": {},
   "source": []
  },
  {
   "cell_type": "code",
   "execution_count": 41,
   "metadata": {
    "vscode": {
     "languageId": "r"
    }
   },
   "outputs": [],
   "source": [
    "library(randomForest)\n",
    "library(caret)\n",
    "\n",
    "X <- smote_data[, !(names(smote_data) %in% c(\"Credit_Score_Encoded\"))]\n",
    "y <- as.factor(smote_data$Credit_Score)  \n",
    "\n",
    "\n",
    "set.seed(77)  # Set random seed\n",
    "set.seed(42) \n",
    "train_index <- createDataPartition(y, p = 0.8, list = FALSE)\n",
    "X_train <- X[train_index, ]\n",
    "y_train <- y[train_index]\n",
    "X_test <- X[-train_index, ]\n",
    "y_test <- y[-train_index]\n"
   ]
  },
  {
   "cell_type": "code",
   "execution_count": 42,
   "metadata": {
    "vscode": {
     "languageId": "r"
    }
   },
   "outputs": [],
   "source": [
    "rf_model <- randomForest(y_train ~ ., data = data.frame(cbind(X_train, y_train)), ntree = 500)\n",
    "saveRDS(rf_model, file = \"../../models/v2_smote_model.rds\")"
   ]
  },
  {
   "cell_type": "code",
   "execution_count": 43,
   "metadata": {
    "vscode": {
     "languageId": "r"
    }
   },
   "outputs": [
    {
     "name": "stdout",
     "output_type": "stream",
     "text": [
      "Confusion Matrix and Statistics\n",
      "\n",
      "          Reference\n",
      "Prediction    0    1    2\n",
      "         0 7555  107    6\n",
      "         1  170 9624  158\n",
      "         2    6  197 3651\n",
      "\n",
      "Overall Statistics\n",
      "                                          \n",
      "               Accuracy : 0.97            \n",
      "                 95% CI : (0.9676, 0.9723)\n",
      "    No Information Rate : 0.4623          \n",
      "    P-Value [Acc > NIR] : < 2.2e-16       \n",
      "                                          \n",
      "                  Kappa : 0.952           \n",
      "                                          \n",
      " Mcnemar's Test P-Value : 0.0003287       \n",
      "\n",
      "Statistics by Class:\n",
      "\n",
      "                     Class: 0 Class: 1 Class: 2\n",
      "Sensitivity            0.9772   0.9694   0.9570\n",
      "Specificity            0.9918   0.9716   0.9885\n",
      "Pos Pred Value         0.9853   0.9670   0.9473\n",
      "Neg Pred Value         0.9873   0.9736   0.9907\n",
      "Prevalence             0.3600   0.4623   0.1777\n",
      "Detection Rate         0.3518   0.4482   0.1700\n",
      "Detection Prevalence   0.3571   0.4634   0.1795\n",
      "Balanced Accuracy      0.9845   0.9705   0.9728\n"
     ]
    }
   ],
   "source": [
    "loaded_model <- readRDS(file = \"../../models/smote_model.rds\")\n",
    "predictions <- predict(rf_model, newdata = X_test)\n",
    "\n",
    "\n",
    "confusion_matrix <- confusionMatrix(predictions, y_test)\n",
    "print(confusion_matrix)"
   ]
  },
  {
   "cell_type": "code",
   "execution_count": 44,
   "metadata": {
    "vscode": {
     "languageId": "r"
    }
   },
   "outputs": [
    {
     "name": "stdout",
     "output_type": "stream",
     "text": [
      "Accuracy: 0.9700102 \n",
      "Precision: 0.9890042 \n",
      "Recall (Sensitivity): 0.9826424 \n",
      "F1 Score: 0.9858131 \n",
      "Specificity: 0.986035 \n"
     ]
    }
   ],
   "source": [
    "# Assuming the necessary libraries are loaded and the variables are defined\n",
    "\n",
    "# Load the saved model\n",
    "loaded_model <- readRDS(file = \"../../models/smote_model.rds\")\n",
    "\n",
    "# Make predictions using the loaded model\n",
    "predictions <- predict(loaded_model, newdata = X_test)\n",
    "\n",
    "# Generate the confusion matrix\n",
    "confusion_matrix <- confusionMatrix(predictions, y_test)\n",
    "\n",
    "# Extract TP, TN, FP, FN from the confusion matrix\n",
    "TP <- confusion_matrix$table[2, 2]  # True Positives\n",
    "TN <- confusion_matrix$table[1, 1]  # True Negatives\n",
    "FP <- confusion_matrix$table[1, 2]  # False Positives\n",
    "FN <- confusion_matrix$table[2, 1]  # False Negatives\n",
    "\n",
    "# Calculate accuracy\n",
    "accuracy <- sum(diag(confusion_matrix$table)) / sum(confusion_matrix$table)\n",
    "\n",
    "# Calculate precision\n",
    "precision <- TP / (TP + FP)\n",
    "\n",
    "# Calculate recall (sensitivity)\n",
    "recall <- TP / (TP + FN)\n",
    "\n",
    "# Calculate F1 score\n",
    "f1_score <- 2 * ((precision * recall) / (precision + recall))\n",
    "\n",
    "# Calculate specificity\n",
    "specificity <- TN / (TN + FP)\n",
    "\n",
    "# Print the metrics\n",
    "cat(\"Accuracy:\", accuracy, \"\\n\")\n",
    "cat(\"Precision:\", precision, \"\\n\")\n",
    "cat(\"Recall (Sensitivity):\", recall, \"\\n\")\n",
    "cat(\"F1 Score:\", f1_score, \"\\n\")\n",
    "cat(\"Specificity:\", specificity, \"\\n\")\n"
   ]
  },
  {
   "cell_type": "code",
   "execution_count": null,
   "metadata": {
    "vscode": {
     "languageId": "r"
    }
   },
   "outputs": [
    {
     "data": {
      "image/png": "[encoded data removed]",
      "text/plain": [
       "plot without title"
      ]
     },
     "metadata": {
      "image/png": {
       "height": 420,
       "width": 420
      }
     },
     "output_type": "display_data"
    }
   ],
   "source": [
    "# Visualize the confusion matrix\n",
    "plot_confusion <- ggplot(as.data.frame(confusion_matrix$table), aes(x = Reference, y = Prediction, fill = Freq)) +\n",
    "  geom_tile() +\n",
    "  geom_text(aes(label = Freq), vjust = 1) +\n",
    "  scale_fill_gradient(low = \"white\", high = \"blue\") +\n",
    "  labs(x = \"Actual\", y = \"Predicted\", fill = \"Frequency\") +\n",
    "  theme_minimal()\n",
    "\n",
    "# Print the plot\n",
    "print(plot_confusion)"
   ]
  },
  {
   "cell_type": "code",
   "execution_count": null,
   "metadata": {
    "vscode": {
     "languageId": "r"
    }
   },
   "outputs": [],
   "source": []
  }
 ],
 "metadata": {
  "kernelspec": {
   "display_name": "R",
   "language": "R",
   "name": "ir"
  },
  "language_info": {
   "codemirror_mode": "r",
   "file_extension": ".r",
   "mimetype": "text/x-r-source",
   "name": "R",
   "pygments_lexer": "r",
   "version": "4.0.4"
  }
 },
 "nbformat": 4,
 "nbformat_minor": 2
}
