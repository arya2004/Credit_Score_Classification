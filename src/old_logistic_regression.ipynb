{
 "cells": [
  {
   "cell_type": "code",
   "execution_count": null,
   "metadata": {
    "vscode": {
     "languageId": "r"
    }
   },
   "outputs": [],
   "source": []
  },
  {
   "cell_type": "markdown",
   "metadata": {},
   "source": [
    "# Multinomial Logistic Regression"
   ]
  },
  {
   "cell_type": "code",
   "execution_count": 12,
   "metadata": {
    "vscode": {
     "languageId": "r"
    }
   },
   "outputs": [
    {
     "data": {
      "text/html": [
       "<table class=\"dataframe\">\n",
       "<caption>A data.frame: 6 × 25</caption>\n",
       "<thead>\n",
       "\t<tr><th></th><th scope=col>X</th><th scope=col>Month</th><th scope=col>Age</th><th scope=col>Occupation</th><th scope=col>Annual_Income</th><th scope=col>Monthly_Inhand_Salary</th><th scope=col>Num_Bank_Accounts</th><th scope=col>Num_Credit_Card</th><th scope=col>Interest_Rate</th><th scope=col>Num_of_Loan</th><th scope=col>⋯</th><th scope=col>Credit_Mix</th><th scope=col>Outstanding_Debt</th><th scope=col>Credit_Utilization_Ratio</th><th scope=col>Credit_History_Age</th><th scope=col>Payment_of_Min_Amount</th><th scope=col>Total_EMI_per_month</th><th scope=col>Amount_invested_monthly</th><th scope=col>Payment_Behaviour</th><th scope=col>Monthly_Balance</th><th scope=col>Credit_Score</th></tr>\n",
       "\t<tr><th></th><th scope=col>&lt;int&gt;</th><th scope=col>&lt;int&gt;</th><th scope=col>&lt;dbl&gt;</th><th scope=col>&lt;int&gt;</th><th scope=col>&lt;dbl&gt;</th><th scope=col>&lt;dbl&gt;</th><th scope=col>&lt;dbl&gt;</th><th scope=col>&lt;dbl&gt;</th><th scope=col>&lt;dbl&gt;</th><th scope=col>&lt;dbl&gt;</th><th scope=col>⋯</th><th scope=col>&lt;int&gt;</th><th scope=col>&lt;dbl&gt;</th><th scope=col>&lt;dbl&gt;</th><th scope=col>&lt;dbl&gt;</th><th scope=col>&lt;int&gt;</th><th scope=col>&lt;dbl&gt;</th><th scope=col>&lt;dbl&gt;</th><th scope=col>&lt;int&gt;</th><th scope=col>&lt;dbl&gt;</th><th scope=col>&lt;int&gt;</th></tr>\n",
       "</thead>\n",
       "<tbody>\n",
       "\t<tr><th scope=row>1</th><td>0</td><td>1</td><td>23</td><td>12</td><td>19114.12</td><td>1824.843</td><td>3</td><td>4</td><td>3</td><td>4</td><td>⋯</td><td>1</td><td>809.98</td><td>26.82262</td><td>265</td><td>1</td><td>49.57495</td><td> 80.41530</td><td>2</td><td>312.4941</td><td>0</td></tr>\n",
       "\t<tr><th scope=row>2</th><td>1</td><td>2</td><td>23</td><td>12</td><td>19114.12</td><td>1824.843</td><td>3</td><td>4</td><td>3</td><td>4</td><td>⋯</td><td>1</td><td>809.98</td><td>31.94496</td><td>265</td><td>1</td><td>49.57495</td><td>118.28022</td><td>3</td><td>284.6292</td><td>0</td></tr>\n",
       "\t<tr><th scope=row>3</th><td>2</td><td>3</td><td>23</td><td>12</td><td>19114.12</td><td>1824.843</td><td>3</td><td>4</td><td>3</td><td>4</td><td>⋯</td><td>1</td><td>809.98</td><td>28.60935</td><td>267</td><td>1</td><td>49.57495</td><td> 81.69952</td><td>4</td><td>331.2099</td><td>0</td></tr>\n",
       "\t<tr><th scope=row>4</th><td>3</td><td>4</td><td>23</td><td>12</td><td>19114.12</td><td>1824.843</td><td>3</td><td>4</td><td>3</td><td>4</td><td>⋯</td><td>1</td><td>809.98</td><td>31.37786</td><td>268</td><td>1</td><td>49.57495</td><td>199.45807</td><td>5</td><td>223.4513</td><td>0</td></tr>\n",
       "\t<tr><th scope=row>5</th><td>4</td><td>5</td><td>23</td><td>12</td><td>19114.12</td><td>1824.843</td><td>3</td><td>4</td><td>3</td><td>4</td><td>⋯</td><td>1</td><td>809.98</td><td>24.79735</td><td>269</td><td>1</td><td>49.57495</td><td> 41.42015</td><td>1</td><td>341.4892</td><td>0</td></tr>\n",
       "\t<tr><th scope=row>6</th><td>5</td><td>6</td><td>23</td><td>12</td><td>19114.12</td><td>1824.843</td><td>3</td><td>4</td><td>3</td><td>4</td><td>⋯</td><td>1</td><td>809.98</td><td>27.26226</td><td>270</td><td>1</td><td>49.57495</td><td> 62.43017</td><td>1</td><td>340.4792</td><td>0</td></tr>\n",
       "</tbody>\n",
       "</table>\n"
      ],
      "text/latex": [
       "A data.frame: 6 × 25\n",
       "\\begin{tabular}{r|lllllllllllllllllllll}\n",
       "  & X & Month & Age & Occupation & Annual\\_Income & Monthly\\_Inhand\\_Salary & Num\\_Bank\\_Accounts & Num\\_Credit\\_Card & Interest\\_Rate & Num\\_of\\_Loan & ⋯ & Credit\\_Mix & Outstanding\\_Debt & Credit\\_Utilization\\_Ratio & Credit\\_History\\_Age & Payment\\_of\\_Min\\_Amount & Total\\_EMI\\_per\\_month & Amount\\_invested\\_monthly & Payment\\_Behaviour & Monthly\\_Balance & Credit\\_Score\\\\\n",
       "  & <int> & <int> & <dbl> & <int> & <dbl> & <dbl> & <dbl> & <dbl> & <dbl> & <dbl> & ⋯ & <int> & <dbl> & <dbl> & <dbl> & <int> & <dbl> & <dbl> & <int> & <dbl> & <int>\\\\\n",
       "\\hline\n",
       "\t1 & 0 & 1 & 23 & 12 & 19114.12 & 1824.843 & 3 & 4 & 3 & 4 & ⋯ & 1 & 809.98 & 26.82262 & 265 & 1 & 49.57495 &  80.41530 & 2 & 312.4941 & 0\\\\\n",
       "\t2 & 1 & 2 & 23 & 12 & 19114.12 & 1824.843 & 3 & 4 & 3 & 4 & ⋯ & 1 & 809.98 & 31.94496 & 265 & 1 & 49.57495 & 118.28022 & 3 & 284.6292 & 0\\\\\n",
       "\t3 & 2 & 3 & 23 & 12 & 19114.12 & 1824.843 & 3 & 4 & 3 & 4 & ⋯ & 1 & 809.98 & 28.60935 & 267 & 1 & 49.57495 &  81.69952 & 4 & 331.2099 & 0\\\\\n",
       "\t4 & 3 & 4 & 23 & 12 & 19114.12 & 1824.843 & 3 & 4 & 3 & 4 & ⋯ & 1 & 809.98 & 31.37786 & 268 & 1 & 49.57495 & 199.45807 & 5 & 223.4513 & 0\\\\\n",
       "\t5 & 4 & 5 & 23 & 12 & 19114.12 & 1824.843 & 3 & 4 & 3 & 4 & ⋯ & 1 & 809.98 & 24.79735 & 269 & 1 & 49.57495 &  41.42015 & 1 & 341.4892 & 0\\\\\n",
       "\t6 & 5 & 6 & 23 & 12 & 19114.12 & 1824.843 & 3 & 4 & 3 & 4 & ⋯ & 1 & 809.98 & 27.26226 & 270 & 1 & 49.57495 &  62.43017 & 1 & 340.4792 & 0\\\\\n",
       "\\end{tabular}\n"
      ],
      "text/markdown": [
       "\n",
       "A data.frame: 6 × 25\n",
       "\n",
       "| <!--/--> | X &lt;int&gt; | Month &lt;int&gt; | Age &lt;dbl&gt; | Occupation &lt;int&gt; | Annual_Income &lt;dbl&gt; | Monthly_Inhand_Salary &lt;dbl&gt; | Num_Bank_Accounts &lt;dbl&gt; | Num_Credit_Card &lt;dbl&gt; | Interest_Rate &lt;dbl&gt; | Num_of_Loan &lt;dbl&gt; | ⋯ ⋯ | Credit_Mix &lt;int&gt; | Outstanding_Debt &lt;dbl&gt; | Credit_Utilization_Ratio &lt;dbl&gt; | Credit_History_Age &lt;dbl&gt; | Payment_of_Min_Amount &lt;int&gt; | Total_EMI_per_month &lt;dbl&gt; | Amount_invested_monthly &lt;dbl&gt; | Payment_Behaviour &lt;int&gt; | Monthly_Balance &lt;dbl&gt; | Credit_Score &lt;int&gt; |\n",
       "|---|---|---|---|---|---|---|---|---|---|---|---|---|---|---|---|---|---|---|---|---|---|\n",
       "| 1 | 0 | 1 | 23 | 12 | 19114.12 | 1824.843 | 3 | 4 | 3 | 4 | ⋯ | 1 | 809.98 | 26.82262 | 265 | 1 | 49.57495 |  80.41530 | 2 | 312.4941 | 0 |\n",
       "| 2 | 1 | 2 | 23 | 12 | 19114.12 | 1824.843 | 3 | 4 | 3 | 4 | ⋯ | 1 | 809.98 | 31.94496 | 265 | 1 | 49.57495 | 118.28022 | 3 | 284.6292 | 0 |\n",
       "| 3 | 2 | 3 | 23 | 12 | 19114.12 | 1824.843 | 3 | 4 | 3 | 4 | ⋯ | 1 | 809.98 | 28.60935 | 267 | 1 | 49.57495 |  81.69952 | 4 | 331.2099 | 0 |\n",
       "| 4 | 3 | 4 | 23 | 12 | 19114.12 | 1824.843 | 3 | 4 | 3 | 4 | ⋯ | 1 | 809.98 | 31.37786 | 268 | 1 | 49.57495 | 199.45807 | 5 | 223.4513 | 0 |\n",
       "| 5 | 4 | 5 | 23 | 12 | 19114.12 | 1824.843 | 3 | 4 | 3 | 4 | ⋯ | 1 | 809.98 | 24.79735 | 269 | 1 | 49.57495 |  41.42015 | 1 | 341.4892 | 0 |\n",
       "| 6 | 5 | 6 | 23 | 12 | 19114.12 | 1824.843 | 3 | 4 | 3 | 4 | ⋯ | 1 | 809.98 | 27.26226 | 270 | 1 | 49.57495 |  62.43017 | 1 | 340.4792 | 0 |\n",
       "\n"
      ],
      "text/plain": [
       "  X Month Age Occupation Annual_Income Monthly_Inhand_Salary Num_Bank_Accounts\n",
       "1 0 1     23  12         19114.12      1824.843              3                \n",
       "2 1 2     23  12         19114.12      1824.843              3                \n",
       "3 2 3     23  12         19114.12      1824.843              3                \n",
       "4 3 4     23  12         19114.12      1824.843              3                \n",
       "5 4 5     23  12         19114.12      1824.843              3                \n",
       "6 5 6     23  12         19114.12      1824.843              3                \n",
       "  Num_Credit_Card Interest_Rate Num_of_Loan ⋯ Credit_Mix Outstanding_Debt\n",
       "1 4               3             4           ⋯ 1          809.98          \n",
       "2 4               3             4           ⋯ 1          809.98          \n",
       "3 4               3             4           ⋯ 1          809.98          \n",
       "4 4               3             4           ⋯ 1          809.98          \n",
       "5 4               3             4           ⋯ 1          809.98          \n",
       "6 4               3             4           ⋯ 1          809.98          \n",
       "  Credit_Utilization_Ratio Credit_History_Age Payment_of_Min_Amount\n",
       "1 26.82262                 265                1                    \n",
       "2 31.94496                 265                1                    \n",
       "3 28.60935                 267                1                    \n",
       "4 31.37786                 268                1                    \n",
       "5 24.79735                 269                1                    \n",
       "6 27.26226                 270                1                    \n",
       "  Total_EMI_per_month Amount_invested_monthly Payment_Behaviour Monthly_Balance\n",
       "1 49.57495             80.41530               2                 312.4941       \n",
       "2 49.57495            118.28022               3                 284.6292       \n",
       "3 49.57495             81.69952               4                 331.2099       \n",
       "4 49.57495            199.45807               5                 223.4513       \n",
       "5 49.57495             41.42015               1                 341.4892       \n",
       "6 49.57495             62.43017               1                 340.4792       \n",
       "  Credit_Score\n",
       "1 0           \n",
       "2 0           \n",
       "3 0           \n",
       "4 0           \n",
       "5 0           \n",
       "6 0           "
      ]
     },
     "metadata": {},
     "output_type": "display_data"
    }
   ],
   "source": [
    "data <- read.csv(\"../../data/processed/old_train_cleaned.csv\")\n",
    "head(data)"
   ]
  },
  {
   "cell_type": "code",
   "execution_count": 13,
   "metadata": {
    "vscode": {
     "languageId": "r"
    }
   },
   "outputs": [],
   "source": [
    "library(e1071)\n",
    "library(caTools)\n",
    "library(caret)\n",
    "library(nnet)\n",
    "library(caret)"
   ]
  },
  {
   "cell_type": "code",
   "execution_count": 14,
   "metadata": {
    "vscode": {
     "languageId": "r"
    }
   },
   "outputs": [],
   "source": [
    "# data <- read.csv(\"../../data/processed/smote.csv\")\n",
    "\n",
    "\n",
    "X <- data[, !(names(data) %in% c(\"Credit_Score\"))]\n",
    "y <- as.factor(data$Credit_Score)  \n",
    "\n",
    "\n",
    "set.seed(42) \n",
    "train_index <- createDataPartition(y, p = 0.80, list = FALSE)\n",
    "X_train <- X[train_index, ]\n",
    "y_train <- y[train_index]\n",
    "X_test <- X[-train_index, ]\n",
    "y_test <- y[-train_index]\n"
   ]
  },
  {
   "cell_type": "code",
   "execution_count": 15,
   "metadata": {
    "vscode": {
     "languageId": "r"
    }
   },
   "outputs": [
    {
     "name": "stdout",
     "output_type": "stream",
     "text": [
      "# weights:  78 (50 variable)\n",
      "initial  value 87891.180318 \n",
      "iter  10 value 75636.894190\n",
      "iter  20 value 69388.811619\n",
      "iter  30 value 66282.131188\n",
      "iter  40 value 65670.537646\n",
      "iter  50 value 65025.368197\n",
      "final  value 60260.004229 \n",
      "converged\n"
     ]
    },
    {
     "data": {
      "text/plain": [
       "Call:\n",
       "multinom(formula = as.factor(y_train) ~ ., data = data.frame(cbind(X_train, \n",
       "    y_train)))\n",
       "\n",
       "Coefficients:\n",
       "  (Intercept)             X       Month          Age  Occupation Annual_Income\n",
       "1   -5.253917 -7.222949e-07 -0.06546632 -0.006043922 0.005453738 -2.238383e-05\n",
       "2   -3.975178 -1.509821e-07 -0.05599042 -0.003365707 0.005181140 -6.471662e-06\n",
       "  Monthly_Inhand_Salary Num_Bank_Accounts Num_Credit_Card Interest_Rate\n",
       "1          2.702363e-04       -0.02397319       0.3374131    0.09642591\n",
       "2          9.008738e-05        0.01182034       0.2392853    0.04687284\n",
       "  Num_of_Loan  Type_of_Loan Delay_from_due_date Num_of_Delayed_Payment\n",
       "1   0.1701026 -4.243223e-06          0.04888234           -0.034854259\n",
       "2   0.1407084 -3.213271e-06          0.03545124            0.008224919\n",
       "  Changed_Credit_Limit Num_Credit_Inquiries Credit_Mix Outstanding_Debt\n",
       "1          -0.05638088           0.12486884   1.047623     0.0003515156\n",
       "2           0.01169322           0.01578298   1.394077     0.0002567642\n",
       "  Credit_Utilization_Ratio Credit_History_Age Payment_of_Min_Amount\n",
       "1              0.005662867       -0.002759675             0.2354385\n",
       "2              0.005243592       -0.001501121             0.2586032\n",
       "  Total_EMI_per_month Amount_invested_monthly Payment_Behaviour Monthly_Balance\n",
       "1        -0.002493943           -1.823279e-06        0.17464343    0.0014273703\n",
       "2        -0.002080949           -5.140572e-06        0.09128457    0.0008540124\n",
       "\n",
       "Residual Deviance: 120520 \n",
       "AIC: 120620 "
      ]
     },
     "metadata": {},
     "output_type": "display_data"
    }
   ],
   "source": [
    "# Fitting Naive Bayes Model \n",
    "# to training dataset\n",
    "set.seed(120)  # Setting Seed\n",
    "multinom_model <- multinom(as.factor(y_train) ~ ., data = data.frame(cbind(X_train, y_train)))\n",
    "saveRDS(multinom_model, file = \"../../models/mlr.rds\")\n",
    "multinom_model"
   ]
  },
  {
   "cell_type": "code",
   "execution_count": 16,
   "metadata": {
    "vscode": {
     "languageId": "r"
    }
   },
   "outputs": [],
   "source": [
    "multinom_model <- readRDS(file = \"../../models/mlr.rds\")\n",
    "predictions <- predict(multinom_model, newdata = X_test, type = \"class\")  # Use type = \"class\" for class predictions\n",
    "\n",
    " "
   ]
  },
  {
   "cell_type": "code",
   "execution_count": 17,
   "metadata": {
    "vscode": {
     "languageId": "r"
    }
   },
   "outputs": [
    {
     "name": "stdout",
     "output_type": "stream",
     "text": [
      "Confusion Matrix and Statistics\n",
      "\n",
      "          Reference\n",
      "Prediction    0    1    2\n",
      "         0 1962  328 1207\n",
      "         1   42 3008 1442\n",
      "         2 1561 2463 7985\n",
      "\n",
      "Overall Statistics\n",
      "                                          \n",
      "               Accuracy : 0.6478          \n",
      "                 95% CI : (0.6411, 0.6544)\n",
      "    No Information Rate : 0.5318          \n",
      "    P-Value [Acc > NIR] : < 2.2e-16       \n",
      "                                          \n",
      "                  Kappa : 0.3973          \n",
      "                                          \n",
      " Mcnemar's Test P-Value : < 2.2e-16       \n",
      "\n",
      "Statistics by Class:\n",
      "\n",
      "                     Class: 0 Class: 1 Class: 2\n",
      "Sensitivity           0.55035   0.5187   0.7509\n",
      "Specificity           0.90659   0.8955   0.5703\n",
      "Pos Pred Value        0.56105   0.6696   0.6649\n",
      "Neg Pred Value        0.90285   0.8200   0.6684\n",
      "Prevalence            0.17827   0.2900   0.5318\n",
      "Detection Rate        0.09811   0.1504   0.3993\n",
      "Detection Prevalence  0.17487   0.2246   0.6005\n",
      "Balanced Accuracy     0.72847   0.7071   0.6606\n"
     ]
    }
   ],
   "source": [
    "#C matrix\n",
    "confusion_matrix <- confusionMatrix(predictions, y_test)\n",
    "print(confusion_matrix)"
   ]
  },
  {
   "cell_type": "code",
   "execution_count": 18,
   "metadata": {
    "vscode": {
     "languageId": "r"
    }
   },
   "outputs": [
    {
     "name": "stdout",
     "output_type": "stream",
     "text": [
      "Accuracy: 0.6478148 \n",
      "Precision: 0.9016787 \n",
      "Recall (Sensitivity): 0.9862295 \n",
      "F1 Score: 0.9420608 \n",
      "Specificity: 0.8567686 \n"
     ]
    }
   ],
   "source": [
    "\n",
    "# Extract TP, TN, FP, FN from the confusion matrix\n",
    "TP <- confusion_matrix$table[2, 2]  # True Positives\n",
    "TN <- confusion_matrix$table[1, 1]  # True Negatives\n",
    "FP <- confusion_matrix$table[1, 2]  # False Positives\n",
    "FN <- confusion_matrix$table[2, 1]  # False Negatives\n",
    "\n",
    "# Calculate accuracy\n",
    "accuracy <- sum(diag(confusion_matrix$table)) / sum(confusion_matrix$table)\n",
    "\n",
    "# Calculate precision\n",
    "precision <- TP / (TP + FP)\n",
    "\n",
    "# Calculate recall (sensitivity)\n",
    "recall <- TP / (TP + FN)\n",
    "\n",
    "# Calculate F1 score\n",
    "f1_score <- 2 * ((precision * recall) / (precision + recall))\n",
    "\n",
    "# Calculate specificity\n",
    "specificity <- TN / (TN + FP)\n",
    "\n",
    "# Print the metrics\n",
    "cat(\"Accuracy:\", accuracy, \"\\n\")\n",
    "cat(\"Precision:\", precision, \"\\n\")\n",
    "cat(\"Recall (Sensitivity):\", recall, \"\\n\")\n",
    "cat(\"F1 Score:\", f1_score, \"\\n\")\n",
    "cat(\"Specificity:\", specificity, \"\\n\")"
   ]
  },
  {
   "cell_type": "code",
   "execution_count": 19,
   "metadata": {
    "vscode": {
     "languageId": "r"
    }
   },
   "outputs": [
    {
     "data": {
      "image/png": "[encoded data removed]",
      "text/plain": [
       "plot without title"
      ]
     },
     "metadata": {
      "image/png": {
       "height": 420,
       "width": 420
      }
     },
     "output_type": "display_data"
    }
   ],
   "source": [
    "# Visualize the confusion matrix\n",
    "plot_confusion <- ggplot(as.data.frame(confusion_matrix$table), aes(x = Reference, y = Prediction, fill = Freq)) +\n",
    "  geom_tile() +\n",
    "  geom_text(aes(label = Freq), vjust = 1) +\n",
    "  scale_fill_gradient(low = \"white\", high = \"blue\") +\n",
    "  labs(x = \"Actual\", y = \"Predicted\", fill = \"Frequency\") +\n",
    "  theme_minimal()\n",
    "\n",
    "# Print the plot\n",
    "print(plot_confusion)"
   ]
  },
  {
   "cell_type": "code",
   "execution_count": 20,
   "metadata": {
    "vscode": {
     "languageId": "r"
    }
   },
   "outputs": [
    {
     "data": {
      "text/plain": [
       "      predictions\n",
       "y_test    0    1    2\n",
       "     0 1962   42 1561\n",
       "     1  328 3008 2463\n",
       "     2 1207 1442 7985"
      ]
     },
     "metadata": {},
     "output_type": "display_data"
    }
   ],
   "source": [
    "cm <- table(y_test, predictions)\n",
    "cm"
   ]
  },
  {
   "cell_type": "code",
   "execution_count": 21,
   "metadata": {
    "vscode": {
     "languageId": "r"
    }
   },
   "outputs": [
    {
     "data": {
      "text/plain": [
       "Confusion Matrix and Statistics\n",
       "\n",
       "      predictions\n",
       "y_test    0    1    2\n",
       "     0 1962   42 1561\n",
       "     1  328 3008 2463\n",
       "     2 1207 1442 7985\n",
       "\n",
       "Overall Statistics\n",
       "                                          \n",
       "               Accuracy : 0.6478          \n",
       "                 95% CI : (0.6411, 0.6544)\n",
       "    No Information Rate : 0.6005          \n",
       "    P-Value [Acc > NIR] : < 2.2e-16       \n",
       "                                          \n",
       "                  Kappa : 0.3973          \n",
       "                                          \n",
       " Mcnemar's Test P-Value : < 2.2e-16       \n",
       "\n",
       "Statistics by Class:\n",
       "\n",
       "                     Class: 0 Class: 1 Class: 2\n",
       "Sensitivity           0.56105   0.6696   0.6649\n",
       "Specificity           0.90285   0.8200   0.6684\n",
       "Pos Pred Value        0.55035   0.5187   0.7509\n",
       "Neg Pred Value        0.90659   0.8955   0.5703\n",
       "Prevalence            0.17487   0.2246   0.6005\n",
       "Detection Rate        0.09811   0.1504   0.3993\n",
       "Detection Prevalence  0.17827   0.2900   0.5318\n",
       "Balanced Accuracy     0.73195   0.7448   0.6667"
      ]
     },
     "metadata": {},
     "output_type": "display_data"
    }
   ],
   "source": [
    "confusionMatrix(cm)"
   ]
  },
  {
   "cell_type": "code",
   "execution_count": null,
   "metadata": {
    "vscode": {
     "languageId": "r"
    }
   },
   "outputs": [],
   "source": [
    "\n"
   ]
  },
  {
   "cell_type": "code",
   "execution_count": null,
   "metadata": {
    "vscode": {
     "languageId": "r"
    }
   },
   "outputs": [],
   "source": []
  },
  {
   "cell_type": "code",
   "execution_count": null,
   "metadata": {
    "vscode": {
     "languageId": "r"
    }
   },
   "outputs": [],
   "source": []
  }
 ],
 "metadata": {
  "kernelspec": {
   "display_name": "R",
   "language": "R",
   "name": "ir"
  },
  "language_info": {
   "codemirror_mode": "r",
   "file_extension": ".r",
   "mimetype": "text/x-r-source",
   "name": "R",
   "pygments_lexer": "r",
   "version": "4.0.4"
  }
 },
 "nbformat": 4,
 "nbformat_minor": 2
}
