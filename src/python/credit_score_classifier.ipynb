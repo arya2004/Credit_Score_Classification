{
 "cells": [
  {
   "cell_type": "markdown",
   "id": "3f113bb4",
   "metadata": {
    "papermill": {
     "duration": 0.032959,
     "end_time": "2024-03-19T21:11:30.074206",
     "exception": false,
     "start_time": "2024-03-19T21:11:30.041247",
     "status": "completed"
    },
    "tags": []
   },
   "source": [
    "<font color='black' size='4' face='Tenor Sans'>"
   ]
  },
  {
   "cell_type": "markdown",
   "id": "3bda56c6",
   "metadata": {
    "jupyter": {
     "source_hidden": true
    },
    "papermill": {
     "duration": 0.031932,
     "end_time": "2024-03-19T21:11:30.205202",
     "exception": false,
     "start_time": "2024-03-19T21:11:30.173270",
     "status": "completed"
    },
    "tags": []
   },
   "source": [
    "1. ❗ [About Dataset](#about-dataset)  \n",
    "\n",
    "2. 🚩 [Preparation](#preparation)  \n",
    "   2.1 📔 [Import Libraries](#import-libraries)  \n",
    "   2.2 🗃️ [Loading Files](#loading-files)  \n",
    "   \n",
    "3. 🧹 [Data Cleaning](#data-cleaning)  \n",
    "   3.1 📚 [Adjust Data Format (+Entry)](#adjust-data-format)  \n",
    "   3.2 👥 [Duplicates](#duplicates)  \n",
    "   3.3 ⚖️ [Data Scaling](#data-scaling)  \n",
    "   3.4 👾 [Data Entry Plus](#data-entry-plus)  \n",
    "   3.4.1 🗑️ [Filtering Trash](#filtering-trash)  \n",
    "   3.4.2 ➖ [Negative Values](#negative-values)  \n",
    "   3.4.2 🚮 [Dropping Columns](#dropping-columns)  \n",
    "   3.5 🕵️ [Missing Values](#missing-values) \n",
    "   \n",
    "4. 🎚️ [Feature Engineering](#feature-engineering)  \n",
    "   4.1 🔢 [Scaling 2.0](#scaling-2.0)  \n",
    "   4.2 🧬 [Encoding](#encoding)  \n",
    "   4.2.1 🏷️ [Label Encoder](#label-encoder)  \n",
    "   4.2.2 🔖 [Ordinal Encoder](#ordinal-encoder)    \n",
    "   4.3 ⚙️ [New Features](#new-features)  \n",
    "   4.4 💯 [Mutual Information Score (MI Score)](#mutual-information-score)  \n",
    "   \n",
    "5. 📊 [EDA](#eda)  \n",
    "   5.1 📊 [Correlation Matrix](#correlation-matrix) \n",
    "   \n",
    "6. 🧩 [Model](#model)   \n",
    "   6.0.1 🏗️ [Building Model](#building-model)  \n",
    "   6.1 🧜‍♀️ [MSE Models Fashion Show](#mse-models)  \n",
    "   6.1.1 🌲 [RandomForestRegressor](#randomforestregressor)    \n",
    "   6.1.1.1 ✨ [Model Validation (MSE)](#validation)  \n",
    "   6.1.1.2 🎌 [Baseline VS MSE](#baseline-vs-mse)    \n",
    "   6.1.1.3 📏 [Underfitting and Overfitting](#underfitting-and-overfitting)    \n",
    "   6.1.2 🚀 [XGBoost](#xgboost)    \n",
    "   6.1.3 📉 [Comparing MSE](#comparing-mse)    \n",
    "   6.2 👌 [Accuracy Brand Reviews](#accuracy-reviews)  \n",
    "   6.2.1 🔄 [SMOTE VS 🌳 RandomForestClassifier](#smote)    \n",
    "   6.2.2 🎖️ [Accuracy test](#accuracy-test)  \n",
    "   \n",
    "7. ✅ [Conclusion](#conclusion)    \n",
    "   7.1 🔐 [KEY POINTS](#KEY-POINTS)  \n",
    "   7.2 ☝️ [TIPS](#TIPS)  \n",
    "   7.3 ✍️ [Personal Experience Credit Score](#pexperience)  \n",
    "   7.4 🛞 [Evaluations on building Data Models](#building-DM)  "
   ]
  },
  {
   "cell_type": "markdown",
   "id": "26dcd966",
   "metadata": {
    "papermill": {
     "duration": 0.034721,
     "end_time": "2024-03-19T21:11:30.272152",
     "exception": false,
     "start_time": "2024-03-19T21:11:30.237431",
     "status": "completed"
    },
    "tags": []
   },
   "source": [
    "## 1.❗About Dataset\n",
    "<a id=\"about-dataset\"></a>"
   ]
  },
  {
   "cell_type": "markdown",
   "id": "6621d90d",
   "metadata": {
    "papermill": {
     "duration": 0.0319,
     "end_time": "2024-03-19T21:11:30.336627",
     "exception": false,
     "start_time": "2024-03-19T21:11:30.304727",
     "status": "completed"
    },
    "tags": []
   },
   "source": [
    "    Problem Statement\n",
    "    You are working as a data scientist in a global finance company. Over the years, the company has collected basic bank details and gathered a lot of credit-related information. The management wants to build an intelligent system to segregate the people into credit score brackets to reduce the manual efforts.\n",
    "\n",
    "    Task\n",
    "    Given a person’s credit-related information, build a machine learning model that can classify the credit score."
   ]
  },
  {
   "cell_type": "markdown",
   "id": "84752d80",
   "metadata": {
    "papermill": {
     "duration": 0.031752,
     "end_time": "2024-03-19T21:11:30.400408",
     "exception": false,
     "start_time": "2024-03-19T21:11:30.368656",
     "status": "completed"
    },
    "tags": []
   },
   "source": [
    "<font color='black' size='2' face='Tenor Sans'>"
   ]
  },
  {
   "cell_type": "markdown",
   "id": "6741f777",
   "metadata": {
    "papermill": {
     "duration": 0.031663,
     "end_time": "2024-03-19T21:11:30.464144",
     "exception": false,
     "start_time": "2024-03-19T21:11:30.432481",
     "status": "completed"
    },
    "tags": []
   },
   "source": [
    "<a id=\"preparation\"></a>\n",
    "## 2. 🚩 Preparation"
   ]
  },
  {
   "cell_type": "markdown",
   "id": "779ecdb3",
   "metadata": {
    "papermill": {
     "duration": 0.031744,
     "end_time": "2024-03-19T21:11:30.527889",
     "exception": false,
     "start_time": "2024-03-19T21:11:30.496145",
     "status": "completed"
    },
    "tags": []
   },
   "source": [
    "<a id=\"import-libraries\"></a>\n",
    "## 2.1 📔 Import Libraries"
   ]
  },
  {
   "cell_type": "code",
   "execution_count": 4,
   "id": "95c1f73f",
   "metadata": {
    "execution": {
     "iopub.execute_input": "2024-03-19T21:11:30.595353Z",
     "iopub.status.busy": "2024-03-19T21:11:30.594481Z",
     "iopub.status.idle": "2024-03-19T21:11:35.033247Z",
     "shell.execute_reply": "2024-03-19T21:11:35.031979Z"
    },
    "papermill": {
     "duration": 4.475951,
     "end_time": "2024-03-19T21:11:35.036414",
     "exception": false,
     "start_time": "2024-03-19T21:11:30.560463",
     "status": "completed"
    },
    "tags": []
   },
   "outputs": [],
   "source": [
    "import numpy as np\n",
    "import pandas as pd \n",
    "import plotly.express as px\n",
    "import plotly.graph_objects as go\n",
    "import matplotlib.pyplot as plt\n",
    "import seaborn as sns\n",
    "from sklearn.preprocessing import OrdinalEncoder, LabelEncoder\n",
    "from sklearn.feature_selection import mutual_info_classif\n",
    "from sklearn.model_selection import train_test_split\n",
    "from sklearn.ensemble import RandomForestClassifier, RandomForestRegressor\n",
    "from sklearn.metrics import classification_report, confusion_matrix, accuracy_score, mean_squared_error\n",
    "from imblearn.over_sampling import SMOTE\n",
    "from xgboost import XGBRegressor\n",
    "import warnings\n",
    "\n",
    "warnings.filterwarnings(\"ignore\", category=FutureWarning)"
   ]
  },
  {
   "cell_type": "markdown",
   "id": "4c89a8ec",
   "metadata": {
    "papermill": {
     "duration": 0.034535,
     "end_time": "2024-03-19T21:11:35.107913",
     "exception": false,
     "start_time": "2024-03-19T21:11:35.073378",
     "status": "completed"
    },
    "tags": []
   },
   "source": [
    "<a id=\"loading-files\"></a>\n",
    "## 2.2 🗃️ Loading Files\n",
    "<font color='black' size='2' face='Sans Serif'>"
   ]
  },
  {
   "cell_type": "code",
   "execution_count": 5,
   "id": "8a8ca530",
   "metadata": {
    "_cell_guid": "b1076dfc-b9ad-4769-8c92-a6c4dae69d19",
    "_uuid": "8f2839f25d086af736a60e9eeb907d3b93b6e0e5",
    "execution": {
     "iopub.execute_input": "2024-03-19T21:11:35.241223Z",
     "iopub.status.busy": "2024-03-19T21:11:35.240579Z",
     "iopub.status.idle": "2024-03-19T21:11:35.259178Z",
     "shell.execute_reply": "2024-03-19T21:11:35.257975Z"
    },
    "papermill": {
     "duration": 0.121013,
     "end_time": "2024-03-19T21:11:35.262065",
     "exception": false,
     "start_time": "2024-03-19T21:11:35.141052",
     "status": "completed"
    },
    "tags": []
   },
   "outputs": [],
   "source": [
    "import os\n",
    "for dirname, _, filenames in os.walk('/kaggle/input'):\n",
    "    for filename in filenames:\n",
    "        print(os.path.join(dirname, filename))"
   ]
  },
  {
   "cell_type": "code",
   "execution_count": 6,
   "id": "549ca22b",
   "metadata": {
    "execution": {
     "iopub.execute_input": "2024-03-19T21:11:35.340007Z",
     "iopub.status.busy": "2024-03-19T21:11:35.339213Z",
     "iopub.status.idle": "2024-03-19T21:11:36.877836Z",
     "shell.execute_reply": "2024-03-19T21:11:36.876649Z"
    },
    "papermill": {
     "duration": 1.575622,
     "end_time": "2024-03-19T21:11:36.880406",
     "exception": false,
     "start_time": "2024-03-19T21:11:35.304784",
     "status": "completed"
    },
    "tags": []
   },
   "outputs": [
    {
     "name": "stderr",
     "output_type": "stream",
     "text": [
      "/tmp/ipykernel_22793/2925841847.py:1: DtypeWarning: Columns (26) have mixed types. Specify dtype option on import or set low_memory=False.\n",
      "  train = pd.read_csv('../data/raw/train.csv', dtype={'Column26': str})\n"
     ]
    },
    {
     "data": {
      "text/html": [
       "<div>\n",
       "<style scoped>\n",
       "    .dataframe tbody tr th:only-of-type {\n",
       "        vertical-align: middle;\n",
       "    }\n",
       "\n",
       "    .dataframe tbody tr th {\n",
       "        vertical-align: top;\n",
       "    }\n",
       "\n",
       "    .dataframe thead th {\n",
       "        text-align: right;\n",
       "    }\n",
       "</style>\n",
       "<table border=\"1\" class=\"dataframe\">\n",
       "  <thead>\n",
       "    <tr style=\"text-align: right;\">\n",
       "      <th></th>\n",
       "      <th>ID</th>\n",
       "      <th>Customer_ID</th>\n",
       "      <th>Month</th>\n",
       "      <th>Name</th>\n",
       "      <th>Age</th>\n",
       "      <th>SSN</th>\n",
       "      <th>Occupation</th>\n",
       "      <th>Annual_Income</th>\n",
       "      <th>Monthly_Inhand_Salary</th>\n",
       "      <th>Num_Bank_Accounts</th>\n",
       "      <th>...</th>\n",
       "      <th>Credit_Mix</th>\n",
       "      <th>Outstanding_Debt</th>\n",
       "      <th>Credit_Utilization_Ratio</th>\n",
       "      <th>Credit_History_Age</th>\n",
       "      <th>Payment_of_Min_Amount</th>\n",
       "      <th>Total_EMI_per_month</th>\n",
       "      <th>Amount_invested_monthly</th>\n",
       "      <th>Payment_Behaviour</th>\n",
       "      <th>Monthly_Balance</th>\n",
       "      <th>Credit_Score</th>\n",
       "    </tr>\n",
       "  </thead>\n",
       "  <tbody>\n",
       "    <tr>\n",
       "      <th>0</th>\n",
       "      <td>0x1602</td>\n",
       "      <td>CUS_0xd40</td>\n",
       "      <td>January</td>\n",
       "      <td>Aaron Maashoh</td>\n",
       "      <td>23</td>\n",
       "      <td>821-00-0265</td>\n",
       "      <td>Scientist</td>\n",
       "      <td>19114.12</td>\n",
       "      <td>1824.843333</td>\n",
       "      <td>3</td>\n",
       "      <td>...</td>\n",
       "      <td>_</td>\n",
       "      <td>809.98</td>\n",
       "      <td>26.82262</td>\n",
       "      <td>22 Years and 1 Months</td>\n",
       "      <td>No</td>\n",
       "      <td>49.574949</td>\n",
       "      <td>80.41529543900253</td>\n",
       "      <td>High_spent_Small_value_payments</td>\n",
       "      <td>312.49408867943663</td>\n",
       "      <td>Good</td>\n",
       "    </tr>\n",
       "  </tbody>\n",
       "</table>\n",
       "<p>1 rows × 28 columns</p>\n",
       "</div>"
      ],
      "text/plain": [
       "       ID Customer_ID    Month           Name Age          SSN Occupation  \\\n",
       "0  0x1602   CUS_0xd40  January  Aaron Maashoh  23  821-00-0265  Scientist   \n",
       "\n",
       "  Annual_Income  Monthly_Inhand_Salary  Num_Bank_Accounts  ...  Credit_Mix  \\\n",
       "0      19114.12            1824.843333                  3  ...           _   \n",
       "\n",
       "   Outstanding_Debt Credit_Utilization_Ratio     Credit_History_Age  \\\n",
       "0            809.98                 26.82262  22 Years and 1 Months   \n",
       "\n",
       "   Payment_of_Min_Amount Total_EMI_per_month Amount_invested_monthly  \\\n",
       "0                     No           49.574949       80.41529543900253   \n",
       "\n",
       "                 Payment_Behaviour     Monthly_Balance Credit_Score  \n",
       "0  High_spent_Small_value_payments  312.49408867943663         Good  \n",
       "\n",
       "[1 rows x 28 columns]"
      ]
     },
     "execution_count": 6,
     "metadata": {},
     "output_type": "execute_result"
    }
   ],
   "source": [
    "train = pd.read_csv('../data/raw/train.csv', dtype={'Column26': str})\n",
    "train.head(1)\n"
   ]
  },
  {
   "cell_type": "markdown",
   "id": "190b7f30",
   "metadata": {
    "papermill": {
     "duration": 0.033992,
     "end_time": "2024-03-19T21:11:36.948308",
     "exception": false,
     "start_time": "2024-03-19T21:11:36.914316",
     "status": "completed"
    },
    "tags": []
   },
   "source": [
    "<a id=\"data-cleaning\"></a>\n",
    "## 3.🧹 Data Cleaning"
   ]
  },
  {
   "cell_type": "code",
   "execution_count": 7,
   "id": "736356aa",
   "metadata": {
    "_kg_hide-output": true,
    "execution": {
     "iopub.execute_input": "2024-03-19T21:11:37.017327Z",
     "iopub.status.busy": "2024-03-19T21:11:37.016689Z",
     "iopub.status.idle": "2024-03-19T21:11:37.253512Z",
     "shell.execute_reply": "2024-03-19T21:11:37.251890Z"
    },
    "papermill": {
     "duration": 0.274188,
     "end_time": "2024-03-19T21:11:37.255912",
     "exception": false,
     "start_time": "2024-03-19T21:11:36.981724",
     "status": "completed"
    },
    "tags": []
   },
   "outputs": [
    {
     "name": "stdout",
     "output_type": "stream",
     "text": [
      "<class 'pandas.core.frame.DataFrame'>\n",
      "RangeIndex: 100000 entries, 0 to 99999\n",
      "Data columns (total 28 columns):\n",
      " #   Column                    Non-Null Count   Dtype  \n",
      "---  ------                    --------------   -----  \n",
      " 0   ID                        100000 non-null  object \n",
      " 1   Customer_ID               100000 non-null  object \n",
      " 2   Month                     100000 non-null  object \n",
      " 3   Name                      90015 non-null   object \n",
      " 4   Age                       100000 non-null  object \n",
      " 5   SSN                       100000 non-null  object \n",
      " 6   Occupation                100000 non-null  object \n",
      " 7   Annual_Income             100000 non-null  object \n",
      " 8   Monthly_Inhand_Salary     84998 non-null   float64\n",
      " 9   Num_Bank_Accounts         100000 non-null  int64  \n",
      " 10  Num_Credit_Card           100000 non-null  int64  \n",
      " 11  Interest_Rate             100000 non-null  int64  \n",
      " 12  Num_of_Loan               100000 non-null  object \n",
      " 13  Type_of_Loan              88592 non-null   object \n",
      " 14  Delay_from_due_date       100000 non-null  int64  \n",
      " 15  Num_of_Delayed_Payment    92998 non-null   object \n",
      " 16  Changed_Credit_Limit      100000 non-null  object \n",
      " 17  Num_Credit_Inquiries      98035 non-null   float64\n",
      " 18  Credit_Mix                100000 non-null  object \n",
      " 19  Outstanding_Debt          100000 non-null  object \n",
      " 20  Credit_Utilization_Ratio  100000 non-null  float64\n",
      " 21  Credit_History_Age        90970 non-null   object \n",
      " 22  Payment_of_Min_Amount     100000 non-null  object \n",
      " 23  Total_EMI_per_month       100000 non-null  float64\n",
      " 24  Amount_invested_monthly   95521 non-null   object \n",
      " 25  Payment_Behaviour         100000 non-null  object \n",
      " 26  Monthly_Balance           98800 non-null   object \n",
      " 27  Credit_Score              100000 non-null  object \n",
      "dtypes: float64(4), int64(4), object(20)\n",
      "memory usage: 21.4+ MB\n"
     ]
    }
   ],
   "source": [
    "# Looks like a lot of data not in the right format. Let's fix it!\n",
    "\n",
    "train.info()"
   ]
  },
  {
   "cell_type": "markdown",
   "id": "c17ace0e",
   "metadata": {
    "papermill": {
     "duration": 0.033164,
     "end_time": "2024-03-19T21:11:37.322786",
     "exception": false,
     "start_time": "2024-03-19T21:11:37.289622",
     "status": "completed"
    },
    "tags": []
   },
   "source": [
    "    There are a lot of missplaced symbols not related to data which will affect training model. Let's do some magic to adjust form"
   ]
  },
  {
   "cell_type": "markdown",
   "id": "e9602ead",
   "metadata": {
    "papermill": {
     "duration": 0.033191,
     "end_time": "2024-03-19T21:11:37.389170",
     "exception": false,
     "start_time": "2024-03-19T21:11:37.355979",
     "status": "completed"
    },
    "tags": []
   },
   "source": [
    "<a id=\"adjust-data-format\"></a>\n",
    "## 3.1 📚 Adjust Data Format (+ Entry)"
   ]
  },
  {
   "cell_type": "markdown",
   "id": "affe6221",
   "metadata": {
    "papermill": {
     "duration": 0.033108,
     "end_time": "2024-03-19T21:11:37.455683",
     "exception": false,
     "start_time": "2024-03-19T21:11:37.422575",
     "status": "completed"
    },
    "tags": []
   },
   "source": [
    "    Age / Loans / Delayed Payments\n"
   ]
  },
  {
   "cell_type": "code",
   "execution_count": 8,
   "id": "1c62f1b9",
   "metadata": {
    "execution": {
     "iopub.execute_input": "2024-03-19T21:11:37.525786Z",
     "iopub.status.busy": "2024-03-19T21:11:37.525350Z",
     "iopub.status.idle": "2024-03-19T21:11:38.566893Z",
     "shell.execute_reply": "2024-03-19T21:11:38.565708Z"
    },
    "papermill": {
     "duration": 1.080245,
     "end_time": "2024-03-19T21:11:38.569816",
     "exception": false,
     "start_time": "2024-03-19T21:11:37.489571",
     "status": "completed"
    },
    "tags": []
   },
   "outputs": [],
   "source": [
    "# That's a tricky one. I loop with extending code, so it solve Data Entry and Data Format issues at once. \n",
    "\n",
    "train['Age'] = train['Age'].fillna('0').str.extract('(\\d+)').astype(float).astype(int)\n",
    "train['Num_of_Loan'] = train['Num_of_Loan'].fillna('0').str.extract('(\\d+)').astype(float).astype(int)\n",
    "train['Num_of_Delayed_Payment'] = train['Num_of_Delayed_Payment'].fillna('0').str.extract('(\\d+)').astype(float).astype(int)"
   ]
  },
  {
   "cell_type": "markdown",
   "id": "a514378e",
   "metadata": {
    "papermill": {
     "duration": 0.033598,
     "end_time": "2024-03-19T21:11:38.637617",
     "exception": false,
     "start_time": "2024-03-19T21:11:38.604019",
     "status": "completed"
    },
    "tags": []
   },
   "source": [
    "    Annual Income"
   ]
  },
  {
   "cell_type": "code",
   "execution_count": 9,
   "id": "9db06f32",
   "metadata": {
    "execution": {
     "iopub.execute_input": "2024-03-19T21:11:38.707716Z",
     "iopub.status.busy": "2024-03-19T21:11:38.707294Z",
     "iopub.status.idle": "2024-03-19T21:11:38.829716Z",
     "shell.execute_reply": "2024-03-19T21:11:38.828455Z"
    },
    "papermill": {
     "duration": 0.160822,
     "end_time": "2024-03-19T21:11:38.832582",
     "exception": false,
     "start_time": "2024-03-19T21:11:38.671760",
     "status": "completed"
    },
    "tags": []
   },
   "outputs": [],
   "source": [
    "train['Annual_Income'] = train['Annual_Income'].str.replace(r'[^0-9.]', '', regex=True)\n",
    "train['Annual_Income'] = train['Annual_Income'].astype(float)"
   ]
  },
  {
   "cell_type": "markdown",
   "id": "62a4b860",
   "metadata": {
    "papermill": {
     "duration": 0.033494,
     "end_time": "2024-03-19T21:11:38.900952",
     "exception": false,
     "start_time": "2024-03-19T21:11:38.867458",
     "status": "completed"
    },
    "tags": []
   },
   "source": [
    "    Credit Limit"
   ]
  },
  {
   "cell_type": "code",
   "execution_count": 10,
   "id": "a17f61a9",
   "metadata": {
    "execution": {
     "iopub.execute_input": "2024-03-19T21:11:38.972214Z",
     "iopub.status.busy": "2024-03-19T21:11:38.970777Z",
     "iopub.status.idle": "2024-03-19T21:11:39.064205Z",
     "shell.execute_reply": "2024-03-19T21:11:39.062932Z"
    },
    "papermill": {
     "duration": 0.13175,
     "end_time": "2024-03-19T21:11:39.067170",
     "exception": false,
     "start_time": "2024-03-19T21:11:38.935420",
     "status": "completed"
    },
    "tags": []
   },
   "outputs": [],
   "source": [
    "# Each column has it's own 'thing', which keep showing me errors. So I will step by step get rid of mistakes until achieving appropriate conditions\n",
    "\n",
    "train['Changed_Credit_Limit'] = train['Changed_Credit_Limit'].replace('_', np.nan)\n",
    "train['Changed_Credit_Limit'] = pd.to_numeric(train['Changed_Credit_Limit'], errors='coerce')\n",
    "train['Changed_Credit_Limit'] = train['Changed_Credit_Limit'].fillna(0)"
   ]
  },
  {
   "cell_type": "markdown",
   "id": "91069127",
   "metadata": {
    "papermill": {
     "duration": 0.034604,
     "end_time": "2024-03-19T21:11:39.136002",
     "exception": false,
     "start_time": "2024-03-19T21:11:39.101398",
     "status": "completed"
    },
    "tags": []
   },
   "source": [
    "    Outstanding Debt"
   ]
  },
  {
   "cell_type": "code",
   "execution_count": 11,
   "id": "9cd77aec",
   "metadata": {
    "execution": {
     "iopub.execute_input": "2024-03-19T21:11:39.207331Z",
     "iopub.status.busy": "2024-03-19T21:11:39.206892Z",
     "iopub.status.idle": "2024-03-19T21:11:39.372960Z",
     "shell.execute_reply": "2024-03-19T21:11:39.371704Z"
    },
    "papermill": {
     "duration": 0.204974,
     "end_time": "2024-03-19T21:11:39.375874",
     "exception": false,
     "start_time": "2024-03-19T21:11:39.170900",
     "status": "completed"
    },
    "tags": []
   },
   "outputs": [],
   "source": [
    "# As the previous one, here I am dealing with non-numeric values. Conver them into float, ignoring errors. And replacing NaN values with 0\n",
    "\n",
    "train['Outstanding_Debt'] = train['Outstanding_Debt'].astype(str)\n",
    "train['Outstanding_Debt'] = train['Outstanding_Debt'].str.replace(r'[^0-9.]', '', regex=True)\n",
    "train['Outstanding_Debt'] = pd.to_numeric(train['Outstanding_Debt'], errors='coerce')\n",
    "train['Outstanding_Debt'] = train['Outstanding_Debt'].fillna(0)"
   ]
  },
  {
   "cell_type": "markdown",
   "id": "1fd2f9cf",
   "metadata": {
    "papermill": {
     "duration": 0.03593,
     "end_time": "2024-03-19T21:11:39.447952",
     "exception": false,
     "start_time": "2024-03-19T21:11:39.412022",
     "status": "completed"
    },
    "tags": []
   },
   "source": [
    "    Invested Monthly"
   ]
  },
  {
   "cell_type": "code",
   "execution_count": 12,
   "id": "3de8e003",
   "metadata": {
    "execution": {
     "iopub.execute_input": "2024-03-19T21:11:39.520383Z",
     "iopub.status.busy": "2024-03-19T21:11:39.519719Z",
     "iopub.status.idle": "2024-03-19T21:11:39.679856Z",
     "shell.execute_reply": "2024-03-19T21:11:39.678410Z"
    },
    "papermill": {
     "duration": 0.200068,
     "end_time": "2024-03-19T21:11:39.682778",
     "exception": false,
     "start_time": "2024-03-19T21:11:39.482710",
     "status": "completed"
    },
    "tags": []
   },
   "outputs": [],
   "source": [
    "# Same but handling more errors\n",
    "\n",
    "train['Amount_invested_monthly'] = train['Amount_invested_monthly'].astype(str)\n",
    "train['Amount_invested_monthly'] = train['Amount_invested_monthly'].replace('', '0')\n",
    "train['Amount_invested_monthly'] = train['Amount_invested_monthly'].str.replace(r'[^0-9.]', '')\n",
    "train['Amount_invested_monthly'] = pd.to_numeric(train['Amount_invested_monthly'], errors='coerce')\n",
    "train['Amount_invested_monthly'] = train['Amount_invested_monthly'].fillna(0)"
   ]
  },
  {
   "cell_type": "markdown",
   "id": "eba3fc42",
   "metadata": {
    "papermill": {
     "duration": 0.034305,
     "end_time": "2024-03-19T21:11:39.752141",
     "exception": false,
     "start_time": "2024-03-19T21:11:39.717836",
     "status": "completed"
    },
    "tags": []
   },
   "source": [
    "    Monthly Balance"
   ]
  },
  {
   "cell_type": "code",
   "execution_count": 13,
   "id": "ac6ada9b",
   "metadata": {
    "execution": {
     "iopub.execute_input": "2024-03-19T21:11:39.822650Z",
     "iopub.status.busy": "2024-03-19T21:11:39.822204Z",
     "iopub.status.idle": "2024-03-19T21:11:39.956762Z",
     "shell.execute_reply": "2024-03-19T21:11:39.955444Z"
    },
    "papermill": {
     "duration": 0.173397,
     "end_time": "2024-03-19T21:11:39.959893",
     "exception": false,
     "start_time": "2024-03-19T21:11:39.786496",
     "status": "completed"
    },
    "tags": []
   },
   "outputs": [],
   "source": [
    "train['Monthly_Balance'] = train['Monthly_Balance'].astype(str)\n",
    "train['Monthly_Balance'] = train['Monthly_Balance'].str.replace(r'[^0-9.-]+', '')\n",
    "train['Monthly_Balance'] = pd.to_numeric(train['Monthly_Balance'], errors='coerce')\n",
    "train['Monthly_Balance'] = train['Monthly_Balance'].fillna(0)"
   ]
  },
  {
   "cell_type": "markdown",
   "id": "c750f3a1",
   "metadata": {
    "papermill": {
     "duration": 0.037432,
     "end_time": "2024-03-19T21:11:40.032215",
     "exception": false,
     "start_time": "2024-03-19T21:11:39.994783",
     "status": "completed"
    },
    "tags": []
   },
   "source": [
    "    Credit History Age"
   ]
  },
  {
   "cell_type": "code",
   "execution_count": 14,
   "id": "eaeb8ab7",
   "metadata": {
    "execution": {
     "iopub.execute_input": "2024-03-19T21:11:40.102896Z",
     "iopub.status.busy": "2024-03-19T21:11:40.102511Z",
     "iopub.status.idle": "2024-03-19T21:11:40.319814Z",
     "shell.execute_reply": "2024-03-19T21:11:40.318516Z"
    },
    "papermill": {
     "duration": 0.256165,
     "end_time": "2024-03-19T21:11:40.322718",
     "exception": false,
     "start_time": "2024-03-19T21:11:40.066553",
     "status": "completed"
    },
    "tags": []
   },
   "outputs": [],
   "source": [
    "# Covert Credit History Age into Months for better model construction\n",
    "\n",
    "def parse_years_and_months(age):\n",
    "    if isinstance(age, str):\n",
    "        age_parts = age.split(' Years and ')\n",
    "        years = int(age_parts[0]) if 'Years' in age else 0 \n",
    "        months_str = age_parts[1].split(' Months')[0] if 'Months' in age_parts[1] else '0' \n",
    "        months = int(months_str)\n",
    "        total_months = years * 12 + months\n",
    "        return total_months\n",
    "    else:\n",
    "        return 0  \n",
    "\n",
    "train['Credit_History_Age_Months'] = train['Credit_History_Age'].apply(parse_years_and_months)"
   ]
  },
  {
   "cell_type": "markdown",
   "id": "4359f489",
   "metadata": {
    "papermill": {
     "duration": 0.035724,
     "end_time": "2024-03-19T21:11:40.394852",
     "exception": false,
     "start_time": "2024-03-19T21:11:40.359128",
     "status": "completed"
    },
    "tags": []
   },
   "source": [
    "<a id=\"duplicates\"></a>\n",
    "## 3.2 👥 Dublicates"
   ]
  },
  {
   "cell_type": "code",
   "execution_count": 15,
   "id": "8bb7ec5a",
   "metadata": {
    "execution": {
     "iopub.execute_input": "2024-03-19T21:11:40.467879Z",
     "iopub.status.busy": "2024-03-19T21:11:40.467152Z",
     "iopub.status.idle": "2024-03-19T21:11:40.692673Z",
     "shell.execute_reply": "2024-03-19T21:11:40.691624Z"
    },
    "papermill": {
     "duration": 0.265776,
     "end_time": "2024-03-19T21:11:40.695228",
     "exception": false,
     "start_time": "2024-03-19T21:11:40.429452",
     "status": "completed"
    },
    "tags": []
   },
   "outputs": [
    {
     "name": "stdout",
     "output_type": "stream",
     "text": [
      "There are no duplicates 👌\n"
     ]
    }
   ],
   "source": [
    "duplicates = train[train.duplicated()]\n",
    "num_duplicates = duplicates.shape[0]\n",
    "\n",
    "if num_duplicates == 0:\n",
    "    print(\"There are no duplicates 👌\")\n",
    "else:\n",
    "    print(\"There are\", num_duplicates, \"duplicates.\")"
   ]
  },
  {
   "cell_type": "markdown",
   "id": "743dc829",
   "metadata": {
    "papermill": {
     "duration": 0.034529,
     "end_time": "2024-03-19T21:11:40.764268",
     "exception": false,
     "start_time": "2024-03-19T21:11:40.729739",
     "status": "completed"
    },
    "tags": []
   },
   "source": [
    "## 3.3 ⚖️ Data Scaling\n",
    "<a id=\"data-scaling\"></a>\n"
   ]
  },
  {
   "cell_type": "code",
   "execution_count": 16,
   "id": "997247d4",
   "metadata": {
    "_kg_hide-output": true,
    "execution": {
     "iopub.execute_input": "2024-03-19T21:11:40.836988Z",
     "iopub.status.busy": "2024-03-19T21:11:40.836512Z",
     "iopub.status.idle": "2024-03-19T21:11:40.964027Z",
     "shell.execute_reply": "2024-03-19T21:11:40.962791Z"
    },
    "papermill": {
     "duration": 0.167357,
     "end_time": "2024-03-19T21:11:40.966724",
     "exception": false,
     "start_time": "2024-03-19T21:11:40.799367",
     "status": "completed"
    },
    "tags": []
   },
   "outputs": [
    {
     "data": {
      "text/html": [
       "<div>\n",
       "<style scoped>\n",
       "    .dataframe tbody tr th:only-of-type {\n",
       "        vertical-align: middle;\n",
       "    }\n",
       "\n",
       "    .dataframe tbody tr th {\n",
       "        vertical-align: top;\n",
       "    }\n",
       "\n",
       "    .dataframe thead th {\n",
       "        text-align: right;\n",
       "    }\n",
       "</style>\n",
       "<table border=\"1\" class=\"dataframe\">\n",
       "  <thead>\n",
       "    <tr style=\"text-align: right;\">\n",
       "      <th></th>\n",
       "      <th>count</th>\n",
       "      <th>mean</th>\n",
       "      <th>std</th>\n",
       "      <th>min</th>\n",
       "      <th>25%</th>\n",
       "      <th>50%</th>\n",
       "      <th>75%</th>\n",
       "      <th>max</th>\n",
       "    </tr>\n",
       "  </thead>\n",
       "  <tbody>\n",
       "    <tr>\n",
       "      <th>Age</th>\n",
       "      <td>100000.0</td>\n",
       "      <td>119.509700</td>\n",
       "      <td>6.847573e+02</td>\n",
       "      <td>14.000000</td>\n",
       "      <td>25.000000</td>\n",
       "      <td>34.000000</td>\n",
       "      <td>42.000000</td>\n",
       "      <td>8.698000e+03</td>\n",
       "    </tr>\n",
       "    <tr>\n",
       "      <th>Annual_Income</th>\n",
       "      <td>100000.0</td>\n",
       "      <td>176415.701298</td>\n",
       "      <td>1.429618e+06</td>\n",
       "      <td>7005.930000</td>\n",
       "      <td>19457.500000</td>\n",
       "      <td>37578.610000</td>\n",
       "      <td>72790.920000</td>\n",
       "      <td>2.419806e+07</td>\n",
       "    </tr>\n",
       "    <tr>\n",
       "      <th>Monthly_Inhand_Salary</th>\n",
       "      <td>84998.0</td>\n",
       "      <td>4194.170850</td>\n",
       "      <td>3.183686e+03</td>\n",
       "      <td>303.645417</td>\n",
       "      <td>1625.568229</td>\n",
       "      <td>3093.745000</td>\n",
       "      <td>5957.448333</td>\n",
       "      <td>1.520463e+04</td>\n",
       "    </tr>\n",
       "    <tr>\n",
       "      <th>Num_Bank_Accounts</th>\n",
       "      <td>100000.0</td>\n",
       "      <td>17.091280</td>\n",
       "      <td>1.174048e+02</td>\n",
       "      <td>-1.000000</td>\n",
       "      <td>3.000000</td>\n",
       "      <td>6.000000</td>\n",
       "      <td>7.000000</td>\n",
       "      <td>1.798000e+03</td>\n",
       "    </tr>\n",
       "    <tr>\n",
       "      <th>Num_Credit_Card</th>\n",
       "      <td>100000.0</td>\n",
       "      <td>22.474430</td>\n",
       "      <td>1.290574e+02</td>\n",
       "      <td>0.000000</td>\n",
       "      <td>4.000000</td>\n",
       "      <td>5.000000</td>\n",
       "      <td>7.000000</td>\n",
       "      <td>1.499000e+03</td>\n",
       "    </tr>\n",
       "    <tr>\n",
       "      <th>Interest_Rate</th>\n",
       "      <td>100000.0</td>\n",
       "      <td>72.466040</td>\n",
       "      <td>4.664226e+02</td>\n",
       "      <td>1.000000</td>\n",
       "      <td>8.000000</td>\n",
       "      <td>13.000000</td>\n",
       "      <td>20.000000</td>\n",
       "      <td>5.797000e+03</td>\n",
       "    </tr>\n",
       "    <tr>\n",
       "      <th>Num_of_Loan</th>\n",
       "      <td>100000.0</td>\n",
       "      <td>10.761960</td>\n",
       "      <td>6.178993e+01</td>\n",
       "      <td>0.000000</td>\n",
       "      <td>2.000000</td>\n",
       "      <td>3.000000</td>\n",
       "      <td>6.000000</td>\n",
       "      <td>1.496000e+03</td>\n",
       "    </tr>\n",
       "    <tr>\n",
       "      <th>Delay_from_due_date</th>\n",
       "      <td>100000.0</td>\n",
       "      <td>21.068780</td>\n",
       "      <td>1.486010e+01</td>\n",
       "      <td>-5.000000</td>\n",
       "      <td>10.000000</td>\n",
       "      <td>18.000000</td>\n",
       "      <td>28.000000</td>\n",
       "      <td>6.700000e+01</td>\n",
       "    </tr>\n",
       "    <tr>\n",
       "      <th>Num_of_Delayed_Payment</th>\n",
       "      <td>100000.0</td>\n",
       "      <td>28.779410</td>\n",
       "      <td>2.181148e+02</td>\n",
       "      <td>0.000000</td>\n",
       "      <td>8.000000</td>\n",
       "      <td>13.000000</td>\n",
       "      <td>18.000000</td>\n",
       "      <td>4.397000e+03</td>\n",
       "    </tr>\n",
       "    <tr>\n",
       "      <th>Changed_Credit_Limit</th>\n",
       "      <td>100000.0</td>\n",
       "      <td>10.171791</td>\n",
       "      <td>6.880628e+00</td>\n",
       "      <td>-6.490000</td>\n",
       "      <td>4.970000</td>\n",
       "      <td>9.250000</td>\n",
       "      <td>14.660000</td>\n",
       "      <td>3.697000e+01</td>\n",
       "    </tr>\n",
       "    <tr>\n",
       "      <th>Num_Credit_Inquiries</th>\n",
       "      <td>98035.0</td>\n",
       "      <td>27.754251</td>\n",
       "      <td>1.931773e+02</td>\n",
       "      <td>0.000000</td>\n",
       "      <td>3.000000</td>\n",
       "      <td>6.000000</td>\n",
       "      <td>9.000000</td>\n",
       "      <td>2.597000e+03</td>\n",
       "    </tr>\n",
       "    <tr>\n",
       "      <th>Outstanding_Debt</th>\n",
       "      <td>100000.0</td>\n",
       "      <td>1426.220376</td>\n",
       "      <td>1.155129e+03</td>\n",
       "      <td>0.230000</td>\n",
       "      <td>566.072500</td>\n",
       "      <td>1166.155000</td>\n",
       "      <td>1945.962500</td>\n",
       "      <td>4.998070e+03</td>\n",
       "    </tr>\n",
       "    <tr>\n",
       "      <th>Credit_Utilization_Ratio</th>\n",
       "      <td>100000.0</td>\n",
       "      <td>32.285173</td>\n",
       "      <td>5.116875e+00</td>\n",
       "      <td>20.000000</td>\n",
       "      <td>28.052567</td>\n",
       "      <td>32.305784</td>\n",
       "      <td>36.496663</td>\n",
       "      <td>5.000000e+01</td>\n",
       "    </tr>\n",
       "    <tr>\n",
       "      <th>Total_EMI_per_month</th>\n",
       "      <td>100000.0</td>\n",
       "      <td>1403.118217</td>\n",
       "      <td>8.306041e+03</td>\n",
       "      <td>0.000000</td>\n",
       "      <td>30.306660</td>\n",
       "      <td>69.249473</td>\n",
       "      <td>161.224249</td>\n",
       "      <td>8.233100e+04</td>\n",
       "    </tr>\n",
       "    <tr>\n",
       "      <th>Amount_invested_monthly</th>\n",
       "      <td>100000.0</td>\n",
       "      <td>178.363270</td>\n",
       "      <td>1.984724e+02</td>\n",
       "      <td>0.000000</td>\n",
       "      <td>58.325837</td>\n",
       "      <td>116.545252</td>\n",
       "      <td>220.039055</td>\n",
       "      <td>1.977326e+03</td>\n",
       "    </tr>\n",
       "    <tr>\n",
       "      <th>Monthly_Balance</th>\n",
       "      <td>100000.0</td>\n",
       "      <td>397.684413</td>\n",
       "      <td>2.171320e+02</td>\n",
       "      <td>0.000000</td>\n",
       "      <td>267.871374</td>\n",
       "      <td>334.806633</td>\n",
       "      <td>467.670597</td>\n",
       "      <td>1.602041e+03</td>\n",
       "    </tr>\n",
       "    <tr>\n",
       "      <th>Credit_History_Age_Months</th>\n",
       "      <td>100000.0</td>\n",
       "      <td>201.221460</td>\n",
       "      <td>1.143207e+02</td>\n",
       "      <td>0.000000</td>\n",
       "      <td>114.000000</td>\n",
       "      <td>208.000000</td>\n",
       "      <td>292.000000</td>\n",
       "      <td>4.040000e+02</td>\n",
       "    </tr>\n",
       "  </tbody>\n",
       "</table>\n",
       "</div>"
      ],
      "text/plain": [
       "                              count           mean           std          min  \\\n",
       "Age                        100000.0     119.509700  6.847573e+02    14.000000   \n",
       "Annual_Income              100000.0  176415.701298  1.429618e+06  7005.930000   \n",
       "Monthly_Inhand_Salary       84998.0    4194.170850  3.183686e+03   303.645417   \n",
       "Num_Bank_Accounts          100000.0      17.091280  1.174048e+02    -1.000000   \n",
       "Num_Credit_Card            100000.0      22.474430  1.290574e+02     0.000000   \n",
       "Interest_Rate              100000.0      72.466040  4.664226e+02     1.000000   \n",
       "Num_of_Loan                100000.0      10.761960  6.178993e+01     0.000000   \n",
       "Delay_from_due_date        100000.0      21.068780  1.486010e+01    -5.000000   \n",
       "Num_of_Delayed_Payment     100000.0      28.779410  2.181148e+02     0.000000   \n",
       "Changed_Credit_Limit       100000.0      10.171791  6.880628e+00    -6.490000   \n",
       "Num_Credit_Inquiries        98035.0      27.754251  1.931773e+02     0.000000   \n",
       "Outstanding_Debt           100000.0    1426.220376  1.155129e+03     0.230000   \n",
       "Credit_Utilization_Ratio   100000.0      32.285173  5.116875e+00    20.000000   \n",
       "Total_EMI_per_month        100000.0    1403.118217  8.306041e+03     0.000000   \n",
       "Amount_invested_monthly    100000.0     178.363270  1.984724e+02     0.000000   \n",
       "Monthly_Balance            100000.0     397.684413  2.171320e+02     0.000000   \n",
       "Credit_History_Age_Months  100000.0     201.221460  1.143207e+02     0.000000   \n",
       "\n",
       "                                    25%           50%           75%  \\\n",
       "Age                           25.000000     34.000000     42.000000   \n",
       "Annual_Income              19457.500000  37578.610000  72790.920000   \n",
       "Monthly_Inhand_Salary       1625.568229   3093.745000   5957.448333   \n",
       "Num_Bank_Accounts              3.000000      6.000000      7.000000   \n",
       "Num_Credit_Card                4.000000      5.000000      7.000000   \n",
       "Interest_Rate                  8.000000     13.000000     20.000000   \n",
       "Num_of_Loan                    2.000000      3.000000      6.000000   \n",
       "Delay_from_due_date           10.000000     18.000000     28.000000   \n",
       "Num_of_Delayed_Payment         8.000000     13.000000     18.000000   \n",
       "Changed_Credit_Limit           4.970000      9.250000     14.660000   \n",
       "Num_Credit_Inquiries           3.000000      6.000000      9.000000   \n",
       "Outstanding_Debt             566.072500   1166.155000   1945.962500   \n",
       "Credit_Utilization_Ratio      28.052567     32.305784     36.496663   \n",
       "Total_EMI_per_month           30.306660     69.249473    161.224249   \n",
       "Amount_invested_monthly       58.325837    116.545252    220.039055   \n",
       "Monthly_Balance              267.871374    334.806633    467.670597   \n",
       "Credit_History_Age_Months    114.000000    208.000000    292.000000   \n",
       "\n",
       "                                    max  \n",
       "Age                        8.698000e+03  \n",
       "Annual_Income              2.419806e+07  \n",
       "Monthly_Inhand_Salary      1.520463e+04  \n",
       "Num_Bank_Accounts          1.798000e+03  \n",
       "Num_Credit_Card            1.499000e+03  \n",
       "Interest_Rate              5.797000e+03  \n",
       "Num_of_Loan                1.496000e+03  \n",
       "Delay_from_due_date        6.700000e+01  \n",
       "Num_of_Delayed_Payment     4.397000e+03  \n",
       "Changed_Credit_Limit       3.697000e+01  \n",
       "Num_Credit_Inquiries       2.597000e+03  \n",
       "Outstanding_Debt           4.998070e+03  \n",
       "Credit_Utilization_Ratio   5.000000e+01  \n",
       "Total_EMI_per_month        8.233100e+04  \n",
       "Amount_invested_monthly    1.977326e+03  \n",
       "Monthly_Balance            1.602041e+03  \n",
       "Credit_History_Age_Months  4.040000e+02  "
      ]
     },
     "execution_count": 16,
     "metadata": {},
     "output_type": "execute_result"
    }
   ],
   "source": [
    "train.describe().T"
   ]
  },
  {
   "cell_type": "code",
   "execution_count": 17,
   "id": "0889f62e",
   "metadata": {
    "execution": {
     "iopub.execute_input": "2024-03-19T21:11:41.040898Z",
     "iopub.status.busy": "2024-03-19T21:11:41.040491Z",
     "iopub.status.idle": "2024-03-19T21:11:41.273117Z",
     "shell.execute_reply": "2024-03-19T21:11:41.271958Z"
    },
    "papermill": {
     "duration": 0.272952,
     "end_time": "2024-03-19T21:11:41.275978",
     "exception": false,
     "start_time": "2024-03-19T21:11:41.003026",
     "status": "completed"
    },
    "tags": []
   },
   "outputs": [],
   "source": [
    "# Removing rediculous top outliers (2%)\n",
    "\n",
    "selected_columns_train = train[['Num_Bank_Accounts', 'Interest_Rate', 'Annual_Income', 'Num_of_Delayed_Payment', 'Num_Credit_Inquiries', 'Total_EMI_per_month', 'Num_of_Loan', 'Num_Credit_Card']]\n",
    "\n",
    "percentile_threshold = 0.98\n",
    "percentiles = selected_columns_train.quantile(percentile_threshold)\n",
    "\n",
    "for column in selected_columns_train.columns:\n",
    "    train = train[train[column] <= percentiles[column]]"
   ]
  },
  {
   "cell_type": "code",
   "execution_count": 18,
   "id": "3786acb5",
   "metadata": {
    "execution": {
     "iopub.execute_input": "2024-03-19T21:11:41.349813Z",
     "iopub.status.busy": "2024-03-19T21:11:41.349354Z",
     "iopub.status.idle": "2024-03-19T21:11:41.466069Z",
     "shell.execute_reply": "2024-03-19T21:11:41.464999Z"
    },
    "papermill": {
     "duration": 0.156397,
     "end_time": "2024-03-19T21:11:41.468803",
     "exception": false,
     "start_time": "2024-03-19T21:11:41.312406",
     "status": "completed"
    },
    "tags": []
   },
   "outputs": [
    {
     "data": {
      "text/html": [
       "<div>\n",
       "<style scoped>\n",
       "    .dataframe tbody tr th:only-of-type {\n",
       "        vertical-align: middle;\n",
       "    }\n",
       "\n",
       "    .dataframe tbody tr th {\n",
       "        vertical-align: top;\n",
       "    }\n",
       "\n",
       "    .dataframe thead th {\n",
       "        text-align: right;\n",
       "    }\n",
       "</style>\n",
       "<table border=\"1\" class=\"dataframe\">\n",
       "  <thead>\n",
       "    <tr style=\"text-align: right;\">\n",
       "      <th></th>\n",
       "      <th>count</th>\n",
       "      <th>mean</th>\n",
       "      <th>std</th>\n",
       "      <th>min</th>\n",
       "      <th>25%</th>\n",
       "      <th>50%</th>\n",
       "      <th>75%</th>\n",
       "      <th>max</th>\n",
       "    </tr>\n",
       "  </thead>\n",
       "  <tbody>\n",
       "    <tr>\n",
       "      <th>Age</th>\n",
       "      <td>85806.0</td>\n",
       "      <td>120.486003</td>\n",
       "      <td>690.067511</td>\n",
       "      <td>14.000000</td>\n",
       "      <td>25.000000</td>\n",
       "      <td>34.000000</td>\n",
       "      <td>42.000000</td>\n",
       "      <td>8698.000000</td>\n",
       "    </tr>\n",
       "    <tr>\n",
       "      <th>Annual_Income</th>\n",
       "      <td>85806.0</td>\n",
       "      <td>49378.620726</td>\n",
       "      <td>36478.390299</td>\n",
       "      <td>7005.930000</td>\n",
       "      <td>19294.460000</td>\n",
       "      <td>36780.030000</td>\n",
       "      <td>70825.760000</td>\n",
       "      <td>166837.640000</td>\n",
       "    </tr>\n",
       "    <tr>\n",
       "      <th>Monthly_Inhand_Salary</th>\n",
       "      <td>72894.0</td>\n",
       "      <td>4105.781241</td>\n",
       "      <td>3036.319177</td>\n",
       "      <td>303.645417</td>\n",
       "      <td>1623.778333</td>\n",
       "      <td>3069.091667</td>\n",
       "      <td>5899.970000</td>\n",
       "      <td>14131.123333</td>\n",
       "    </tr>\n",
       "    <tr>\n",
       "      <th>Num_Bank_Accounts</th>\n",
       "      <td>85806.0</td>\n",
       "      <td>5.372759</td>\n",
       "      <td>2.585031</td>\n",
       "      <td>-1.000000</td>\n",
       "      <td>3.000000</td>\n",
       "      <td>6.000000</td>\n",
       "      <td>7.000000</td>\n",
       "      <td>10.000000</td>\n",
       "    </tr>\n",
       "    <tr>\n",
       "      <th>Num_Credit_Card</th>\n",
       "      <td>85806.0</td>\n",
       "      <td>5.779048</td>\n",
       "      <td>5.727016</td>\n",
       "      <td>0.000000</td>\n",
       "      <td>4.000000</td>\n",
       "      <td>5.000000</td>\n",
       "      <td>7.000000</td>\n",
       "      <td>171.000000</td>\n",
       "    </tr>\n",
       "    <tr>\n",
       "      <th>Interest_Rate</th>\n",
       "      <td>85806.0</td>\n",
       "      <td>14.551174</td>\n",
       "      <td>8.824173</td>\n",
       "      <td>1.000000</td>\n",
       "      <td>7.000000</td>\n",
       "      <td>13.000000</td>\n",
       "      <td>20.000000</td>\n",
       "      <td>128.000000</td>\n",
       "    </tr>\n",
       "    <tr>\n",
       "      <th>Num_of_Loan</th>\n",
       "      <td>85806.0</td>\n",
       "      <td>7.318381</td>\n",
       "      <td>18.881665</td>\n",
       "      <td>0.000000</td>\n",
       "      <td>2.000000</td>\n",
       "      <td>3.000000</td>\n",
       "      <td>6.000000</td>\n",
       "      <td>100.000000</td>\n",
       "    </tr>\n",
       "    <tr>\n",
       "      <th>Delay_from_due_date</th>\n",
       "      <td>85806.0</td>\n",
       "      <td>21.033483</td>\n",
       "      <td>14.786223</td>\n",
       "      <td>-5.000000</td>\n",
       "      <td>10.000000</td>\n",
       "      <td>18.000000</td>\n",
       "      <td>28.000000</td>\n",
       "      <td>67.000000</td>\n",
       "    </tr>\n",
       "    <tr>\n",
       "      <th>Num_of_Delayed_Payment</th>\n",
       "      <td>85806.0</td>\n",
       "      <td>12.348321</td>\n",
       "      <td>6.845002</td>\n",
       "      <td>0.000000</td>\n",
       "      <td>8.000000</td>\n",
       "      <td>13.000000</td>\n",
       "      <td>18.000000</td>\n",
       "      <td>25.000000</td>\n",
       "    </tr>\n",
       "    <tr>\n",
       "      <th>Changed_Credit_Limit</th>\n",
       "      <td>85806.0</td>\n",
       "      <td>10.189597</td>\n",
       "      <td>6.867078</td>\n",
       "      <td>-6.490000</td>\n",
       "      <td>4.990000</td>\n",
       "      <td>9.280000</td>\n",
       "      <td>14.710000</td>\n",
       "      <td>36.970000</td>\n",
       "    </tr>\n",
       "    <tr>\n",
       "      <th>Num_Credit_Inquiries</th>\n",
       "      <td>85806.0</td>\n",
       "      <td>5.757558</td>\n",
       "      <td>3.808858</td>\n",
       "      <td>0.000000</td>\n",
       "      <td>3.000000</td>\n",
       "      <td>5.000000</td>\n",
       "      <td>8.000000</td>\n",
       "      <td>16.000000</td>\n",
       "    </tr>\n",
       "    <tr>\n",
       "      <th>Outstanding_Debt</th>\n",
       "      <td>85806.0</td>\n",
       "      <td>1420.471486</td>\n",
       "      <td>1150.336514</td>\n",
       "      <td>0.230000</td>\n",
       "      <td>565.375000</td>\n",
       "      <td>1163.330000</td>\n",
       "      <td>1933.980000</td>\n",
       "      <td>4998.070000</td>\n",
       "    </tr>\n",
       "    <tr>\n",
       "      <th>Credit_Utilization_Ratio</th>\n",
       "      <td>85806.0</td>\n",
       "      <td>32.250542</td>\n",
       "      <td>5.098798</td>\n",
       "      <td>20.000000</td>\n",
       "      <td>28.024589</td>\n",
       "      <td>32.263129</td>\n",
       "      <td>36.468620</td>\n",
       "      <td>48.489852</td>\n",
       "    </tr>\n",
       "    <tr>\n",
       "      <th>Total_EMI_per_month</th>\n",
       "      <td>85806.0</td>\n",
       "      <td>287.201729</td>\n",
       "      <td>1900.010819</td>\n",
       "      <td>0.000000</td>\n",
       "      <td>29.489975</td>\n",
       "      <td>66.648703</td>\n",
       "      <td>148.997495</td>\n",
       "      <td>29974.000000</td>\n",
       "    </tr>\n",
       "    <tr>\n",
       "      <th>Amount_invested_monthly</th>\n",
       "      <td>85806.0</td>\n",
       "      <td>174.614986</td>\n",
       "      <td>190.440132</td>\n",
       "      <td>0.000000</td>\n",
       "      <td>58.040175</td>\n",
       "      <td>115.485412</td>\n",
       "      <td>216.812779</td>\n",
       "      <td>1775.048037</td>\n",
       "    </tr>\n",
       "    <tr>\n",
       "      <th>Monthly_Balance</th>\n",
       "      <td>85806.0</td>\n",
       "      <td>393.844633</td>\n",
       "      <td>208.552121</td>\n",
       "      <td>0.000000</td>\n",
       "      <td>268.094008</td>\n",
       "      <td>334.580384</td>\n",
       "      <td>464.420853</td>\n",
       "      <td>1497.941923</td>\n",
       "    </tr>\n",
       "    <tr>\n",
       "      <th>Credit_History_Age_Months</th>\n",
       "      <td>85806.0</td>\n",
       "      <td>201.374484</td>\n",
       "      <td>114.274695</td>\n",
       "      <td>0.000000</td>\n",
       "      <td>114.000000</td>\n",
       "      <td>209.000000</td>\n",
       "      <td>292.000000</td>\n",
       "      <td>404.000000</td>\n",
       "    </tr>\n",
       "  </tbody>\n",
       "</table>\n",
       "</div>"
      ],
      "text/plain": [
       "                             count          mean           std          min  \\\n",
       "Age                        85806.0    120.486003    690.067511    14.000000   \n",
       "Annual_Income              85806.0  49378.620726  36478.390299  7005.930000   \n",
       "Monthly_Inhand_Salary      72894.0   4105.781241   3036.319177   303.645417   \n",
       "Num_Bank_Accounts          85806.0      5.372759      2.585031    -1.000000   \n",
       "Num_Credit_Card            85806.0      5.779048      5.727016     0.000000   \n",
       "Interest_Rate              85806.0     14.551174      8.824173     1.000000   \n",
       "Num_of_Loan                85806.0      7.318381     18.881665     0.000000   \n",
       "Delay_from_due_date        85806.0     21.033483     14.786223    -5.000000   \n",
       "Num_of_Delayed_Payment     85806.0     12.348321      6.845002     0.000000   \n",
       "Changed_Credit_Limit       85806.0     10.189597      6.867078    -6.490000   \n",
       "Num_Credit_Inquiries       85806.0      5.757558      3.808858     0.000000   \n",
       "Outstanding_Debt           85806.0   1420.471486   1150.336514     0.230000   \n",
       "Credit_Utilization_Ratio   85806.0     32.250542      5.098798    20.000000   \n",
       "Total_EMI_per_month        85806.0    287.201729   1900.010819     0.000000   \n",
       "Amount_invested_monthly    85806.0    174.614986    190.440132     0.000000   \n",
       "Monthly_Balance            85806.0    393.844633    208.552121     0.000000   \n",
       "Credit_History_Age_Months  85806.0    201.374484    114.274695     0.000000   \n",
       "\n",
       "                                    25%           50%           75%  \\\n",
       "Age                           25.000000     34.000000     42.000000   \n",
       "Annual_Income              19294.460000  36780.030000  70825.760000   \n",
       "Monthly_Inhand_Salary       1623.778333   3069.091667   5899.970000   \n",
       "Num_Bank_Accounts              3.000000      6.000000      7.000000   \n",
       "Num_Credit_Card                4.000000      5.000000      7.000000   \n",
       "Interest_Rate                  7.000000     13.000000     20.000000   \n",
       "Num_of_Loan                    2.000000      3.000000      6.000000   \n",
       "Delay_from_due_date           10.000000     18.000000     28.000000   \n",
       "Num_of_Delayed_Payment         8.000000     13.000000     18.000000   \n",
       "Changed_Credit_Limit           4.990000      9.280000     14.710000   \n",
       "Num_Credit_Inquiries           3.000000      5.000000      8.000000   \n",
       "Outstanding_Debt             565.375000   1163.330000   1933.980000   \n",
       "Credit_Utilization_Ratio      28.024589     32.263129     36.468620   \n",
       "Total_EMI_per_month           29.489975     66.648703    148.997495   \n",
       "Amount_invested_monthly       58.040175    115.485412    216.812779   \n",
       "Monthly_Balance              268.094008    334.580384    464.420853   \n",
       "Credit_History_Age_Months    114.000000    209.000000    292.000000   \n",
       "\n",
       "                                     max  \n",
       "Age                          8698.000000  \n",
       "Annual_Income              166837.640000  \n",
       "Monthly_Inhand_Salary       14131.123333  \n",
       "Num_Bank_Accounts              10.000000  \n",
       "Num_Credit_Card               171.000000  \n",
       "Interest_Rate                 128.000000  \n",
       "Num_of_Loan                   100.000000  \n",
       "Delay_from_due_date            67.000000  \n",
       "Num_of_Delayed_Payment         25.000000  \n",
       "Changed_Credit_Limit           36.970000  \n",
       "Num_Credit_Inquiries           16.000000  \n",
       "Outstanding_Debt             4998.070000  \n",
       "Credit_Utilization_Ratio       48.489852  \n",
       "Total_EMI_per_month         29974.000000  \n",
       "Amount_invested_monthly      1775.048037  \n",
       "Monthly_Balance              1497.941923  \n",
       "Credit_History_Age_Months     404.000000  "
      ]
     },
     "execution_count": 18,
     "metadata": {},
     "output_type": "execute_result"
    }
   ],
   "source": [
    "train.describe().T"
   ]
  },
  {
   "cell_type": "markdown",
   "id": "d09fe6a7",
   "metadata": {
    "papermill": {
     "duration": 0.03562,
     "end_time": "2024-03-19T21:11:41.540751",
     "exception": false,
     "start_time": "2024-03-19T21:11:41.505131",
     "status": "completed"
    },
    "tags": []
   },
   "source": [
    "    That looks quite pretty ✅"
   ]
  },
  {
   "cell_type": "markdown",
   "id": "df26c5e4",
   "metadata": {
    "papermill": {
     "duration": 0.036071,
     "end_time": "2024-03-19T21:11:41.612566",
     "exception": false,
     "start_time": "2024-03-19T21:11:41.576495",
     "status": "completed"
    },
    "tags": []
   },
   "source": [
    "<a id=\"data-entry\"></a>\n",
    "## 3.4 👾 Data Entry Plus"
   ]
  },
  {
   "cell_type": "markdown",
   "id": "2f5b7815",
   "metadata": {
    "papermill": {
     "duration": 0.035562,
     "end_time": "2024-03-19T21:11:41.684112",
     "exception": false,
     "start_time": "2024-03-19T21:11:41.648550",
     "status": "completed"
    },
    "tags": []
   },
   "source": [
    "## 3.4.1 🗑️ Filtering trash\n",
    "<a id=\"filtering-trash\"></a>"
   ]
  },
  {
   "cell_type": "code",
   "execution_count": 19,
   "id": "8bf5762b",
   "metadata": {
    "execution": {
     "iopub.execute_input": "2024-03-19T21:11:41.757760Z",
     "iopub.status.busy": "2024-03-19T21:11:41.757371Z",
     "iopub.status.idle": "2024-03-19T21:11:41.801178Z",
     "shell.execute_reply": "2024-03-19T21:11:41.799861Z"
    },
    "papermill": {
     "duration": 0.0841,
     "end_time": "2024-03-19T21:11:41.803948",
     "exception": false,
     "start_time": "2024-03-19T21:11:41.719848",
     "status": "completed"
    },
    "tags": []
   },
   "outputs": [],
   "source": [
    "train = train[train['Payment_Behaviour'] != '!@9#%8']"
   ]
  },
  {
   "cell_type": "code",
   "execution_count": 20,
   "id": "cfdfff67",
   "metadata": {
    "execution": {
     "iopub.execute_input": "2024-03-19T21:11:41.877142Z",
     "iopub.status.busy": "2024-03-19T21:11:41.876678Z",
     "iopub.status.idle": "2024-03-19T21:11:41.925808Z",
     "shell.execute_reply": "2024-03-19T21:11:41.924991Z"
    },
    "papermill": {
     "duration": 0.088591,
     "end_time": "2024-03-19T21:11:41.928425",
     "exception": false,
     "start_time": "2024-03-19T21:11:41.839834",
     "status": "completed"
    },
    "tags": []
   },
   "outputs": [
    {
     "name": "stdout",
     "output_type": "stream",
     "text": [
      "['Scientist' 'Teacher' 'Engineer' 'Entrepreneur' 'Developer' 'Lawyer'\n",
      " 'Media_Manager' 'Doctor' 'Journalist' 'Manager' 'Accountant' 'Musician'\n",
      " 'Mechanic' 'Writer' 'Architect']\n"
     ]
    }
   ],
   "source": [
    "# Drop the rows containing the value '_______' in the 'Occupation' column\n",
    "\n",
    "train = train[train['Occupation'] != '_______']\n",
    "print(train['Occupation'].unique())"
   ]
  },
  {
   "cell_type": "code",
   "execution_count": 21,
   "id": "eb0f0c13",
   "metadata": {
    "execution": {
     "iopub.execute_input": "2024-03-19T21:11:42.001694Z",
     "iopub.status.busy": "2024-03-19T21:11:42.001286Z",
     "iopub.status.idle": "2024-03-19T21:11:42.044118Z",
     "shell.execute_reply": "2024-03-19T21:11:42.042948Z"
    },
    "papermill": {
     "duration": 0.082643,
     "end_time": "2024-03-19T21:11:42.046798",
     "exception": false,
     "start_time": "2024-03-19T21:11:41.964155",
     "status": "completed"
    },
    "tags": []
   },
   "outputs": [
    {
     "name": "stdout",
     "output_type": "stream",
     "text": [
      "['Good' 'Standard' 'Bad']\n"
     ]
    }
   ],
   "source": [
    "# Drop rows where 'Credit_Mix' is '_'\n",
    "\n",
    "train = train[train['Credit_Mix'] != '_']\n",
    "print(train['Credit_Mix'].unique())"
   ]
  },
  {
   "cell_type": "markdown",
   "id": "f3bf1309",
   "metadata": {
    "papermill": {
     "duration": 0.03582,
     "end_time": "2024-03-19T21:11:42.119316",
     "exception": false,
     "start_time": "2024-03-19T21:11:42.083496",
     "status": "completed"
    },
    "tags": []
   },
   "source": [
    "### 3.4.2 ➖ Negative Values\n",
    "<a id=\"negative-values\"></a>\n"
   ]
  },
  {
   "cell_type": "code",
   "execution_count": 22,
   "id": "d3a296c4",
   "metadata": {
    "execution": {
     "iopub.execute_input": "2024-03-19T21:11:42.194013Z",
     "iopub.status.busy": "2024-03-19T21:11:42.192742Z",
     "iopub.status.idle": "2024-03-19T21:11:42.250262Z",
     "shell.execute_reply": "2024-03-19T21:11:42.249259Z"
    },
    "papermill": {
     "duration": 0.097779,
     "end_time": "2024-03-19T21:11:42.253106",
     "exception": false,
     "start_time": "2024-03-19T21:11:42.155327",
     "status": "completed"
    },
    "tags": []
   },
   "outputs": [],
   "source": [
    "# Negative values\n",
    "\n",
    "selected_columns = ['Delay_from_due_date', 'Changed_Credit_Limit', 'Num_Bank_Accounts']\n",
    "\n",
    "for column in selected_columns:\n",
    "    train = train[train[column] >= 0]"
   ]
  },
  {
   "cell_type": "markdown",
   "id": "bc45cf0f",
   "metadata": {
    "papermill": {
     "duration": 0.037984,
     "end_time": "2024-03-19T21:11:42.327458",
     "exception": false,
     "start_time": "2024-03-19T21:11:42.289474",
     "status": "completed"
    },
    "tags": []
   },
   "source": [
    "## 3.4.2 🚮 Dropping Columns\n",
    "<a id=\"dropping-columns\"></a>"
   ]
  },
  {
   "cell_type": "code",
   "execution_count": 23,
   "id": "988212b2",
   "metadata": {
    "execution": {
     "iopub.execute_input": "2024-03-19T21:11:42.405735Z",
     "iopub.status.busy": "2024-03-19T21:11:42.404853Z",
     "iopub.status.idle": "2024-03-19T21:11:42.421858Z",
     "shell.execute_reply": "2024-03-19T21:11:42.420936Z"
    },
    "papermill": {
     "duration": 0.059344,
     "end_time": "2024-03-19T21:11:42.424484",
     "exception": false,
     "start_time": "2024-03-19T21:11:42.365140",
     "status": "completed"
    },
    "tags": []
   },
   "outputs": [],
   "source": [
    "# Not useful for trainig model\n",
    "\n",
    "columns_to_drop = ['ID', 'Customer_ID', 'Month', 'Name', 'SSN', 'Credit_History_Age','Monthly_Inhand_Salary', 'Type_of_Loan']\n",
    "\n",
    "train.drop(columns=columns_to_drop, inplace=True)"
   ]
  },
  {
   "cell_type": "markdown",
   "id": "aed695af",
   "metadata": {
    "papermill": {
     "duration": 0.038096,
     "end_time": "2024-03-19T21:11:42.501011",
     "exception": false,
     "start_time": "2024-03-19T21:11:42.462915",
     "status": "completed"
    },
    "tags": []
   },
   "source": [
    "<a id=\"missing-values\"></a>\n",
    "## 3.5 🕵️ Missing Values"
   ]
  },
  {
   "cell_type": "code",
   "execution_count": 24,
   "id": "7cbc2794",
   "metadata": {
    "execution": {
     "iopub.execute_input": "2024-03-19T21:11:42.578009Z",
     "iopub.status.busy": "2024-03-19T21:11:42.577309Z",
     "iopub.status.idle": "2024-03-19T21:11:42.618524Z",
     "shell.execute_reply": "2024-03-19T21:11:42.617362Z"
    },
    "papermill": {
     "duration": 0.082833,
     "end_time": "2024-03-19T21:11:42.621417",
     "exception": false,
     "start_time": "2024-03-19T21:11:42.538584",
     "status": "completed"
    },
    "tags": []
   },
   "outputs": [
    {
     "name": "stdout",
     "output_type": "stream",
     "text": [
      "There are no missing values 💅\n"
     ]
    }
   ],
   "source": [
    "total_missing_values = train.isnull().sum().sum()\n",
    "\n",
    "if total_missing_values == 0:\n",
    "    print(\"There are no missing values 💅\")\n",
    "else:\n",
    "    print(\"Total missing values:\", total_missing_values)"
   ]
  },
  {
   "cell_type": "markdown",
   "id": "749a7241",
   "metadata": {
    "papermill": {
     "duration": 0.035935,
     "end_time": "2024-03-19T21:11:42.693461",
     "exception": false,
     "start_time": "2024-03-19T21:11:42.657526",
     "status": "completed"
    },
    "tags": []
   },
   "source": [
    "## 4.0 🎚️ Feature Engineering\n",
    "<a id=\"feature-engineering\"></a>"
   ]
  },
  {
   "cell_type": "code",
   "execution_count": 25,
   "id": "b0afe4f1",
   "metadata": {
    "execution": {
     "iopub.execute_input": "2024-03-19T21:11:42.768074Z",
     "iopub.status.busy": "2024-03-19T21:11:42.767634Z",
     "iopub.status.idle": "2024-03-19T21:11:44.856526Z",
     "shell.execute_reply": "2024-03-19T21:11:44.855342Z"
    },
    "papermill": {
     "duration": 2.128999,
     "end_time": "2024-03-19T21:11:44.858943",
     "exception": false,
     "start_time": "2024-03-19T21:11:42.729944",
     "status": "completed"
    },
    "tags": []
   },
   "outputs": [
    {
     "data": {
      "image/png": "[encoded data removed]",
      "text/plain": [
       "<Figure size 1600x600 with 16 Axes>"
      ]
     },
     "metadata": {},
     "output_type": "display_data"
    }
   ],
   "source": [
    "numeric_columns = train.select_dtypes(include=['int64', 'float64']).columns\n",
    "\n",
    "num_columns = 8\n",
    "num_rows = (len(numeric_columns) + num_columns - 1) // num_columns\n",
    "\n",
    "fig, axes = plt.subplots(num_rows, num_columns, figsize=(16, 6))\n",
    "\n",
    "axes = axes.flatten()\n",
    "\n",
    "for i, column in enumerate(numeric_columns):\n",
    "    sns.boxplot(x=train[column], ax=axes[i])\n",
    "    axes[i].set_title(column, fontsize=7)  \n",
    "    axes[i].set_xlabel('Value', fontsize=7)  \n",
    "    axes[i].set_ylabel('Count', fontsize=7)  \n",
    "\n",
    "for j in range(len(numeric_columns), num_columns*num_rows):\n",
    "    axes[j].axis('off')\n",
    "\n",
    "plt.tight_layout()\n",
    "plt.show()"
   ]
  },
  {
   "cell_type": "markdown",
   "id": "15cc8b4a",
   "metadata": {
    "papermill": {
     "duration": 0.038022,
     "end_time": "2024-03-19T21:11:44.936238",
     "exception": false,
     "start_time": "2024-03-19T21:11:44.898216",
     "status": "completed"
    },
    "tags": []
   },
   "source": [
    "## 4.1 🔢 Scaling 2.0\n",
    "<a id=\"scaling-2.0\"></a>\n"
   ]
  },
  {
   "cell_type": "code",
   "execution_count": 26,
   "id": "01f2e800",
   "metadata": {
    "execution": {
     "iopub.execute_input": "2024-03-19T21:11:45.014528Z",
     "iopub.status.busy": "2024-03-19T21:11:45.013980Z",
     "iopub.status.idle": "2024-03-19T21:11:45.106197Z",
     "shell.execute_reply": "2024-03-19T21:11:45.104769Z"
    },
    "papermill": {
     "duration": 0.135111,
     "end_time": "2024-03-19T21:11:45.109186",
     "exception": false,
     "start_time": "2024-03-19T21:11:44.974075",
     "status": "completed"
    },
    "tags": []
   },
   "outputs": [],
   "source": [
    "# Another step to tune best scale (subjective)\n",
    "\n",
    "train = train[train['Age'] < 60]\n",
    "train = train[train['Num_Credit_Card'] <= 10]\n",
    "train = train[train['Interest_Rate'] <= 50]\n",
    "train = train[train['Num_of_Loan'] <= 12]\n",
    "train = train[train['Num_Bank_Accounts'] <= 10]\n",
    "train = train[train['Delay_from_due_date'] <= 60]\n",
    "train = train[train['Changed_Credit_Limit'] <= 30]\n",
    "train = train[train['Num_Credit_Inquiries'] <= 12]\n",
    "train = train[train['Total_EMI_per_month'] <= 200]\n",
    "train = train[train['Outstanding_Debt'] <= 1500]"
   ]
  },
  {
   "cell_type": "markdown",
   "id": "616a5c30",
   "metadata": {
    "papermill": {
     "duration": 0.038098,
     "end_time": "2024-03-19T21:11:45.186410",
     "exception": false,
     "start_time": "2024-03-19T21:11:45.148312",
     "status": "completed"
    },
    "tags": []
   },
   "source": [
    "    KEY 🗝️\n",
    "    ______________________________________________________________________\n",
    "    \n",
    "    Decision was made while making EDA. I looked at the plots and realized, that some outliers are way beyond Standard deviation. The challenge is to choose the right scaling for modeling.\n",
    "    \n",
    "    ______________________________________________________________________"
   ]
  },
  {
   "cell_type": "markdown",
   "id": "d10bd8a3",
   "metadata": {
    "papermill": {
     "duration": 0.041357,
     "end_time": "2024-03-19T21:11:45.266302",
     "exception": false,
     "start_time": "2024-03-19T21:11:45.224945",
     "status": "completed"
    },
    "tags": []
   },
   "source": [
    "## 4.2 🧬 Encoding\n",
    "<a id=\"encoding\"></a>\n"
   ]
  },
  {
   "cell_type": "markdown",
   "id": "1495ec73",
   "metadata": {
    "papermill": {
     "duration": 0.038593,
     "end_time": "2024-03-19T21:11:45.342402",
     "exception": false,
     "start_time": "2024-03-19T21:11:45.303809",
     "status": "completed"
    },
    "tags": []
   },
   "source": [
    "## 4.2.1 🏷️ Label Encoder\n",
    "<a id=\"label-encoder\"></a>"
   ]
  },
  {
   "cell_type": "code",
   "execution_count": 27,
   "id": "d9a11e1f",
   "metadata": {
    "execution": {
     "iopub.execute_input": "2024-03-19T21:11:45.420279Z",
     "iopub.status.busy": "2024-03-19T21:11:45.419820Z",
     "iopub.status.idle": "2024-03-19T21:11:45.443689Z",
     "shell.execute_reply": "2024-03-19T21:11:45.442593Z"
    },
    "papermill": {
     "duration": 0.066726,
     "end_time": "2024-03-19T21:11:45.446783",
     "exception": false,
     "start_time": "2024-03-19T21:11:45.380057",
     "status": "completed"
    },
    "tags": []
   },
   "outputs": [],
   "source": [
    "categories = ['Poor', 'Standard', 'Good']\n",
    "\n",
    "encoder = OrdinalEncoder(categories=[categories])\n",
    "\n",
    "train['Credit_Score_Encoded'] = encoder.fit_transform(train[['Credit_Score']])"
   ]
  },
  {
   "cell_type": "code",
   "execution_count": 28,
   "id": "1decd93f",
   "metadata": {
    "execution": {
     "iopub.execute_input": "2024-03-19T21:11:45.542748Z",
     "iopub.status.busy": "2024-03-19T21:11:45.542337Z",
     "iopub.status.idle": "2024-03-19T21:11:45.557783Z",
     "shell.execute_reply": "2024-03-19T21:11:45.556844Z"
    },
    "papermill": {
     "duration": 0.064259,
     "end_time": "2024-03-19T21:11:45.560688",
     "exception": false,
     "start_time": "2024-03-19T21:11:45.496429",
     "status": "completed"
    },
    "tags": []
   },
   "outputs": [],
   "source": [
    "# Encoding Occupation\n",
    "\n",
    "label_encoder = LabelEncoder()\n",
    "train['Occupation_Encoded'] = label_encoder.fit_transform(train['Occupation'])"
   ]
  },
  {
   "cell_type": "markdown",
   "id": "f152e212",
   "metadata": {
    "papermill": {
     "duration": 0.037983,
     "end_time": "2024-03-19T21:11:45.637105",
     "exception": false,
     "start_time": "2024-03-19T21:11:45.599122",
     "status": "completed"
    },
    "tags": []
   },
   "source": [
    "## 4.2.2 🔖 Ordinal Encoder\n",
    "<a id=\"ordinal-encoder\"></a>\n"
   ]
  },
  {
   "cell_type": "code",
   "execution_count": 29,
   "id": "bc2641ac",
   "metadata": {
    "execution": {
     "iopub.execute_input": "2024-03-19T21:11:45.717019Z",
     "iopub.status.busy": "2024-03-19T21:11:45.715834Z",
     "iopub.status.idle": "2024-03-19T21:11:45.735962Z",
     "shell.execute_reply": "2024-03-19T21:11:45.735005Z"
    },
    "papermill": {
     "duration": 0.062873,
     "end_time": "2024-03-19T21:11:45.738739",
     "exception": false,
     "start_time": "2024-03-19T21:11:45.675866",
     "status": "completed"
    },
    "tags": []
   },
   "outputs": [],
   "source": [
    "categories = ['Bad', 'Standard', 'Good']\n",
    "\n",
    "encoder = OrdinalEncoder(categories=[categories])\n",
    "\n",
    "train['Credit_Mix_Encoded'] = encoder.fit_transform(train[['Credit_Mix']])"
   ]
  },
  {
   "cell_type": "code",
   "execution_count": 30,
   "id": "fce8ef76",
   "metadata": {
    "execution": {
     "iopub.execute_input": "2024-03-19T21:11:45.818190Z",
     "iopub.status.busy": "2024-03-19T21:11:45.817350Z",
     "iopub.status.idle": "2024-03-19T21:11:45.837701Z",
     "shell.execute_reply": "2024-03-19T21:11:45.836554Z"
    },
    "papermill": {
     "duration": 0.063402,
     "end_time": "2024-03-19T21:11:45.840443",
     "exception": false,
     "start_time": "2024-03-19T21:11:45.777041",
     "status": "completed"
    },
    "tags": []
   },
   "outputs": [],
   "source": [
    "categories_payment_behaviour = [\n",
    "    'Low_spent_Small_value_payments', \n",
    "    'Low_spent_Medium_value_payments', \n",
    "    'Low_spent_Large_value_payments', \n",
    "    'High_spent_Small_value_payments', \n",
    "    'High_spent_Medium_value_payments', \n",
    "    'High_spent_Large_value_payments'\n",
    "]\n",
    "\n",
    "encoder_payment_behaviour = OrdinalEncoder(categories=[categories_payment_behaviour])\n",
    "\n",
    "train['Payment_Behaviour_Encoded'] = encoder_payment_behaviour.fit_transform(train[['Payment_Behaviour']])"
   ]
  },
  {
   "cell_type": "markdown",
   "id": "90e9b820",
   "metadata": {
    "papermill": {
     "duration": 0.038027,
     "end_time": "2024-03-19T21:11:45.917613",
     "exception": false,
     "start_time": "2024-03-19T21:11:45.879586",
     "status": "completed"
    },
    "tags": []
   },
   "source": [
    "### Dropping Unencoded columns\n"
   ]
  },
  {
   "cell_type": "code",
   "execution_count": 31,
   "id": "c53f6efd",
   "metadata": {
    "execution": {
     "iopub.execute_input": "2024-03-19T21:11:45.995315Z",
     "iopub.status.busy": "2024-03-19T21:11:45.994593Z",
     "iopub.status.idle": "2024-03-19T21:11:46.003823Z",
     "shell.execute_reply": "2024-03-19T21:11:46.002403Z"
    },
    "papermill": {
     "duration": 0.051289,
     "end_time": "2024-03-19T21:11:46.006671",
     "exception": false,
     "start_time": "2024-03-19T21:11:45.955382",
     "status": "completed"
    },
    "tags": []
   },
   "outputs": [],
   "source": [
    "columns_to_drop = [ 'Payment_Behaviour', 'Credit_Mix', 'Occupation','Credit_Score']\n",
    "train.drop(columns=columns_to_drop, inplace=True)"
   ]
  },
  {
   "cell_type": "markdown",
   "id": "ee5800ad",
   "metadata": {
    "papermill": {
     "duration": 0.037767,
     "end_time": "2024-03-19T21:11:46.083383",
     "exception": false,
     "start_time": "2024-03-19T21:11:46.045616",
     "status": "completed"
    },
    "tags": []
   },
   "source": [
    "## 4.3 ⚙️ New Features\n",
    "<a id=\"new-features\"></a>\n"
   ]
  },
  {
   "cell_type": "markdown",
   "id": "7c980553",
   "metadata": {
    "papermill": {
     "duration": 0.03733,
     "end_time": "2024-03-19T21:11:46.158506",
     "exception": false,
     "start_time": "2024-03-19T21:11:46.121176",
     "status": "completed"
    },
    "tags": []
   },
   "source": [
    "    It might help to increase % of accuracy and reduce amount of errors. "
   ]
  },
  {
   "cell_type": "code",
   "execution_count": 32,
   "id": "a3a2c6f8",
   "metadata": {
    "execution": {
     "iopub.execute_input": "2024-03-19T21:11:46.237782Z",
     "iopub.status.busy": "2024-03-19T21:11:46.236629Z",
     "iopub.status.idle": "2024-03-19T21:11:46.249240Z",
     "shell.execute_reply": "2024-03-19T21:11:46.247942Z"
    },
    "papermill": {
     "duration": 0.055058,
     "end_time": "2024-03-19T21:11:46.252005",
     "exception": false,
     "start_time": "2024-03-19T21:11:46.196947",
     "status": "completed"
    },
    "tags": []
   },
   "outputs": [],
   "source": [
    "# Calculate the total number of accounts (Bank Accounts + Credit Cards)\n",
    "\n",
    "train['Total_Num_Accounts'] = train['Num_Bank_Accounts'] + train['Num_Credit_Card']\n",
    "\n",
    "# Calculate the total outstanding debt per account\n",
    "\n",
    "train['Debt_Per_Account'] = train['Outstanding_Debt'] / train['Total_Num_Accounts']\n",
    "\n",
    "# Calculate the ratio of outstanding debt to annual income\n",
    "\n",
    "train['Debt_to_Income_Ratio'] = train['Outstanding_Debt'] / train['Annual_Income']\n",
    "\n",
    "# Calculate the total number of delayed payments per account\n",
    "\n",
    "train['Delayed_Payments_Per_Account'] = train['Num_of_Delayed_Payment'] / train['Total_Num_Accounts']\n",
    "\n",
    "# Calculate the total monthly expenses (EMI + Monthly Investments) \n",
    "\n",
    "train['Total_Monthly_Expenses'] = train['Total_EMI_per_month'] + train['Amount_invested_monthly']\n"
   ]
  },
  {
   "cell_type": "markdown",
   "id": "a6b93b32",
   "metadata": {
    "papermill": {
     "duration": 0.038311,
     "end_time": "2024-03-19T21:11:46.328277",
     "exception": false,
     "start_time": "2024-03-19T21:11:46.289966",
     "status": "completed"
    },
    "tags": []
   },
   "source": [
    "## 4.4 💯 Mutual Information Score (MI Score)\n",
    "<a id=\"mutual-information-score\"></a>\n"
   ]
  },
  {
   "cell_type": "markdown",
   "id": "28e113cd",
   "metadata": {
    "papermill": {
     "duration": 0.037158,
     "end_time": "2024-03-19T21:11:46.403009",
     "exception": false,
     "start_time": "2024-03-19T21:11:46.365851",
     "status": "completed"
    },
    "tags": []
   },
   "source": [
    "    MI Score is a treasure! It will help you to recognize the most valuable variables for the prediction. Cool, right? "
   ]
  },
  {
   "cell_type": "code",
   "execution_count": 33,
   "id": "8fd5de34",
   "metadata": {
    "_kg_hide-output": true,
    "execution": {
     "iopub.execute_input": "2024-03-19T21:11:46.481344Z",
     "iopub.status.busy": "2024-03-19T21:11:46.480525Z",
     "iopub.status.idle": "2024-03-19T21:11:50.248582Z",
     "shell.execute_reply": "2024-03-19T21:11:50.247175Z"
    },
    "papermill": {
     "duration": 3.810412,
     "end_time": "2024-03-19T21:11:50.251378",
     "exception": false,
     "start_time": "2024-03-19T21:11:46.440966",
     "status": "completed"
    },
    "tags": []
   },
   "outputs": [
    {
     "name": "stdout",
     "output_type": "stream",
     "text": [
      "Feature 'Age': Mutual Information Score = 0.004414860908611429\n",
      "Feature 'Annual_Income': Mutual Information Score = 0.4291054545555264\n",
      "Feature 'Num_Bank_Accounts': Mutual Information Score = 0.05669173824562024\n",
      "Feature 'Num_Credit_Card': Mutual Information Score = 0.07124350343289065\n",
      "Feature 'Interest_Rate': Mutual Information Score = 0.10095927658953041\n",
      "Feature 'Num_of_Loan': Mutual Information Score = 0.021043389811320257\n",
      "Feature 'Delay_from_due_date': Mutual Information Score = 0.07188802026968566\n",
      "Feature 'Num_of_Delayed_Payment': Mutual Information Score = 0.05065966688384105\n",
      "Feature 'Changed_Credit_Limit': Mutual Information Score = 0.10425118030606817\n",
      "Feature 'Num_Credit_Inquiries': Mutual Information Score = 0.0305832819860965\n",
      "Feature 'Outstanding_Debt': Mutual Information Score = 0.43168951085351437\n",
      "Feature 'Credit_Utilization_Ratio': Mutual Information Score = 0.0008940600062685711\n",
      "Feature 'Payment_of_Min_Amount': Mutual Information Score = 0.07356909244450205\n",
      "Feature 'Total_EMI_per_month': Mutual Information Score = 0.35263006734401814\n",
      "Feature 'Amount_invested_monthly': Mutual Information Score = 0.0015795929113411322\n",
      "Feature 'Monthly_Balance': Mutual Information Score = 0.004784458816501802\n",
      "Feature 'Credit_History_Age_Months': Mutual Information Score = 0.02097763687565335\n",
      "Feature 'Occupation_Encoded': Mutual Information Score = 0.004132612290929538\n",
      "Feature 'Credit_Mix_Encoded': Mutual Information Score = 0.17782240891061174\n",
      "Feature 'Payment_Behaviour_Encoded': Mutual Information Score = 0.0\n",
      "Feature 'Total_Num_Accounts': Mutual Information Score = 0.07719764445877098\n",
      "Feature 'Debt_Per_Account': Mutual Information Score = 0.4310845117281772\n",
      "Feature 'Debt_to_Income_Ratio': Mutual Information Score = 0.4338962184607036\n",
      "Feature 'Delayed_Payments_Per_Account': Mutual Information Score = 0.05372585278406228\n",
      "Feature 'Total_Monthly_Expenses': Mutual Information Score = 0.004740459606760616\n"
     ]
    }
   ],
   "source": [
    "categorical_columns = train.select_dtypes(include=['object']).columns\n",
    "\n",
    "data_encoded = train.copy()\n",
    "\n",
    "encoder = OrdinalEncoder()\n",
    "data_encoded[categorical_columns] = encoder.fit_transform(data_encoded[categorical_columns])\n",
    "\n",
    "y = data_encoded['Credit_Score_Encoded']\n",
    "X = data_encoded.drop(columns=['Credit_Score_Encoded'])\n",
    "\n",
    "mi_scores = mutual_info_classif(X, y)\n",
    "\n",
    "for i, score in enumerate(mi_scores):\n",
    "    print(f\"Feature '{X.columns[i]}': Mutual Information Score = {score}\")"
   ]
  },
  {
   "cell_type": "code",
   "execution_count": 34,
   "id": "5ff4a598",
   "metadata": {
    "execution": {
     "iopub.execute_input": "2024-03-19T21:11:50.333772Z",
     "iopub.status.busy": "2024-03-19T21:11:50.333059Z",
     "iopub.status.idle": "2024-03-19T21:11:50.725378Z",
     "shell.execute_reply": "2024-03-19T21:11:50.724127Z"
    },
    "papermill": {
     "duration": 0.435873,
     "end_time": "2024-03-19T21:11:50.728084",
     "exception": false,
     "start_time": "2024-03-19T21:11:50.292211",
     "status": "completed"
    },
    "tags": []
   },
   "outputs": [
    {
     "data": {
      "application/vnd.plotly.v1+json": {
       "config": {
        "plotlyServerURL": "https://plot.ly"
       },
       "data": [
        {
         "marker": {
          "color": [
           0.4338962184607036,
           0.43168951085351437,
           0.4310845117281772,
           0.4291054545555264,
           0.35263006734401814,
           0.17782240891061174,
           0.10425118030606817,
           0.10095927658953041,
           0.07719764445877098,
           0.07356909244450205,
           0.07188802026968566,
           0.07124350343289065,
           0.05669173824562024,
           0.05372585278406228,
           0.05065966688384105,
           0.0305832819860965,
           0.021043389811320257,
           0.02097763687565335,
           0.004784458816501802,
           0.004740459606760616,
           0.004414860908611429,
           0.004132612290929538,
           0.0015795929113411322,
           0.0008940600062685711,
           0
          ],
          "colorbar": {
           "len": 0.5,
           "title": {
            "text": "Mutual Information Score"
           },
           "y": 0.2
          }
         },
         "type": "bar",
         "x": [
          "Debt_to_Income_Ratio",
          "Outstanding_Debt",
          "Debt_Per_Account",
          "Annual_Income",
          "Total_EMI_per_month",
          "Credit_Mix_Encoded",
          "Changed_Credit_Limit",
          "Interest_Rate",
          "Total_Num_Accounts",
          "Payment_of_Min_Amount",
          "Delay_from_due_date",
          "Num_Credit_Card",
          "Num_Bank_Accounts",
          "Delayed_Payments_Per_Account",
          "Num_of_Delayed_Payment",
          "Num_Credit_Inquiries",
          "Num_of_Loan",
          "Credit_History_Age_Months",
          "Monthly_Balance",
          "Total_Monthly_Expenses",
          "Age",
          "Occupation_Encoded",
          "Amount_invested_monthly",
          "Credit_Utilization_Ratio",
          "Payment_Behaviour_Encoded"
         ],
         "y": [
          0.4338962184607036,
          0.43168951085351437,
          0.4310845117281772,
          0.4291054545555264,
          0.35263006734401814,
          0.17782240891061174,
          0.10425118030606817,
          0.10095927658953041,
          0.07719764445877098,
          0.07356909244450205,
          0.07188802026968566,
          0.07124350343289065,
          0.05669173824562024,
          0.05372585278406228,
          0.05065966688384105,
          0.0305832819860965,
          0.021043389811320257,
          0.02097763687565335,
          0.004784458816501802,
          0.004740459606760616,
          0.004414860908611429,
          0.004132612290929538,
          0.0015795929113411322,
          0.0008940600062685711,
          0
         ]
        }
       ],
       "layout": {
        "template": {
         "data": {
          "bar": [
           {
            "error_x": {
             "color": "#2a3f5f"
            },
            "error_y": {
             "color": "#2a3f5f"
            },
            "marker": {
             "line": {
              "color": "#E5ECF6",
              "width": 0.5
             },
             "pattern": {
              "fillmode": "overlay",
              "size": 10,
              "solidity": 0.2
             }
            },
            "type": "bar"
           }
          ],
          "barpolar": [
           {
            "marker": {
             "line": {
              "color": "#E5ECF6",
              "width": 0.5
             },
             "pattern": {
              "fillmode": "overlay",
              "size": 10,
              "solidity": 0.2
             }
            },
            "type": "barpolar"
           }
          ],
          "carpet": [
           {
            "aaxis": {
             "endlinecolor": "#2a3f5f",
             "gridcolor": "white",
             "linecolor": "white",
             "minorgridcolor": "white",
             "startlinecolor": "#2a3f5f"
            },
            "baxis": {
             "endlinecolor": "#2a3f5f",
             "gridcolor": "white",
             "linecolor": "white",
             "minorgridcolor": "white",
             "startlinecolor": "#2a3f5f"
            },
            "type": "carpet"
           }
          ],
          "choropleth": [
           {
            "colorbar": {
             "outlinewidth": 0,
             "ticks": ""
            },
            "type": "choropleth"
           }
          ],
          "contour": [
           {
            "colorbar": {
             "outlinewidth": 0,
             "ticks": ""
            },
            "colorscale": [
             [
              0,
              "#0d0887"
             ],
             [
              0.1111111111111111,
              "#46039f"
             ],
             [
              0.2222222222222222,
              "#7201a8"
             ],
             [
              0.3333333333333333,
              "#9c179e"
             ],
             [
              0.4444444444444444,
              "#bd3786"
             ],
             [
              0.5555555555555556,
              "#d8576b"
             ],
             [
              0.6666666666666666,
              "#ed7953"
             ],
             [
              0.7777777777777778,
              "#fb9f3a"
             ],
             [
              0.8888888888888888,
              "#fdca26"
             ],
             [
              1,
              "#f0f921"
             ]
            ],
            "type": "contour"
           }
          ],
          "contourcarpet": [
           {
            "colorbar": {
             "outlinewidth": 0,
             "ticks": ""
            },
            "type": "contourcarpet"
           }
          ],
          "heatmap": [
           {
            "colorbar": {
             "outlinewidth": 0,
             "ticks": ""
            },
            "colorscale": [
             [
              0,
              "#0d0887"
             ],
             [
              0.1111111111111111,
              "#46039f"
             ],
             [
              0.2222222222222222,
              "#7201a8"
             ],
             [
              0.3333333333333333,
              "#9c179e"
             ],
             [
              0.4444444444444444,
              "#bd3786"
             ],
             [
              0.5555555555555556,
              "#d8576b"
             ],
             [
              0.6666666666666666,
              "#ed7953"
             ],
             [
              0.7777777777777778,
              "#fb9f3a"
             ],
             [
              0.8888888888888888,
              "#fdca26"
             ],
             [
              1,
              "#f0f921"
             ]
            ],
            "type": "heatmap"
           }
          ],
          "heatmapgl": [
           {
            "colorbar": {
             "outlinewidth": 0,
             "ticks": ""
            },
            "colorscale": [
             [
              0,
              "#0d0887"
             ],
             [
              0.1111111111111111,
              "#46039f"
             ],
             [
              0.2222222222222222,
              "#7201a8"
             ],
             [
              0.3333333333333333,
              "#9c179e"
             ],
             [
              0.4444444444444444,
              "#bd3786"
             ],
             [
              0.5555555555555556,
              "#d8576b"
             ],
             [
              0.6666666666666666,
              "#ed7953"
             ],
             [
              0.7777777777777778,
              "#fb9f3a"
             ],
             [
              0.8888888888888888,
              "#fdca26"
             ],
             [
              1,
              "#f0f921"
             ]
            ],
            "type": "heatmapgl"
           }
          ],
          "histogram": [
           {
            "marker": {
             "pattern": {
              "fillmode": "overlay",
              "size": 10,
              "solidity": 0.2
             }
            },
            "type": "histogram"
           }
          ],
          "histogram2d": [
           {
            "colorbar": {
             "outlinewidth": 0,
             "ticks": ""
            },
            "colorscale": [
             [
              0,
              "#0d0887"
             ],
             [
              0.1111111111111111,
              "#46039f"
             ],
             [
              0.2222222222222222,
              "#7201a8"
             ],
             [
              0.3333333333333333,
              "#9c179e"
             ],
             [
              0.4444444444444444,
              "#bd3786"
             ],
             [
              0.5555555555555556,
              "#d8576b"
             ],
             [
              0.6666666666666666,
              "#ed7953"
             ],
             [
              0.7777777777777778,
              "#fb9f3a"
             ],
             [
              0.8888888888888888,
              "#fdca26"
             ],
             [
              1,
              "#f0f921"
             ]
            ],
            "type": "histogram2d"
           }
          ],
          "histogram2dcontour": [
           {
            "colorbar": {
             "outlinewidth": 0,
             "ticks": ""
            },
            "colorscale": [
             [
              0,
              "#0d0887"
             ],
             [
              0.1111111111111111,
              "#46039f"
             ],
             [
              0.2222222222222222,
              "#7201a8"
             ],
             [
              0.3333333333333333,
              "#9c179e"
             ],
             [
              0.4444444444444444,
              "#bd3786"
             ],
             [
              0.5555555555555556,
              "#d8576b"
             ],
             [
              0.6666666666666666,
              "#ed7953"
             ],
             [
              0.7777777777777778,
              "#fb9f3a"
             ],
             [
              0.8888888888888888,
              "#fdca26"
             ],
             [
              1,
              "#f0f921"
             ]
            ],
            "type": "histogram2dcontour"
           }
          ],
          "mesh3d": [
           {
            "colorbar": {
             "outlinewidth": 0,
             "ticks": ""
            },
            "type": "mesh3d"
           }
          ],
          "parcoords": [
           {
            "line": {
             "colorbar": {
              "outlinewidth": 0,
              "ticks": ""
             }
            },
            "type": "parcoords"
           }
          ],
          "pie": [
           {
            "automargin": true,
            "type": "pie"
           }
          ],
          "scatter": [
           {
            "fillpattern": {
             "fillmode": "overlay",
             "size": 10,
             "solidity": 0.2
            },
            "type": "scatter"
           }
          ],
          "scatter3d": [
           {
            "line": {
             "colorbar": {
              "outlinewidth": 0,
              "ticks": ""
             }
            },
            "marker": {
             "colorbar": {
              "outlinewidth": 0,
              "ticks": ""
             }
            },
            "type": "scatter3d"
           }
          ],
          "scattercarpet": [
           {
            "marker": {
             "colorbar": {
              "outlinewidth": 0,
              "ticks": ""
             }
            },
            "type": "scattercarpet"
           }
          ],
          "scattergeo": [
           {
            "marker": {
             "colorbar": {
              "outlinewidth": 0,
              "ticks": ""
             }
            },
            "type": "scattergeo"
           }
          ],
          "scattergl": [
           {
            "marker": {
             "colorbar": {
              "outlinewidth": 0,
              "ticks": ""
             }
            },
            "type": "scattergl"
           }
          ],
          "scattermapbox": [
           {
            "marker": {
             "colorbar": {
              "outlinewidth": 0,
              "ticks": ""
             }
            },
            "type": "scattermapbox"
           }
          ],
          "scatterpolar": [
           {
            "marker": {
             "colorbar": {
              "outlinewidth": 0,
              "ticks": ""
             }
            },
            "type": "scatterpolar"
           }
          ],
          "scatterpolargl": [
           {
            "marker": {
             "colorbar": {
              "outlinewidth": 0,
              "ticks": ""
             }
            },
            "type": "scatterpolargl"
           }
          ],
          "scatterternary": [
           {
            "marker": {
             "colorbar": {
              "outlinewidth": 0,
              "ticks": ""
             }
            },
            "type": "scatterternary"
           }
          ],
          "surface": [
           {
            "colorbar": {
             "outlinewidth": 0,
             "ticks": ""
            },
            "colorscale": [
             [
              0,
              "#0d0887"
             ],
             [
              0.1111111111111111,
              "#46039f"
             ],
             [
              0.2222222222222222,
              "#7201a8"
             ],
             [
              0.3333333333333333,
              "#9c179e"
             ],
             [
              0.4444444444444444,
              "#bd3786"
             ],
             [
              0.5555555555555556,
              "#d8576b"
             ],
             [
              0.6666666666666666,
              "#ed7953"
             ],
             [
              0.7777777777777778,
              "#fb9f3a"
             ],
             [
              0.8888888888888888,
              "#fdca26"
             ],
             [
              1,
              "#f0f921"
             ]
            ],
            "type": "surface"
           }
          ],
          "table": [
           {
            "cells": {
             "fill": {
              "color": "#EBF0F8"
             },
             "line": {
              "color": "white"
             }
            },
            "header": {
             "fill": {
              "color": "#C8D4E3"
             },
             "line": {
              "color": "white"
             }
            },
            "type": "table"
           }
          ]
         },
         "layout": {
          "annotationdefaults": {
           "arrowcolor": "#2a3f5f",
           "arrowhead": 0,
           "arrowwidth": 1
          },
          "autotypenumbers": "strict",
          "coloraxis": {
           "colorbar": {
            "outlinewidth": 0,
            "ticks": ""
           }
          },
          "colorscale": {
           "diverging": [
            [
             0,
             "#8e0152"
            ],
            [
             0.1,
             "#c51b7d"
            ],
            [
             0.2,
             "#de77ae"
            ],
            [
             0.3,
             "#f1b6da"
            ],
            [
             0.4,
             "#fde0ef"
            ],
            [
             0.5,
             "#f7f7f7"
            ],
            [
             0.6,
             "#e6f5d0"
            ],
            [
             0.7,
             "#b8e186"
            ],
            [
             0.8,
             "#7fbc41"
            ],
            [
             0.9,
             "#4d9221"
            ],
            [
             1,
             "#276419"
            ]
           ],
           "sequential": [
            [
             0,
             "#0d0887"
            ],
            [
             0.1111111111111111,
             "#46039f"
            ],
            [
             0.2222222222222222,
             "#7201a8"
            ],
            [
             0.3333333333333333,
             "#9c179e"
            ],
            [
             0.4444444444444444,
             "#bd3786"
            ],
            [
             0.5555555555555556,
             "#d8576b"
            ],
            [
             0.6666666666666666,
             "#ed7953"
            ],
            [
             0.7777777777777778,
             "#fb9f3a"
            ],
            [
             0.8888888888888888,
             "#fdca26"
            ],
            [
             1,
             "#f0f921"
            ]
           ],
           "sequentialminus": [
            [
             0,
             "#0d0887"
            ],
            [
             0.1111111111111111,
             "#46039f"
            ],
            [
             0.2222222222222222,
             "#7201a8"
            ],
            [
             0.3333333333333333,
             "#9c179e"
            ],
            [
             0.4444444444444444,
             "#bd3786"
            ],
            [
             0.5555555555555556,
             "#d8576b"
            ],
            [
             0.6666666666666666,
             "#ed7953"
            ],
            [
             0.7777777777777778,
             "#fb9f3a"
            ],
            [
             0.8888888888888888,
             "#fdca26"
            ],
            [
             1,
             "#f0f921"
            ]
           ]
          },
          "colorway": [
           "#636efa",
           "#EF553B",
           "#00cc96",
           "#ab63fa",
           "#FFA15A",
           "#19d3f3",
           "#FF6692",
           "#B6E880",
           "#FF97FF",
           "#FECB52"
          ],
          "font": {
           "color": "#2a3f5f"
          },
          "geo": {
           "bgcolor": "white",
           "lakecolor": "white",
           "landcolor": "#E5ECF6",
           "showlakes": true,
           "showland": true,
           "subunitcolor": "white"
          },
          "hoverlabel": {
           "align": "left"
          },
          "hovermode": "closest",
          "mapbox": {
           "style": "light"
          },
          "paper_bgcolor": "white",
          "plot_bgcolor": "#E5ECF6",
          "polar": {
           "angularaxis": {
            "gridcolor": "white",
            "linecolor": "white",
            "ticks": ""
           },
           "bgcolor": "#E5ECF6",
           "radialaxis": {
            "gridcolor": "white",
            "linecolor": "white",
            "ticks": ""
           }
          },
          "scene": {
           "xaxis": {
            "backgroundcolor": "#E5ECF6",
            "gridcolor": "white",
            "gridwidth": 2,
            "linecolor": "white",
            "showbackground": true,
            "ticks": "",
            "zerolinecolor": "white"
           },
           "yaxis": {
            "backgroundcolor": "#E5ECF6",
            "gridcolor": "white",
            "gridwidth": 2,
            "linecolor": "white",
            "showbackground": true,
            "ticks": "",
            "zerolinecolor": "white"
           },
           "zaxis": {
            "backgroundcolor": "#E5ECF6",
            "gridcolor": "white",
            "gridwidth": 2,
            "linecolor": "white",
            "showbackground": true,
            "ticks": "",
            "zerolinecolor": "white"
           }
          },
          "shapedefaults": {
           "line": {
            "color": "#2a3f5f"
           }
          },
          "ternary": {
           "aaxis": {
            "gridcolor": "white",
            "linecolor": "white",
            "ticks": ""
           },
           "baxis": {
            "gridcolor": "white",
            "linecolor": "white",
            "ticks": ""
           },
           "bgcolor": "#E5ECF6",
           "caxis": {
            "gridcolor": "white",
            "linecolor": "white",
            "ticks": ""
           }
          },
          "title": {
           "x": 0.05
          },
          "xaxis": {
           "automargin": true,
           "gridcolor": "white",
           "linecolor": "white",
           "ticks": "",
           "title": {
            "standoff": 15
           },
           "zerolinecolor": "white",
           "zerolinewidth": 2
          },
          "yaxis": {
           "automargin": true,
           "gridcolor": "white",
           "linecolor": "white",
           "ticks": "",
           "title": {
            "standoff": 15
           },
           "zerolinecolor": "white",
           "zerolinewidth": 2
          }
         }
        },
        "title": {
         "text": "Mutual Information Scores for Each Feature"
        },
        "xaxis": {
         "title": {
          "text": "Features"
         }
        },
        "yaxis": {
         "title": {
          "text": "Mutual Information Score"
         }
        }
       }
      }
     },
     "metadata": {},
     "output_type": "display_data"
    }
   ],
   "source": [
    "sorted_mi_scores = sorted(zip(X.columns, mi_scores), key=lambda x: x[1], reverse=True)\n",
    "sorted_columns = [x[0] for x in sorted_mi_scores]\n",
    "sorted_scores = [x[1] for x in sorted_mi_scores]\n",
    "\n",
    "colorscale = 'Viridis'  \n",
    "\n",
    "fig = go.Figure(data=[go.Bar(x=sorted_columns, y=sorted_scores, marker=dict(color=sorted_scores, colorbar=dict(title='Mutual Information Score', len=0.5, y=0.2)))])\n",
    "\n",
    "fig.update_layout(title='Mutual Information Scores for Each Feature',\n",
    "                  xaxis_title='Features',\n",
    "                  yaxis_title='Mutual Information Score')\n",
    "\n",
    "fig.show()"
   ]
  },
  {
   "cell_type": "markdown",
   "id": "79dcda18",
   "metadata": {
    "execution": {
     "iopub.execute_input": "2024-03-18T20:47:46.676622Z",
     "iopub.status.busy": "2024-03-18T20:47:46.676238Z",
     "iopub.status.idle": "2024-03-18T20:47:46.687408Z",
     "shell.execute_reply": "2024-03-18T20:47:46.685891Z",
     "shell.execute_reply.started": "2024-03-18T20:47:46.676593Z"
    },
    "papermill": {
     "duration": 0.039221,
     "end_time": "2024-03-19T21:11:50.806993",
     "exception": false,
     "start_time": "2024-03-19T21:11:50.767772",
     "status": "completed"
    },
    "tags": []
   },
   "source": [
    "    KEY 🗝️\n",
    "    ______________________________________________________________________\n",
    "    \n",
    "    Annual Income: With a high Mutual Information Score of 0.430, the annual income appears to be a significant predictor of credit score rate. Generally, individuals with higher annual incomes tend to have better credit scores.\n",
    "\n",
    "    Outstanding Debt: Another crucial factor is outstanding debt, which has a Mutual Information Score of 0.429. High levels of outstanding debt may negatively impact credit score rates.\n",
    "\n",
    "    Debt-to-Income Ratio: This feature also demonstrates a high importance with a Mutual Information Score of 0.433. It measures the proportion of a person's debt relative to their income and is a strong indicator of creditworthiness.\n",
    "\n",
    "    Total EMI per Month: Total Equated Monthly Installment (EMI) obligations carry a substantial weight (Mutual Information Score of 0.349) in predicting credit score rates. Higher EMI commitments might suggest higher financial stress and impact credit scores negatively.\n",
    "\n",
    "    Interest Rate: While not as high as the debt-related features, the interest rate still holds significant importance with a Mutual Information Score of 0.100. Higher interest rates may indicate riskier borrowing behavior and could negatively influence credit scores.  \n",
    "    \n",
    "    ______________________________________________________________________"
   ]
  },
  {
   "cell_type": "markdown",
   "id": "f09c6103",
   "metadata": {
    "papermill": {
     "duration": 0.039096,
     "end_time": "2024-03-19T21:11:50.884740",
     "exception": false,
     "start_time": "2024-03-19T21:11:50.845644",
     "status": "completed"
    },
    "tags": []
   },
   "source": [
    "    ✂️ Dropping low related values for MI Score\n",
    "\n"
   ]
  },
  {
   "cell_type": "code",
   "execution_count": 35,
   "id": "99cba025",
   "metadata": {
    "execution": {
     "iopub.execute_input": "2024-03-19T21:11:50.965023Z",
     "iopub.status.busy": "2024-03-19T21:11:50.964200Z",
     "iopub.status.idle": "2024-03-19T21:11:50.972754Z",
     "shell.execute_reply": "2024-03-19T21:11:50.971971Z"
    },
    "papermill": {
     "duration": 0.051349,
     "end_time": "2024-03-19T21:11:50.975155",
     "exception": false,
     "start_time": "2024-03-19T21:11:50.923806",
     "status": "completed"
    },
    "tags": []
   },
   "outputs": [],
   "source": [
    "# Getting rid of columns which are not important for prediction. Even so we just created new features, some of them seems to be not effective for the model\n",
    "# I tried to get rid of other columns. However, the prediction accuracy was harmed by that. \n",
    "\n",
    "columns_to_drop = [ 'Payment_of_Min_Amount', 'Age', 'Monthly_Balance', 'Total_Monthly_Expenses', 'Payment_Behaviour_Encoded', 'Amount_invested_monthly', 'Credit_Utilization_Ratio', 'Occupation_Encoded']\n",
    "train.drop(columns=columns_to_drop, inplace=True)"
   ]
  },
  {
   "cell_type": "markdown",
   "id": "053cce9b",
   "metadata": {
    "papermill": {
     "duration": 0.038757,
     "end_time": "2024-03-19T21:11:51.052773",
     "exception": false,
     "start_time": "2024-03-19T21:11:51.014016",
     "status": "completed"
    },
    "tags": []
   },
   "source": [
    "<a id=\"eda\"></a>\n",
    "## 5. 📊 EDA"
   ]
  },
  {
   "cell_type": "markdown",
   "id": "67becf11",
   "metadata": {
    "papermill": {
     "duration": 0.038537,
     "end_time": "2024-03-19T21:11:51.130515",
     "exception": false,
     "start_time": "2024-03-19T21:11:51.091978",
     "status": "completed"
    },
    "tags": []
   },
   "source": [
    "## 5.1 🧱 Correlation Matrix\n",
    "<a id=\"correlation-matrix\"></a>\n"
   ]
  },
  {
   "cell_type": "code",
   "execution_count": 36,
   "id": "8f42ff8a",
   "metadata": {
    "execution": {
     "iopub.execute_input": "2024-03-19T21:11:51.210165Z",
     "iopub.status.busy": "2024-03-19T21:11:51.209692Z",
     "iopub.status.idle": "2024-03-19T21:11:52.422536Z",
     "shell.execute_reply": "2024-03-19T21:11:52.421412Z"
    },
    "papermill": {
     "duration": 1.258665,
     "end_time": "2024-03-19T21:11:52.427867",
     "exception": false,
     "start_time": "2024-03-19T21:11:51.169202",
     "status": "completed"
    },
    "tags": []
   },
   "outputs": [
    {
     "data": {
      "image/png": "[encoded data removed]",
      "text/plain": [
       "<Figure size 1600x1200 with 2 Axes>"
      ]
     },
     "metadata": {},
     "output_type": "display_data"
    }
   ],
   "source": [
    "# Calculate Correlation Matrix\n",
    "\n",
    "corr = train.select_dtypes(include=['float64', 'int64']).corr(method='pearson')\n",
    "mask = np.triu(np.ones_like(corr, dtype=bool))\n",
    "\n",
    "plt.figure(figsize=(16, 12))\n",
    "sns.heatmap(corr, mask=mask, vmax=0.9, square=True, annot=True)\n",
    "plt.title('Correlation Matrix')\n",
    "plt.show()"
   ]
  },
  {
   "cell_type": "markdown",
   "id": "4824f09b",
   "metadata": {
    "papermill": {
     "duration": 0.045179,
     "end_time": "2024-03-19T21:11:52.518847",
     "exception": false,
     "start_time": "2024-03-19T21:11:52.473668",
     "status": "completed"
    },
    "tags": []
   },
   "source": [
    "    KEY 🗝️\n",
    "    ______________________________________________________________________\n",
    "    \n",
    "    Financial Stability Indicators: Features such as 'Annual_Income', 'Num_Bank_Accounts', 'Num_Credit_Card', and 'Total_Num_Accounts' demonstrate positive correlations with each other and with the Credit score. This suggests that individuals with higher annual incomes or more diverse banking and credit card accounts tend to have higher credit scores.\n",
    "\n",
    "    Debt-related Metrics: 'Debt_to_Income_Ratio' and 'Debt_Per_Account' exhibit negative correlations with the Credit score. This indicates that individuals with higher debt-to-income ratios or greater debt per account tend to have lower credit scores. Furthermore, 'Outstanding_Debt' demonstrates a weaker negative correlation with the credit score, highlighting its impact on overall creditworthiness.\n",
    "\n",
    "    Credit Utilization and History: 'Total_EMI_per_month', representing monthly loan repayments, shows a positive correlation with the Credit score. Additionally, features related to credit history, such as 'Credit_History_Age_Months' and 'Credit_Mix_Encoded\", suggests that individuals with longer credit histories, diverse credit accounts, and timely repayments tend to have higher credit scores.\n",
    "\n",
    "    Loan-related Factors: Features like 'Num_of_Loan' and 'Num_of_Delayed_Payment' indicate an individual's borrowing behavior and repayment patterns. This implies that individuals with fewer loan accounts or instances of delayed payments are more likely to have higher Credit scores.\n",
    "\n",
    "    Interest Rate and Financial Behavior: 'Interest_Rate' reveals a relationship with the Credit score, suggesting that individuals with lower Interest rates on their loans may have higher Credit scores. Moreover, 'Changed_Credit_Limit' and 'Num_Credit_Inquiries' also exhibit correlations, reflecting changes in credit limits and the frequency of credit inquiries, respectively.\n",
    "    \n",
    "    ______________________________________________________________________"
   ]
  },
  {
   "cell_type": "code",
   "execution_count": 37,
   "id": "ec17949c",
   "metadata": {
    "execution": {
     "iopub.execute_input": "2024-03-19T21:11:52.611835Z",
     "iopub.status.busy": "2024-03-19T21:11:52.611382Z",
     "iopub.status.idle": "2024-03-19T21:11:55.037203Z",
     "shell.execute_reply": "2024-03-19T21:11:55.036016Z"
    },
    "papermill": {
     "duration": 2.475613,
     "end_time": "2024-03-19T21:11:55.040078",
     "exception": false,
     "start_time": "2024-03-19T21:11:52.564465",
     "status": "completed"
    },
    "tags": []
   },
   "outputs": [
    {
     "data": {
      "image/png": "[encoded data removed]",
      "text/plain": [
       "<Figure size 1600x600 with 24 Axes>"
      ]
     },
     "metadata": {},
     "output_type": "display_data"
    }
   ],
   "source": [
    "numeric_columns = train.select_dtypes(include=['int64', 'float64']).columns\n",
    "\n",
    "num_columns = 8\n",
    "num_rows = (len(numeric_columns) + num_columns - 1) // num_columns\n",
    "\n",
    "fig, axes = plt.subplots(num_rows, num_columns, figsize=(16, 6))\n",
    "\n",
    "axes = axes.flatten()\n",
    "\n",
    "for i, column in enumerate(numeric_columns):\n",
    "    sns.boxplot(x=train[column], ax=axes[i])\n",
    "    axes[i].set_title(column, fontsize=7)  \n",
    "    axes[i].set_xlabel('Value', fontsize=7)  \n",
    "    axes[i].set_ylabel('Count', fontsize=7)  \n",
    "\n",
    "for j in range(len(numeric_columns), num_columns*num_rows):\n",
    "    axes[j].axis('off')\n",
    "\n",
    "plt.tight_layout()\n",
    "plt.show()"
   ]
  },
  {
   "cell_type": "markdown",
   "id": "02389973",
   "metadata": {
    "papermill": {
     "duration": 0.047958,
     "end_time": "2024-03-19T21:11:55.140082",
     "exception": false,
     "start_time": "2024-03-19T21:11:55.092124",
     "status": "completed"
    },
    "tags": []
   },
   "source": [
    "    KEY 🗝️  \n",
    "    ______________________________________________________________________\n",
    "    \n",
    "    Let's not Scale New Features. Farther cut only produces more errors and damage accuracy (I've leraned it the hard way...)\n",
    "    ______________________________________________________________________"
   ]
  },
  {
   "cell_type": "markdown",
   "id": "ebb54bbe",
   "metadata": {
    "papermill": {
     "duration": 0.050307,
     "end_time": "2024-03-19T21:11:55.239581",
     "exception": false,
     "start_time": "2024-03-19T21:11:55.189274",
     "status": "completed"
    },
    "tags": []
   },
   "source": [
    "## 6. 🧩 Model\n",
    "<a id=\"model\"></a>\n"
   ]
  },
  {
   "cell_type": "markdown",
   "id": "8bbf7b18",
   "metadata": {
    "papermill": {
     "duration": 0.048993,
     "end_time": "2024-03-19T21:11:55.339981",
     "exception": false,
     "start_time": "2024-03-19T21:11:55.290988",
     "status": "completed"
    },
    "tags": []
   },
   "source": [
    "### 6.0.1 🏗️ Buildind a Model\n",
    "<a id=\"building-model\"></a>\n"
   ]
  },
  {
   "cell_type": "code",
   "execution_count": 38,
   "id": "bbe834ff",
   "metadata": {},
   "outputs": [],
   "source": [
    "train.to_csv(\"../data/processed/trained_cleaned.csv\", index=False)"
   ]
  },
  {
   "cell_type": "code",
   "execution_count": 36,
   "id": "1a63c192",
   "metadata": {
    "execution": {
     "iopub.execute_input": "2024-03-19T21:11:55.442885Z",
     "iopub.status.busy": "2024-03-19T21:11:55.442341Z",
     "iopub.status.idle": "2024-03-19T21:11:55.463183Z",
     "shell.execute_reply": "2024-03-19T21:11:55.462114Z"
    },
    "papermill": {
     "duration": 0.07708,
     "end_time": "2024-03-19T21:11:55.465914",
     "exception": false,
     "start_time": "2024-03-19T21:11:55.388834",
     "status": "completed"
    },
    "tags": []
   },
   "outputs": [],
   "source": [
    "y = train['Credit_Score_Encoded']\n",
    "\n",
    "X = train[['Annual_Income', 'Num_Bank_Accounts', 'Num_Credit_Card',\n",
    "       'Interest_Rate', 'Num_of_Loan', 'Delay_from_due_d , 'Total_Num_Accounts', \n",
    "       'Debt_Per_Account', 'Debt_to_Income_Ratio', 'Delayed_Payments_Per_Account']]\n",
    "\n",
    "X_train, X_test, y_train, y_test = train_test_split(X, y, test_size=0.2, random_state=77)"
   ]
  },
  {
   "cell_type": "markdown",
   "id": "3af2501a",
   "metadata": {
    "papermill": {
     "duration": 0.046921,
     "end_time": "2024-03-19T21:11:55.573679",
     "exception": false,
     "start_time": "2024-03-19T21:11:55.526758",
     "status": "completed"
    },
    "tags": []
   },
   "source": [
    "## 6.1 🧜‍♀️ MSE Model Fashion Show\n",
    "<a id=\"mse-models\"></a>"
   ]
  },
  {
   "cell_type": "markdown",
   "id": "1436dcd4",
   "metadata": {
    "papermill": {
     "duration": 0.04723,
     "end_time": "2024-03-19T21:11:55.669099",
     "exception": false,
     "start_time": "2024-03-19T21:11:55.621869",
     "status": "completed"
    },
    "tags": []
   },
   "source": [
    "## 6.1.1 🌲 RandomForestRegressor\n",
    "<a id=\"randomforestregressor\"></a>\n"
   ]
  },
  {
   "cell_type": "code",
   "execution_count": 37,
   "id": "4ccf9aaf",
   "metadata": {
    "execution": {
     "iopub.execute_input": "2024-03-19T21:11:55.767902Z",
     "iopub.status.busy": "2024-03-19T21:11:55.767056Z",
     "iopub.status.idle": "2024-03-19T21:14:31.737050Z",
     "shell.execute_reply": "2024-03-19T21:14:31.735732Z"
    },
    "papermill": {
     "duration": 156.077322,
     "end_time": "2024-03-19T21:14:31.794821",
     "exception": false,
     "start_time": "2024-03-19T21:11:55.717499",
     "status": "completed"
    },
    "tags": []
   },
   "outputs": [
    {
     "ename": "KeyboardInterrupt",
     "evalue": "",
     "output_type": "error",
     "traceback": [
      "\u001b[0;31m---------------------------------------------------------------------------\u001b[0m",
      "\u001b[0;31mKeyboardInterrupt\u001b[0m                         Traceback (most recent call last)",
      "Cell \u001b[0;32mIn[37], line 2\u001b[0m\n\u001b[1;32m      1\u001b[0m model \u001b[38;5;241m=\u001b[39m RandomForestRegressor(n_estimators\u001b[38;5;241m=\u001b[39m\u001b[38;5;241m500\u001b[39m, bootstrap\u001b[38;5;241m=\u001b[39m\u001b[38;5;28;01mTrue\u001b[39;00m, random_state\u001b[38;5;241m=\u001b[39m\u001b[38;5;241m77\u001b[39m)\n\u001b[0;32m----> 2\u001b[0m \u001b[43mmodel\u001b[49m\u001b[38;5;241;43m.\u001b[39;49m\u001b[43mfit\u001b[49m\u001b[43m(\u001b[49m\u001b[43mX_train\u001b[49m\u001b[43m,\u001b[49m\u001b[43m \u001b[49m\u001b[43my_train\u001b[49m\u001b[43m)\u001b[49m\n",
      "File \u001b[0;32m~/miniforge3/envs/pt/lib/python3.11/site-packages/sklearn/base.py:1152\u001b[0m, in \u001b[0;36m_fit_context.<locals>.decorator.<locals>.wrapper\u001b[0;34m(estimator, *args, **kwargs)\u001b[0m\n\u001b[1;32m   1145\u001b[0m     estimator\u001b[38;5;241m.\u001b[39m_validate_params()\n\u001b[1;32m   1147\u001b[0m \u001b[38;5;28;01mwith\u001b[39;00m config_context(\n\u001b[1;32m   1148\u001b[0m     skip_parameter_validation\u001b[38;5;241m=\u001b[39m(\n\u001b[1;32m   1149\u001b[0m         prefer_skip_nested_validation \u001b[38;5;129;01mor\u001b[39;00m global_skip_validation\n\u001b[1;32m   1150\u001b[0m     )\n\u001b[1;32m   1151\u001b[0m ):\n\u001b[0;32m-> 1152\u001b[0m     \u001b[38;5;28;01mreturn\u001b[39;00m \u001b[43mfit_method\u001b[49m\u001b[43m(\u001b[49m\u001b[43mestimator\u001b[49m\u001b[43m,\u001b[49m\u001b[43m \u001b[49m\u001b[38;5;241;43m*\u001b[39;49m\u001b[43margs\u001b[49m\u001b[43m,\u001b[49m\u001b[43m \u001b[49m\u001b[38;5;241;43m*\u001b[39;49m\u001b[38;5;241;43m*\u001b[39;49m\u001b[43mkwargs\u001b[49m\u001b[43m)\u001b[49m\n",
      "File \u001b[0;32m~/miniforge3/envs/pt/lib/python3.11/site-packages/sklearn/ensemble/_forest.py:456\u001b[0m, in \u001b[0;36mBaseForest.fit\u001b[0;34m(self, X, y, sample_weight)\u001b[0m\n\u001b[1;32m    445\u001b[0m trees \u001b[38;5;241m=\u001b[39m [\n\u001b[1;32m    446\u001b[0m     \u001b[38;5;28mself\u001b[39m\u001b[38;5;241m.\u001b[39m_make_estimator(append\u001b[38;5;241m=\u001b[39m\u001b[38;5;28;01mFalse\u001b[39;00m, random_state\u001b[38;5;241m=\u001b[39mrandom_state)\n\u001b[1;32m    447\u001b[0m     \u001b[38;5;28;01mfor\u001b[39;00m i \u001b[38;5;129;01min\u001b[39;00m \u001b[38;5;28mrange\u001b[39m(n_more_estimators)\n\u001b[1;32m    448\u001b[0m ]\n\u001b[1;32m    450\u001b[0m \u001b[38;5;66;03m# Parallel loop: we prefer the threading backend as the Cython code\u001b[39;00m\n\u001b[1;32m    451\u001b[0m \u001b[38;5;66;03m# for fitting the trees is internally releasing the Python GIL\u001b[39;00m\n\u001b[1;32m    452\u001b[0m \u001b[38;5;66;03m# making threading more efficient than multiprocessing in\u001b[39;00m\n\u001b[1;32m    453\u001b[0m \u001b[38;5;66;03m# that case. However, for joblib 0.12+ we respect any\u001b[39;00m\n\u001b[1;32m    454\u001b[0m \u001b[38;5;66;03m# parallel_backend contexts set at a higher level,\u001b[39;00m\n\u001b[1;32m    455\u001b[0m \u001b[38;5;66;03m# since correctness does not rely on using threads.\u001b[39;00m\n\u001b[0;32m--> 456\u001b[0m trees \u001b[38;5;241m=\u001b[39m \u001b[43mParallel\u001b[49m\u001b[43m(\u001b[49m\n\u001b[1;32m    457\u001b[0m \u001b[43m    \u001b[49m\u001b[43mn_jobs\u001b[49m\u001b[38;5;241;43m=\u001b[39;49m\u001b[38;5;28;43mself\u001b[39;49m\u001b[38;5;241;43m.\u001b[39;49m\u001b[43mn_jobs\u001b[49m\u001b[43m,\u001b[49m\n\u001b[1;32m    458\u001b[0m \u001b[43m    \u001b[49m\u001b[43mverbose\u001b[49m\u001b[38;5;241;43m=\u001b[39;49m\u001b[38;5;28;43mself\u001b[39;49m\u001b[38;5;241;43m.\u001b[39;49m\u001b[43mverbose\u001b[49m\u001b[43m,\u001b[49m\n\u001b[1;32m    459\u001b[0m \u001b[43m    \u001b[49m\u001b[43mprefer\u001b[49m\u001b[38;5;241;43m=\u001b[39;49m\u001b[38;5;124;43m\"\u001b[39;49m\u001b[38;5;124;43mthreads\u001b[39;49m\u001b[38;5;124;43m\"\u001b[39;49m\u001b[43m,\u001b[49m\n\u001b[1;32m    460\u001b[0m \u001b[43m\u001b[49m\u001b[43m)\u001b[49m\u001b[43m(\u001b[49m\n\u001b[1;32m    461\u001b[0m \u001b[43m    \u001b[49m\u001b[43mdelayed\u001b[49m\u001b[43m(\u001b[49m\u001b[43m_parallel_build_trees\u001b[49m\u001b[43m)\u001b[49m\u001b[43m(\u001b[49m\n\u001b[1;32m    462\u001b[0m \u001b[43m        \u001b[49m\u001b[43mt\u001b[49m\u001b[43m,\u001b[49m\n\u001b[1;32m    463\u001b[0m \u001b[43m        \u001b[49m\u001b[38;5;28;43mself\u001b[39;49m\u001b[38;5;241;43m.\u001b[39;49m\u001b[43mbootstrap\u001b[49m\u001b[43m,\u001b[49m\n\u001b[1;32m    464\u001b[0m \u001b[43m        \u001b[49m\u001b[43mX\u001b[49m\u001b[43m,\u001b[49m\n\u001b[1;32m    465\u001b[0m \u001b[43m        \u001b[49m\u001b[43my\u001b[49m\u001b[43m,\u001b[49m\n\u001b[1;32m    466\u001b[0m \u001b[43m        \u001b[49m\u001b[43msample_weight\u001b[49m\u001b[43m,\u001b[49m\n\u001b[1;32m    467\u001b[0m \u001b[43m        \u001b[49m\u001b[43mi\u001b[49m\u001b[43m,\u001b[49m\n\u001b[1;32m    468\u001b[0m \u001b[43m        \u001b[49m\u001b[38;5;28;43mlen\u001b[39;49m\u001b[43m(\u001b[49m\u001b[43mtrees\u001b[49m\u001b[43m)\u001b[49m\u001b[43m,\u001b[49m\n\u001b[1;32m    469\u001b[0m \u001b[43m        \u001b[49m\u001b[43mverbose\u001b[49m\u001b[38;5;241;43m=\u001b[39;49m\u001b[38;5;28;43mself\u001b[39;49m\u001b[38;5;241;43m.\u001b[39;49m\u001b[43mverbose\u001b[49m\u001b[43m,\u001b[49m\n\u001b[1;32m    470\u001b[0m \u001b[43m        \u001b[49m\u001b[43mclass_weight\u001b[49m\u001b[38;5;241;43m=\u001b[39;49m\u001b[38;5;28;43mself\u001b[39;49m\u001b[38;5;241;43m.\u001b[39;49m\u001b[43mclass_weight\u001b[49m\u001b[43m,\u001b[49m\n\u001b[1;32m    471\u001b[0m \u001b[43m        \u001b[49m\u001b[43mn_samples_bootstrap\u001b[49m\u001b[38;5;241;43m=\u001b[39;49m\u001b[43mn_samples_bootstrap\u001b[49m\u001b[43m,\u001b[49m\n\u001b[1;32m    472\u001b[0m \u001b[43m    \u001b[49m\u001b[43m)\u001b[49m\n\u001b[1;32m    473\u001b[0m \u001b[43m    \u001b[49m\u001b[38;5;28;43;01mfor\u001b[39;49;00m\u001b[43m \u001b[49m\u001b[43mi\u001b[49m\u001b[43m,\u001b[49m\u001b[43m \u001b[49m\u001b[43mt\u001b[49m\u001b[43m \u001b[49m\u001b[38;5;129;43;01min\u001b[39;49;00m\u001b[43m \u001b[49m\u001b[38;5;28;43menumerate\u001b[39;49m\u001b[43m(\u001b[49m\u001b[43mtrees\u001b[49m\u001b[43m)\u001b[49m\n\u001b[1;32m    474\u001b[0m \u001b[43m\u001b[49m\u001b[43m)\u001b[49m\n\u001b[1;32m    476\u001b[0m \u001b[38;5;66;03m# Collect newly grown trees\u001b[39;00m\n\u001b[1;32m    477\u001b[0m \u001b[38;5;28mself\u001b[39m\u001b[38;5;241m.\u001b[39mestimators_\u001b[38;5;241m.\u001b[39mextend(trees)\n",
      "File \u001b[0;32m~/miniforge3/envs/pt/lib/python3.11/site-packages/sklearn/utils/parallel.py:65\u001b[0m, in \u001b[0;36mParallel.__call__\u001b[0;34m(self, iterable)\u001b[0m\n\u001b[1;32m     60\u001b[0m config \u001b[38;5;241m=\u001b[39m get_config()\n\u001b[1;32m     61\u001b[0m iterable_with_config \u001b[38;5;241m=\u001b[39m (\n\u001b[1;32m     62\u001b[0m     (_with_config(delayed_func, config), args, kwargs)\n\u001b[1;32m     63\u001b[0m     \u001b[38;5;28;01mfor\u001b[39;00m delayed_func, args, kwargs \u001b[38;5;129;01min\u001b[39;00m iterable\n\u001b[1;32m     64\u001b[0m )\n\u001b[0;32m---> 65\u001b[0m \u001b[38;5;28;01mreturn\u001b[39;00m \u001b[38;5;28;43msuper\u001b[39;49m\u001b[43m(\u001b[49m\u001b[43m)\u001b[49m\u001b[38;5;241;43m.\u001b[39;49m\u001b[38;5;21;43m__call__\u001b[39;49m\u001b[43m(\u001b[49m\u001b[43miterable_with_config\u001b[49m\u001b[43m)\u001b[49m\n",
      "File \u001b[0;32m~/miniforge3/envs/pt/lib/python3.11/site-packages/joblib/parallel.py:1863\u001b[0m, in \u001b[0;36mParallel.__call__\u001b[0;34m(self, iterable)\u001b[0m\n\u001b[1;32m   1861\u001b[0m     output \u001b[38;5;241m=\u001b[39m \u001b[38;5;28mself\u001b[39m\u001b[38;5;241m.\u001b[39m_get_sequential_output(iterable)\n\u001b[1;32m   1862\u001b[0m     \u001b[38;5;28mnext\u001b[39m(output)\n\u001b[0;32m-> 1863\u001b[0m     \u001b[38;5;28;01mreturn\u001b[39;00m output \u001b[38;5;28;01mif\u001b[39;00m \u001b[38;5;28mself\u001b[39m\u001b[38;5;241m.\u001b[39mreturn_generator \u001b[38;5;28;01melse\u001b[39;00m \u001b[38;5;28mlist\u001b[39m(output)\n\u001b[1;32m   1865\u001b[0m \u001b[38;5;66;03m# Let's create an ID that uniquely identifies the current call. If the\u001b[39;00m\n\u001b[1;32m   1866\u001b[0m \u001b[38;5;66;03m# call is interrupted early and that the same instance is immediately\u001b[39;00m\n\u001b[1;32m   1867\u001b[0m \u001b[38;5;66;03m# re-used, this id will be used to prevent workers that were\u001b[39;00m\n\u001b[1;32m   1868\u001b[0m \u001b[38;5;66;03m# concurrently finalizing a task from the previous call to run the\u001b[39;00m\n\u001b[1;32m   1869\u001b[0m \u001b[38;5;66;03m# callback.\u001b[39;00m\n\u001b[1;32m   1870\u001b[0m \u001b[38;5;28;01mwith\u001b[39;00m \u001b[38;5;28mself\u001b[39m\u001b[38;5;241m.\u001b[39m_lock:\n",
      "File \u001b[0;32m~/miniforge3/envs/pt/lib/python3.11/site-packages/joblib/parallel.py:1792\u001b[0m, in \u001b[0;36mParallel._get_sequential_output\u001b[0;34m(self, iterable)\u001b[0m\n\u001b[1;32m   1790\u001b[0m \u001b[38;5;28mself\u001b[39m\u001b[38;5;241m.\u001b[39mn_dispatched_batches \u001b[38;5;241m+\u001b[39m\u001b[38;5;241m=\u001b[39m \u001b[38;5;241m1\u001b[39m\n\u001b[1;32m   1791\u001b[0m \u001b[38;5;28mself\u001b[39m\u001b[38;5;241m.\u001b[39mn_dispatched_tasks \u001b[38;5;241m+\u001b[39m\u001b[38;5;241m=\u001b[39m \u001b[38;5;241m1\u001b[39m\n\u001b[0;32m-> 1792\u001b[0m res \u001b[38;5;241m=\u001b[39m \u001b[43mfunc\u001b[49m\u001b[43m(\u001b[49m\u001b[38;5;241;43m*\u001b[39;49m\u001b[43margs\u001b[49m\u001b[43m,\u001b[49m\u001b[43m \u001b[49m\u001b[38;5;241;43m*\u001b[39;49m\u001b[38;5;241;43m*\u001b[39;49m\u001b[43mkwargs\u001b[49m\u001b[43m)\u001b[49m\n\u001b[1;32m   1793\u001b[0m \u001b[38;5;28mself\u001b[39m\u001b[38;5;241m.\u001b[39mn_completed_tasks \u001b[38;5;241m+\u001b[39m\u001b[38;5;241m=\u001b[39m \u001b[38;5;241m1\u001b[39m\n\u001b[1;32m   1794\u001b[0m \u001b[38;5;28mself\u001b[39m\u001b[38;5;241m.\u001b[39mprint_progress()\n",
      "File \u001b[0;32m~/miniforge3/envs/pt/lib/python3.11/site-packages/sklearn/utils/parallel.py:127\u001b[0m, in \u001b[0;36m_FuncWrapper.__call__\u001b[0;34m(self, *args, **kwargs)\u001b[0m\n\u001b[1;32m    125\u001b[0m     config \u001b[38;5;241m=\u001b[39m {}\n\u001b[1;32m    126\u001b[0m \u001b[38;5;28;01mwith\u001b[39;00m config_context(\u001b[38;5;241m*\u001b[39m\u001b[38;5;241m*\u001b[39mconfig):\n\u001b[0;32m--> 127\u001b[0m     \u001b[38;5;28;01mreturn\u001b[39;00m \u001b[38;5;28;43mself\u001b[39;49m\u001b[38;5;241;43m.\u001b[39;49m\u001b[43mfunction\u001b[49m\u001b[43m(\u001b[49m\u001b[38;5;241;43m*\u001b[39;49m\u001b[43margs\u001b[49m\u001b[43m,\u001b[49m\u001b[43m \u001b[49m\u001b[38;5;241;43m*\u001b[39;49m\u001b[38;5;241;43m*\u001b[39;49m\u001b[43mkwargs\u001b[49m\u001b[43m)\u001b[49m\n",
      "File \u001b[0;32m~/miniforge3/envs/pt/lib/python3.11/site-packages/sklearn/ensemble/_forest.py:188\u001b[0m, in \u001b[0;36m_parallel_build_trees\u001b[0;34m(tree, bootstrap, X, y, sample_weight, tree_idx, n_trees, verbose, class_weight, n_samples_bootstrap)\u001b[0m\n\u001b[1;32m    185\u001b[0m     \u001b[38;5;28;01melif\u001b[39;00m class_weight \u001b[38;5;241m==\u001b[39m \u001b[38;5;124m\"\u001b[39m\u001b[38;5;124mbalanced_subsample\u001b[39m\u001b[38;5;124m\"\u001b[39m:\n\u001b[1;32m    186\u001b[0m         curr_sample_weight \u001b[38;5;241m*\u001b[39m\u001b[38;5;241m=\u001b[39m compute_sample_weight(\u001b[38;5;124m\"\u001b[39m\u001b[38;5;124mbalanced\u001b[39m\u001b[38;5;124m\"\u001b[39m, y, indices\u001b[38;5;241m=\u001b[39mindices)\n\u001b[0;32m--> 188\u001b[0m     \u001b[43mtree\u001b[49m\u001b[38;5;241;43m.\u001b[39;49m\u001b[43mfit\u001b[49m\u001b[43m(\u001b[49m\u001b[43mX\u001b[49m\u001b[43m,\u001b[49m\u001b[43m \u001b[49m\u001b[43my\u001b[49m\u001b[43m,\u001b[49m\u001b[43m \u001b[49m\u001b[43msample_weight\u001b[49m\u001b[38;5;241;43m=\u001b[39;49m\u001b[43mcurr_sample_weight\u001b[49m\u001b[43m,\u001b[49m\u001b[43m \u001b[49m\u001b[43mcheck_input\u001b[49m\u001b[38;5;241;43m=\u001b[39;49m\u001b[38;5;28;43;01mFalse\u001b[39;49;00m\u001b[43m)\u001b[49m\n\u001b[1;32m    189\u001b[0m \u001b[38;5;28;01melse\u001b[39;00m:\n\u001b[1;32m    190\u001b[0m     tree\u001b[38;5;241m.\u001b[39mfit(X, y, sample_weight\u001b[38;5;241m=\u001b[39msample_weight, check_input\u001b[38;5;241m=\u001b[39m\u001b[38;5;28;01mFalse\u001b[39;00m)\n",
      "File \u001b[0;32m~/miniforge3/envs/pt/lib/python3.11/site-packages/sklearn/base.py:1152\u001b[0m, in \u001b[0;36m_fit_context.<locals>.decorator.<locals>.wrapper\u001b[0;34m(estimator, *args, **kwargs)\u001b[0m\n\u001b[1;32m   1145\u001b[0m     estimator\u001b[38;5;241m.\u001b[39m_validate_params()\n\u001b[1;32m   1147\u001b[0m \u001b[38;5;28;01mwith\u001b[39;00m config_context(\n\u001b[1;32m   1148\u001b[0m     skip_parameter_validation\u001b[38;5;241m=\u001b[39m(\n\u001b[1;32m   1149\u001b[0m         prefer_skip_nested_validation \u001b[38;5;129;01mor\u001b[39;00m global_skip_validation\n\u001b[1;32m   1150\u001b[0m     )\n\u001b[1;32m   1151\u001b[0m ):\n\u001b[0;32m-> 1152\u001b[0m     \u001b[38;5;28;01mreturn\u001b[39;00m \u001b[43mfit_method\u001b[49m\u001b[43m(\u001b[49m\u001b[43mestimator\u001b[49m\u001b[43m,\u001b[49m\u001b[43m \u001b[49m\u001b[38;5;241;43m*\u001b[39;49m\u001b[43margs\u001b[49m\u001b[43m,\u001b[49m\u001b[43m \u001b[49m\u001b[38;5;241;43m*\u001b[39;49m\u001b[38;5;241;43m*\u001b[39;49m\u001b[43mkwargs\u001b[49m\u001b[43m)\u001b[49m\n",
      "File \u001b[0;32m~/miniforge3/envs/pt/lib/python3.11/site-packages/sklearn/tree/_classes.py:1320\u001b[0m, in \u001b[0;36mDecisionTreeRegressor.fit\u001b[0;34m(self, X, y, sample_weight, check_input)\u001b[0m\n\u001b[1;32m   1290\u001b[0m \u001b[38;5;129m@_fit_context\u001b[39m(prefer_skip_nested_validation\u001b[38;5;241m=\u001b[39m\u001b[38;5;28;01mTrue\u001b[39;00m)\n\u001b[1;32m   1291\u001b[0m \u001b[38;5;28;01mdef\u001b[39;00m \u001b[38;5;21mfit\u001b[39m(\u001b[38;5;28mself\u001b[39m, X, y, sample_weight\u001b[38;5;241m=\u001b[39m\u001b[38;5;28;01mNone\u001b[39;00m, check_input\u001b[38;5;241m=\u001b[39m\u001b[38;5;28;01mTrue\u001b[39;00m):\n\u001b[1;32m   1292\u001b[0m \u001b[38;5;250m    \u001b[39m\u001b[38;5;124;03m\"\"\"Build a decision tree regressor from the training set (X, y).\u001b[39;00m\n\u001b[1;32m   1293\u001b[0m \n\u001b[1;32m   1294\u001b[0m \u001b[38;5;124;03m    Parameters\u001b[39;00m\n\u001b[0;32m   (...)\u001b[0m\n\u001b[1;32m   1317\u001b[0m \u001b[38;5;124;03m        Fitted estimator.\u001b[39;00m\n\u001b[1;32m   1318\u001b[0m \u001b[38;5;124;03m    \"\"\"\u001b[39;00m\n\u001b[0;32m-> 1320\u001b[0m     \u001b[38;5;28;43msuper\u001b[39;49m\u001b[43m(\u001b[49m\u001b[43m)\u001b[49m\u001b[38;5;241;43m.\u001b[39;49m\u001b[43m_fit\u001b[49m\u001b[43m(\u001b[49m\n\u001b[1;32m   1321\u001b[0m \u001b[43m        \u001b[49m\u001b[43mX\u001b[49m\u001b[43m,\u001b[49m\n\u001b[1;32m   1322\u001b[0m \u001b[43m        \u001b[49m\u001b[43my\u001b[49m\u001b[43m,\u001b[49m\n\u001b[1;32m   1323\u001b[0m \u001b[43m        \u001b[49m\u001b[43msample_weight\u001b[49m\u001b[38;5;241;43m=\u001b[39;49m\u001b[43msample_weight\u001b[49m\u001b[43m,\u001b[49m\n\u001b[1;32m   1324\u001b[0m \u001b[43m        \u001b[49m\u001b[43mcheck_input\u001b[49m\u001b[38;5;241;43m=\u001b[39;49m\u001b[43mcheck_input\u001b[49m\u001b[43m,\u001b[49m\n\u001b[1;32m   1325\u001b[0m \u001b[43m    \u001b[49m\u001b[43m)\u001b[49m\n\u001b[1;32m   1326\u001b[0m     \u001b[38;5;28;01mreturn\u001b[39;00m \u001b[38;5;28mself\u001b[39m\n",
      "File \u001b[0;32m~/miniforge3/envs/pt/lib/python3.11/site-packages/sklearn/tree/_classes.py:443\u001b[0m, in \u001b[0;36mBaseDecisionTree._fit\u001b[0;34m(self, X, y, sample_weight, check_input, missing_values_in_feature_mask)\u001b[0m\n\u001b[1;32m    432\u001b[0m \u001b[38;5;28;01melse\u001b[39;00m:\n\u001b[1;32m    433\u001b[0m     builder \u001b[38;5;241m=\u001b[39m BestFirstTreeBuilder(\n\u001b[1;32m    434\u001b[0m         splitter,\n\u001b[1;32m    435\u001b[0m         min_samples_split,\n\u001b[0;32m   (...)\u001b[0m\n\u001b[1;32m    440\u001b[0m         \u001b[38;5;28mself\u001b[39m\u001b[38;5;241m.\u001b[39mmin_impurity_decrease,\n\u001b[1;32m    441\u001b[0m     )\n\u001b[0;32m--> 443\u001b[0m \u001b[43mbuilder\u001b[49m\u001b[38;5;241;43m.\u001b[39;49m\u001b[43mbuild\u001b[49m\u001b[43m(\u001b[49m\u001b[38;5;28;43mself\u001b[39;49m\u001b[38;5;241;43m.\u001b[39;49m\u001b[43mtree_\u001b[49m\u001b[43m,\u001b[49m\u001b[43m \u001b[49m\u001b[43mX\u001b[49m\u001b[43m,\u001b[49m\u001b[43m \u001b[49m\u001b[43my\u001b[49m\u001b[43m,\u001b[49m\u001b[43m \u001b[49m\u001b[43msample_weight\u001b[49m\u001b[43m,\u001b[49m\u001b[43m \u001b[49m\u001b[43mmissing_values_in_feature_mask\u001b[49m\u001b[43m)\u001b[49m\n\u001b[1;32m    445\u001b[0m \u001b[38;5;28;01mif\u001b[39;00m \u001b[38;5;28mself\u001b[39m\u001b[38;5;241m.\u001b[39mn_outputs_ \u001b[38;5;241m==\u001b[39m \u001b[38;5;241m1\u001b[39m \u001b[38;5;129;01mand\u001b[39;00m is_classifier(\u001b[38;5;28mself\u001b[39m):\n\u001b[1;32m    446\u001b[0m     \u001b[38;5;28mself\u001b[39m\u001b[38;5;241m.\u001b[39mn_classes_ \u001b[38;5;241m=\u001b[39m \u001b[38;5;28mself\u001b[39m\u001b[38;5;241m.\u001b[39mn_classes_[\u001b[38;5;241m0\u001b[39m]\n",
      "\u001b[0;31mKeyboardInterrupt\u001b[0m: "
     ]
    }
   ],
   "source": [
    "model = RandomForestRegressor(n_estimators=500, bootstrap=True, random_state=77)\n",
    "model.fit(X_train, y_train)"
   ]
  },
  {
   "cell_type": "markdown",
   "id": "1f36ff0f",
   "metadata": {
    "papermill": {
     "duration": 0.049634,
     "end_time": "2024-03-19T21:14:31.892246",
     "exception": false,
     "start_time": "2024-03-19T21:14:31.842612",
     "status": "completed"
    },
    "tags": []
   },
   "source": [
    "### 6.1.1.1 ✨ Model Validation (MSE)\n",
    "<a id=\"validation\"></a>"
   ]
  },
  {
   "cell_type": "code",
   "execution_count": null,
   "id": "d71c7080",
   "metadata": {
    "execution": {
     "iopub.execute_input": "2024-03-19T21:14:31.989466Z",
     "iopub.status.busy": "2024-03-19T21:14:31.988637Z",
     "iopub.status.idle": "2024-03-19T21:14:32.705699Z",
     "shell.execute_reply": "2024-03-19T21:14:32.704343Z"
    },
    "papermill": {
     "duration": 0.768542,
     "end_time": "2024-03-19T21:14:32.708375",
     "exception": false,
     "start_time": "2024-03-19T21:14:31.939833",
     "status": "completed"
    },
    "tags": []
   },
   "outputs": [
    {
     "name": "stdout",
     "output_type": "stream",
     "text": [
      "Mean Squared Error: 0.1621489922101923\n"
     ]
    }
   ],
   "source": [
    "y_pred = model.predict(X_test)\n",
    "mse = mean_squared_error(y_test, y_pred)\n",
    "print(\"Mean Squared Error:\", mse)"
   ]
  },
  {
   "cell_type": "markdown",
   "id": "c6a01730",
   "metadata": {
    "papermill": {
     "duration": 0.047444,
     "end_time": "2024-03-19T21:14:32.803610",
     "exception": false,
     "start_time": "2024-03-19T21:14:32.756166",
     "status": "completed"
    },
    "tags": []
   },
   "source": [
    "<a id=\"baseline-vs-mse\"></a>\n",
    "## 6.1.1.2 🎌 Baseline VS MSE"
   ]
  },
  {
   "cell_type": "code",
   "execution_count": null,
   "id": "113af10f",
   "metadata": {
    "execution": {
     "iopub.execute_input": "2024-03-19T21:14:32.901560Z",
     "iopub.status.busy": "2024-03-19T21:14:32.900638Z",
     "iopub.status.idle": "2024-03-19T21:14:32.910340Z",
     "shell.execute_reply": "2024-03-19T21:14:32.908824Z"
    },
    "papermill": {
     "duration": 0.061523,
     "end_time": "2024-03-19T21:14:32.912709",
     "exception": false,
     "start_time": "2024-03-19T21:14:32.851186",
     "status": "completed"
    },
    "tags": []
   },
   "outputs": [
    {
     "name": "stdout",
     "output_type": "stream",
     "text": [
      "Baseline MSE: 0.3749730269198414\n",
      "MSE RFRegressor 0.1621489922101923\n"
     ]
    }
   ],
   "source": [
    "baseline_prediction = y_train.mean()  \n",
    "baseline_mse = mean_squared_error(y_test, [baseline_prediction] * len(y_test))\n",
    "\n",
    "print(\"Baseline MSE:\", baseline_mse)\n",
    "print(\"MSE RFRegressor\", mse)"
   ]
  },
  {
   "cell_type": "markdown",
   "id": "5c430c42",
   "metadata": {
    "papermill": {
     "duration": 0.047393,
     "end_time": "2024-03-19T21:14:33.007995",
     "exception": false,
     "start_time": "2024-03-19T21:14:32.960602",
     "status": "completed"
    },
    "tags": []
   },
   "source": [
    "## 6.1.1.3 📏 Underfitting and Overfitting\n",
    "<a id=\"underfitting-and-overfitting\"></a>\n"
   ]
  },
  {
   "cell_type": "markdown",
   "id": "41c9af53",
   "metadata": {
    "papermill": {
     "duration": 0.04735,
     "end_time": "2024-03-19T21:14:33.102955",
     "exception": false,
     "start_time": "2024-03-19T21:14:33.055605",
     "status": "completed"
    },
    "tags": []
   },
   "source": [
    "    KEY 🗝️\n",
    "    ______________________________________________________________________\n",
    "    \n",
    "    I used it in the process. After some Featuring I've realized that this part is not necessary. However, I will keep it here if you want to try it yourself\n",
    "\n",
    "    Define the values of max_leaf_nodes for best model. \n",
    "    \n",
    "    ______________________________________________________________________"
   ]
  },
  {
   "cell_type": "code",
   "execution_count": null,
   "id": "83b0e7b3",
   "metadata": {
    "execution": {
     "iopub.execute_input": "2024-03-19T21:14:33.201086Z",
     "iopub.status.busy": "2024-03-19T21:14:33.200593Z",
     "iopub.status.idle": "2024-03-19T21:14:33.205876Z",
     "shell.execute_reply": "2024-03-19T21:14:33.204583Z"
    },
    "papermill": {
     "duration": 0.057785,
     "end_time": "2024-03-19T21:14:33.208207",
     "exception": false,
     "start_time": "2024-03-19T21:14:33.150422",
     "status": "completed"
    },
    "tags": []
   },
   "outputs": [],
   "source": [
    "# max_leaf_nodes_values = [1000, 3500, 5000]\n",
    "\n",
    "# Dictionary to store the mean squared errors for each value of max_leaf_nodes\n",
    "# mse_results = {}\n",
    "\n",
    "# for max_leaf_nodes in max_leaf_nodes_values:\n",
    "#    model = RandomForestRegressor(max_leaf_nodes=max_leaf_nodes, random_state=77)\n",
    "    \n",
    "#    model.fit(X_train, y_train)\n",
    "    \n",
    "#    y_pred = model.predict(X_test)\n",
    "    \n",
    "#    mse = mean_squared_error(y_test, y_pred)\n",
    "#    mse_results[max_leaf_nodes] = mse\n",
    "\n",
    "# for max_leaf_nodes, mse in mse_results.items():\n",
    "#    print(f\"max_leaf_nodes={max_leaf_nodes}: Mean Squared Error = {mse}\")"
   ]
  },
  {
   "cell_type": "markdown",
   "id": "b0beb927",
   "metadata": {
    "papermill": {
     "duration": 0.048168,
     "end_time": "2024-03-19T21:14:33.304321",
     "exception": false,
     "start_time": "2024-03-19T21:14:33.256153",
     "status": "completed"
    },
    "tags": []
   },
   "source": [
    "<a id=\"xgboost\"></a>\n",
    "## 6.1.2 🚀 XGBoost"
   ]
  },
  {
   "cell_type": "code",
   "execution_count": null,
   "id": "169268bf",
   "metadata": {
    "execution": {
     "iopub.execute_input": "2024-03-19T21:14:33.403189Z",
     "iopub.status.busy": "2024-03-19T21:14:33.402414Z",
     "iopub.status.idle": "2024-03-19T21:14:45.620512Z",
     "shell.execute_reply": "2024-03-19T21:14:45.619423Z"
    },
    "papermill": {
     "duration": 12.27038,
     "end_time": "2024-03-19T21:14:45.623568",
     "exception": false,
     "start_time": "2024-03-19T21:14:33.353188",
     "status": "completed"
    },
    "tags": []
   },
   "outputs": [
    {
     "name": "stdout",
     "output_type": "stream",
     "text": [
      "Mean Squared Error (MSE): 0.162767004196021\n"
     ]
    }
   ],
   "source": [
    "xgb_model = XGBRegressor(n_estimators=3500, learning_rate=0.05, random_state=77)\n",
    "xgb_model.fit(X_train, y_train)\n",
    "\n",
    "y_pred_xgb = xgb_model.predict(X_test)\n",
    "mse = mean_squared_error(y_test, y_pred_xgb)\n",
    "\n",
    "print(\"Mean Squared Error (MSE):\", mse)"
   ]
  },
  {
   "cell_type": "markdown",
   "id": "5021b662",
   "metadata": {
    "papermill": {
     "duration": 0.049949,
     "end_time": "2024-03-19T21:14:45.736070",
     "exception": false,
     "start_time": "2024-03-19T21:14:45.686121",
     "status": "completed"
    },
    "tags": []
   },
   "source": [
    "<a id=\"comparing-mse\"></a>\n",
    "## 6.1.3 📉 Comparing MSE "
   ]
  },
  {
   "cell_type": "code",
   "execution_count": null,
   "id": "3e6b0979",
   "metadata": {
    "execution": {
     "iopub.execute_input": "2024-03-19T21:14:45.834727Z",
     "iopub.status.busy": "2024-03-19T21:14:45.834284Z",
     "iopub.status.idle": "2024-03-19T21:14:45.855548Z",
     "shell.execute_reply": "2024-03-19T21:14:45.854384Z"
    },
    "papermill": {
     "duration": 0.07387,
     "end_time": "2024-03-19T21:14:45.858017",
     "exception": false,
     "start_time": "2024-03-19T21:14:45.784147",
     "status": "completed"
    },
    "tags": []
   },
   "outputs": [
    {
     "data": {
      "application/vnd.plotly.v1+json": {
       "config": {
        "plotlyServerURL": "https://plot.ly"
       },
       "data": [
        {
         "marker": {
          "color": [
           "blue",
           "green"
          ]
         },
         "type": "bar",
         "x": [
          "RandomForestRegressor",
          "XGBoost"
         ],
         "y": [
          0.1621489922101923,
          0.162767004196021
         ]
        }
       ],
       "layout": {
        "template": {
         "data": {
          "bar": [
           {
            "error_x": {
             "color": "#2a3f5f"
            },
            "error_y": {
             "color": "#2a3f5f"
            },
            "marker": {
             "line": {
              "color": "#E5ECF6",
              "width": 0.5
             },
             "pattern": {
              "fillmode": "overlay",
              "size": 10,
              "solidity": 0.2
             }
            },
            "type": "bar"
           }
          ],
          "barpolar": [
           {
            "marker": {
             "line": {
              "color": "#E5ECF6",
              "width": 0.5
             },
             "pattern": {
              "fillmode": "overlay",
              "size": 10,
              "solidity": 0.2
             }
            },
            "type": "barpolar"
           }
          ],
          "carpet": [
           {
            "aaxis": {
             "endlinecolor": "#2a3f5f",
             "gridcolor": "white",
             "linecolor": "white",
             "minorgridcolor": "white",
             "startlinecolor": "#2a3f5f"
            },
            "baxis": {
             "endlinecolor": "#2a3f5f",
             "gridcolor": "white",
             "linecolor": "white",
             "minorgridcolor": "white",
             "startlinecolor": "#2a3f5f"
            },
            "type": "carpet"
           }
          ],
          "choropleth": [
           {
            "colorbar": {
             "outlinewidth": 0,
             "ticks": ""
            },
            "type": "choropleth"
           }
          ],
          "contour": [
           {
            "colorbar": {
             "outlinewidth": 0,
             "ticks": ""
            },
            "colorscale": [
             [
              0,
              "#0d0887"
             ],
             [
              0.1111111111111111,
              "#46039f"
             ],
             [
              0.2222222222222222,
              "#7201a8"
             ],
             [
              0.3333333333333333,
              "#9c179e"
             ],
             [
              0.4444444444444444,
              "#bd3786"
             ],
             [
              0.5555555555555556,
              "#d8576b"
             ],
             [
              0.6666666666666666,
              "#ed7953"
             ],
             [
              0.7777777777777778,
              "#fb9f3a"
             ],
             [
              0.8888888888888888,
              "#fdca26"
             ],
             [
              1,
              "#f0f921"
             ]
            ],
            "type": "contour"
           }
          ],
          "contourcarpet": [
           {
            "colorbar": {
             "outlinewidth": 0,
             "ticks": ""
            },
            "type": "contourcarpet"
           }
          ],
          "heatmap": [
           {
            "colorbar": {
             "outlinewidth": 0,
             "ticks": ""
            },
            "colorscale": [
             [
              0,
              "#0d0887"
             ],
             [
              0.1111111111111111,
              "#46039f"
             ],
             [
              0.2222222222222222,
              "#7201a8"
             ],
             [
              0.3333333333333333,
              "#9c179e"
             ],
             [
              0.4444444444444444,
              "#bd3786"
             ],
             [
              0.5555555555555556,
              "#d8576b"
             ],
             [
              0.6666666666666666,
              "#ed7953"
             ],
             [
              0.7777777777777778,
              "#fb9f3a"
             ],
             [
              0.8888888888888888,
              "#fdca26"
             ],
             [
              1,
              "#f0f921"
             ]
            ],
            "type": "heatmap"
           }
          ],
          "heatmapgl": [
           {
            "colorbar": {
             "outlinewidth": 0,
             "ticks": ""
            },
            "colorscale": [
             [
              0,
              "#0d0887"
             ],
             [
              0.1111111111111111,
              "#46039f"
             ],
             [
              0.2222222222222222,
              "#7201a8"
             ],
             [
              0.3333333333333333,
              "#9c179e"
             ],
             [
              0.4444444444444444,
              "#bd3786"
             ],
             [
              0.5555555555555556,
              "#d8576b"
             ],
             [
              0.6666666666666666,
              "#ed7953"
             ],
             [
              0.7777777777777778,
              "#fb9f3a"
             ],
             [
              0.8888888888888888,
              "#fdca26"
             ],
             [
              1,
              "#f0f921"
             ]
            ],
            "type": "heatmapgl"
           }
          ],
          "histogram": [
           {
            "marker": {
             "pattern": {
              "fillmode": "overlay",
              "size": 10,
              "solidity": 0.2
             }
            },
            "type": "histogram"
           }
          ],
          "histogram2d": [
           {
            "colorbar": {
             "outlinewidth": 0,
             "ticks": ""
            },
            "colorscale": [
             [
              0,
              "#0d0887"
             ],
             [
              0.1111111111111111,
              "#46039f"
             ],
             [
              0.2222222222222222,
              "#7201a8"
             ],
             [
              0.3333333333333333,
              "#9c179e"
             ],
             [
              0.4444444444444444,
              "#bd3786"
             ],
             [
              0.5555555555555556,
              "#d8576b"
             ],
             [
              0.6666666666666666,
              "#ed7953"
             ],
             [
              0.7777777777777778,
              "#fb9f3a"
             ],
             [
              0.8888888888888888,
              "#fdca26"
             ],
             [
              1,
              "#f0f921"
             ]
            ],
            "type": "histogram2d"
           }
          ],
          "histogram2dcontour": [
           {
            "colorbar": {
             "outlinewidth": 0,
             "ticks": ""
            },
            "colorscale": [
             [
              0,
              "#0d0887"
             ],
             [
              0.1111111111111111,
              "#46039f"
             ],
             [
              0.2222222222222222,
              "#7201a8"
             ],
             [
              0.3333333333333333,
              "#9c179e"
             ],
             [
              0.4444444444444444,
              "#bd3786"
             ],
             [
              0.5555555555555556,
              "#d8576b"
             ],
             [
              0.6666666666666666,
              "#ed7953"
             ],
             [
              0.7777777777777778,
              "#fb9f3a"
             ],
             [
              0.8888888888888888,
              "#fdca26"
             ],
             [
              1,
              "#f0f921"
             ]
            ],
            "type": "histogram2dcontour"
           }
          ],
          "mesh3d": [
           {
            "colorbar": {
             "outlinewidth": 0,
             "ticks": ""
            },
            "type": "mesh3d"
           }
          ],
          "parcoords": [
           {
            "line": {
             "colorbar": {
              "outlinewidth": 0,
              "ticks": ""
             }
            },
            "type": "parcoords"
           }
          ],
          "pie": [
           {
            "automargin": true,
            "type": "pie"
           }
          ],
          "scatter": [
           {
            "fillpattern": {
             "fillmode": "overlay",
             "size": 10,
             "solidity": 0.2
            },
            "type": "scatter"
           }
          ],
          "scatter3d": [
           {
            "line": {
             "colorbar": {
              "outlinewidth": 0,
              "ticks": ""
             }
            },
            "marker": {
             "colorbar": {
              "outlinewidth": 0,
              "ticks": ""
             }
            },
            "type": "scatter3d"
           }
          ],
          "scattercarpet": [
           {
            "marker": {
             "colorbar": {
              "outlinewidth": 0,
              "ticks": ""
             }
            },
            "type": "scattercarpet"
           }
          ],
          "scattergeo": [
           {
            "marker": {
             "colorbar": {
              "outlinewidth": 0,
              "ticks": ""
             }
            },
            "type": "scattergeo"
           }
          ],
          "scattergl": [
           {
            "marker": {
             "colorbar": {
              "outlinewidth": 0,
              "ticks": ""
             }
            },
            "type": "scattergl"
           }
          ],
          "scattermapbox": [
           {
            "marker": {
             "colorbar": {
              "outlinewidth": 0,
              "ticks": ""
             }
            },
            "type": "scattermapbox"
           }
          ],
          "scatterpolar": [
           {
            "marker": {
             "colorbar": {
              "outlinewidth": 0,
              "ticks": ""
             }
            },
            "type": "scatterpolar"
           }
          ],
          "scatterpolargl": [
           {
            "marker": {
             "colorbar": {
              "outlinewidth": 0,
              "ticks": ""
             }
            },
            "type": "scatterpolargl"
           }
          ],
          "scatterternary": [
           {
            "marker": {
             "colorbar": {
              "outlinewidth": 0,
              "ticks": ""
             }
            },
            "type": "scatterternary"
           }
          ],
          "surface": [
           {
            "colorbar": {
             "outlinewidth": 0,
             "ticks": ""
            },
            "colorscale": [
             [
              0,
              "#0d0887"
             ],
             [
              0.1111111111111111,
              "#46039f"
             ],
             [
              0.2222222222222222,
              "#7201a8"
             ],
             [
              0.3333333333333333,
              "#9c179e"
             ],
             [
              0.4444444444444444,
              "#bd3786"
             ],
             [
              0.5555555555555556,
              "#d8576b"
             ],
             [
              0.6666666666666666,
              "#ed7953"
             ],
             [
              0.7777777777777778,
              "#fb9f3a"
             ],
             [
              0.8888888888888888,
              "#fdca26"
             ],
             [
              1,
              "#f0f921"
             ]
            ],
            "type": "surface"
           }
          ],
          "table": [
           {
            "cells": {
             "fill": {
              "color": "#EBF0F8"
             },
             "line": {
              "color": "white"
             }
            },
            "header": {
             "fill": {
              "color": "#C8D4E3"
             },
             "line": {
              "color": "white"
             }
            },
            "type": "table"
           }
          ]
         },
         "layout": {
          "annotationdefaults": {
           "arrowcolor": "#2a3f5f",
           "arrowhead": 0,
           "arrowwidth": 1
          },
          "autotypenumbers": "strict",
          "coloraxis": {
           "colorbar": {
            "outlinewidth": 0,
            "ticks": ""
           }
          },
          "colorscale": {
           "diverging": [
            [
             0,
             "#8e0152"
            ],
            [
             0.1,
             "#c51b7d"
            ],
            [
             0.2,
             "#de77ae"
            ],
            [
             0.3,
             "#f1b6da"
            ],
            [
             0.4,
             "#fde0ef"
            ],
            [
             0.5,
             "#f7f7f7"
            ],
            [
             0.6,
             "#e6f5d0"
            ],
            [
             0.7,
             "#b8e186"
            ],
            [
             0.8,
             "#7fbc41"
            ],
            [
             0.9,
             "#4d9221"
            ],
            [
             1,
             "#276419"
            ]
           ],
           "sequential": [
            [
             0,
             "#0d0887"
            ],
            [
             0.1111111111111111,
             "#46039f"
            ],
            [
             0.2222222222222222,
             "#7201a8"
            ],
            [
             0.3333333333333333,
             "#9c179e"
            ],
            [
             0.4444444444444444,
             "#bd3786"
            ],
            [
             0.5555555555555556,
             "#d8576b"
            ],
            [
             0.6666666666666666,
             "#ed7953"
            ],
            [
             0.7777777777777778,
             "#fb9f3a"
            ],
            [
             0.8888888888888888,
             "#fdca26"
            ],
            [
             1,
             "#f0f921"
            ]
           ],
           "sequentialminus": [
            [
             0,
             "#0d0887"
            ],
            [
             0.1111111111111111,
             "#46039f"
            ],
            [
             0.2222222222222222,
             "#7201a8"
            ],
            [
             0.3333333333333333,
             "#9c179e"
            ],
            [
             0.4444444444444444,
             "#bd3786"
            ],
            [
             0.5555555555555556,
             "#d8576b"
            ],
            [
             0.6666666666666666,
             "#ed7953"
            ],
            [
             0.7777777777777778,
             "#fb9f3a"
            ],
            [
             0.8888888888888888,
             "#fdca26"
            ],
            [
             1,
             "#f0f921"
            ]
           ]
          },
          "colorway": [
           "#636efa",
           "#EF553B",
           "#00cc96",
           "#ab63fa",
           "#FFA15A",
           "#19d3f3",
           "#FF6692",
           "#B6E880",
           "#FF97FF",
           "#FECB52"
          ],
          "font": {
           "color": "#2a3f5f"
          },
          "geo": {
           "bgcolor": "white",
           "lakecolor": "white",
           "landcolor": "#E5ECF6",
           "showlakes": true,
           "showland": true,
           "subunitcolor": "white"
          },
          "hoverlabel": {
           "align": "left"
          },
          "hovermode": "closest",
          "mapbox": {
           "style": "light"
          },
          "paper_bgcolor": "white",
          "plot_bgcolor": "#E5ECF6",
          "polar": {
           "angularaxis": {
            "gridcolor": "white",
            "linecolor": "white",
            "ticks": ""
           },
           "bgcolor": "#E5ECF6",
           "radialaxis": {
            "gridcolor": "white",
            "linecolor": "white",
            "ticks": ""
           }
          },
          "scene": {
           "xaxis": {
            "backgroundcolor": "#E5ECF6",
            "gridcolor": "white",
            "gridwidth": 2,
            "linecolor": "white",
            "showbackground": true,
            "ticks": "",
            "zerolinecolor": "white"
           },
           "yaxis": {
            "backgroundcolor": "#E5ECF6",
            "gridcolor": "white",
            "gridwidth": 2,
            "linecolor": "white",
            "showbackground": true,
            "ticks": "",
            "zerolinecolor": "white"
           },
           "zaxis": {
            "backgroundcolor": "#E5ECF6",
            "gridcolor": "white",
            "gridwidth": 2,
            "linecolor": "white",
            "showbackground": true,
            "ticks": "",
            "zerolinecolor": "white"
           }
          },
          "shapedefaults": {
           "line": {
            "color": "#2a3f5f"
           }
          },
          "ternary": {
           "aaxis": {
            "gridcolor": "white",
            "linecolor": "white",
            "ticks": ""
           },
           "baxis": {
            "gridcolor": "white",
            "linecolor": "white",
            "ticks": ""
           },
           "bgcolor": "#E5ECF6",
           "caxis": {
            "gridcolor": "white",
            "linecolor": "white",
            "ticks": ""
           }
          },
          "title": {
           "x": 0.05
          },
          "xaxis": {
           "automargin": true,
           "gridcolor": "white",
           "linecolor": "white",
           "ticks": "",
           "title": {
            "standoff": 15
           },
           "zerolinecolor": "white",
           "zerolinewidth": 2
          },
          "yaxis": {
           "automargin": true,
           "gridcolor": "white",
           "linecolor": "white",
           "ticks": "",
           "title": {
            "standoff": 15
           },
           "zerolinecolor": "white",
           "zerolinewidth": 2
          }
         }
        },
        "title": {
         "text": "Comparison of MSE between RandomForestRegressor and XGBoost"
        },
        "xaxis": {
         "title": {
          "text": "Models"
         }
        },
        "yaxis": {
         "title": {
          "text": "Mean Squared Error (MSE)"
         }
        }
       }
      }
     },
     "metadata": {},
     "output_type": "display_data"
    }
   ],
   "source": [
    "mse_rf = mean_squared_error(y_test, y_pred)\n",
    "mse_xgb = mean_squared_error(y_test, y_pred_xgb)\n",
    "\n",
    "models = ['RandomForestRegressor', 'XGBoost']\n",
    "mse_values = [mse_rf, mse_xgb]\n",
    "colors = ['blue', 'green']\n",
    "\n",
    "fig = go.Figure(data=[go.Bar(x=models, y=mse_values, marker_color=colors)])\n",
    "fig.update_layout(\n",
    "    title='Comparison of MSE between RandomForestRegressor and XGBoost',\n",
    "    xaxis_title='Models',\n",
    "    yaxis_title='Mean Squared Error (MSE)'\n",
    ")\n",
    "fig.show()"
   ]
  },
  {
   "cell_type": "markdown",
   "id": "6812cc81",
   "metadata": {
    "papermill": {
     "duration": 0.048334,
     "end_time": "2024-03-19T21:14:45.957424",
     "exception": false,
     "start_time": "2024-03-19T21:14:45.909090",
     "status": "completed"
    },
    "tags": []
   },
   "source": [
    "    KEY 🗝️\n",
    "    ______________________________________________________________________\n",
    "    \n",
    "    Both models show the same MSE rate 🏆\n",
    "    ______________________________________________________________________"
   ]
  },
  {
   "cell_type": "markdown",
   "id": "7ac3d95a",
   "metadata": {
    "papermill": {
     "duration": 0.047308,
     "end_time": "2024-03-19T21:14:46.052600",
     "exception": false,
     "start_time": "2024-03-19T21:14:46.005292",
     "status": "completed"
    },
    "tags": []
   },
   "source": [
    "<a id=\"smote\"></a>\n",
    "## 6.2.1 🔄 SMOTE vs 🌳 ForestClassifier "
   ]
  },
  {
   "cell_type": "code",
   "execution_count": null,
   "id": "0501b437",
   "metadata": {
    "execution": {
     "iopub.execute_input": "2024-03-19T21:14:46.154500Z",
     "iopub.status.busy": "2024-03-19T21:14:46.154091Z",
     "iopub.status.idle": "2024-03-19T21:16:30.923307Z",
     "shell.execute_reply": "2024-03-19T21:16:30.921811Z"
    },
    "papermill": {
     "duration": 104.82546,
     "end_time": "2024-03-19T21:16:30.926121",
     "exception": false,
     "start_time": "2024-03-19T21:14:46.100661",
     "status": "completed"
    },
    "tags": []
   },
   "outputs": [
    {
     "name": "stdout",
     "output_type": "stream",
     "text": [
      "Accuracy on training set: 0.9995520990268333\n",
      "Accuracy on SMOTE test set: 0.8945546838947854\n"
     ]
    }
   ],
   "source": [
    "smote_params = {\n",
    "    'sampling_strategy': 'auto',  \n",
    "    'random_state': 77,           \n",
    "    'k_neighbors': 5,             \n",
    "    'n_jobs': -1                  \n",
    "}\n",
    "\n",
    "smote = SMOTE(**smote_params)\n",
    "\n",
    "X_train = train.drop('Credit_Score_Encoded', axis=1) \n",
    "y_train = train['Credit_Score_Encoded']\n",
    "\n",
    "X_smote, y_smote = smote.fit_resample(X_train, y_train)\n",
    "X_train_smote, X_test_smote, y_train_smote, y_test_smote = train_test_split(X_smote, y_smote, test_size=0.15, random_state=77)\n",
    "\n",
    "rf_classifier = RandomForestClassifier(n_estimators=500, bootstrap=True)\n",
    "\n",
    "rf_classifier.fit(X_train_smote, y_train_smote)\n",
    "\n",
    "print(\"Accuracy on training set:\", rf_classifier.score(X_train_smote, y_train_smote))\n",
    "\n",
    "y_pred_smote = rf_classifier.predict(X_test_smote)\n",
    "accuracy_smote = accuracy_score(y_test_smote, y_pred_smote)\n",
    "\n",
    "print(\"Accuracy on SMOTE test set:\", accuracy_smote)"
   ]
  },
  {
   "cell_type": "markdown",
   "id": "6ff3f960",
   "metadata": {
    "papermill": {
     "duration": 0.048978,
     "end_time": "2024-03-19T21:16:31.025465",
     "exception": false,
     "start_time": "2024-03-19T21:16:30.976487",
     "status": "completed"
    },
    "tags": []
   },
   "source": [
    "## 6.2.2 🎖️ Accuracy test\n",
    "<a id=\"accuracy-test\"></a>"
   ]
  },
  {
   "cell_type": "code",
   "execution_count": null,
   "id": "efea1b1d",
   "metadata": {
    "execution": {
     "iopub.execute_input": "2024-03-19T21:16:31.126141Z",
     "iopub.status.busy": "2024-03-19T21:16:31.125481Z",
     "iopub.status.idle": "2024-03-19T21:16:32.411593Z",
     "shell.execute_reply": "2024-03-19T21:16:32.410327Z"
    },
    "papermill": {
     "duration": 1.339707,
     "end_time": "2024-03-19T21:16:32.414494",
     "exception": false,
     "start_time": "2024-03-19T21:16:31.074787",
     "status": "completed"
    },
    "tags": []
   },
   "outputs": [
    {
     "name": "stdout",
     "output_type": "stream",
     "text": [
      "Accuracy on original test set: 0.9692457105859501\n",
      "\n",
      "Classification report for SMOTE test set:\n",
      "               precision    recall  f1-score   support\n",
      "\n",
      "         0.0       0.91      0.93      0.92      2919\n",
      "         1.0       0.88      0.84      0.86      2871\n",
      "         2.0       0.89      0.92      0.90      2878\n",
      "\n",
      "    accuracy                           0.89      8668\n",
      "   macro avg       0.89      0.89      0.89      8668\n",
      "weighted avg       0.89      0.89      0.89      8668\n",
      "\n",
      "\n",
      "Classification report for original test set:\n",
      "               precision    recall  f1-score   support\n",
      "\n",
      "         0.0       0.94      0.97      0.96       901\n",
      "         1.0       0.98      0.97      0.97      3810\n",
      "         2.0       0.95      0.98      0.96      1467\n",
      "\n",
      "    accuracy                           0.97      6178\n",
      "   macro avg       0.96      0.97      0.96      6178\n",
      "weighted avg       0.97      0.97      0.97      6178\n",
      "\n"
     ]
    },
    {
     "data": {
      "image/png": "[encoded data removed]",
      "text/plain": [
       "<Figure size 600x600 with 1 Axes>"
      ]
     },
     "metadata": {},
     "output_type": "display_data"
    }
   ],
   "source": [
    "y_pred = rf_classifier.predict(X_test)\n",
    "\n",
    "accuracy = accuracy_score(y_test, y_pred)\n",
    "print(\"Accuracy on original test set:\", accuracy)\n",
    "\n",
    "matrix = confusion_matrix(y_test, y_pred)\n",
    "plt.figure(figsize=(6, 6))\n",
    "sns.heatmap(matrix, annot=True, cbar=False, cmap='twilight', linewidth=0.5, fmt=\"d\")\n",
    "plt.ylabel('True Label')\n",
    "plt.xlabel('Predicted Label')\n",
    "plt.title('Confusion Matrix for RandomForestClassifier on original test set')\n",
    "\n",
    "print('\\nClassification report for SMOTE test set:\\n', classification_report(y_test_smote, y_pred_smote))\n",
    "print('\\nClassification report for original test set:\\n', classification_report(y_test, y_pred))"
   ]
  },
  {
   "cell_type": "markdown",
   "id": "6f9eea8e",
   "metadata": {
    "papermill": {
     "duration": 0.048906,
     "end_time": "2024-03-19T21:16:32.513618",
     "exception": false,
     "start_time": "2024-03-19T21:16:32.464712",
     "status": "completed"
    },
    "tags": []
   },
   "source": [
    "    KEY 🗝️\n",
    "    ______________________________________________________________________\n",
    "    \n",
    "    The RandomForestClassifier trained on the original test set achieves a high accuracy of approximately 97% 🥇     \n",
    "    This indicates that the model performs exceptionally well in classifying the target variable 🤌  \n",
    "    The RandomForestClassifier trained on the SMOTE test set achieves a slightly lower accuracy of around 90%  🥈\n",
    "    Despite the lower accuracy compared to the original test set, the SMOTE model still demonstrates a respectable performance 💪\n",
    "    \n",
    "    ______________________________________________________________________"
   ]
  },
  {
   "cell_type": "markdown",
   "id": "b8731b4b",
   "metadata": {
    "papermill": {
     "duration": 0.048865,
     "end_time": "2024-03-19T21:16:32.612374",
     "exception": false,
     "start_time": "2024-03-19T21:16:32.563509",
     "status": "completed"
    },
    "tags": []
   },
   "source": [
    "<a id=\"conclusion\"></a>\n",
    "## 7. ✅ Conclusion"
   ]
  },
  {
   "cell_type": "markdown",
   "id": "3a6f911b",
   "metadata": {
    "papermill": {
     "duration": 0.049184,
     "end_time": "2024-03-19T21:16:32.711941",
     "exception": false,
     "start_time": "2024-03-19T21:16:32.662757",
     "status": "completed"
    },
    "tags": []
   },
   "source": [
    "## 7.1 🔐 KEY POINTS\n",
    "<a id=\"KEY-POINTS\"></a>"
   ]
  },
  {
   "cell_type": "markdown",
   "id": "6df082bc",
   "metadata": {
    "papermill": {
     "duration": 0.050582,
     "end_time": "2024-03-19T21:16:32.812157",
     "exception": false,
     "start_time": "2024-03-19T21:16:32.761575",
     "status": "completed"
    },
    "tags": []
   },
   "source": [
    "    KEY POINTS:\n",
    "\n",
    "    \n",
    "    Financial Stability Indicators: \n",
    "        Features such as 'Annual_Income', 'Num_Bank_Accounts', 'Num_Credit_Card', and 'Total_Num_Accounts' demonstrate positive correlations with each other and with the Credit score. This suggests that individuals with higher annual incomes or more diverse banking and credit card accounts tend to have higher credit scores.\n",
    "\n",
    "    Debt-related Metrics: \n",
    "        'Debt_to_Income_Ratio' and 'Debt_Per_Account' exhibit negative correlations with the Credit score. This indicates that individuals with higher debt-to-income ratios or greater debt per account tend to have lower credit scores. Furthermore, 'Outstanding_Debt' demonstrates a weaker negative correlation with the credit score, highlighting its impact on overall creditworthiness.\n",
    "\n",
    "    Credit Utilization and History: \n",
    "        'Total_EMI_per_month', representing monthly loan repayments, shows a positive correlation with the Credit score. Additionally, features related to credit history, such as 'Credit_History_Age_Months' and 'Credit_Mix_Encoded\", suggests that individuals with longer credit histories, diverse credit accounts, and timely repayments tend to have higher credit scores.\n",
    "\n",
    "    Loan-related Factors: \n",
    "        Features like 'Num_of_Loan' and 'Num_of_Delayed_Payment' indicate an individual's borrowing behavior and repayment patterns. This implies that individuals with fewer loan accounts or instances of delayed payments are more likely to have higher Credit scores.\n",
    "\n",
    "    Interest Rate and Financial Behavior: \n",
    "        'Interest_Rate' reveals a relationship with the Credit score, suggesting that individuals with lower Interest rates on their loans may have higher Credit scores. Moreover, 'Changed_Credit_Limit' and 'Num_Credit_Inquiries' also exhibit correlations, reflecting changes in credit limits and the frequency of credit inquiries, respectively."
   ]
  },
  {
   "cell_type": "markdown",
   "id": "8a01cef6",
   "metadata": {
    "papermill": {
     "duration": 0.049502,
     "end_time": "2024-03-19T21:16:32.912211",
     "exception": false,
     "start_time": "2024-03-19T21:16:32.862709",
     "status": "completed"
    },
    "tags": []
   },
   "source": [
    "## 7.2 ☝️ TIPS\n",
    "<a id=\"tips\"></a>"
   ]
  },
  {
   "cell_type": "markdown",
   "id": "d6049f46",
   "metadata": {
    "papermill": {
     "duration": 0.048907,
     "end_time": "2024-03-19T21:16:33.010643",
     "exception": false,
     "start_time": "2024-03-19T21:16:32.961736",
     "status": "completed"
    },
    "tags": []
   },
   "source": [
    "\n",
    "        Here are some tips to help you maintain a good credit score ✅:\n",
    "  \n",
    "\n",
    "\n",
    "    Pay Your Bills on Time ⌚:\n",
    "    \n",
    "        Your payment history is one of the most significant factors in determining your credit score. Make sure to pay all your bills, including credit cards, loans, and utilities, on time to avoid late payments.\n",
    "        \n",
    "        \n",
    "    Keep Your Credit Card Balances Low 🪙: \n",
    "    \n",
    "        Try to keep your credit card balances low relative to your credit limit. High credit utilization ratios can negatively impact your credit score, so aim to keep your balances below 30% of your credit limit.\n",
    "\n",
    "\n",
    "    Limit New Credit Applications 💳: \n",
    "    \n",
    "        Every time you apply for new credit, a hard inquiry is recorded on your credit report, which can temporarily lower your score. Be selective about applying for new credit and only apply when necessary.\n",
    "       \n",
    "        \n",
    "    Maintain a Mix of Credit Types 💹: \n",
    "    \n",
    "        Having a diverse mix of credit types, such as credit cards, loans, and mortgages, can positively impact your credit score. However, don't open accounts you don't need just to improve your credit mix.\n",
    "\n",
    "\n",
    "    Avoid Closing Old Accounts 💰: \n",
    "    \n",
    "        Length of credit history is also a factor in your credit score. Closing old accounts can shorten your average account age and potentially lower your score. Keep your oldest accounts open and active, even if you're not using them regularly."
   ]
  },
  {
   "cell_type": "markdown",
   "id": "01c72f81",
   "metadata": {
    "papermill": {
     "duration": 0.04889,
     "end_time": "2024-03-19T21:16:33.110189",
     "exception": false,
     "start_time": "2024-03-19T21:16:33.061299",
     "status": "completed"
    },
    "tags": []
   },
   "source": [
    "## 7.3 ✍️ Personal Experience on Credit Score\n",
    "<a id=\"pexperience\"></a>"
   ]
  },
  {
   "cell_type": "markdown",
   "id": "9d274e5e",
   "metadata": {
    "papermill": {
     "duration": 0.049272,
     "end_time": "2024-03-19T21:16:33.208664",
     "exception": false,
     "start_time": "2024-03-19T21:16:33.159392",
     "status": "completed"
    },
    "tags": []
   },
   "source": [
    "        What is your Credit Score?   \n",
    "    \n",
    "      \n",
    "    I would like to know your opinion on what else affecting Credit Score. Maybe it's somethings, which is not mentioned in variables. \n",
    "    Well, I never had a Credit Debt untill I became a Digital Nomad and bought a flight on the other edge of the planet. Many things happened aside my journey and without credit card I would not have made it for sure.\n",
    "    Credits and loans can be useful if we invest it in something, that will benefit us in future, like house, study, work laptop or car. Be aware, that debts spent on pleasures will, eventually, lead to missery. I tell it out of very tragic experience encounted in people I knew...   \n",
    "      \n",
    "      \n",
    "    I think, it is even more important to know how to manage your finances, rather than your Credit Score (It also valuable, when you will need a loan or mortrage. It will make a difference for sure). \n",
    "    Learn how to use money, after it you will not be afraid of taking a loan.   \n",
    "    \n",
    "    \n",
    "        Read:  \n",
    "      \n",
    "    \"Rich Dad, Poor Dad\" by Robert Kiyosaki. \n",
    "    \n",
    "    Also, \"The reachest man in Babylon\" by Samuel Clason.\n",
    "    \n",
    "    And cherry on the top is \"The Science of Getting Rich\" by Wallace D. Wattles. \n",
    "    \n",
    "\n",
    "        Warriors! I wish all of you wealth and health!"
   ]
  },
  {
   "cell_type": "markdown",
   "id": "86034c4b",
   "metadata": {
    "papermill": {
     "duration": 0.04998,
     "end_time": "2024-03-19T21:16:33.309454",
     "exception": false,
     "start_time": "2024-03-19T21:16:33.259474",
     "status": "completed"
    },
    "tags": []
   },
   "source": [
    "## 7.4 🛞 Evaluations on building Data Models\n",
    "<a id=\"building-DM\"></a>"
   ]
  },
  {
   "cell_type": "markdown",
   "id": "e76b28b6",
   "metadata": {
    "papermill": {
     "duration": 0.049709,
     "end_time": "2024-03-19T21:16:33.409271",
     "exception": false,
     "start_time": "2024-03-19T21:16:33.359562",
     "status": "completed"
    },
    "tags": []
   },
   "source": [
    "    That's more for Novices, actually. I mostly learned all of the above from Kaggle Learn Section and did each phase Step by Step. \n",
    "    I can do it, you can do it too! Thanks greatly for creators of Educational block ❤️\n",
    "    \n",
    "    - I advice for learners not to be ignorant in Cleaning Process;\n",
    "    - To be curious on Features block and try different approach;\n",
    "    - To get rid of temptation to analyse metrics and variables you don't need and which are not relatable for modeling;\n",
    "    - Stick to basics, do not try to overdo it. Most of my time I spent on applying parameters and models, which were showing the same perfomance.\n",
    "    - Have some passion, bring some lightness and playfulness in your work. Try to be curious about for the heck you making project about. Use this knowledge in real life. \n",
    "    - Use \"Pomodoro technique' in your responsobility tasks fractures and \"Kaizen\" mentality to improve every time you do project. \n",
    "    - If you do mediocre, you will recieve mediocre. You will have mediocre chances to get hired, promoted, succesfull. \n",
    "    - Have faith and good luck!"
   ]
  },
  {
   "attachments": {
    "1e5607d3-4978-4d68-b690-4e8ca711c888.png": {
     "image/png": "[encoded data removed]"
    }
   },
   "cell_type": "markdown",
   "id": "8872a9ed",
   "metadata": {
    "papermill": {
     "duration": 0.049013,
     "end_time": "2024-03-19T21:16:33.508237",
     "exception": false,
     "start_time": "2024-03-19T21:16:33.459224",
     "status": "completed"
    },
    "tags": []
   },
   "source": [
    "![image.png](attachment:1e5607d3-4978-4d68-b690-4e8ca711c888.png)"
   ]
  }
 ],
 "metadata": {
  "kaggle": {
   "accelerator": "none",
   "dataSources": [
    {
     "datasetId": 2289007,
     "sourceId": 3846912,
     "sourceType": "datasetVersion"
    }
   ],
   "dockerImageVersionId": 30664,
   "isGpuEnabled": false,
   "isInternetEnabled": true,
   "language": "python",
   "sourceType": "notebook"
  },
  "kernelspec": {
   "display_name": "Python 3",
   "language": "python",
   "name": "python3"
  },
  "language_info": {
   "codemirror_mode": {
    "name": "ipython",
    "version": 3
   },
   "file_extension": ".py",
   "mimetype": "text/x-python",
   "name": "python",
   "nbconvert_exporter": "python",
   "pygments_lexer": "ipython3",
   "version": "3.11.6"
  },
  "papermill": {
   "default_parameters": {},
   "duration": 307.738673,
   "end_time": "2024-03-19T21:16:34.582470",
   "environment_variables": {},
   "exception": null,
   "input_path": "__notebook__.ipynb",
   "output_path": "__notebook__.ipynb",
   "parameters": {},
   "start_time": "2024-03-19T21:11:26.843797",
   "version": "2.5.0"
  }
 },
 "nbformat": 4,
 "nbformat_minor": 5
}
