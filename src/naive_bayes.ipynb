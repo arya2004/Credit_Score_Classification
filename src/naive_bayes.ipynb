{
 "cells": [
  {
   "cell_type": "markdown",
   "metadata": {},
   "source": [
    "# Naive bayes"
   ]
  },
  {
   "cell_type": "code",
   "execution_count": 91,
   "metadata": {
    "vscode": {
     "languageId": "r"
    }
   },
   "outputs": [
    {
     "data": {
      "text/html": [
       "<table class=\"dataframe\">\n",
       "<caption>A data.frame: 6 × 18</caption>\n",
       "<thead>\n",
       "\t<tr><th></th><th scope=col>Annual_Income</th><th scope=col>Num_Bank_Accounts</th><th scope=col>Num_Credit_Card</th><th scope=col>Interest_Rate</th><th scope=col>Num_of_Loan</th><th scope=col>Delay_from_due_date</th><th scope=col>Num_of_Delayed_Payment</th><th scope=col>Changed_Credit_Limit</th><th scope=col>Num_Credit_Inquiries</th><th scope=col>Outstanding_Debt</th><th scope=col>Total_EMI_per_month</th><th scope=col>Credit_History_Age_Months</th><th scope=col>Credit_Score_Encoded</th><th scope=col>Credit_Mix_Encoded</th><th scope=col>Total_Num_Accounts</th><th scope=col>Debt_Per_Account</th><th scope=col>Debt_to_Income_Ratio</th><th scope=col>Delayed_Payments_Per_Account</th></tr>\n",
       "\t<tr><th></th><th scope=col>&lt;dbl&gt;</th><th scope=col>&lt;int&gt;</th><th scope=col>&lt;int&gt;</th><th scope=col>&lt;int&gt;</th><th scope=col>&lt;int&gt;</th><th scope=col>&lt;int&gt;</th><th scope=col>&lt;int&gt;</th><th scope=col>&lt;dbl&gt;</th><th scope=col>&lt;dbl&gt;</th><th scope=col>&lt;dbl&gt;</th><th scope=col>&lt;dbl&gt;</th><th scope=col>&lt;int&gt;</th><th scope=col>&lt;dbl&gt;</th><th scope=col>&lt;dbl&gt;</th><th scope=col>&lt;int&gt;</th><th scope=col>&lt;dbl&gt;</th><th scope=col>&lt;dbl&gt;</th><th scope=col>&lt;dbl&gt;</th></tr>\n",
       "</thead>\n",
       "<tbody>\n",
       "\t<tr><th scope=row>1</th><td>19114.12</td><td>3</td><td>4</td><td>3</td><td>4</td><td>5</td><td>4</td><td> 6.27</td><td>4</td><td>809.98</td><td>49.57495</td><td>268</td><td>2</td><td>2</td><td>7</td><td>115.7114</td><td>0.04237600</td><td>0.5714286</td></tr>\n",
       "\t<tr><th scope=row>2</th><td>19114.12</td><td>3</td><td>4</td><td>3</td><td>4</td><td>6</td><td>0</td><td>11.27</td><td>4</td><td>809.98</td><td>49.57495</td><td>269</td><td>2</td><td>2</td><td>7</td><td>115.7114</td><td>0.04237600</td><td>0.0000000</td></tr>\n",
       "\t<tr><th scope=row>3</th><td>19114.12</td><td>3</td><td>4</td><td>3</td><td>4</td><td>3</td><td>8</td><td>11.27</td><td>4</td><td>809.98</td><td>49.57495</td><td>271</td><td>2</td><td>2</td><td>7</td><td>115.7114</td><td>0.04237600</td><td>1.1428571</td></tr>\n",
       "\t<tr><th scope=row>4</th><td>19114.12</td><td>3</td><td>4</td><td>3</td><td>4</td><td>3</td><td>6</td><td>11.27</td><td>4</td><td>809.98</td><td>49.57495</td><td>  0</td><td>1</td><td>2</td><td>7</td><td>115.7114</td><td>0.04237600</td><td>0.8571429</td></tr>\n",
       "\t<tr><th scope=row>5</th><td>34847.84</td><td>2</td><td>4</td><td>6</td><td>1</td><td>7</td><td>1</td><td> 7.42</td><td>2</td><td>605.03</td><td>18.81621</td><td>320</td><td>2</td><td>2</td><td>6</td><td>100.8383</td><td>0.01736205</td><td>0.1666667</td></tr>\n",
       "\t<tr><th scope=row>6</th><td>34847.84</td><td>2</td><td>4</td><td>6</td><td>1</td><td>3</td><td>3</td><td> 5.42</td><td>2</td><td>605.03</td><td>18.81621</td><td>322</td><td>2</td><td>2</td><td>6</td><td>100.8383</td><td>0.01736205</td><td>0.5000000</td></tr>\n",
       "</tbody>\n",
       "</table>\n"
      ],
      "text/latex": [
       "A data.frame: 6 × 18\n",
       "\\begin{tabular}{r|llllllllllllllllll}\n",
       "  & Annual\\_Income & Num\\_Bank\\_Accounts & Num\\_Credit\\_Card & Interest\\_Rate & Num\\_of\\_Loan & Delay\\_from\\_due\\_date & Num\\_of\\_Delayed\\_Payment & Changed\\_Credit\\_Limit & Num\\_Credit\\_Inquiries & Outstanding\\_Debt & Total\\_EMI\\_per\\_month & Credit\\_History\\_Age\\_Months & Credit\\_Score\\_Encoded & Credit\\_Mix\\_Encoded & Total\\_Num\\_Accounts & Debt\\_Per\\_Account & Debt\\_to\\_Income\\_Ratio & Delayed\\_Payments\\_Per\\_Account\\\\\n",
       "  & <dbl> & <int> & <int> & <int> & <int> & <int> & <int> & <dbl> & <dbl> & <dbl> & <dbl> & <int> & <dbl> & <dbl> & <int> & <dbl> & <dbl> & <dbl>\\\\\n",
       "\\hline\n",
       "\t1 & 19114.12 & 3 & 4 & 3 & 4 & 5 & 4 &  6.27 & 4 & 809.98 & 49.57495 & 268 & 2 & 2 & 7 & 115.7114 & 0.04237600 & 0.5714286\\\\\n",
       "\t2 & 19114.12 & 3 & 4 & 3 & 4 & 6 & 0 & 11.27 & 4 & 809.98 & 49.57495 & 269 & 2 & 2 & 7 & 115.7114 & 0.04237600 & 0.0000000\\\\\n",
       "\t3 & 19114.12 & 3 & 4 & 3 & 4 & 3 & 8 & 11.27 & 4 & 809.98 & 49.57495 & 271 & 2 & 2 & 7 & 115.7114 & 0.04237600 & 1.1428571\\\\\n",
       "\t4 & 19114.12 & 3 & 4 & 3 & 4 & 3 & 6 & 11.27 & 4 & 809.98 & 49.57495 &   0 & 1 & 2 & 7 & 115.7114 & 0.04237600 & 0.8571429\\\\\n",
       "\t5 & 34847.84 & 2 & 4 & 6 & 1 & 7 & 1 &  7.42 & 2 & 605.03 & 18.81621 & 320 & 2 & 2 & 6 & 100.8383 & 0.01736205 & 0.1666667\\\\\n",
       "\t6 & 34847.84 & 2 & 4 & 6 & 1 & 3 & 3 &  5.42 & 2 & 605.03 & 18.81621 & 322 & 2 & 2 & 6 & 100.8383 & 0.01736205 & 0.5000000\\\\\n",
       "\\end{tabular}\n"
      ],
      "text/markdown": [
       "\n",
       "A data.frame: 6 × 18\n",
       "\n",
       "| <!--/--> | Annual_Income &lt;dbl&gt; | Num_Bank_Accounts &lt;int&gt; | Num_Credit_Card &lt;int&gt; | Interest_Rate &lt;int&gt; | Num_of_Loan &lt;int&gt; | Delay_from_due_date &lt;int&gt; | Num_of_Delayed_Payment &lt;int&gt; | Changed_Credit_Limit &lt;dbl&gt; | Num_Credit_Inquiries &lt;dbl&gt; | Outstanding_Debt &lt;dbl&gt; | Total_EMI_per_month &lt;dbl&gt; | Credit_History_Age_Months &lt;int&gt; | Credit_Score_Encoded &lt;dbl&gt; | Credit_Mix_Encoded &lt;dbl&gt; | Total_Num_Accounts &lt;int&gt; | Debt_Per_Account &lt;dbl&gt; | Debt_to_Income_Ratio &lt;dbl&gt; | Delayed_Payments_Per_Account &lt;dbl&gt; |\n",
       "|---|---|---|---|---|---|---|---|---|---|---|---|---|---|---|---|---|---|---|\n",
       "| 1 | 19114.12 | 3 | 4 | 3 | 4 | 5 | 4 |  6.27 | 4 | 809.98 | 49.57495 | 268 | 2 | 2 | 7 | 115.7114 | 0.04237600 | 0.5714286 |\n",
       "| 2 | 19114.12 | 3 | 4 | 3 | 4 | 6 | 0 | 11.27 | 4 | 809.98 | 49.57495 | 269 | 2 | 2 | 7 | 115.7114 | 0.04237600 | 0.0000000 |\n",
       "| 3 | 19114.12 | 3 | 4 | 3 | 4 | 3 | 8 | 11.27 | 4 | 809.98 | 49.57495 | 271 | 2 | 2 | 7 | 115.7114 | 0.04237600 | 1.1428571 |\n",
       "| 4 | 19114.12 | 3 | 4 | 3 | 4 | 3 | 6 | 11.27 | 4 | 809.98 | 49.57495 |   0 | 1 | 2 | 7 | 115.7114 | 0.04237600 | 0.8571429 |\n",
       "| 5 | 34847.84 | 2 | 4 | 6 | 1 | 7 | 1 |  7.42 | 2 | 605.03 | 18.81621 | 320 | 2 | 2 | 6 | 100.8383 | 0.01736205 | 0.1666667 |\n",
       "| 6 | 34847.84 | 2 | 4 | 6 | 1 | 3 | 3 |  5.42 | 2 | 605.03 | 18.81621 | 322 | 2 | 2 | 6 | 100.8383 | 0.01736205 | 0.5000000 |\n",
       "\n"
      ],
      "text/plain": [
       "  Annual_Income Num_Bank_Accounts Num_Credit_Card Interest_Rate Num_of_Loan\n",
       "1 19114.12      3                 4               3             4          \n",
       "2 19114.12      3                 4               3             4          \n",
       "3 19114.12      3                 4               3             4          \n",
       "4 19114.12      3                 4               3             4          \n",
       "5 34847.84      2                 4               6             1          \n",
       "6 34847.84      2                 4               6             1          \n",
       "  Delay_from_due_date Num_of_Delayed_Payment Changed_Credit_Limit\n",
       "1 5                   4                       6.27               \n",
       "2 6                   0                      11.27               \n",
       "3 3                   8                      11.27               \n",
       "4 3                   6                      11.27               \n",
       "5 7                   1                       7.42               \n",
       "6 3                   3                       5.42               \n",
       "  Num_Credit_Inquiries Outstanding_Debt Total_EMI_per_month\n",
       "1 4                    809.98           49.57495           \n",
       "2 4                    809.98           49.57495           \n",
       "3 4                    809.98           49.57495           \n",
       "4 4                    809.98           49.57495           \n",
       "5 2                    605.03           18.81621           \n",
       "6 2                    605.03           18.81621           \n",
       "  Credit_History_Age_Months Credit_Score_Encoded Credit_Mix_Encoded\n",
       "1 268                       2                    2                 \n",
       "2 269                       2                    2                 \n",
       "3 271                       2                    2                 \n",
       "4   0                       1                    2                 \n",
       "5 320                       2                    2                 \n",
       "6 322                       2                    2                 \n",
       "  Total_Num_Accounts Debt_Per_Account Debt_to_Income_Ratio\n",
       "1 7                  115.7114         0.04237600          \n",
       "2 7                  115.7114         0.04237600          \n",
       "3 7                  115.7114         0.04237600          \n",
       "4 7                  115.7114         0.04237600          \n",
       "5 6                  100.8383         0.01736205          \n",
       "6 6                  100.8383         0.01736205          \n",
       "  Delayed_Payments_Per_Account\n",
       "1 0.5714286                   \n",
       "2 0.0000000                   \n",
       "3 1.1428571                   \n",
       "4 0.8571429                   \n",
       "5 0.1666667                   \n",
       "6 0.5000000                   "
      ]
     },
     "metadata": {},
     "output_type": "display_data"
    }
   ],
   "source": [
    "data <- read.csv(\"../../data/processed/trained_cleaned.csv\")\n",
    "head(data)"
   ]
  },
  {
   "cell_type": "code",
   "execution_count": 92,
   "metadata": {
    "vscode": {
     "languageId": "r"
    }
   },
   "outputs": [],
   "source": [
    "library(e1071)\n",
    "library(caTools)\n",
    "library(caret)"
   ]
  },
  {
   "cell_type": "code",
   "execution_count": 93,
   "metadata": {
    "vscode": {
     "languageId": "r"
    }
   },
   "outputs": [],
   "source": [
    "data <- read.csv(\"../../data/processed/smote.csv\")\n",
    "\n",
    "\n",
    "X <- data[, !(names(data) %in% c(\"Credit_Score_Encoded\"))]\n",
    "y <- as.factor(data$Credit_Score)  \n",
    "\n",
    "\n",
    "set.seed(42) \n",
    "train_index <- createDataPartition(y, p = 0.80, list = FALSE)\n",
    "X_train <- X[train_index, ]\n",
    "y_train <- y[train_index]\n",
    "X_test <- X[-train_index, ]\n",
    "y_test <- y[-train_index]\n"
   ]
  },
  {
   "cell_type": "code",
   "execution_count": 94,
   "metadata": {
    "vscode": {
     "languageId": "r"
    }
   },
   "outputs": [
    {
     "data": {
      "text/plain": [
       "\n",
       "Naive Bayes Classifier for Discrete Predictors\n",
       "\n",
       "Call:\n",
       "naiveBayes.default(x = X, y = Y, laplace = laplace, usekernel = TRUE)\n",
       "\n",
       "A-priori probabilities:\n",
       "Y\n",
       "        0         1         2 \n",
       "0.3599958 0.4623462 0.1776580 \n",
       "\n",
       "Conditional probabilities:\n",
       "   Annual_Income\n",
       "Y       [,1]     [,2]\n",
       "  0 49226.88 36163.76\n",
       "  1 48887.57 34371.01\n",
       "  2 54957.23 37519.31\n",
       "\n",
       "   Num_Bank_Accounts\n",
       "Y       [,1]     [,2]\n",
       "  0 4.479990 2.590047\n",
       "  1 4.853535 2.137529\n",
       "  2 3.309089 2.157055\n",
       "\n",
       "   Num_Credit_Card\n",
       "Y       [,1]     [,2]\n",
       "  0 5.533285 1.704095\n",
       "  1 4.920511 1.521561\n",
       "  2 4.076928 1.759447\n",
       "\n",
       "   Interest_Rate\n",
       "Y        [,1]     [,2]\n",
       "  0 11.953236 8.190233\n",
       "  1 11.091424 5.428799\n",
       "  2  7.172466 4.108442\n",
       "\n",
       "   Num_of_Loan\n",
       "Y       [,1]     [,2]\n",
       "  0 2.628375 1.966457\n",
       "  1 2.290689 1.708692\n",
       "  2 1.896272 1.433424\n",
       "\n",
       "   Delay_from_due_date\n",
       "Y       [,1]      [,2]\n",
       "  0 19.34796 12.023116\n",
       "  1 15.84674  8.599234\n",
       "  2 10.33720  7.024143\n",
       "\n",
       "   Num_of_Delayed_Payment\n",
       "Y        [,1]     [,2]\n",
       "  0 10.451702 6.558937\n",
       "  1 11.360333 5.871129\n",
       "  2  7.700806 5.571329\n",
       "\n",
       "   Changed_Credit_Limit\n",
       "Y       [,1]     [,2]\n",
       "  0 8.207541 4.824869\n",
       "  1 9.400823 5.301650\n",
       "  2 6.733027 4.076470\n",
       "\n",
       "   Num_Credit_Inquiries\n",
       "Y       [,1]     [,2]\n",
       "  0 4.803950 3.358142\n",
       "  1 4.035754 2.743962\n",
       "  2 3.005439 2.250070\n",
       "\n",
       "   Outstanding_Debt\n",
       "Y       [,1]     [,2]\n",
       "  0 905.2489 457.2821\n",
       "  1 770.3704 437.0720\n",
       "  2 726.9005 434.9906\n",
       "\n",
       "   Total_EMI_per_month\n",
       "Y       [,1]     [,2]\n",
       "  0 63.12350 53.77478\n",
       "  1 58.61528 52.79108\n",
       "  2 56.75777 53.58218\n",
       "\n",
       "   Credit_History_Age_Months\n",
       "Y       [,1]     [,2]\n",
       "  0 231.0663 103.0161\n",
       "  1 238.5271 109.6455\n",
       "  2 264.9007 104.2262\n",
       "\n",
       "   Credit_Mix_Encoded\n",
       "Y       [,1]      [,2]\n",
       "  0 1.410494 0.6897130\n",
       "  1 1.235296 0.4419795\n",
       "  2 1.878383 0.3268539\n",
       "\n",
       "   Total_Num_Accounts\n",
       "Y        [,1]     [,2]\n",
       "  0 10.013276 3.560998\n",
       "  1  9.774046 2.751060\n",
       "  2  7.386017 3.031799\n",
       "\n",
       "   Debt_Per_Account\n",
       "Y        [,1]      [,2]\n",
       "  0  98.81878  61.68124\n",
       "  1  87.65476  69.68288\n",
       "  2 129.69634 144.49296\n",
       "\n",
       "   Debt_to_Income_Ratio\n",
       "Y         [,1]       [,2]\n",
       "  0 0.03484269 0.03773920\n",
       "  1 0.02592396 0.02626826\n",
       "  2 0.02087911 0.02050740\n",
       "\n",
       "   Delayed_Payments_Per_Account\n",
       "Y       [,1]      [,2]\n",
       "  0 1.068912 0.6552245\n",
       "  1 1.221687 0.7308116\n",
       "  2 1.186236 1.1411607\n"
      ]
     },
     "metadata": {},
     "output_type": "display_data"
    }
   ],
   "source": [
    "# Fitting Naive Bayes Model \n",
    "# to training dataset\n",
    "set.seed(120)  # Setting Seed\n",
    "classifier_cl <- naiveBayes(y_train ~ ., data = data.frame(cbind(X_train, y_train)), usekernel = TRUE)\n",
    "classifier_cl"
   ]
  },
  {
   "cell_type": "code",
   "execution_count": 95,
   "metadata": {
    "vscode": {
     "languageId": "r"
    }
   },
   "outputs": [],
   "source": [
    "predictions <- predict(classifier_cl, newdata = X_test)\n",
    " "
   ]
  },
  {
   "cell_type": "code",
   "execution_count": 96,
   "metadata": {
    "vscode": {
     "languageId": "r"
    }
   },
   "outputs": [
    {
     "name": "stdout",
     "output_type": "stream",
     "text": [
      "Confusion Matrix and Statistics\n",
      "\n",
      "          Reference\n",
      "Prediction    0    1    2\n",
      "         0 2314  922  211\n",
      "         1 2157 6924  820\n",
      "         2 3260 2082 2784\n",
      "\n",
      "Overall Statistics\n",
      "                                          \n",
      "               Accuracy : 0.5598          \n",
      "                 95% CI : (0.5532, 0.5665)\n",
      "    No Information Rate : 0.4623          \n",
      "    P-Value [Acc > NIR] : < 2.2e-16       \n",
      "                                          \n",
      "                  Kappa : 0.3349          \n",
      "                                          \n",
      " Mcnemar's Test P-Value : < 2.2e-16       \n",
      "\n",
      "Statistics by Class:\n",
      "\n",
      "                     Class: 0 Class: 1 Class: 2\n",
      "Sensitivity            0.2993   0.6974   0.7298\n",
      "Specificity            0.9176   0.7422   0.6975\n",
      "Pos Pred Value         0.6713   0.6993   0.3426\n",
      "Neg Pred Value         0.6995   0.7404   0.9228\n",
      "Prevalence             0.3600   0.4623   0.1777\n",
      "Detection Rate         0.1078   0.3224   0.1296\n",
      "Detection Prevalence   0.1605   0.4611   0.3784\n",
      "Balanced Accuracy      0.6084   0.7198   0.7136\n"
     ]
    }
   ],
   "source": [
    "#C matrix\n",
    "confusion_matrix <- confusionMatrix(predictions, y_test)\n",
    "print(confusion_matrix)"
   ]
  },
  {
   "cell_type": "code",
   "execution_count": 97,
   "metadata": {
    "vscode": {
     "languageId": "r"
    }
   },
   "outputs": [
    {
     "name": "stdout",
     "output_type": "stream",
     "text": [
      "Accuracy: 0.5598398 \n",
      "Precision: 0.8824879 \n",
      "Recall (Sensitivity): 0.7624711 \n",
      "F1 Score: 0.8181013 \n",
      "Specificity: 0.7150803 \n"
     ]
    }
   ],
   "source": [
    "\n",
    "# Extract TP, TN, FP, FN from the confusion matrix\n",
    "TP <- confusion_matrix$table[2, 2]  # True Positives\n",
    "TN <- confusion_matrix$table[1, 1]  # True Negatives\n",
    "FP <- confusion_matrix$table[1, 2]  # False Positives\n",
    "FN <- confusion_matrix$table[2, 1]  # False Negatives\n",
    "\n",
    "# Calculate accuracy\n",
    "accuracy <- sum(diag(confusion_matrix$table)) / sum(confusion_matrix$table)\n",
    "\n",
    "# Calculate precision\n",
    "precision <- TP / (TP + FP)\n",
    "\n",
    "# Calculate recall (sensitivity)\n",
    "recall <- TP / (TP + FN)\n",
    "\n",
    "# Calculate F1 score\n",
    "f1_score <- 2 * ((precision * recall) / (precision + recall))\n",
    "\n",
    "# Calculate specificity\n",
    "specificity <- TN / (TN + FP)\n",
    "\n",
    "# Print the metrics\n",
    "cat(\"Accuracy:\", accuracy, \"\\n\")\n",
    "cat(\"Precision:\", precision, \"\\n\")\n",
    "cat(\"Recall (Sensitivity):\", recall, \"\\n\")\n",
    "cat(\"F1 Score:\", f1_score, \"\\n\")\n",
    "cat(\"Specificity:\", specificity, \"\\n\")"
   ]
  },
  {
   "cell_type": "code",
   "execution_count": 98,
   "metadata": {
    "vscode": {
     "languageId": "r"
    }
   },
   "outputs": [
    {
     "data": {
      "image/png": "[encoded data removed]",
      "text/plain": [
       "plot without title"
      ]
     },
     "metadata": {
      "image/png": {
       "height": 420,
       "width": 420
      }
     },
     "output_type": "display_data"
    }
   ],
   "source": [
    "# Visualize the confusion matrix\n",
    "plot_confusion <- ggplot(as.data.frame(confusion_matrix$table), aes(x = Reference, y = Prediction, fill = Freq)) +\n",
    "  geom_tile() +\n",
    "  geom_text(aes(label = Freq), vjust = 1) +\n",
    "  scale_fill_gradient(low = \"white\", high = \"blue\") +\n",
    "  labs(x = \"Actual\", y = \"Predicted\", fill = \"Frequency\") +\n",
    "  theme_minimal()\n",
    "\n",
    "# Print the plot\n",
    "print(plot_confusion)"
   ]
  },
  {
   "cell_type": "code",
   "execution_count": 99,
   "metadata": {
    "vscode": {
     "languageId": "r"
    }
   },
   "outputs": [
    {
     "data": {
      "text/plain": [
       "      predictions\n",
       "y_test    0    1    2\n",
       "     0 2314 2157 3260\n",
       "     1  922 6924 2082\n",
       "     2  211  820 2784"
      ]
     },
     "metadata": {},
     "output_type": "display_data"
    }
   ],
   "source": [
    "cm <- table(y_test, predictions)\n",
    "cm"
   ]
  },
  {
   "cell_type": "code",
   "execution_count": 100,
   "metadata": {
    "vscode": {
     "languageId": "r"
    }
   },
   "outputs": [
    {
     "data": {
      "text/plain": [
       "Confusion Matrix and Statistics\n",
       "\n",
       "      predictions\n",
       "y_test    0    1    2\n",
       "     0 2314 2157 3260\n",
       "     1  922 6924 2082\n",
       "     2  211  820 2784\n",
       "\n",
       "Overall Statistics\n",
       "                                          \n",
       "               Accuracy : 0.5598          \n",
       "                 95% CI : (0.5532, 0.5665)\n",
       "    No Information Rate : 0.4611          \n",
       "    P-Value [Acc > NIR] : < 2.2e-16       \n",
       "                                          \n",
       "                  Kappa : 0.3349          \n",
       "                                          \n",
       " Mcnemar's Test P-Value : < 2.2e-16       \n",
       "\n",
       "Statistics by Class:\n",
       "\n",
       "                     Class: 0 Class: 1 Class: 2\n",
       "Sensitivity            0.6713   0.6993   0.3426\n",
       "Specificity            0.6995   0.7404   0.9228\n",
       "Pos Pred Value         0.2993   0.6974   0.7298\n",
       "Neg Pred Value         0.9176   0.7422   0.6975\n",
       "Prevalence             0.1605   0.4611   0.3784\n",
       "Detection Rate         0.1078   0.3224   0.1296\n",
       "Detection Prevalence   0.3600   0.4623   0.1777\n",
       "Balanced Accuracy      0.6854   0.7199   0.6327"
      ]
     },
     "metadata": {},
     "output_type": "display_data"
    }
   ],
   "source": [
    "confusionMatrix(cm)"
   ]
  },
  {
   "cell_type": "code",
   "execution_count": null,
   "metadata": {
    "vscode": {
     "languageId": "r"
    }
   },
   "outputs": [],
   "source": [
    "\n"
   ]
  },
  {
   "cell_type": "code",
   "execution_count": null,
   "metadata": {
    "vscode": {
     "languageId": "r"
    }
   },
   "outputs": [],
   "source": []
  },
  {
   "cell_type": "code",
   "execution_count": null,
   "metadata": {
    "vscode": {
     "languageId": "r"
    }
   },
   "outputs": [],
   "source": []
  }
 ],
 "metadata": {
  "kernelspec": {
   "display_name": "R",
   "language": "R",
   "name": "ir"
  },
  "language_info": {
   "codemirror_mode": "r",
   "file_extension": ".r",
   "mimetype": "text/x-r-source",
   "name": "R",
   "pygments_lexer": "r",
   "version": "4.0.4"
  }
 },
 "nbformat": 4,
 "nbformat_minor": 2
}
