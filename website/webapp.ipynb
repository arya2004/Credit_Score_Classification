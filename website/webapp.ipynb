{
 "cells": [
  {
   "cell_type": "code",
   "execution_count": 1,
   "metadata": {
    "vscode": {
     "languageId": "r"
    }
   },
   "outputs": [
    {
     "name": "stderr",
     "output_type": "stream",
     "text": [
      "randomForest 4.6-14\n",
      "\n",
      "Type rfNews() to see new features/changes/bug fixes.\n",
      "\n",
      "\n",
      "Listening on http://127.0.0.1:3033\n",
      "\n"
     ]
    }
   ],
   "source": [
    "# Load necessary libraries\n",
    "library(shiny)\n",
    "library(randomForest)  \n",
    "\n",
    "\n",
    "ui <- fluidPage(\n",
    "  titlePanel(\"Credit Risk Classification\"),\n",
    "  sidebarLayout(\n",
    "    sidebarPanel(\n",
    "      numericInput(\"annual_income\", \"Annual Income:\", value = 50000),\n",
    "      numericInput(\"num_bank_accounts\", \"Number of Bank Accounts:\", value = 3),\n",
    "      numericInput(\"num_credit_cards\", \"Number of Credit Cards:\", value = 2),\n",
    "      numericInput(\"interest_rate\", \"Interest Rate:\", value = 4),\n",
    "      numericInput(\"num_of_loans\", \"Number of Loans:\", value = 3),\n",
    "      numericInput(\"delay_from_due_date\", \"Delay from Due Date (Days):\", value = 5),\n",
    "      numericInput(\"num_of_delayed_payments\", \"Number of Delayed Payments:\", value = 3),\n",
    "      numericInput(\"changed_credit_limit\", \"Changed Credit Limit:\", value = 10),\n",
    "      numericInput(\"num_credit_inquiries\", \"Number of Credit Inquiries:\", value = 2),\n",
    "      numericInput(\"outstanding_debt\", \"Outstanding Debt:\", value = 1000),\n",
    "      numericInput(\"total_emi_per_month\", \"Total EMI per Month:\", value = 50),\n",
    "      numericInput(\"credit_history_age_months\", \"Credit History Age (Months):\", value = 300),\n",
    "      numericInput(\"credit_score_encoded\", \"Credit Score Encoded:\", value = 2),\n",
    "      numericInput(\"credit_mix_encoded\", \"Credit Mix Encoded:\", value = 2),\n",
    "      numericInput(\"total_num_accounts\", \"Total Number of Accounts:\", value = 6),\n",
    "      numericInput(\"debt_per_account\", \"Debt per Account:\", value = 100),\n",
    "      numericInput(\"debt_to_income_ratio\", \"Debt to Income Ratio:\", value = 0.04),\n",
    "      numericInput(\"delayed_payments_per_account\", \"Delayed Payments per Account:\", value = 0.5),\n",
    "      actionButton(\"submit_button\", \"Submit\")\n",
    "    ),\n",
    "    mainPanel(\n",
    "      h3(\"Prediction Result:\"),\n",
    "      verbatimTextOutput(\"prediction_output\")\n",
    "    )\n",
    "  )\n",
    ")\n",
    "\n",
    "# Define server logic\n",
    "server <- function(input, output) {\n",
    "  # Reactive expression to convert inputs to a dataframe\n",
    "  data <- reactive({\n",
    "    data.frame(\n",
    "      Annual_Income = input$annual_income,\n",
    "      Num_Bank_Accounts = input$num_bank_accounts,\n",
    "      Num_Credit_Card = input$num_credit_cards,\n",
    "      Interest_Rate = input$interest_rate,\n",
    "      Num_of_Loan = input$num_of_loans,\n",
    "      Delay_from_due_date = input$delay_from_due_date,\n",
    "      Num_of_Delayed_Payment = input$num_of_delayed_payments,\n",
    "      Changed_Credit_Limit = input$changed_credit_limit,\n",
    "      Num_Credit_Inquiries = input$num_credit_inquiries,\n",
    "      Outstanding_Debt = input$outstanding_debt,\n",
    "      Total_EMI_per_month = input$total_emi_per_month,\n",
    "      Credit_History_Age_Months = input$credit_history_age_months,\n",
    "      Credit_Score_Encoded = input$credit_score_encoded,\n",
    "      Credit_Mix_Encoded = input$credit_mix_encoded,\n",
    "      Total_Num_Accounts = input$total_num_accounts,\n",
    "      Debt_Per_Account = input$debt_per_account,\n",
    "      Debt_to_Income_Ratio = input$debt_to_income_ratio,\n",
    "      Delayed_Payments_Per_Account = input$delayed_payments_per_account\n",
    "    )\n",
    "  })\n",
    "  \n",
    "  \n",
    "  model <- readRDS(file = \"../models/smote_model.rds\")\n",
    "  \n",
    "  # Event handler for submit button\n",
    "  observeEvent(input$submit_button, {\n",
    "    # Make prediction\n",
    "    prediction <- predict(model, newdata = data())\n",
    "\n",
    "     # Map numeric output to labels\n",
    "    output_label <- switch(as.character(prediction),\n",
    "                           \"1\" = \"Poor\",\n",
    "                           \"2\" = \"Standard\",\n",
    "                           \"3\" = \"Good\",\n",
    "                           \"Unknown\")\n",
    "    \n",
    "    \n",
    "    output$prediction_output <- renderText({\n",
    "      paste(\"Predicted Class:\", output_label)\n",
    "    })\n",
    "  })\n",
    "}\n",
    "\n",
    "# Run the application \n",
    "shinyApp(ui = ui, server = server)\n"
   ]
  },
  {
   "cell_type": "code",
   "execution_count": 8,
   "metadata": {
    "vscode": {
     "languageId": "r"
    }
   },
   "outputs": [
    {
     "name": "stdout",
     "output_type": "stream",
     "text": [
      "NULL\n"
     ]
    }
   ],
   "source": [
    "data <- read.csv(\"../data/raw/train.csv\")\n"
   ]
  },
  {
   "cell_type": "code",
   "execution_count": null,
   "metadata": {
    "vscode": {
     "languageId": "r"
    }
   },
   "outputs": [],
   "source": [
    "# Load necessary libraries\n",
    "library(shiny)\n",
    "library(randomForest)  \n",
    "\n",
    "data <- read.csv(\"../data/processed/trained_cleaned.csv\")\n",
    "\n",
    "\n",
    "ui <- fluidPage(\n",
    "  titlePanel(\"Credit Risk Classification\"),\n",
    "  sidebarLayout(\n",
    "    sidebarPanel(\n",
    "      numericInput(\"annual_income\", \"Annual Income:\", value = 50000),\n",
    "      numericInput(\"num_bank_accounts\", \"Number of Bank Accounts:\", value = 3),\n",
    "      numericInput(\"num_credit_cards\", \"Number of Credit Cards:\", value = 2),\n",
    "      numericInput(\"interest_rate\", \"Interest Rate:\", value = 4),\n",
    "      numericInput(\"num_of_loans\", \"Number of Loans:\", value = 3),\n",
    "      numericInput(\"delay_from_due_date\", \"Delay from Due Date (Days):\", value = 5),\n",
    "      numericInput(\"num_of_delayed_payments\", \"Number of Delayed Payments:\", value = 3),\n",
    "      numericInput(\"changed_credit_limit\", \"Changed Credit Limit:\", value = 10),\n",
    "      numericInput(\"num_credit_inquiries\", \"Number of Credit Inquiries:\", value = 2),\n",
    "      numericInput(\"outstanding_debt\", \"Outstanding Debt:\", value = 1000),\n",
    "      numericInput(\"total_emi_per_month\", \"Total EMI per Month:\", value = 50),\n",
    "      numericInput(\"credit_history_age_months\", \"Credit History Age (Months):\", value = 300),\n",
    "      numericInput(\"credit_score_encoded\", \"Credit Score Encoded:\", value = 2),\n",
    "      numericInput(\"credit_mix_encoded\", \"Credit Mix Encoded:\", value = 2),\n",
    "      numericInput(\"total_num_accounts\", \"Total Number of Accounts:\", value = 6),\n",
    "      numericInput(\"debt_per_account\", \"Debt per Account:\", value = 100),\n",
    "      numericInput(\"debt_to_income_ratio\", \"Debt to Income Ratio:\", value = 0.04),\n",
    "      numericInput(\"delayed_payments_per_account\", \"Delayed Payments per Account:\", value = 0.5),\n",
    "      actionButton(\"submit_button\", \"Submit\")\n",
    "    ),\n",
    "    mainPanel(\n",
    "      h3(\"Prediction Result:\"),\n",
    "      verbatimTextOutput(\"prediction_output\")\n",
    "    )\n",
    "  )\n",
    ")\n",
    "\n",
    "# Define server logic\n",
    "server <- function(input, output) {\n",
    "  # Reactive expression to convert inputs to a dataframe\n",
    "  data <- reactive({\n",
    "    data.frame(\n",
    "      Annual_Income = input$annual_income,\n",
    "      Num_Bank_Accounts = input$num_bank_accounts,\n",
    "      Num_Credit_Card = input$num_credit_cards,\n",
    "      Interest_Rate = input$interest_rate,\n",
    "      Num_of_Loan = input$num_of_loans,\n",
    "      Delay_from_due_date = input$delay_from_due_date,\n",
    "      Num_of_Delayed_Payment = input$num_of_delayed_payments,\n",
    "      Changed_Credit_Limit = input$changed_credit_limit,\n",
    "      Num_Credit_Inquiries = input$num_credit_inquiries,\n",
    "      Outstanding_Debt = input$outstanding_debt,\n",
    "      Total_EMI_per_month = input$total_emi_per_month,\n",
    "      Credit_History_Age_Months = input$credit_history_age_months,\n",
    "      Credit_Score_Encoded = input$credit_score_encoded,\n",
    "      Credit_Mix_Encoded = input$credit_mix_encoded,\n",
    "      Total_Num_Accounts = input$total_num_accounts,\n",
    "      Debt_Per_Account = input$debt_per_account,\n",
    "      Debt_to_Income_Ratio = input$debt_to_income_ratio,\n",
    "      Delayed_Payments_Per_Account = input$delayed_payments_per_account\n",
    "    )\n",
    "  })\n",
    "  \n",
    "  \n",
    "  model <- readRDS(file = \"../models/smote_model.rds\")\n",
    "  \n",
    "  # Event handler for submit button\n",
    "  observeEvent(input$submit_button, {\n",
    "    # Make prediction\n",
    "    prediction <- predict(model, newdata = data())\n",
    "\n",
    "     # Map numeric output to labels\n",
    "    output_label <- switch(as.character(prediction),\n",
    "                           \"1\" = \"Poor\",\n",
    "                           \"2\" = \"Standard\",\n",
    "                           \"3\" = \"Good\",\n",
    "                           \"Unknown\")\n",
    "    \n",
    "    \n",
    "    output$prediction_output <- renderText({\n",
    "      paste(\"Predicted Class:\", output_label)\n",
    "    })\n",
    "  })\n",
    "}\n",
    "\n",
    "# Run the application \n",
    "shinyApp(ui = ui, server = server)\n"
   ]
  },
  {
   "cell_type": "code",
   "execution_count": null,
   "metadata": {
    "vscode": {
     "languageId": "r"
    }
   },
   "outputs": [],
   "source": []
  },
  {
   "cell_type": "code",
   "execution_count": null,
   "metadata": {
    "vscode": {
     "languageId": "r"
    }
   },
   "outputs": [],
   "source": []
  }
 ],
 "metadata": {
  "kernelspec": {
   "display_name": "R",
   "language": "R",
   "name": "ir"
  },
  "language_info": {
   "codemirror_mode": "r",
   "file_extension": ".r",
   "mimetype": "text/x-r-source",
   "name": "R",
   "pygments_lexer": "r",
   "version": "4.0.4"
  }
 },
 "nbformat": 4,
 "nbformat_minor": 2
}
