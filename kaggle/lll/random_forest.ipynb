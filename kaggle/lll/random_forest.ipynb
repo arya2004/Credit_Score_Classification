{
 "cells": [
  {
   "cell_type": "code",
   "execution_count": 2,
   "metadata": {
    "vscode": {
     "languageId": "r"
    }
   },
   "outputs": [
    {
     "name": "stdout",
     "output_type": "stream",
     "text": [
      "Confusion Matrix and Statistics\n",
      "\n",
      "          Reference\n",
      "Prediction    0    1    2\n",
      "         0 2880   35  691\n",
      "         1   11 4980 1104\n",
      "         2  674  784 8839\n",
      "\n",
      "Overall Statistics\n",
      "                                          \n",
      "               Accuracy : 0.835           \n",
      "                 95% CI : (0.8298, 0.8402)\n",
      "    No Information Rate : 0.5318          \n",
      "    P-Value [Acc > NIR] : < 2e-16         \n",
      "                                          \n",
      "                  Kappa : 0.7276          \n",
      "                                          \n",
      " Mcnemar's Test P-Value : 1.9e-14         \n",
      "\n",
      "Statistics by Class:\n",
      "\n",
      "                     Class: 0 Class: 1 Class: 2\n",
      "Sensitivity            0.8079   0.8588   0.8312\n",
      "Specificity            0.9558   0.9215   0.8443\n",
      "Pos Pred Value         0.7987   0.8171   0.8584\n",
      "Neg Pred Value         0.9582   0.9411   0.8150\n",
      "Prevalence             0.1783   0.2900   0.5318\n",
      "Detection Rate         0.1440   0.2490   0.4420\n",
      "Detection Prevalence   0.1803   0.3048   0.5149\n",
      "Balanced Accuracy      0.8818   0.8901   0.8377\n"
     ]
    }
   ],
   "source": [
    "library(randomForest)\n",
    "library(caret)\n",
    "\n",
    "\n",
    "data <- read.csv(\"train_cleaned.csv\")\n",
    "\n",
    "\n",
    "X <- data[, !(names(data) %in% c(\"Credit_Score\"))]\n",
    "y <- as.factor(data$Credit_Score)  \n",
    "\n",
    "\n",
    "set.seed(42) \n",
    "train_index <- createDataPartition(y, p = 0.8, list = FALSE)\n",
    "X_train <- X[train_index, ]\n",
    "y_train <- y[train_index]\n",
    "X_test <- X[-train_index, ]\n",
    "y_test <- y[-train_index]\n",
    "\n",
    "\n",
    "rf_model <- randomForest(y_train ~ ., data = data.frame(cbind(X_train, y_train)), ntree = 100)\n",
    "\n",
    "\n",
    "predictions <- predict(rf_model, newdata = X_test)\n",
    "\n",
    "\n",
    "confusion_matrix <- confusionMatrix(predictions, y_test)\n",
    "print(confusion_matrix)\n"
   ]
  },
  {
   "cell_type": "code",
   "execution_count": null,
   "metadata": {
    "vscode": {
     "languageId": "r"
    }
   },
   "outputs": [],
   "source": []
  }
 ],
 "metadata": {
  "kernelspec": {
   "display_name": "R",
   "language": "R",
   "name": "ir"
  },
  "language_info": {
   "codemirror_mode": "r",
   "file_extension": ".r",
   "mimetype": "text/x-r-source",
   "name": "R",
   "pygments_lexer": "r",
   "version": "4.0.4"
  }
 },
 "nbformat": 4,
 "nbformat_minor": 2
}
