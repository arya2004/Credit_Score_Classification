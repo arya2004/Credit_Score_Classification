{
 "cells": [
  {
   "cell_type": "code",
   "execution_count": 1,
   "metadata": {
    "vscode": {
     "languageId": "r"
    }
   },
   "outputs": [
    {
     "name": "stderr",
     "output_type": "stream",
     "text": [
      "randomForest 4.6-14\n",
      "\n"
     ]
    },
    {
     "name": "stderr",
     "output_type": "stream",
     "text": [
      "Type rfNews() to see new features/changes/bug fixes.\n",
      "\n",
      "Loading required package: lattice\n",
      "\n",
      "Loading required package: ggplot2\n",
      "\n",
      "\n",
      "Attaching package: ‘ggplot2’\n",
      "\n",
      "\n",
      "The following object is masked from ‘package:randomForest’:\n",
      "\n",
      "    margin\n",
      "\n",
      "\n"
     ]
    },
    {
     "name": "stdout",
     "output_type": "stream",
     "text": [
      "Confusion Matrix and Statistics\n",
      "\n",
      "          Reference\n",
      "Prediction    0    1    2\n",
      "         0 2891   27  687\n",
      "         1   11 4992 1110\n",
      "         2  663  780 8837\n",
      "\n",
      "Overall Statistics\n",
      "                                          \n",
      "               Accuracy : 0.8361          \n",
      "                 95% CI : (0.8309, 0.8412)\n",
      "    No Information Rate : 0.5318          \n",
      "    P-Value [Acc > NIR] : < 2.2e-16       \n",
      "                                          \n",
      "                  Kappa : 0.7295          \n",
      "                                          \n",
      " Mcnemar's Test P-Value : 5.583e-14       \n",
      "\n",
      "Statistics by Class:\n",
      "\n",
      "                     Class: 0 Class: 1 Class: 2\n",
      "Sensitivity            0.8109   0.8608   0.8310\n",
      "Specificity            0.9566   0.9211   0.8459\n",
      "Pos Pred Value         0.8019   0.8166   0.8596\n",
      "Neg Pred Value         0.9589   0.9419   0.8151\n",
      "Prevalence             0.1783   0.2900   0.5318\n",
      "Detection Rate         0.1446   0.2496   0.4419\n",
      "Detection Prevalence   0.1803   0.3057   0.5141\n",
      "Balanced Accuracy      0.8837   0.8909   0.8385\n"
     ]
    }
   ],
   "source": [
    "library(randomForest)\n",
    "library(caret)\n",
    "\n",
    "\n",
    "data <- read.csv(\"train_cleaned.csv\")\n",
    "\n",
    "\n",
    "X <- data[, !(names(data) %in% c(\"Credit_Score\"))]\n",
    "y <- as.factor(data$Credit_Score)  \n",
    "\n",
    "\n",
    "set.seed(42) \n",
    "train_index <- createDataPartition(y, p = 0.8, list = FALSE)\n",
    "X_train <- X[train_index, ]\n",
    "y_train <- y[train_index]\n",
    "X_test <- X[-train_index, ]\n",
    "y_test <- y[-train_index]\n",
    "\n",
    "\n",
    "rf_model <- randomForest(y_train ~ ., data = data.frame(cbind(X_train, y_train)), ntree = 500)\n",
    "\n",
    "\n",
    "predictions <- predict(rf_model, newdata = X_test)\n",
    "\n",
    "\n",
    "confusion_matrix <- confusionMatrix(predictions, y_test)\n",
    "print(confusion_matrix)\n"
   ]
  },
  {
   "cell_type": "code",
   "execution_count": null,
   "metadata": {
    "vscode": {
     "languageId": "r"
    }
   },
   "outputs": [],
   "source": []
  }
 ],
 "metadata": {
  "kernelspec": {
   "display_name": "R",
   "language": "R",
   "name": "ir"
  },
  "language_info": {
   "codemirror_mode": "r",
   "file_extension": ".r",
   "mimetype": "text/x-r-source",
   "name": "R",
   "pygments_lexer": "r",
   "version": "4.0.4"
  }
 },
 "nbformat": 4,
 "nbformat_minor": 2
}
