{
 "cells": [
  {
   "cell_type": "code",
   "execution_count": null,
   "metadata": {
    "vscode": {
     "languageId": "r"
    }
   },
   "outputs": [],
   "source": []
  },
  {
   "cell_type": "code",
   "execution_count": null,
   "metadata": {
    "vscode": {
     "languageId": "r"
    }
   },
   "outputs": [],
   "source": []
  },
  {
   "cell_type": "code",
   "execution_count": null,
   "metadata": {
    "vscode": {
     "languageId": "r"
    }
   },
   "outputs": [],
   "source": []
  },
  {
   "cell_type": "code",
   "execution_count": null,
   "metadata": {
    "vscode": {
     "languageId": "r"
    }
   },
   "outputs": [],
   "source": []
  },
  {
   "cell_type": "code",
   "execution_count": 30,
   "metadata": {
    "vscode": {
     "languageId": "r"
    }
   },
   "outputs": [
    {
     "name": "stderr",
     "output_type": "stream",
     "text": [
      "Warning message in randomForest.default(m, y, ...):\n",
      "“The response has five or fewer unique values.  Are you sure you want to do regression?”\n"
     ]
    },
    {
     "ename": "ERROR",
     "evalue": "Error: `data` and `reference` should be factors with the same levels.\n",
     "output_type": "error",
     "traceback": [
      "Error: `data` and `reference` should be factors with the same levels.\nTraceback:\n",
      "1. confusionMatrix(predictions, test_data$Credit_Score)",
      "2. confusionMatrix.default(predictions, test_data$Credit_Score)",
      "3. stop(\"`data` and `reference` should be factors with the same levels.\", \n .     call. = FALSE)"
     ]
    }
   ],
   "source": []
  },
  {
   "cell_type": "code",
   "execution_count": 31,
   "metadata": {
    "vscode": {
     "languageId": "r"
    }
   },
   "outputs": [
    {
     "name": "stdout",
     "output_type": "stream",
     "text": [
      "'data.frame':\t100000 obs. of  25 variables:\n",
      " $ X                       : int  0 1 2 3 4 5 6 7 8 9 ...\n",
      " $ Month                   : int  1 2 3 4 5 6 7 8 1 2 ...\n",
      " $ Age                     : num  23 23 23 23 23 23 23 23 28 28 ...\n",
      " $ Occupation              : int  12 12 12 12 12 12 12 12 13 13 ...\n",
      " $ Annual_Income           : num  19114 19114 19114 19114 19114 ...\n",
      " $ Monthly_Inhand_Salary   : num  1825 1825 1825 1825 1825 ...\n",
      " $ Num_Bank_Accounts       : num  3 3 3 3 3 3 3 3 2 2 ...\n",
      " $ Num_Credit_Card         : num  4 4 4 4 4 4 4 4 4 4 ...\n",
      " $ Interest_Rate           : num  3 3 3 3 3 3 3 3 6 6 ...\n",
      " $ Num_of_Loan             : num  4 4 4 4 4 4 4 4 1 1 ...\n",
      " $ Type_of_Loan            : int  128 128 128 128 128 128 128 128 684 684 ...\n",
      " $ Delay_from_due_date     : num  3 3 3 5 6 8 3 3 3 7 ...\n",
      " $ Num_of_Delayed_Payment  : num  7 4 7 4 4 4 8 6 4 1 ...\n",
      " $ Changed_Credit_Limit    : num  11.27 11.27 11.27 6.27 11.27 ...\n",
      " $ Num_Credit_Inquiries    : num  4 4 4 4 4 4 4 4 2 2 ...\n",
      " $ Credit_Mix              : int  1 1 1 1 1 1 1 1 1 1 ...\n",
      " $ Outstanding_Debt        : num  810 810 810 810 810 ...\n",
      " $ Credit_Utilization_Ratio: num  26.8 31.9 28.6 31.4 24.8 ...\n",
      " $ Credit_History_Age      : num  265 265 267 268 269 270 271 265 319 320 ...\n",
      " $ Payment_of_Min_Amount   : int  1 1 1 1 1 1 1 1 1 1 ...\n",
      " $ Total_EMI_per_month     : num  49.6 49.6 49.6 49.6 49.6 ...\n",
      " $ Amount_invested_monthly : num  80.4 118.3 81.7 199.5 41.4 ...\n",
      " $ Payment_Behaviour       : int  2 3 4 5 1 1 5 1 5 0 ...\n",
      " $ Monthly_Balance         : num  312 285 331 223 341 ...\n",
      " $ Credit_Score            : int  0 0 0 0 0 0 0 2 2 0 ...\n"
     ]
    },
    {
     "name": "stderr",
     "output_type": "stream",
     "text": [
      "Warning message in randomForest.default(m, y, ...):\n",
      "“The response has five or fewer unique values.  Are you sure you want to do regression?”\n"
     ]
    }
   ],
   "source": [
    "# Load libraries\n",
    "library(randomForest)\n",
    "library(caret)\n",
    "\n",
    "# Load data\n",
    "data <- read.csv(\"train_cleaned.csv\")\n",
    "\n",
    "# Explore the structure of the data\n",
    "str(data)\n",
    "\n",
    "# Split data into train and test sets\n",
    "set.seed(123) # for reproducibility\n",
    "train_index <- createDataPartition(data$Credit_Score, p = 0.8, list = FALSE)\n",
    "train_data <- data[train_index, ]\n",
    "test_data <- data[-train_index, ]\n",
    "\n",
    "rf_model <- randomForest(Credit_Score ~ ., data = train_data, ntree = 1)\n",
    "\n",
    "predictions <- factor(predictions)\n",
    "test_data$Credit_Score <- factor(test_data$Credit_Score)\n",
    "\n",
    "combined_levels <- union(levels(predictions), levels(test_data$Credit_Score))\n",
    "predictions <- factor(predictions, levels = combined_levels)\n",
    "test_data$Credit_Score <- factor(test_data$Credit_Score, levels = combined_levels)\n",
    "\n",
    "\n"
   ]
  },
  {
   "cell_type": "code",
   "execution_count": 32,
   "metadata": {
    "vscode": {
     "languageId": "r"
    }
   },
   "outputs": [
    {
     "name": "stdout",
     "output_type": "stream",
     "text": [
      "Confusion Matrix and Statistics\n",
      "\n",
      "                      Reference\n",
      "Prediction                0 1.77635683940025e-15  0.2 0.25 0.333333333333333\n",
      "  0                    1945                    0    0    0                 0\n",
      "  1.77635683940025e-15   44                    0    0    0                 0\n",
      "  0.2                     7                    0    0    0                 0\n",
      "  0.25                   20                    0    0    0                 0\n",
      "  0.333333333333333       8                    0    0    0                 0\n",
      "  0.4                    33                    0    0    0                 0\n",
      "  0.5                    38                    0    0    0                 0\n",
      "  0.6                    14                    0    0    0                 0\n",
      "  0.666666666666667      35                    0    0    0                 0\n",
      "  0.75                   19                    0    0    0                 0\n",
      "  0.8                    38                    0    0    0                 0\n",
      "  1                     207                    0    0    0                 0\n",
      "  1.2                    24                    0    0    0                 0\n",
      "  1.25                   12                    0    0    0                 0\n",
      "  1.33333333333333       27                    0    0    0                 0\n",
      "  1.4                    10                    0    0    0                 0\n",
      "  1.5                    39                    0    0    0                 0\n",
      "  1.6                    40                    0    0    0                 0\n",
      "  1.66666666666667       11                    0    0    0                 0\n",
      "  1.75                   15                    0    0    0                 0\n",
      "  1.8                     6                    0    0    0                 0\n",
      "  2                     897                    0    0    0                 0\n",
      "  2.00000000000002        0                    0    0    0                 0\n",
      "                      Reference\n",
      "Prediction              0.4  0.5  0.6 0.666666666666667 0.75  0.8    1  1.2\n",
      "  0                       0    0    0                 0    0    0  180    0\n",
      "  1.77635683940025e-15    0    0    0                 0    0    0    0    0\n",
      "  0.2                     0    0    0                 0    0    0    7    0\n",
      "  0.25                    0    0    0                 0    0    0   13    0\n",
      "  0.333333333333333       0    0    0                 0    0    0    7    0\n",
      "  0.4                     0    0    0                 0    0    0    8    0\n",
      "  0.5                     0    0    0                 0    0    0   18    0\n",
      "  0.6                     0    0    0                 0    0    0   22    0\n",
      "  0.666666666666667       0    0    0                 0    0    0    6    0\n",
      "  0.75                    0    0    0                 0    0    0   21    0\n",
      "  0.8                     0    0    0                 0    0    0   12    0\n",
      "  1                       0    0    0                 0    0    0 3581    0\n",
      "  1.2                     0    0    0                 0    0    0   64    0\n",
      "  1.25                    0    0    0                 0    0    0   76    0\n",
      "  1.33333333333333        0    0    0                 0    0    0   84    0\n",
      "  1.4                     0    0    0                 0    0    0   49    0\n",
      "  1.5                     0    0    0                 0    0    0  134    0\n",
      "  1.6                     0    0    0                 0    0    0   47    0\n",
      "  1.66666666666667        0    0    0                 0    0    0   72    0\n",
      "  1.75                    0    0    0                 0    0    0   84    0\n",
      "  1.8                     0    0    0                 0    0    0   52    0\n",
      "  2                       0    0    0                 0    0    0 1338    0\n",
      "  2.00000000000002        0    0    0                 0    0    0    1    0\n",
      "                      Reference\n",
      "Prediction             1.25 1.33333333333333  1.4  1.5  1.6 1.66666666666667\n",
      "  0                       0                0    0    0    0                0\n",
      "  1.77635683940025e-15    0                0    0    0    0                0\n",
      "  0.2                     0                0    0    0    0                0\n",
      "  0.25                    0                0    0    0    0                0\n",
      "  0.333333333333333       0                0    0    0    0                0\n",
      "  0.4                     0                0    0    0    0                0\n",
      "  0.5                     0                0    0    0    0                0\n",
      "  0.6                     0                0    0    0    0                0\n",
      "  0.666666666666667       0                0    0    0    0                0\n",
      "  0.75                    0                0    0    0    0                0\n",
      "  0.8                     0                0    0    0    0                0\n",
      "  1                       0                0    0    0    0                0\n",
      "  1.2                     0                0    0    0    0                0\n",
      "  1.25                    0                0    0    0    0                0\n",
      "  1.33333333333333        0                0    0    0    0                0\n",
      "  1.4                     0                0    0    0    0                0\n",
      "  1.5                     0                0    0    0    0                0\n",
      "  1.6                     0                0    0    0    0                0\n",
      "  1.66666666666667        0                0    0    0    0                0\n",
      "  1.75                    0                0    0    0    0                0\n",
      "  1.8                     0                0    0    0    0                0\n",
      "  2                       0                0    0    0    0                0\n",
      "  2.00000000000002        0                0    0    0    0                0\n",
      "                      Reference\n",
      "Prediction             1.75  1.8    2 2.00000000000002\n",
      "  0                       0    0  978                0\n",
      "  1.77635683940025e-15    0    0    7                0\n",
      "  0.2                     0    0   12                0\n",
      "  0.25                    0    0   11                0\n",
      "  0.333333333333333       0    0   15                0\n",
      "  0.4                     0    0   21                0\n",
      "  0.5                     0    0   36                0\n",
      "  0.6                     0    0   16                0\n",
      "  0.666666666666667       0    0   41                0\n",
      "  0.75                    0    0   35                0\n",
      "  0.8                     0    0   28                0\n",
      "  1                       0    0 1435                0\n",
      "  1.2                     0    0   46                0\n",
      "  1.25                    0    0   50                0\n",
      "  1.33333333333333        0    0   84                0\n",
      "  1.4                     0    0   46                0\n",
      "  1.5                     0    0  110                0\n",
      "  1.6                     0    0   63                0\n",
      "  1.66666666666667        0    0   58                0\n",
      "  1.75                    0    0   71                0\n",
      "  1.8                     0    0   45                0\n",
      "  2                       0    0 6089                0\n",
      "  2.00000000000002        0    0 1337                0\n",
      "\n",
      "Overall Statistics\n",
      "                                          \n",
      "               Accuracy : 0.5808          \n",
      "                 95% CI : (0.5739, 0.5876)\n",
      "    No Information Rate : 0.5317          \n",
      "    P-Value [Acc > NIR] : < 2.2e-16       \n",
      "                                          \n",
      "                  Kappa : 0.3788          \n",
      "                                          \n",
      " Mcnemar's Test P-Value : NA              \n",
      "\n",
      "Statistics by Class:\n",
      "\n",
      "                     Class: 0 Class: 1.77635683940025e-15 Class: 0.2\n",
      "Sensitivity           0.55747                          NA         NA\n",
      "Specificity           0.92986                     0.99745     0.9987\n",
      "Pos Pred Value        0.62681                          NA         NA\n",
      "Neg Pred Value        0.90862                          NA         NA\n",
      "Prevalence            0.17446                     0.00000     0.0000\n",
      "Detection Rate        0.09725                     0.00000     0.0000\n",
      "Detection Prevalence  0.15516                     0.00255     0.0013\n",
      "Balanced Accuracy     0.74366                          NA         NA\n",
      "                     Class: 0.25 Class: 0.333333333333333 Class: 0.4 Class: 0.5\n",
      "Sensitivity                   NA                       NA         NA         NA\n",
      "Specificity               0.9978                   0.9985     0.9969     0.9954\n",
      "Pos Pred Value                NA                       NA         NA         NA\n",
      "Neg Pred Value                NA                       NA         NA         NA\n",
      "Prevalence                0.0000                   0.0000     0.0000     0.0000\n",
      "Detection Rate            0.0000                   0.0000     0.0000     0.0000\n",
      "Detection Prevalence      0.0022                   0.0015     0.0031     0.0046\n",
      "Balanced Accuracy             NA                       NA         NA         NA\n",
      "                     Class: 0.6 Class: 0.666666666666667 Class: 0.75 Class: 0.8\n",
      "Sensitivity                  NA                       NA          NA         NA\n",
      "Specificity              0.9974                   0.9959     0.99625     0.9961\n",
      "Pos Pred Value               NA                       NA          NA         NA\n",
      "Neg Pred Value               NA                       NA          NA         NA\n",
      "Prevalence               0.0000                   0.0000     0.00000     0.0000\n",
      "Detection Rate           0.0000                   0.0000     0.00000     0.0000\n",
      "Detection Prevalence     0.0026                   0.0041     0.00375     0.0039\n",
      "Balanced Accuracy            NA                       NA          NA         NA\n",
      "                     Class: 1 Class: 1.2 Class: 1.25 Class: 1.33333333333333\n",
      "Sensitivity            0.6094         NA          NA                      NA\n",
      "Specificity            0.8837     0.9933      0.9931                 0.99025\n",
      "Pos Pred Value         0.6856         NA          NA                      NA\n",
      "Neg Pred Value         0.8447         NA          NA                      NA\n",
      "Prevalence             0.2938     0.0000      0.0000                 0.00000\n",
      "Detection Rate         0.1791     0.0000      0.0000                 0.00000\n",
      "Detection Prevalence   0.2612     0.0067      0.0069                 0.00975\n",
      "Balanced Accuracy      0.7466         NA          NA                      NA\n",
      "                     Class: 1.4 Class: 1.5 Class: 1.6 Class: 1.66666666666667\n",
      "Sensitivity                  NA         NA         NA                      NA\n",
      "Specificity             0.99475    0.98585     0.9925                 0.99295\n",
      "Pos Pred Value               NA         NA         NA                      NA\n",
      "Neg Pred Value               NA         NA         NA                      NA\n",
      "Prevalence              0.00000    0.00000     0.0000                 0.00000\n",
      "Detection Rate          0.00000    0.00000     0.0000                 0.00000\n",
      "Detection Prevalence    0.00525    0.01415     0.0075                 0.00705\n",
      "Balanced Accuracy            NA         NA         NA                      NA\n",
      "                     Class: 1.75 Class: 1.8 Class: 2 Class: 2.00000000000002\n",
      "Sensitivity                   NA         NA   0.5726                      NA\n",
      "Specificity               0.9915    0.99485   0.7613                  0.9331\n",
      "Pos Pred Value                NA         NA   0.7315                      NA\n",
      "Neg Pred Value                NA         NA   0.6107                      NA\n",
      "Prevalence                0.0000    0.00000   0.5317                  0.0000\n",
      "Detection Rate            0.0000    0.00000   0.3045                  0.0000\n",
      "Detection Prevalence      0.0085    0.00515   0.4162                  0.0669\n",
      "Balanced Accuracy             NA         NA   0.6670                      NA\n"
     ]
    }
   ],
   "source": [
    "confusion_matrix <- confusionMatrix(predictions, test_data$Credit_Score)\n",
    "print(confusion_matrix)"
   ]
  },
  {
   "cell_type": "code",
   "execution_count": 33,
   "metadata": {
    "vscode": {
     "languageId": "r"
    }
   },
   "outputs": [
    {
     "name": "stdout",
     "output_type": "stream",
     "text": [
      "Accuracy:  0.580779 \n"
     ]
    }
   ],
   "source": [
    "\n",
    "accuracy_value <- confusion_matrix$overall['Accuracy']\n",
    "cat(\"Accuracy: \", accuracy_value, \"\\n\")\n"
   ]
  },
  {
   "cell_type": "markdown",
   "metadata": {},
   "source": [
    "# Random Forest\n"
   ]
  },
  {
   "cell_type": "code",
   "execution_count": 37,
   "metadata": {
    "vscode": {
     "languageId": "r"
    }
   },
   "outputs": [
    {
     "name": "stdout",
     "output_type": "stream",
     "text": [
      "Confusion Matrix and Statistics\n",
      "\n",
      "          Reference\n",
      "Prediction    0    1    2\n",
      "         0 2206  252 1146\n",
      "         1  241 3866 1642\n",
      "         2 1118 1681 7846\n",
      "\n",
      "Overall Statistics\n",
      "                                          \n",
      "               Accuracy : 0.696           \n",
      "                 95% CI : (0.6895, 0.7023)\n",
      "    No Information Rate : 0.5318          \n",
      "    P-Value [Acc > NIR] : <2e-16          \n",
      "                                          \n",
      "                  Kappa : 0.4945          \n",
      "                                          \n",
      " Mcnemar's Test P-Value : 0.7893          \n",
      "\n",
      "Statistics by Class:\n",
      "\n",
      "                     Class: 0 Class: 1 Class: 2\n",
      "Sensitivity            0.6188   0.6667   0.7378\n",
      "Specificity            0.9149   0.8674   0.7011\n",
      "Pos Pred Value         0.6121   0.6725   0.7371\n",
      "Neg Pred Value         0.9171   0.8643   0.7019\n",
      "Prevalence             0.1783   0.2900   0.5318\n",
      "Detection Rate         0.1103   0.1933   0.3923\n",
      "Detection Prevalence   0.1802   0.2875   0.5323\n",
      "Balanced Accuracy      0.7669   0.7670   0.7195\n"
     ]
    }
   ],
   "source": [
    "\n",
    "library(randomForest)\n",
    "library(caret)\n",
    "\n",
    "\n",
    "data <- read.csv(\"train_cleaned.csv\")\n",
    "\n",
    "\n",
    "X <- data[, !(names(data) %in% c(\"Credit_Score\"))]\n",
    "y <- as.factor(data$Credit_Score)  \n",
    "\n",
    "\n",
    "set.seed(42) \n",
    "train_index <- createDataPartition(y, p = 0.8, list = FALSE)\n",
    "X_train <- X[train_index, ]\n",
    "y_train <- y[train_index]\n",
    "X_test <- X[-train_index, ]\n",
    "y_test <- y[-train_index]\n",
    "\n",
    "\n",
    "rf_model <- randomForest(y_train ~ ., data = data.frame(cbind(X_train, y_train)), ntree = 1)\n",
    "\n",
    "\n",
    "predictions <- predict(rf_model, newdata = X_test)\n",
    "\n",
    "\n",
    "confusion_matrix <- confusionMatrix(predictions, y_test)\n",
    "print(confusion_matrix)\n"
   ]
  },
  {
   "cell_type": "code",
   "execution_count": 38,
   "metadata": {
    "vscode": {
     "languageId": "r"
    }
   },
   "outputs": [
    {
     "name": "stdout",
     "output_type": "stream",
     "text": [
      "Confusion Matrix and Statistics\n",
      "\n",
      "          Reference\n",
      "Prediction    0    1    2\n",
      "         0 2522  203  921\n",
      "         1  118 4256 1320\n",
      "         2  925 1340 8393\n",
      "\n",
      "Overall Statistics\n",
      "                                          \n",
      "               Accuracy : 0.7586          \n",
      "                 95% CI : (0.7526, 0.7645)\n",
      "    No Information Rate : 0.5318          \n",
      "    P-Value [Acc > NIR] : < 2.2e-16       \n",
      "                                          \n",
      "                  Kappa : 0.5987          \n",
      "                                          \n",
      " Mcnemar's Test P-Value : 4.738e-05       \n",
      "\n",
      "Statistics by Class:\n",
      "\n",
      "                     Class: 0 Class: 1 Class: 2\n",
      "Sensitivity            0.7074   0.7339   0.7893\n",
      "Specificity            0.9316   0.8987   0.7581\n",
      "Pos Pred Value         0.6917   0.7475   0.7875\n",
      "Neg Pred Value         0.9362   0.8921   0.7601\n",
      "Prevalence             0.1783   0.2900   0.5318\n",
      "Detection Rate         0.1261   0.2128   0.4197\n",
      "Detection Prevalence   0.1823   0.2847   0.5330\n",
      "Balanced Accuracy      0.8195   0.8163   0.7737\n"
     ]
    }
   ],
   "source": [
    "\n",
    "library(randomForest)\n",
    "library(caret)\n",
    "\n",
    "\n",
    "data <- read.csv(\"train_cleaned.csv\")\n",
    "\n",
    "\n",
    "X <- data[, !(names(data) %in% c(\"Credit_Score\"))]\n",
    "y <- as.factor(data$Credit_Score)  \n",
    "\n",
    "\n",
    "set.seed(42) \n",
    "train_index <- createDataPartition(y, p = 0.8, list = FALSE)\n",
    "X_train <- X[train_index, ]\n",
    "y_train <- y[train_index]\n",
    "X_test <- X[-train_index, ]\n",
    "y_test <- y[-train_index]\n",
    "\n",
    "\n",
    "rf_model <- randomForest(y_train ~ ., data = data.frame(cbind(X_train, y_train)), ntree = 3)\n",
    "\n",
    "\n",
    "predictions <- predict(rf_model, newdata = X_test)\n",
    "\n",
    "\n",
    "confusion_matrix <- confusionMatrix(predictions, y_test)\n",
    "print(confusion_matrix)\n"
   ]
  },
  {
   "cell_type": "code",
   "execution_count": 39,
   "metadata": {
    "vscode": {
     "languageId": "r"
    }
   },
   "outputs": [
    {
     "name": "stdout",
     "output_type": "stream",
     "text": [
      "Confusion Matrix and Statistics\n",
      "\n",
      "          Reference\n",
      "Prediction    0    1    2\n",
      "         0 2768   95  798\n",
      "         1   36 4747 1147\n",
      "         2  761  957 8689\n",
      "\n",
      "Overall Statistics\n",
      "                                          \n",
      "               Accuracy : 0.8103          \n",
      "                 95% CI : (0.8048, 0.8157)\n",
      "    No Information Rate : 0.5318          \n",
      "    P-Value [Acc > NIR] : < 2.2e-16       \n",
      "                                          \n",
      "                  Kappa : 0.6862          \n",
      "                                          \n",
      " Mcnemar's Test P-Value : 1.121e-09       \n",
      "\n",
      "Statistics by Class:\n",
      "\n",
      "                     Class: 0 Class: 1 Class: 2\n",
      "Sensitivity            0.7764   0.8186   0.8171\n",
      "Specificity            0.9457   0.9167   0.8165\n",
      "Pos Pred Value         0.7561   0.8005   0.8349\n",
      "Neg Pred Value         0.9512   0.9252   0.7972\n",
      "Prevalence             0.1783   0.2900   0.5318\n",
      "Detection Rate         0.1384   0.2374   0.4345\n",
      "Detection Prevalence   0.1831   0.2965   0.5204\n",
      "Balanced Accuracy      0.8610   0.8676   0.8168\n"
     ]
    }
   ],
   "source": [
    "\n",
    "library(randomForest)\n",
    "library(caret)\n",
    "\n",
    "\n",
    "data <- read.csv(\"train_cleaned.csv\")\n",
    "\n",
    "\n",
    "X <- data[, !(names(data) %in% c(\"Credit_Score\"))]\n",
    "y <- as.factor(data$Credit_Score)  \n",
    "\n",
    "\n",
    "set.seed(42) \n",
    "train_index <- createDataPartition(y, p = 0.8, list = FALSE)\n",
    "X_train <- X[train_index, ]\n",
    "y_train <- y[train_index]\n",
    "X_test <- X[-train_index, ]\n",
    "y_test <- y[-train_index]\n",
    "\n",
    "\n",
    "rf_model <- randomForest(y_train ~ ., data = data.frame(cbind(X_train, y_train)), ntree = 10)\n",
    "\n",
    "\n",
    "predictions <- predict(rf_model, newdata = X_test)\n",
    "\n",
    "\n",
    "confusion_matrix <- confusionMatrix(predictions, y_test)\n",
    "print(confusion_matrix)\n"
   ]
  },
  {
   "cell_type": "code",
   "execution_count": 40,
   "metadata": {
    "vscode": {
     "languageId": "r"
    }
   },
   "outputs": [
    {
     "name": "stdout",
     "output_type": "stream",
     "text": [
      "Confusion Matrix and Statistics\n",
      "\n",
      "          Reference\n",
      "Prediction    0    1    2\n",
      "         0 2891   27  687\n",
      "         1   11 4992 1110\n",
      "         2  663  780 8837\n",
      "\n",
      "Overall Statistics\n",
      "                                          \n",
      "               Accuracy : 0.8361          \n",
      "                 95% CI : (0.8309, 0.8412)\n",
      "    No Information Rate : 0.5318          \n",
      "    P-Value [Acc > NIR] : < 2.2e-16       \n",
      "                                          \n",
      "                  Kappa : 0.7295          \n",
      "                                          \n",
      " Mcnemar's Test P-Value : 5.583e-14       \n",
      "\n",
      "Statistics by Class:\n",
      "\n",
      "                     Class: 0 Class: 1 Class: 2\n",
      "Sensitivity            0.8109   0.8608   0.8310\n",
      "Specificity            0.9566   0.9211   0.8459\n",
      "Pos Pred Value         0.8019   0.8166   0.8596\n",
      "Neg Pred Value         0.9589   0.9419   0.8151\n",
      "Prevalence             0.1783   0.2900   0.5318\n",
      "Detection Rate         0.1446   0.2496   0.4419\n",
      "Detection Prevalence   0.1803   0.3057   0.5141\n",
      "Balanced Accuracy      0.8837   0.8909   0.8385\n"
     ]
    }
   ],
   "source": [
    "\n",
    "library(randomForest)\n",
    "library(caret)\n",
    "\n",
    "\n",
    "data <- read.csv(\"train_cleaned.csv\")\n",
    "\n",
    "\n",
    "X <- data[, !(names(data) %in% c(\"Credit_Score\"))]\n",
    "y <- as.factor(data$Credit_Score)  \n",
    "\n",
    "\n",
    "set.seed(42) \n",
    "train_index <- createDataPartition(y, p = 0.8, list = FALSE)\n",
    "X_train <- X[train_index, ]\n",
    "y_train <- y[train_index]\n",
    "X_test <- X[-train_index, ]\n",
    "y_test <- y[-train_index]\n",
    "\n",
    "\n",
    "rf_model <- randomForest(y_train ~ ., data = data.frame(cbind(X_train, y_train)), ntree = 500)\n",
    "\n",
    "\n",
    "predictions <- predict(rf_model, newdata = X_test)\n",
    "\n",
    "\n",
    "confusion_matrix <- confusionMatrix(predictions, y_test)\n",
    "print(confusion_matrix)\n"
   ]
  },
  {
   "cell_type": "code",
   "execution_count": 1,
   "metadata": {
    "vscode": {
     "languageId": "r"
    }
   },
   "outputs": [
    {
     "name": "stderr",
     "output_type": "stream",
     "text": [
      "Loading required package: lattice\n",
      "\n",
      "Loading required package: ggplot2\n",
      "\n"
     ]
    }
   ],
   "source": []
  },
  {
   "cell_type": "code",
   "execution_count": 1,
   "metadata": {
    "vscode": {
     "languageId": "r"
    }
   },
   "outputs": [
    {
     "name": "stderr",
     "output_type": "stream",
     "text": [
      "Loading required package: lattice\n",
      "\n",
      "Loading required package: ggplot2\n",
      "\n"
     ]
    }
   ],
   "source": [
    "library(e1071)  # for SVM\n",
    "library(caret)\n",
    "\n",
    "data <- read.csv(\"train_cleaned.csv\")\n",
    "\n",
    "X <- data[, !(names(data) %in% c(\"Credit_Score\"))]\n",
    "y <- as.factor(data$Credit_Score)  \n",
    "\n",
    "set.seed(42) \n",
    "train_index <- createDataPartition(y, p = 0.8, list = FALSE)\n",
    "X_train <- X[train_index, ]\n",
    "y_train <- y[train_index]\n",
    "X_test <- X[-train_index, ]\n",
    "y_test <- y[-train_index]\n",
    "\n",
    "# SVM model training\n",
    "svm_model <- svm(y_train ~ ., data = data.frame(cbind(X_train, y_train)), kernel = \"radial\")\n",
    "\n",
    "# Predictions using SVM model\n",
    "predictions <- predict(svm_model, newdata = X_test)\n",
    "\n",
    "# Confusion matrix\n",
    "confusion_matrix <- confusionMatrix(predictions, y_test)\n",
    "print(confusion_matrix)\n"
   ]
  },
  {
   "cell_type": "code",
   "execution_count": 3,
   "metadata": {
    "vscode": {
     "languageId": "r"
    }
   },
   "outputs": [
    {
     "data": {
      "text/html": [
       "<table class=\"dataframe\">\n",
       "<caption>A data.frame: 6 × 28</caption>\n",
       "<thead>\n",
       "\t<tr><th></th><th scope=col>ID</th><th scope=col>Customer_ID</th><th scope=col>Month</th><th scope=col>Name</th><th scope=col>Age</th><th scope=col>SSN</th><th scope=col>Occupation</th><th scope=col>Annual_Income</th><th scope=col>Monthly_Inhand_Salary</th><th scope=col>Num_Bank_Accounts</th><th scope=col>⋯</th><th scope=col>Credit_Mix</th><th scope=col>Outstanding_Debt</th><th scope=col>Credit_Utilization_Ratio</th><th scope=col>Credit_History_Age</th><th scope=col>Payment_of_Min_Amount</th><th scope=col>Total_EMI_per_month</th><th scope=col>Amount_invested_monthly</th><th scope=col>Payment_Behaviour</th><th scope=col>Monthly_Balance</th><th scope=col>Credit_Score</th></tr>\n",
       "\t<tr><th></th><th scope=col>&lt;dbl&gt;</th><th scope=col>&lt;chr&gt;</th><th scope=col>&lt;chr&gt;</th><th scope=col>&lt;chr&gt;</th><th scope=col>&lt;chr&gt;</th><th scope=col>&lt;chr&gt;</th><th scope=col>&lt;chr&gt;</th><th scope=col>&lt;chr&gt;</th><th scope=col>&lt;dbl&gt;</th><th scope=col>&lt;int&gt;</th><th scope=col>⋯</th><th scope=col>&lt;chr&gt;</th><th scope=col>&lt;chr&gt;</th><th scope=col>&lt;dbl&gt;</th><th scope=col>&lt;chr&gt;</th><th scope=col>&lt;chr&gt;</th><th scope=col>&lt;dbl&gt;</th><th scope=col>&lt;chr&gt;</th><th scope=col>&lt;chr&gt;</th><th scope=col>&lt;chr&gt;</th><th scope=col>&lt;chr&gt;</th></tr>\n",
       "</thead>\n",
       "<tbody>\n",
       "\t<tr><th scope=row>1</th><td>5634</td><td>CUS_0xd40</td><td>January </td><td>Aaron Maashoh</td><td>23  </td><td>821-00-0265</td><td>Scientist</td><td>19114.12</td><td>1824.843</td><td>3</td><td>⋯</td><td>_   </td><td>809.98</td><td>26.82262</td><td>22 Years and 1 Months</td><td>No</td><td>49.57495</td><td>80.41529543900253 </td><td>High_spent_Small_value_payments </td><td>312.49408867943663</td><td>Good</td></tr>\n",
       "\t<tr><th scope=row>2</th><td>5635</td><td>CUS_0xd40</td><td>February</td><td>Aaron Maashoh</td><td>23  </td><td>821-00-0265</td><td>Scientist</td><td>19114.12</td><td>      NA</td><td>3</td><td>⋯</td><td>Good</td><td>809.98</td><td>31.94496</td><td>NA                   </td><td>No</td><td>49.57495</td><td>118.28022162236736</td><td>Low_spent_Large_value_payments  </td><td>284.62916249607184</td><td>Good</td></tr>\n",
       "\t<tr><th scope=row>3</th><td>5636</td><td>CUS_0xd40</td><td>March   </td><td>Aaron Maashoh</td><td>-500</td><td>821-00-0265</td><td>Scientist</td><td>19114.12</td><td>      NA</td><td>3</td><td>⋯</td><td>Good</td><td>809.98</td><td>28.60935</td><td>22 Years and 3 Months</td><td>No</td><td>49.57495</td><td>81.699521264648   </td><td>Low_spent_Medium_value_payments </td><td>331.2098628537912 </td><td>Good</td></tr>\n",
       "\t<tr><th scope=row>4</th><td>5637</td><td>CUS_0xd40</td><td>April   </td><td>Aaron Maashoh</td><td>23  </td><td>821-00-0265</td><td>Scientist</td><td>19114.12</td><td>      NA</td><td>3</td><td>⋯</td><td>Good</td><td>809.98</td><td>31.37786</td><td>22 Years and 4 Months</td><td>No</td><td>49.57495</td><td>199.4580743910713 </td><td>Low_spent_Small_value_payments  </td><td>223.45130972736786</td><td>Good</td></tr>\n",
       "\t<tr><th scope=row>5</th><td>5638</td><td>CUS_0xd40</td><td>May     </td><td>Aaron Maashoh</td><td>23  </td><td>821-00-0265</td><td>Scientist</td><td>19114.12</td><td>1824.843</td><td>3</td><td>⋯</td><td>Good</td><td>809.98</td><td>24.79735</td><td>22 Years and 5 Months</td><td>No</td><td>49.57495</td><td>41.420153086217326</td><td>High_spent_Medium_value_payments</td><td>341.48923103222177</td><td>Good</td></tr>\n",
       "\t<tr><th scope=row>6</th><td>5639</td><td>CUS_0xd40</td><td>June    </td><td>Aaron Maashoh</td><td>23  </td><td>821-00-0265</td><td>Scientist</td><td>19114.12</td><td>      NA</td><td>3</td><td>⋯</td><td>Good</td><td>809.98</td><td>27.26226</td><td>22 Years and 6 Months</td><td>No</td><td>49.57495</td><td>62.430172331195294</td><td>!@9#%8                          </td><td>340.4792117872438 </td><td>Good</td></tr>\n",
       "</tbody>\n",
       "</table>\n"
      ],
      "text/latex": [
       "A data.frame: 6 × 28\n",
       "\\begin{tabular}{r|lllllllllllllllllllll}\n",
       "  & ID & Customer\\_ID & Month & Name & Age & SSN & Occupation & Annual\\_Income & Monthly\\_Inhand\\_Salary & Num\\_Bank\\_Accounts & ⋯ & Credit\\_Mix & Outstanding\\_Debt & Credit\\_Utilization\\_Ratio & Credit\\_History\\_Age & Payment\\_of\\_Min\\_Amount & Total\\_EMI\\_per\\_month & Amount\\_invested\\_monthly & Payment\\_Behaviour & Monthly\\_Balance & Credit\\_Score\\\\\n",
       "  & <dbl> & <chr> & <chr> & <chr> & <chr> & <chr> & <chr> & <chr> & <dbl> & <int> & ⋯ & <chr> & <chr> & <dbl> & <chr> & <chr> & <dbl> & <chr> & <chr> & <chr> & <chr>\\\\\n",
       "\\hline\n",
       "\t1 & 5634 & CUS\\_0xd40 & January  & Aaron Maashoh & 23   & 821-00-0265 & Scientist & 19114.12 & 1824.843 & 3 & ⋯ & \\_    & 809.98 & 26.82262 & 22 Years and 1 Months & No & 49.57495 & 80.41529543900253  & High\\_spent\\_Small\\_value\\_payments  & 312.49408867943663 & Good\\\\\n",
       "\t2 & 5635 & CUS\\_0xd40 & February & Aaron Maashoh & 23   & 821-00-0265 & Scientist & 19114.12 &       NA & 3 & ⋯ & Good & 809.98 & 31.94496 & NA                    & No & 49.57495 & 118.28022162236736 & Low\\_spent\\_Large\\_value\\_payments   & 284.62916249607184 & Good\\\\\n",
       "\t3 & 5636 & CUS\\_0xd40 & March    & Aaron Maashoh & -500 & 821-00-0265 & Scientist & 19114.12 &       NA & 3 & ⋯ & Good & 809.98 & 28.60935 & 22 Years and 3 Months & No & 49.57495 & 81.699521264648    & Low\\_spent\\_Medium\\_value\\_payments  & 331.2098628537912  & Good\\\\\n",
       "\t4 & 5637 & CUS\\_0xd40 & April    & Aaron Maashoh & 23   & 821-00-0265 & Scientist & 19114.12 &       NA & 3 & ⋯ & Good & 809.98 & 31.37786 & 22 Years and 4 Months & No & 49.57495 & 199.4580743910713  & Low\\_spent\\_Small\\_value\\_payments   & 223.45130972736786 & Good\\\\\n",
       "\t5 & 5638 & CUS\\_0xd40 & May      & Aaron Maashoh & 23   & 821-00-0265 & Scientist & 19114.12 & 1824.843 & 3 & ⋯ & Good & 809.98 & 24.79735 & 22 Years and 5 Months & No & 49.57495 & 41.420153086217326 & High\\_spent\\_Medium\\_value\\_payments & 341.48923103222177 & Good\\\\\n",
       "\t6 & 5639 & CUS\\_0xd40 & June     & Aaron Maashoh & 23   & 821-00-0265 & Scientist & 19114.12 &       NA & 3 & ⋯ & Good & 809.98 & 27.26226 & 22 Years and 6 Months & No & 49.57495 & 62.430172331195294 & !@9\\#\\%8                           & 340.4792117872438  & Good\\\\\n",
       "\\end{tabular}\n"
      ],
      "text/markdown": [
       "\n",
       "A data.frame: 6 × 28\n",
       "\n",
       "| <!--/--> | ID &lt;dbl&gt; | Customer_ID &lt;chr&gt; | Month &lt;chr&gt; | Name &lt;chr&gt; | Age &lt;chr&gt; | SSN &lt;chr&gt; | Occupation &lt;chr&gt; | Annual_Income &lt;chr&gt; | Monthly_Inhand_Salary &lt;dbl&gt; | Num_Bank_Accounts &lt;int&gt; | ⋯ ⋯ | Credit_Mix &lt;chr&gt; | Outstanding_Debt &lt;chr&gt; | Credit_Utilization_Ratio &lt;dbl&gt; | Credit_History_Age &lt;chr&gt; | Payment_of_Min_Amount &lt;chr&gt; | Total_EMI_per_month &lt;dbl&gt; | Amount_invested_monthly &lt;chr&gt; | Payment_Behaviour &lt;chr&gt; | Monthly_Balance &lt;chr&gt; | Credit_Score &lt;chr&gt; |\n",
       "|---|---|---|---|---|---|---|---|---|---|---|---|---|---|---|---|---|---|---|---|---|---|\n",
       "| 1 | 5634 | CUS_0xd40 | January  | Aaron Maashoh | 23   | 821-00-0265 | Scientist | 19114.12 | 1824.843 | 3 | ⋯ | _    | 809.98 | 26.82262 | 22 Years and 1 Months | No | 49.57495 | 80.41529543900253  | High_spent_Small_value_payments  | 312.49408867943663 | Good |\n",
       "| 2 | 5635 | CUS_0xd40 | February | Aaron Maashoh | 23   | 821-00-0265 | Scientist | 19114.12 |       NA | 3 | ⋯ | Good | 809.98 | 31.94496 | NA                    | No | 49.57495 | 118.28022162236736 | Low_spent_Large_value_payments   | 284.62916249607184 | Good |\n",
       "| 3 | 5636 | CUS_0xd40 | March    | Aaron Maashoh | -500 | 821-00-0265 | Scientist | 19114.12 |       NA | 3 | ⋯ | Good | 809.98 | 28.60935 | 22 Years and 3 Months | No | 49.57495 | 81.699521264648    | Low_spent_Medium_value_payments  | 331.2098628537912  | Good |\n",
       "| 4 | 5637 | CUS_0xd40 | April    | Aaron Maashoh | 23   | 821-00-0265 | Scientist | 19114.12 |       NA | 3 | ⋯ | Good | 809.98 | 31.37786 | 22 Years and 4 Months | No | 49.57495 | 199.4580743910713  | Low_spent_Small_value_payments   | 223.45130972736786 | Good |\n",
       "| 5 | 5638 | CUS_0xd40 | May      | Aaron Maashoh | 23   | 821-00-0265 | Scientist | 19114.12 | 1824.843 | 3 | ⋯ | Good | 809.98 | 24.79735 | 22 Years and 5 Months | No | 49.57495 | 41.420153086217326 | High_spent_Medium_value_payments | 341.48923103222177 | Good |\n",
       "| 6 | 5639 | CUS_0xd40 | June     | Aaron Maashoh | 23   | 821-00-0265 | Scientist | 19114.12 |       NA | 3 | ⋯ | Good | 809.98 | 27.26226 | 22 Years and 6 Months | No | 49.57495 | 62.430172331195294 | !@9#%8                           | 340.4792117872438  | Good |\n",
       "\n"
      ],
      "text/plain": [
       "  ID   Customer_ID Month    Name          Age  SSN         Occupation\n",
       "1 5634 CUS_0xd40   January  Aaron Maashoh 23   821-00-0265 Scientist \n",
       "2 5635 CUS_0xd40   February Aaron Maashoh 23   821-00-0265 Scientist \n",
       "3 5636 CUS_0xd40   March    Aaron Maashoh -500 821-00-0265 Scientist \n",
       "4 5637 CUS_0xd40   April    Aaron Maashoh 23   821-00-0265 Scientist \n",
       "5 5638 CUS_0xd40   May      Aaron Maashoh 23   821-00-0265 Scientist \n",
       "6 5639 CUS_0xd40   June     Aaron Maashoh 23   821-00-0265 Scientist \n",
       "  Annual_Income Monthly_Inhand_Salary Num_Bank_Accounts ⋯ Credit_Mix\n",
       "1 19114.12      1824.843              3                 ⋯ _         \n",
       "2 19114.12            NA              3                 ⋯ Good      \n",
       "3 19114.12            NA              3                 ⋯ Good      \n",
       "4 19114.12            NA              3                 ⋯ Good      \n",
       "5 19114.12      1824.843              3                 ⋯ Good      \n",
       "6 19114.12            NA              3                 ⋯ Good      \n",
       "  Outstanding_Debt Credit_Utilization_Ratio Credit_History_Age   \n",
       "1 809.98           26.82262                 22 Years and 1 Months\n",
       "2 809.98           31.94496                 NA                   \n",
       "3 809.98           28.60935                 22 Years and 3 Months\n",
       "4 809.98           31.37786                 22 Years and 4 Months\n",
       "5 809.98           24.79735                 22 Years and 5 Months\n",
       "6 809.98           27.26226                 22 Years and 6 Months\n",
       "  Payment_of_Min_Amount Total_EMI_per_month Amount_invested_monthly\n",
       "1 No                    49.57495            80.41529543900253      \n",
       "2 No                    49.57495            118.28022162236736     \n",
       "3 No                    49.57495            81.699521264648        \n",
       "4 No                    49.57495            199.4580743910713      \n",
       "5 No                    49.57495            41.420153086217326     \n",
       "6 No                    49.57495            62.430172331195294     \n",
       "  Payment_Behaviour                Monthly_Balance    Credit_Score\n",
       "1 High_spent_Small_value_payments  312.49408867943663 Good        \n",
       "2 Low_spent_Large_value_payments   284.62916249607184 Good        \n",
       "3 Low_spent_Medium_value_payments  331.2098628537912  Good        \n",
       "4 Low_spent_Small_value_payments   223.45130972736786 Good        \n",
       "5 High_spent_Medium_value_payments 341.48923103222177 Good        \n",
       "6 !@9#%8                           340.4792117872438  Good        "
      ]
     },
     "metadata": {},
     "output_type": "display_data"
    }
   ],
   "source": [
    "# Load libraries\n",
    "library(randomForest)\n",
    "library(caret)\n",
    "\n",
    "# Load data\n",
    "data <- read.csv(\"../input/credit-score-classification/train.csv\")\n",
    "head(data)"
   ]
  },
  {
   "cell_type": "code",
   "execution_count": 4,
   "metadata": {
    "vscode": {
     "languageId": "r"
    }
   },
   "outputs": [
    {
     "data": {
      "text/html": [
       "<table class=\"dataframe\">\n",
       "<caption>A data.frame: 6 × 28</caption>\n",
       "<thead>\n",
       "\t<tr><th></th><th scope=col>ID</th><th scope=col>Customer_ID</th><th scope=col>Month</th><th scope=col>Name</th><th scope=col>Age</th><th scope=col>SSN</th><th scope=col>Occupation</th><th scope=col>Annual_Income</th><th scope=col>Monthly_Inhand_Salary</th><th scope=col>Num_Bank_Accounts</th><th scope=col>⋯</th><th scope=col>Credit_Mix</th><th scope=col>Outstanding_Debt</th><th scope=col>Credit_Utilization_Ratio</th><th scope=col>Credit_History_Age</th><th scope=col>Payment_of_Min_Amount</th><th scope=col>Total_EMI_per_month</th><th scope=col>Amount_invested_monthly</th><th scope=col>Payment_Behaviour</th><th scope=col>Monthly_Balance</th><th scope=col>Credit_Score</th></tr>\n",
       "\t<tr><th></th><th scope=col>&lt;dbl&gt;</th><th scope=col>&lt;chr&gt;</th><th scope=col>&lt;chr&gt;</th><th scope=col>&lt;chr&gt;</th><th scope=col>&lt;chr&gt;</th><th scope=col>&lt;chr&gt;</th><th scope=col>&lt;chr&gt;</th><th scope=col>&lt;chr&gt;</th><th scope=col>&lt;dbl&gt;</th><th scope=col>&lt;int&gt;</th><th scope=col>⋯</th><th scope=col>&lt;chr&gt;</th><th scope=col>&lt;chr&gt;</th><th scope=col>&lt;dbl&gt;</th><th scope=col>&lt;chr&gt;</th><th scope=col>&lt;chr&gt;</th><th scope=col>&lt;dbl&gt;</th><th scope=col>&lt;chr&gt;</th><th scope=col>&lt;fct&gt;</th><th scope=col>&lt;chr&gt;</th><th scope=col>&lt;chr&gt;</th></tr>\n",
       "</thead>\n",
       "<tbody>\n",
       "\t<tr><th scope=row>1</th><td>5634</td><td>CUS_0xd40</td><td>January </td><td>Aaron Maashoh</td><td>23  </td><td>821-00-0265</td><td>Scientist</td><td>19114.12</td><td>1824.843</td><td>3</td><td>⋯</td><td>_   </td><td>809.98</td><td>26.82262</td><td>22 Years and 1 Months</td><td>No</td><td>49.57495</td><td>80.41529543900253 </td><td>High_spent_Small_value_payments </td><td>312.49408867943663</td><td>Good</td></tr>\n",
       "\t<tr><th scope=row>2</th><td>5635</td><td>CUS_0xd40</td><td>February</td><td>Aaron Maashoh</td><td>23  </td><td>821-00-0265</td><td>Scientist</td><td>19114.12</td><td>      NA</td><td>3</td><td>⋯</td><td>Good</td><td>809.98</td><td>31.94496</td><td>NA                   </td><td>No</td><td>49.57495</td><td>118.28022162236736</td><td>Low_spent_Large_value_payments  </td><td>284.62916249607184</td><td>Good</td></tr>\n",
       "\t<tr><th scope=row>3</th><td>5636</td><td>CUS_0xd40</td><td>March   </td><td>Aaron Maashoh</td><td>-500</td><td>821-00-0265</td><td>Scientist</td><td>19114.12</td><td>      NA</td><td>3</td><td>⋯</td><td>Good</td><td>809.98</td><td>28.60935</td><td>22 Years and 3 Months</td><td>No</td><td>49.57495</td><td>81.699521264648   </td><td>Low_spent_Medium_value_payments </td><td>331.2098628537912 </td><td>Good</td></tr>\n",
       "\t<tr><th scope=row>4</th><td>5637</td><td>CUS_0xd40</td><td>April   </td><td>Aaron Maashoh</td><td>23  </td><td>821-00-0265</td><td>Scientist</td><td>19114.12</td><td>      NA</td><td>3</td><td>⋯</td><td>Good</td><td>809.98</td><td>31.37786</td><td>22 Years and 4 Months</td><td>No</td><td>49.57495</td><td>199.4580743910713 </td><td>Low_spent_Small_value_payments  </td><td>223.45130972736786</td><td>Good</td></tr>\n",
       "\t<tr><th scope=row>5</th><td>5638</td><td>CUS_0xd40</td><td>May     </td><td>Aaron Maashoh</td><td>23  </td><td>821-00-0265</td><td>Scientist</td><td>19114.12</td><td>1824.843</td><td>3</td><td>⋯</td><td>Good</td><td>809.98</td><td>24.79735</td><td>22 Years and 5 Months</td><td>No</td><td>49.57495</td><td>41.420153086217326</td><td>High_spent_Medium_value_payments</td><td>341.48923103222177</td><td>Good</td></tr>\n",
       "\t<tr><th scope=row>6</th><td>5639</td><td>CUS_0xd40</td><td>June    </td><td>Aaron Maashoh</td><td>23  </td><td>821-00-0265</td><td>Scientist</td><td>19114.12</td><td>      NA</td><td>3</td><td>⋯</td><td>Good</td><td>809.98</td><td>27.26226</td><td>22 Years and 6 Months</td><td>No</td><td>49.57495</td><td>62.430172331195294</td><td>!@9#%8                          </td><td>340.4792117872438 </td><td>Good</td></tr>\n",
       "</tbody>\n",
       "</table>\n"
      ],
      "text/latex": [
       "A data.frame: 6 × 28\n",
       "\\begin{tabular}{r|lllllllllllllllllllll}\n",
       "  & ID & Customer\\_ID & Month & Name & Age & SSN & Occupation & Annual\\_Income & Monthly\\_Inhand\\_Salary & Num\\_Bank\\_Accounts & ⋯ & Credit\\_Mix & Outstanding\\_Debt & Credit\\_Utilization\\_Ratio & Credit\\_History\\_Age & Payment\\_of\\_Min\\_Amount & Total\\_EMI\\_per\\_month & Amount\\_invested\\_monthly & Payment\\_Behaviour & Monthly\\_Balance & Credit\\_Score\\\\\n",
       "  & <dbl> & <chr> & <chr> & <chr> & <chr> & <chr> & <chr> & <chr> & <dbl> & <int> & ⋯ & <chr> & <chr> & <dbl> & <chr> & <chr> & <dbl> & <chr> & <fct> & <chr> & <chr>\\\\\n",
       "\\hline\n",
       "\t1 & 5634 & CUS\\_0xd40 & January  & Aaron Maashoh & 23   & 821-00-0265 & Scientist & 19114.12 & 1824.843 & 3 & ⋯ & \\_    & 809.98 & 26.82262 & 22 Years and 1 Months & No & 49.57495 & 80.41529543900253  & High\\_spent\\_Small\\_value\\_payments  & 312.49408867943663 & Good\\\\\n",
       "\t2 & 5635 & CUS\\_0xd40 & February & Aaron Maashoh & 23   & 821-00-0265 & Scientist & 19114.12 &       NA & 3 & ⋯ & Good & 809.98 & 31.94496 & NA                    & No & 49.57495 & 118.28022162236736 & Low\\_spent\\_Large\\_value\\_payments   & 284.62916249607184 & Good\\\\\n",
       "\t3 & 5636 & CUS\\_0xd40 & March    & Aaron Maashoh & -500 & 821-00-0265 & Scientist & 19114.12 &       NA & 3 & ⋯ & Good & 809.98 & 28.60935 & 22 Years and 3 Months & No & 49.57495 & 81.699521264648    & Low\\_spent\\_Medium\\_value\\_payments  & 331.2098628537912  & Good\\\\\n",
       "\t4 & 5637 & CUS\\_0xd40 & April    & Aaron Maashoh & 23   & 821-00-0265 & Scientist & 19114.12 &       NA & 3 & ⋯ & Good & 809.98 & 31.37786 & 22 Years and 4 Months & No & 49.57495 & 199.4580743910713  & Low\\_spent\\_Small\\_value\\_payments   & 223.45130972736786 & Good\\\\\n",
       "\t5 & 5638 & CUS\\_0xd40 & May      & Aaron Maashoh & 23   & 821-00-0265 & Scientist & 19114.12 & 1824.843 & 3 & ⋯ & Good & 809.98 & 24.79735 & 22 Years and 5 Months & No & 49.57495 & 41.420153086217326 & High\\_spent\\_Medium\\_value\\_payments & 341.48923103222177 & Good\\\\\n",
       "\t6 & 5639 & CUS\\_0xd40 & June     & Aaron Maashoh & 23   & 821-00-0265 & Scientist & 19114.12 &       NA & 3 & ⋯ & Good & 809.98 & 27.26226 & 22 Years and 6 Months & No & 49.57495 & 62.430172331195294 & !@9\\#\\%8                           & 340.4792117872438  & Good\\\\\n",
       "\\end{tabular}\n"
      ],
      "text/markdown": [
       "\n",
       "A data.frame: 6 × 28\n",
       "\n",
       "| <!--/--> | ID &lt;dbl&gt; | Customer_ID &lt;chr&gt; | Month &lt;chr&gt; | Name &lt;chr&gt; | Age &lt;chr&gt; | SSN &lt;chr&gt; | Occupation &lt;chr&gt; | Annual_Income &lt;chr&gt; | Monthly_Inhand_Salary &lt;dbl&gt; | Num_Bank_Accounts &lt;int&gt; | ⋯ ⋯ | Credit_Mix &lt;chr&gt; | Outstanding_Debt &lt;chr&gt; | Credit_Utilization_Ratio &lt;dbl&gt; | Credit_History_Age &lt;chr&gt; | Payment_of_Min_Amount &lt;chr&gt; | Total_EMI_per_month &lt;dbl&gt; | Amount_invested_monthly &lt;chr&gt; | Payment_Behaviour &lt;fct&gt; | Monthly_Balance &lt;chr&gt; | Credit_Score &lt;chr&gt; |\n",
       "|---|---|---|---|---|---|---|---|---|---|---|---|---|---|---|---|---|---|---|---|---|---|\n",
       "| 1 | 5634 | CUS_0xd40 | January  | Aaron Maashoh | 23   | 821-00-0265 | Scientist | 19114.12 | 1824.843 | 3 | ⋯ | _    | 809.98 | 26.82262 | 22 Years and 1 Months | No | 49.57495 | 80.41529543900253  | High_spent_Small_value_payments  | 312.49408867943663 | Good |\n",
       "| 2 | 5635 | CUS_0xd40 | February | Aaron Maashoh | 23   | 821-00-0265 | Scientist | 19114.12 |       NA | 3 | ⋯ | Good | 809.98 | 31.94496 | NA                    | No | 49.57495 | 118.28022162236736 | Low_spent_Large_value_payments   | 284.62916249607184 | Good |\n",
       "| 3 | 5636 | CUS_0xd40 | March    | Aaron Maashoh | -500 | 821-00-0265 | Scientist | 19114.12 |       NA | 3 | ⋯ | Good | 809.98 | 28.60935 | 22 Years and 3 Months | No | 49.57495 | 81.699521264648    | Low_spent_Medium_value_payments  | 331.2098628537912  | Good |\n",
       "| 4 | 5637 | CUS_0xd40 | April    | Aaron Maashoh | 23   | 821-00-0265 | Scientist | 19114.12 |       NA | 3 | ⋯ | Good | 809.98 | 31.37786 | 22 Years and 4 Months | No | 49.57495 | 199.4580743910713  | Low_spent_Small_value_payments   | 223.45130972736786 | Good |\n",
       "| 5 | 5638 | CUS_0xd40 | May      | Aaron Maashoh | 23   | 821-00-0265 | Scientist | 19114.12 | 1824.843 | 3 | ⋯ | Good | 809.98 | 24.79735 | 22 Years and 5 Months | No | 49.57495 | 41.420153086217326 | High_spent_Medium_value_payments | 341.48923103222177 | Good |\n",
       "| 6 | 5639 | CUS_0xd40 | June     | Aaron Maashoh | 23   | 821-00-0265 | Scientist | 19114.12 |       NA | 3 | ⋯ | Good | 809.98 | 27.26226 | 22 Years and 6 Months | No | 49.57495 | 62.430172331195294 | !@9#%8                           | 340.4792117872438  | Good |\n",
       "\n"
      ],
      "text/plain": [
       "  ID   Customer_ID Month    Name          Age  SSN         Occupation\n",
       "1 5634 CUS_0xd40   January  Aaron Maashoh 23   821-00-0265 Scientist \n",
       "2 5635 CUS_0xd40   February Aaron Maashoh 23   821-00-0265 Scientist \n",
       "3 5636 CUS_0xd40   March    Aaron Maashoh -500 821-00-0265 Scientist \n",
       "4 5637 CUS_0xd40   April    Aaron Maashoh 23   821-00-0265 Scientist \n",
       "5 5638 CUS_0xd40   May      Aaron Maashoh 23   821-00-0265 Scientist \n",
       "6 5639 CUS_0xd40   June     Aaron Maashoh 23   821-00-0265 Scientist \n",
       "  Annual_Income Monthly_Inhand_Salary Num_Bank_Accounts ⋯ Credit_Mix\n",
       "1 19114.12      1824.843              3                 ⋯ _         \n",
       "2 19114.12            NA              3                 ⋯ Good      \n",
       "3 19114.12            NA              3                 ⋯ Good      \n",
       "4 19114.12            NA              3                 ⋯ Good      \n",
       "5 19114.12      1824.843              3                 ⋯ Good      \n",
       "6 19114.12            NA              3                 ⋯ Good      \n",
       "  Outstanding_Debt Credit_Utilization_Ratio Credit_History_Age   \n",
       "1 809.98           26.82262                 22 Years and 1 Months\n",
       "2 809.98           31.94496                 NA                   \n",
       "3 809.98           28.60935                 22 Years and 3 Months\n",
       "4 809.98           31.37786                 22 Years and 4 Months\n",
       "5 809.98           24.79735                 22 Years and 5 Months\n",
       "6 809.98           27.26226                 22 Years and 6 Months\n",
       "  Payment_of_Min_Amount Total_EMI_per_month Amount_invested_monthly\n",
       "1 No                    49.57495            80.41529543900253      \n",
       "2 No                    49.57495            118.28022162236736     \n",
       "3 No                    49.57495            81.699521264648        \n",
       "4 No                    49.57495            199.4580743910713      \n",
       "5 No                    49.57495            41.420153086217326     \n",
       "6 No                    49.57495            62.430172331195294     \n",
       "  Payment_Behaviour                Monthly_Balance    Credit_Score\n",
       "1 High_spent_Small_value_payments  312.49408867943663 Good        \n",
       "2 Low_spent_Large_value_payments   284.62916249607184 Good        \n",
       "3 Low_spent_Medium_value_payments  331.2098628537912  Good        \n",
       "4 Low_spent_Small_value_payments   223.45130972736786 Good        \n",
       "5 High_spent_Medium_value_payments 341.48923103222177 Good        \n",
       "6 !@9#%8                           340.4792117872438  Good        "
      ]
     },
     "metadata": {},
     "output_type": "display_data"
    }
   ],
   "source": [
    "data$Payment_Behaviour <- as.factor(data$Payment_Behaviour)\n",
    "head(data)"
   ]
  },
  {
   "cell_type": "code",
   "execution_count": 5,
   "metadata": {
    "vscode": {
     "languageId": "r"
    }
   },
   "outputs": [
    {
     "data": {
      "text/html": [
       "<table class=\"dataframe\">\n",
       "<caption>A data.frame: 6 × 28</caption>\n",
       "<thead>\n",
       "\t<tr><th></th><th scope=col>ID</th><th scope=col>Customer_ID</th><th scope=col>Month</th><th scope=col>Name</th><th scope=col>Age</th><th scope=col>SSN</th><th scope=col>Occupation</th><th scope=col>Annual_Income</th><th scope=col>Monthly_Inhand_Salary</th><th scope=col>Num_Bank_Accounts</th><th scope=col>⋯</th><th scope=col>Credit_Mix</th><th scope=col>Outstanding_Debt</th><th scope=col>Credit_Utilization_Ratio</th><th scope=col>Credit_History_Age</th><th scope=col>Payment_of_Min_Amount</th><th scope=col>Total_EMI_per_month</th><th scope=col>Amount_invested_monthly</th><th scope=col>Payment_Behaviour</th><th scope=col>Monthly_Balance</th><th scope=col>Credit_Score</th></tr>\n",
       "\t<tr><th></th><th scope=col>&lt;dbl&gt;</th><th scope=col>&lt;chr&gt;</th><th scope=col>&lt;chr&gt;</th><th scope=col>&lt;chr&gt;</th><th scope=col>&lt;chr&gt;</th><th scope=col>&lt;chr&gt;</th><th scope=col>&lt;chr&gt;</th><th scope=col>&lt;chr&gt;</th><th scope=col>&lt;dbl&gt;</th><th scope=col>&lt;int&gt;</th><th scope=col>⋯</th><th scope=col>&lt;chr&gt;</th><th scope=col>&lt;chr&gt;</th><th scope=col>&lt;dbl&gt;</th><th scope=col>&lt;chr&gt;</th><th scope=col>&lt;chr&gt;</th><th scope=col>&lt;dbl&gt;</th><th scope=col>&lt;chr&gt;</th><th scope=col>&lt;fct&gt;</th><th scope=col>&lt;chr&gt;</th><th scope=col>&lt;fct&gt;</th></tr>\n",
       "</thead>\n",
       "<tbody>\n",
       "\t<tr><th scope=row>1</th><td>5634</td><td>CUS_0xd40</td><td>January </td><td>Aaron Maashoh</td><td>23  </td><td>821-00-0265</td><td>Scientist</td><td>19114.12</td><td>1824.843</td><td>3</td><td>⋯</td><td>_   </td><td>809.98</td><td>26.82262</td><td>22 Years and 1 Months</td><td>No</td><td>49.57495</td><td>80.41529543900253 </td><td>High_spent_Small_value_payments </td><td>312.49408867943663</td><td>Good</td></tr>\n",
       "\t<tr><th scope=row>2</th><td>5635</td><td>CUS_0xd40</td><td>February</td><td>Aaron Maashoh</td><td>23  </td><td>821-00-0265</td><td>Scientist</td><td>19114.12</td><td>      NA</td><td>3</td><td>⋯</td><td>Good</td><td>809.98</td><td>31.94496</td><td>NA                   </td><td>No</td><td>49.57495</td><td>118.28022162236736</td><td>Low_spent_Large_value_payments  </td><td>284.62916249607184</td><td>Good</td></tr>\n",
       "\t<tr><th scope=row>3</th><td>5636</td><td>CUS_0xd40</td><td>March   </td><td>Aaron Maashoh</td><td>-500</td><td>821-00-0265</td><td>Scientist</td><td>19114.12</td><td>      NA</td><td>3</td><td>⋯</td><td>Good</td><td>809.98</td><td>28.60935</td><td>22 Years and 3 Months</td><td>No</td><td>49.57495</td><td>81.699521264648   </td><td>Low_spent_Medium_value_payments </td><td>331.2098628537912 </td><td>Good</td></tr>\n",
       "\t<tr><th scope=row>4</th><td>5637</td><td>CUS_0xd40</td><td>April   </td><td>Aaron Maashoh</td><td>23  </td><td>821-00-0265</td><td>Scientist</td><td>19114.12</td><td>      NA</td><td>3</td><td>⋯</td><td>Good</td><td>809.98</td><td>31.37786</td><td>22 Years and 4 Months</td><td>No</td><td>49.57495</td><td>199.4580743910713 </td><td>Low_spent_Small_value_payments  </td><td>223.45130972736786</td><td>Good</td></tr>\n",
       "\t<tr><th scope=row>5</th><td>5638</td><td>CUS_0xd40</td><td>May     </td><td>Aaron Maashoh</td><td>23  </td><td>821-00-0265</td><td>Scientist</td><td>19114.12</td><td>1824.843</td><td>3</td><td>⋯</td><td>Good</td><td>809.98</td><td>24.79735</td><td>22 Years and 5 Months</td><td>No</td><td>49.57495</td><td>41.420153086217326</td><td>High_spent_Medium_value_payments</td><td>341.48923103222177</td><td>Good</td></tr>\n",
       "\t<tr><th scope=row>6</th><td>5639</td><td>CUS_0xd40</td><td>June    </td><td>Aaron Maashoh</td><td>23  </td><td>821-00-0265</td><td>Scientist</td><td>19114.12</td><td>      NA</td><td>3</td><td>⋯</td><td>Good</td><td>809.98</td><td>27.26226</td><td>22 Years and 6 Months</td><td>No</td><td>49.57495</td><td>62.430172331195294</td><td>!@9#%8                          </td><td>340.4792117872438 </td><td>Good</td></tr>\n",
       "</tbody>\n",
       "</table>\n"
      ],
      "text/latex": [
       "A data.frame: 6 × 28\n",
       "\\begin{tabular}{r|lllllllllllllllllllll}\n",
       "  & ID & Customer\\_ID & Month & Name & Age & SSN & Occupation & Annual\\_Income & Monthly\\_Inhand\\_Salary & Num\\_Bank\\_Accounts & ⋯ & Credit\\_Mix & Outstanding\\_Debt & Credit\\_Utilization\\_Ratio & Credit\\_History\\_Age & Payment\\_of\\_Min\\_Amount & Total\\_EMI\\_per\\_month & Amount\\_invested\\_monthly & Payment\\_Behaviour & Monthly\\_Balance & Credit\\_Score\\\\\n",
       "  & <dbl> & <chr> & <chr> & <chr> & <chr> & <chr> & <chr> & <chr> & <dbl> & <int> & ⋯ & <chr> & <chr> & <dbl> & <chr> & <chr> & <dbl> & <chr> & <fct> & <chr> & <fct>\\\\\n",
       "\\hline\n",
       "\t1 & 5634 & CUS\\_0xd40 & January  & Aaron Maashoh & 23   & 821-00-0265 & Scientist & 19114.12 & 1824.843 & 3 & ⋯ & \\_    & 809.98 & 26.82262 & 22 Years and 1 Months & No & 49.57495 & 80.41529543900253  & High\\_spent\\_Small\\_value\\_payments  & 312.49408867943663 & Good\\\\\n",
       "\t2 & 5635 & CUS\\_0xd40 & February & Aaron Maashoh & 23   & 821-00-0265 & Scientist & 19114.12 &       NA & 3 & ⋯ & Good & 809.98 & 31.94496 & NA                    & No & 49.57495 & 118.28022162236736 & Low\\_spent\\_Large\\_value\\_payments   & 284.62916249607184 & Good\\\\\n",
       "\t3 & 5636 & CUS\\_0xd40 & March    & Aaron Maashoh & -500 & 821-00-0265 & Scientist & 19114.12 &       NA & 3 & ⋯ & Good & 809.98 & 28.60935 & 22 Years and 3 Months & No & 49.57495 & 81.699521264648    & Low\\_spent\\_Medium\\_value\\_payments  & 331.2098628537912  & Good\\\\\n",
       "\t4 & 5637 & CUS\\_0xd40 & April    & Aaron Maashoh & 23   & 821-00-0265 & Scientist & 19114.12 &       NA & 3 & ⋯ & Good & 809.98 & 31.37786 & 22 Years and 4 Months & No & 49.57495 & 199.4580743910713  & Low\\_spent\\_Small\\_value\\_payments   & 223.45130972736786 & Good\\\\\n",
       "\t5 & 5638 & CUS\\_0xd40 & May      & Aaron Maashoh & 23   & 821-00-0265 & Scientist & 19114.12 & 1824.843 & 3 & ⋯ & Good & 809.98 & 24.79735 & 22 Years and 5 Months & No & 49.57495 & 41.420153086217326 & High\\_spent\\_Medium\\_value\\_payments & 341.48923103222177 & Good\\\\\n",
       "\t6 & 5639 & CUS\\_0xd40 & June     & Aaron Maashoh & 23   & 821-00-0265 & Scientist & 19114.12 &       NA & 3 & ⋯ & Good & 809.98 & 27.26226 & 22 Years and 6 Months & No & 49.57495 & 62.430172331195294 & !@9\\#\\%8                           & 340.4792117872438  & Good\\\\\n",
       "\\end{tabular}\n"
      ],
      "text/markdown": [
       "\n",
       "A data.frame: 6 × 28\n",
       "\n",
       "| <!--/--> | ID &lt;dbl&gt; | Customer_ID &lt;chr&gt; | Month &lt;chr&gt; | Name &lt;chr&gt; | Age &lt;chr&gt; | SSN &lt;chr&gt; | Occupation &lt;chr&gt; | Annual_Income &lt;chr&gt; | Monthly_Inhand_Salary &lt;dbl&gt; | Num_Bank_Accounts &lt;int&gt; | ⋯ ⋯ | Credit_Mix &lt;chr&gt; | Outstanding_Debt &lt;chr&gt; | Credit_Utilization_Ratio &lt;dbl&gt; | Credit_History_Age &lt;chr&gt; | Payment_of_Min_Amount &lt;chr&gt; | Total_EMI_per_month &lt;dbl&gt; | Amount_invested_monthly &lt;chr&gt; | Payment_Behaviour &lt;fct&gt; | Monthly_Balance &lt;chr&gt; | Credit_Score &lt;fct&gt; |\n",
       "|---|---|---|---|---|---|---|---|---|---|---|---|---|---|---|---|---|---|---|---|---|---|\n",
       "| 1 | 5634 | CUS_0xd40 | January  | Aaron Maashoh | 23   | 821-00-0265 | Scientist | 19114.12 | 1824.843 | 3 | ⋯ | _    | 809.98 | 26.82262 | 22 Years and 1 Months | No | 49.57495 | 80.41529543900253  | High_spent_Small_value_payments  | 312.49408867943663 | Good |\n",
       "| 2 | 5635 | CUS_0xd40 | February | Aaron Maashoh | 23   | 821-00-0265 | Scientist | 19114.12 |       NA | 3 | ⋯ | Good | 809.98 | 31.94496 | NA                    | No | 49.57495 | 118.28022162236736 | Low_spent_Large_value_payments   | 284.62916249607184 | Good |\n",
       "| 3 | 5636 | CUS_0xd40 | March    | Aaron Maashoh | -500 | 821-00-0265 | Scientist | 19114.12 |       NA | 3 | ⋯ | Good | 809.98 | 28.60935 | 22 Years and 3 Months | No | 49.57495 | 81.699521264648    | Low_spent_Medium_value_payments  | 331.2098628537912  | Good |\n",
       "| 4 | 5637 | CUS_0xd40 | April    | Aaron Maashoh | 23   | 821-00-0265 | Scientist | 19114.12 |       NA | 3 | ⋯ | Good | 809.98 | 31.37786 | 22 Years and 4 Months | No | 49.57495 | 199.4580743910713  | Low_spent_Small_value_payments   | 223.45130972736786 | Good |\n",
       "| 5 | 5638 | CUS_0xd40 | May      | Aaron Maashoh | 23   | 821-00-0265 | Scientist | 19114.12 | 1824.843 | 3 | ⋯ | Good | 809.98 | 24.79735 | 22 Years and 5 Months | No | 49.57495 | 41.420153086217326 | High_spent_Medium_value_payments | 341.48923103222177 | Good |\n",
       "| 6 | 5639 | CUS_0xd40 | June     | Aaron Maashoh | 23   | 821-00-0265 | Scientist | 19114.12 |       NA | 3 | ⋯ | Good | 809.98 | 27.26226 | 22 Years and 6 Months | No | 49.57495 | 62.430172331195294 | !@9#%8                           | 340.4792117872438  | Good |\n",
       "\n"
      ],
      "text/plain": [
       "  ID   Customer_ID Month    Name          Age  SSN         Occupation\n",
       "1 5634 CUS_0xd40   January  Aaron Maashoh 23   821-00-0265 Scientist \n",
       "2 5635 CUS_0xd40   February Aaron Maashoh 23   821-00-0265 Scientist \n",
       "3 5636 CUS_0xd40   March    Aaron Maashoh -500 821-00-0265 Scientist \n",
       "4 5637 CUS_0xd40   April    Aaron Maashoh 23   821-00-0265 Scientist \n",
       "5 5638 CUS_0xd40   May      Aaron Maashoh 23   821-00-0265 Scientist \n",
       "6 5639 CUS_0xd40   June     Aaron Maashoh 23   821-00-0265 Scientist \n",
       "  Annual_Income Monthly_Inhand_Salary Num_Bank_Accounts ⋯ Credit_Mix\n",
       "1 19114.12      1824.843              3                 ⋯ _         \n",
       "2 19114.12            NA              3                 ⋯ Good      \n",
       "3 19114.12            NA              3                 ⋯ Good      \n",
       "4 19114.12            NA              3                 ⋯ Good      \n",
       "5 19114.12      1824.843              3                 ⋯ Good      \n",
       "6 19114.12            NA              3                 ⋯ Good      \n",
       "  Outstanding_Debt Credit_Utilization_Ratio Credit_History_Age   \n",
       "1 809.98           26.82262                 22 Years and 1 Months\n",
       "2 809.98           31.94496                 NA                   \n",
       "3 809.98           28.60935                 22 Years and 3 Months\n",
       "4 809.98           31.37786                 22 Years and 4 Months\n",
       "5 809.98           24.79735                 22 Years and 5 Months\n",
       "6 809.98           27.26226                 22 Years and 6 Months\n",
       "  Payment_of_Min_Amount Total_EMI_per_month Amount_invested_monthly\n",
       "1 No                    49.57495            80.41529543900253      \n",
       "2 No                    49.57495            118.28022162236736     \n",
       "3 No                    49.57495            81.699521264648        \n",
       "4 No                    49.57495            199.4580743910713      \n",
       "5 No                    49.57495            41.420153086217326     \n",
       "6 No                    49.57495            62.430172331195294     \n",
       "  Payment_Behaviour                Monthly_Balance    Credit_Score\n",
       "1 High_spent_Small_value_payments  312.49408867943663 Good        \n",
       "2 Low_spent_Large_value_payments   284.62916249607184 Good        \n",
       "3 Low_spent_Medium_value_payments  331.2098628537912  Good        \n",
       "4 Low_spent_Small_value_payments   223.45130972736786 Good        \n",
       "5 High_spent_Medium_value_payments 341.48923103222177 Good        \n",
       "6 !@9#%8                           340.4792117872438  Good        "
      ]
     },
     "metadata": {},
     "output_type": "display_data"
    }
   ],
   "source": [
    "data$Credit_Score <- as.factor(data$Credit_Score)\n",
    "head(data)"
   ]
  },
  {
   "cell_type": "code",
   "execution_count": 6,
   "metadata": {
    "vscode": {
     "languageId": "r"
    }
   },
   "outputs": [
    {
     "name": "stdout",
     "output_type": "stream",
     "text": [
      "'data.frame':\t100000 obs. of  28 variables:\n",
      " $ ID                      : num  5634 5635 5636 5637 5638 ...\n",
      " $ Customer_ID             : chr  \"CUS_0xd40\" \"CUS_0xd40\" \"CUS_0xd40\" \"CUS_0xd40\" ...\n",
      " $ Month                   : chr  \"January\" \"February\" \"March\" \"April\" ...\n",
      " $ Name                    : chr  \"Aaron Maashoh\" \"Aaron Maashoh\" \"Aaron Maashoh\" \"Aaron Maashoh\" ...\n",
      " $ Age                     : chr  \"23\" \"23\" \"-500\" \"23\" ...\n",
      " $ SSN                     : chr  \"821-00-0265\" \"821-00-0265\" \"821-00-0265\" \"821-00-0265\" ...\n",
      " $ Occupation              : chr  \"Scientist\" \"Scientist\" \"Scientist\" \"Scientist\" ...\n",
      " $ Annual_Income           : chr  \"19114.12\" \"19114.12\" \"19114.12\" \"19114.12\" ...\n",
      " $ Monthly_Inhand_Salary   : num  1825 NA NA NA 1825 ...\n",
      " $ Num_Bank_Accounts       : int  3 3 3 3 3 3 3 3 2 2 ...\n",
      " $ Num_Credit_Card         : int  4 4 4 4 4 4 4 4 4 4 ...\n",
      " $ Interest_Rate           : int  3 3 3 3 3 3 3 3 6 6 ...\n",
      " $ Num_of_Loan             : chr  \"4\" \"4\" \"4\" \"4\" ...\n",
      " $ Type_of_Loan            : chr  \"Auto Loan, Credit-Builder Loan, Personal Loan, and Home Equity Loan\" \"Auto Loan, Credit-Builder Loan, Personal Loan, and Home Equity Loan\" \"Auto Loan, Credit-Builder Loan, Personal Loan, and Home Equity Loan\" \"Auto Loan, Credit-Builder Loan, Personal Loan, and Home Equity Loan\" ...\n",
      " $ Delay_from_due_date     : int  3 -1 3 5 6 8 3 3 3 7 ...\n",
      " $ Num_of_Delayed_Payment  : chr  \"7\" \"\" \"7\" \"4\" ...\n",
      " $ Changed_Credit_Limit    : chr  \"11.27\" \"11.27\" \"_\" \"6.27\" ...\n",
      " $ Num_Credit_Inquiries    : num  4 4 4 4 4 4 4 4 2 2 ...\n",
      " $ Credit_Mix              : chr  \"_\" \"Good\" \"Good\" \"Good\" ...\n",
      " $ Outstanding_Debt        : chr  \"809.98\" \"809.98\" \"809.98\" \"809.98\" ...\n",
      " $ Credit_Utilization_Ratio: num  26.8 31.9 28.6 31.4 24.8 ...\n",
      " $ Credit_History_Age      : chr  \"22 Years and 1 Months\" NA \"22 Years and 3 Months\" \"22 Years and 4 Months\" ...\n",
      " $ Payment_of_Min_Amount   : chr  \"No\" \"No\" \"No\" \"No\" ...\n",
      " $ Total_EMI_per_month     : num  49.6 49.6 49.6 49.6 49.6 ...\n",
      " $ Amount_invested_monthly : chr  \"80.41529543900253\" \"118.28022162236736\" \"81.699521264648\" \"199.4580743910713\" ...\n",
      " $ Payment_Behaviour       : Factor w/ 7 levels \"!@9#%8\",\"High_spent_Large_value_payments\",..: 4 5 6 7 3 1 7 3 7 2 ...\n",
      " $ Monthly_Balance         : chr  \"312.49408867943663\" \"284.62916249607184\" \"331.2098628537912\" \"223.45130972736786\" ...\n",
      " $ Credit_Score            : Factor w/ 3 levels \"Good\",\"Poor\",..: 1 1 1 1 1 1 1 3 3 1 ...\n"
     ]
    }
   ],
   "source": [
    "str(data)"
   ]
  },
  {
   "cell_type": "code",
   "execution_count": 7,
   "metadata": {
    "vscode": {
     "languageId": "r"
    }
   },
   "outputs": [
    {
     "data": {
      "text/html": [
       "<table class=\"dataframe\">\n",
       "<caption>A data.frame: 6 × 28</caption>\n",
       "<thead>\n",
       "\t<tr><th></th><th scope=col>ID</th><th scope=col>Customer_ID</th><th scope=col>Month</th><th scope=col>Name</th><th scope=col>Age</th><th scope=col>SSN</th><th scope=col>Occupation</th><th scope=col>Annual_Income</th><th scope=col>Monthly_Inhand_Salary</th><th scope=col>Num_Bank_Accounts</th><th scope=col>⋯</th><th scope=col>Credit_Mix</th><th scope=col>Outstanding_Debt</th><th scope=col>Credit_Utilization_Ratio</th><th scope=col>Credit_History_Age</th><th scope=col>Payment_of_Min_Amount</th><th scope=col>Total_EMI_per_month</th><th scope=col>Amount_invested_monthly</th><th scope=col>Payment_Behaviour</th><th scope=col>Monthly_Balance</th><th scope=col>Credit_Score</th></tr>\n",
       "\t<tr><th></th><th scope=col>&lt;dbl&gt;</th><th scope=col>&lt;chr&gt;</th><th scope=col>&lt;chr&gt;</th><th scope=col>&lt;chr&gt;</th><th scope=col>&lt;chr&gt;</th><th scope=col>&lt;chr&gt;</th><th scope=col>&lt;chr&gt;</th><th scope=col>&lt;fct&gt;</th><th scope=col>&lt;dbl&gt;</th><th scope=col>&lt;int&gt;</th><th scope=col>⋯</th><th scope=col>&lt;chr&gt;</th><th scope=col>&lt;chr&gt;</th><th scope=col>&lt;dbl&gt;</th><th scope=col>&lt;chr&gt;</th><th scope=col>&lt;chr&gt;</th><th scope=col>&lt;dbl&gt;</th><th scope=col>&lt;chr&gt;</th><th scope=col>&lt;fct&gt;</th><th scope=col>&lt;chr&gt;</th><th scope=col>&lt;fct&gt;</th></tr>\n",
       "</thead>\n",
       "<tbody>\n",
       "\t<tr><th scope=row>1</th><td>5634</td><td>CUS_0xd40</td><td>January </td><td>Aaron Maashoh</td><td>23  </td><td>821-00-0265</td><td>Scientist</td><td>19114.12</td><td>1824.843</td><td>3</td><td>⋯</td><td>_   </td><td>809.98</td><td>26.82262</td><td>22 Years and 1 Months</td><td>No</td><td>49.57495</td><td>80.41529543900253 </td><td>High_spent_Small_value_payments </td><td>312.49408867943663</td><td>Good</td></tr>\n",
       "\t<tr><th scope=row>2</th><td>5635</td><td>CUS_0xd40</td><td>February</td><td>Aaron Maashoh</td><td>23  </td><td>821-00-0265</td><td>Scientist</td><td>19114.12</td><td>      NA</td><td>3</td><td>⋯</td><td>Good</td><td>809.98</td><td>31.94496</td><td>NA                   </td><td>No</td><td>49.57495</td><td>118.28022162236736</td><td>Low_spent_Large_value_payments  </td><td>284.62916249607184</td><td>Good</td></tr>\n",
       "\t<tr><th scope=row>3</th><td>5636</td><td>CUS_0xd40</td><td>March   </td><td>Aaron Maashoh</td><td>-500</td><td>821-00-0265</td><td>Scientist</td><td>19114.12</td><td>      NA</td><td>3</td><td>⋯</td><td>Good</td><td>809.98</td><td>28.60935</td><td>22 Years and 3 Months</td><td>No</td><td>49.57495</td><td>81.699521264648   </td><td>Low_spent_Medium_value_payments </td><td>331.2098628537912 </td><td>Good</td></tr>\n",
       "\t<tr><th scope=row>4</th><td>5637</td><td>CUS_0xd40</td><td>April   </td><td>Aaron Maashoh</td><td>23  </td><td>821-00-0265</td><td>Scientist</td><td>19114.12</td><td>      NA</td><td>3</td><td>⋯</td><td>Good</td><td>809.98</td><td>31.37786</td><td>22 Years and 4 Months</td><td>No</td><td>49.57495</td><td>199.4580743910713 </td><td>Low_spent_Small_value_payments  </td><td>223.45130972736786</td><td>Good</td></tr>\n",
       "\t<tr><th scope=row>5</th><td>5638</td><td>CUS_0xd40</td><td>May     </td><td>Aaron Maashoh</td><td>23  </td><td>821-00-0265</td><td>Scientist</td><td>19114.12</td><td>1824.843</td><td>3</td><td>⋯</td><td>Good</td><td>809.98</td><td>24.79735</td><td>22 Years and 5 Months</td><td>No</td><td>49.57495</td><td>41.420153086217326</td><td>High_spent_Medium_value_payments</td><td>341.48923103222177</td><td>Good</td></tr>\n",
       "\t<tr><th scope=row>6</th><td>5639</td><td>CUS_0xd40</td><td>June    </td><td>Aaron Maashoh</td><td>23  </td><td>821-00-0265</td><td>Scientist</td><td>19114.12</td><td>      NA</td><td>3</td><td>⋯</td><td>Good</td><td>809.98</td><td>27.26226</td><td>22 Years and 6 Months</td><td>No</td><td>49.57495</td><td>62.430172331195294</td><td>!@9#%8                          </td><td>340.4792117872438 </td><td>Good</td></tr>\n",
       "</tbody>\n",
       "</table>\n"
      ],
      "text/latex": [
       "A data.frame: 6 × 28\n",
       "\\begin{tabular}{r|lllllllllllllllllllll}\n",
       "  & ID & Customer\\_ID & Month & Name & Age & SSN & Occupation & Annual\\_Income & Monthly\\_Inhand\\_Salary & Num\\_Bank\\_Accounts & ⋯ & Credit\\_Mix & Outstanding\\_Debt & Credit\\_Utilization\\_Ratio & Credit\\_History\\_Age & Payment\\_of\\_Min\\_Amount & Total\\_EMI\\_per\\_month & Amount\\_invested\\_monthly & Payment\\_Behaviour & Monthly\\_Balance & Credit\\_Score\\\\\n",
       "  & <dbl> & <chr> & <chr> & <chr> & <chr> & <chr> & <chr> & <fct> & <dbl> & <int> & ⋯ & <chr> & <chr> & <dbl> & <chr> & <chr> & <dbl> & <chr> & <fct> & <chr> & <fct>\\\\\n",
       "\\hline\n",
       "\t1 & 5634 & CUS\\_0xd40 & January  & Aaron Maashoh & 23   & 821-00-0265 & Scientist & 19114.12 & 1824.843 & 3 & ⋯ & \\_    & 809.98 & 26.82262 & 22 Years and 1 Months & No & 49.57495 & 80.41529543900253  & High\\_spent\\_Small\\_value\\_payments  & 312.49408867943663 & Good\\\\\n",
       "\t2 & 5635 & CUS\\_0xd40 & February & Aaron Maashoh & 23   & 821-00-0265 & Scientist & 19114.12 &       NA & 3 & ⋯ & Good & 809.98 & 31.94496 & NA                    & No & 49.57495 & 118.28022162236736 & Low\\_spent\\_Large\\_value\\_payments   & 284.62916249607184 & Good\\\\\n",
       "\t3 & 5636 & CUS\\_0xd40 & March    & Aaron Maashoh & -500 & 821-00-0265 & Scientist & 19114.12 &       NA & 3 & ⋯ & Good & 809.98 & 28.60935 & 22 Years and 3 Months & No & 49.57495 & 81.699521264648    & Low\\_spent\\_Medium\\_value\\_payments  & 331.2098628537912  & Good\\\\\n",
       "\t4 & 5637 & CUS\\_0xd40 & April    & Aaron Maashoh & 23   & 821-00-0265 & Scientist & 19114.12 &       NA & 3 & ⋯ & Good & 809.98 & 31.37786 & 22 Years and 4 Months & No & 49.57495 & 199.4580743910713  & Low\\_spent\\_Small\\_value\\_payments   & 223.45130972736786 & Good\\\\\n",
       "\t5 & 5638 & CUS\\_0xd40 & May      & Aaron Maashoh & 23   & 821-00-0265 & Scientist & 19114.12 & 1824.843 & 3 & ⋯ & Good & 809.98 & 24.79735 & 22 Years and 5 Months & No & 49.57495 & 41.420153086217326 & High\\_spent\\_Medium\\_value\\_payments & 341.48923103222177 & Good\\\\\n",
       "\t6 & 5639 & CUS\\_0xd40 & June     & Aaron Maashoh & 23   & 821-00-0265 & Scientist & 19114.12 &       NA & 3 & ⋯ & Good & 809.98 & 27.26226 & 22 Years and 6 Months & No & 49.57495 & 62.430172331195294 & !@9\\#\\%8                           & 340.4792117872438  & Good\\\\\n",
       "\\end{tabular}\n"
      ],
      "text/markdown": [
       "\n",
       "A data.frame: 6 × 28\n",
       "\n",
       "| <!--/--> | ID &lt;dbl&gt; | Customer_ID &lt;chr&gt; | Month &lt;chr&gt; | Name &lt;chr&gt; | Age &lt;chr&gt; | SSN &lt;chr&gt; | Occupation &lt;chr&gt; | Annual_Income &lt;fct&gt; | Monthly_Inhand_Salary &lt;dbl&gt; | Num_Bank_Accounts &lt;int&gt; | ⋯ ⋯ | Credit_Mix &lt;chr&gt; | Outstanding_Debt &lt;chr&gt; | Credit_Utilization_Ratio &lt;dbl&gt; | Credit_History_Age &lt;chr&gt; | Payment_of_Min_Amount &lt;chr&gt; | Total_EMI_per_month &lt;dbl&gt; | Amount_invested_monthly &lt;chr&gt; | Payment_Behaviour &lt;fct&gt; | Monthly_Balance &lt;chr&gt; | Credit_Score &lt;fct&gt; |\n",
       "|---|---|---|---|---|---|---|---|---|---|---|---|---|---|---|---|---|---|---|---|---|---|\n",
       "| 1 | 5634 | CUS_0xd40 | January  | Aaron Maashoh | 23   | 821-00-0265 | Scientist | 19114.12 | 1824.843 | 3 | ⋯ | _    | 809.98 | 26.82262 | 22 Years and 1 Months | No | 49.57495 | 80.41529543900253  | High_spent_Small_value_payments  | 312.49408867943663 | Good |\n",
       "| 2 | 5635 | CUS_0xd40 | February | Aaron Maashoh | 23   | 821-00-0265 | Scientist | 19114.12 |       NA | 3 | ⋯ | Good | 809.98 | 31.94496 | NA                    | No | 49.57495 | 118.28022162236736 | Low_spent_Large_value_payments   | 284.62916249607184 | Good |\n",
       "| 3 | 5636 | CUS_0xd40 | March    | Aaron Maashoh | -500 | 821-00-0265 | Scientist | 19114.12 |       NA | 3 | ⋯ | Good | 809.98 | 28.60935 | 22 Years and 3 Months | No | 49.57495 | 81.699521264648    | Low_spent_Medium_value_payments  | 331.2098628537912  | Good |\n",
       "| 4 | 5637 | CUS_0xd40 | April    | Aaron Maashoh | 23   | 821-00-0265 | Scientist | 19114.12 |       NA | 3 | ⋯ | Good | 809.98 | 31.37786 | 22 Years and 4 Months | No | 49.57495 | 199.4580743910713  | Low_spent_Small_value_payments   | 223.45130972736786 | Good |\n",
       "| 5 | 5638 | CUS_0xd40 | May      | Aaron Maashoh | 23   | 821-00-0265 | Scientist | 19114.12 | 1824.843 | 3 | ⋯ | Good | 809.98 | 24.79735 | 22 Years and 5 Months | No | 49.57495 | 41.420153086217326 | High_spent_Medium_value_payments | 341.48923103222177 | Good |\n",
       "| 6 | 5639 | CUS_0xd40 | June     | Aaron Maashoh | 23   | 821-00-0265 | Scientist | 19114.12 |       NA | 3 | ⋯ | Good | 809.98 | 27.26226 | 22 Years and 6 Months | No | 49.57495 | 62.430172331195294 | !@9#%8                           | 340.4792117872438  | Good |\n",
       "\n"
      ],
      "text/plain": [
       "  ID   Customer_ID Month    Name          Age  SSN         Occupation\n",
       "1 5634 CUS_0xd40   January  Aaron Maashoh 23   821-00-0265 Scientist \n",
       "2 5635 CUS_0xd40   February Aaron Maashoh 23   821-00-0265 Scientist \n",
       "3 5636 CUS_0xd40   March    Aaron Maashoh -500 821-00-0265 Scientist \n",
       "4 5637 CUS_0xd40   April    Aaron Maashoh 23   821-00-0265 Scientist \n",
       "5 5638 CUS_0xd40   May      Aaron Maashoh 23   821-00-0265 Scientist \n",
       "6 5639 CUS_0xd40   June     Aaron Maashoh 23   821-00-0265 Scientist \n",
       "  Annual_Income Monthly_Inhand_Salary Num_Bank_Accounts ⋯ Credit_Mix\n",
       "1 19114.12      1824.843              3                 ⋯ _         \n",
       "2 19114.12            NA              3                 ⋯ Good      \n",
       "3 19114.12            NA              3                 ⋯ Good      \n",
       "4 19114.12            NA              3                 ⋯ Good      \n",
       "5 19114.12      1824.843              3                 ⋯ Good      \n",
       "6 19114.12            NA              3                 ⋯ Good      \n",
       "  Outstanding_Debt Credit_Utilization_Ratio Credit_History_Age   \n",
       "1 809.98           26.82262                 22 Years and 1 Months\n",
       "2 809.98           31.94496                 NA                   \n",
       "3 809.98           28.60935                 22 Years and 3 Months\n",
       "4 809.98           31.37786                 22 Years and 4 Months\n",
       "5 809.98           24.79735                 22 Years and 5 Months\n",
       "6 809.98           27.26226                 22 Years and 6 Months\n",
       "  Payment_of_Min_Amount Total_EMI_per_month Amount_invested_monthly\n",
       "1 No                    49.57495            80.41529543900253      \n",
       "2 No                    49.57495            118.28022162236736     \n",
       "3 No                    49.57495            81.699521264648        \n",
       "4 No                    49.57495            199.4580743910713      \n",
       "5 No                    49.57495            41.420153086217326     \n",
       "6 No                    49.57495            62.430172331195294     \n",
       "  Payment_Behaviour                Monthly_Balance    Credit_Score\n",
       "1 High_spent_Small_value_payments  312.49408867943663 Good        \n",
       "2 Low_spent_Large_value_payments   284.62916249607184 Good        \n",
       "3 Low_spent_Medium_value_payments  331.2098628537912  Good        \n",
       "4 Low_spent_Small_value_payments   223.45130972736786 Good        \n",
       "5 High_spent_Medium_value_payments 341.48923103222177 Good        \n",
       "6 !@9#%8                           340.4792117872438  Good        "
      ]
     },
     "metadata": {},
     "output_type": "display_data"
    }
   ],
   "source": []
  },
  {
   "cell_type": "code",
   "execution_count": 8,
   "metadata": {
    "vscode": {
     "languageId": "r"
    }
   },
   "outputs": [
    {
     "name": "stdout",
     "output_type": "stream",
     "text": [
      "'data.frame':\t100000 obs. of  28 variables:\n",
      " $ ID                      : num  5634 5635 5636 5637 5638 ...\n",
      " $ Customer_ID             : chr  \"CUS_0xd40\" \"CUS_0xd40\" \"CUS_0xd40\" \"CUS_0xd40\" ...\n",
      " $ Month                   : chr  \"January\" \"February\" \"March\" \"April\" ...\n",
      " $ Name                    : chr  \"Aaron Maashoh\" \"Aaron Maashoh\" \"Aaron Maashoh\" \"Aaron Maashoh\" ...\n",
      " $ Age                     : chr  \"23\" \"23\" \"-500\" \"23\" ...\n",
      " $ SSN                     : chr  \"821-00-0265\" \"821-00-0265\" \"821-00-0265\" \"821-00-0265\" ...\n",
      " $ Occupation              : chr  \"Scientist\" \"Scientist\" \"Scientist\" \"Scientist\" ...\n",
      " $ Annual_Income           : Factor w/ 18940 levels \"10001727.0\",\"10003.495\",..: 6012 6012 6012 6012 6012 6012 6012 6012 10301 10301 ...\n",
      " $ Monthly_Inhand_Salary   : num  1825 NA NA NA 1825 ...\n",
      " $ Num_Bank_Accounts       : int  3 3 3 3 3 3 3 3 2 2 ...\n",
      " $ Num_Credit_Card         : int  4 4 4 4 4 4 4 4 4 4 ...\n",
      " $ Interest_Rate           : int  3 3 3 3 3 3 3 3 6 6 ...\n",
      " $ Num_of_Loan             : chr  \"4\" \"4\" \"4\" \"4\" ...\n",
      " $ Type_of_Loan            : chr  \"Auto Loan, Credit-Builder Loan, Personal Loan, and Home Equity Loan\" \"Auto Loan, Credit-Builder Loan, Personal Loan, and Home Equity Loan\" \"Auto Loan, Credit-Builder Loan, Personal Loan, and Home Equity Loan\" \"Auto Loan, Credit-Builder Loan, Personal Loan, and Home Equity Loan\" ...\n",
      " $ Delay_from_due_date     : int  3 -1 3 5 6 8 3 3 3 7 ...\n",
      " $ Num_of_Delayed_Payment  : chr  \"7\" \"\" \"7\" \"4\" ...\n",
      " $ Changed_Credit_Limit    : chr  \"11.27\" \"11.27\" \"_\" \"6.27\" ...\n",
      " $ Num_Credit_Inquiries    : num  4 4 4 4 4 4 4 4 2 2 ...\n",
      " $ Credit_Mix              : chr  \"_\" \"Good\" \"Good\" \"Good\" ...\n",
      " $ Outstanding_Debt        : chr  \"809.98\" \"809.98\" \"809.98\" \"809.98\" ...\n",
      " $ Credit_Utilization_Ratio: num  26.8 31.9 28.6 31.4 24.8 ...\n",
      " $ Credit_History_Age      : chr  \"22 Years and 1 Months\" NA \"22 Years and 3 Months\" \"22 Years and 4 Months\" ...\n",
      " $ Payment_of_Min_Amount   : chr  \"No\" \"No\" \"No\" \"No\" ...\n",
      " $ Total_EMI_per_month     : num  49.6 49.6 49.6 49.6 49.6 ...\n",
      " $ Amount_invested_monthly : chr  \"80.41529543900253\" \"118.28022162236736\" \"81.699521264648\" \"199.4580743910713\" ...\n",
      " $ Payment_Behaviour       : Factor w/ 7 levels \"!@9#%8\",\"High_spent_Large_value_payments\",..: 4 5 6 7 3 1 7 3 7 2 ...\n",
      " $ Monthly_Balance         : chr  \"312.49408867943663\" \"284.62916249607184\" \"331.2098628537912\" \"223.45130972736786\" ...\n",
      " $ Credit_Score            : Factor w/ 3 levels \"Good\",\"Poor\",..: 1 1 1 1 1 1 1 3 3 1 ...\n"
     ]
    }
   ],
   "source": []
  },
  {
   "cell_type": "code",
   "execution_count": null,
   "metadata": {
    "vscode": {
     "languageId": "r"
    }
   },
   "outputs": [],
   "source": []
  }
 ],
 "metadata": {
  "kernelspec": {
   "display_name": "R",
   "language": "R",
   "name": "ir"
  },
  "language_info": {
   "codemirror_mode": "r",
   "file_extension": ".r",
   "mimetype": "text/x-r-source",
   "name": "R",
   "pygments_lexer": "r",
   "version": "4.0.4"
  }
 },
 "nbformat": 4,
 "nbformat_minor": 2
}
