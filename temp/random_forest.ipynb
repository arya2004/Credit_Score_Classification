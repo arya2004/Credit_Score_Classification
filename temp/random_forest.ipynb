{
 "cells": [
  {
   "cell_type": "code",
   "execution_count": 1,
   "metadata": {
    "vscode": {
     "languageId": "r"
    }
   },
   "outputs": [
    {
     "name": "stderr",
     "output_type": "stream",
     "text": [
      "randomForest 4.6-14\n",
      "\n",
      "Type rfNews() to see new features/changes/bug fixes.\n",
      "\n",
      "Loading required package: lattice\n",
      "\n"
     ]
    },
    {
     "name": "stderr",
     "output_type": "stream",
     "text": [
      "Loading required package: ggplot2\n",
      "\n",
      "\n",
      "Attaching package: ‘ggplot2’\n",
      "\n",
      "\n",
      "The following object is masked from ‘package:randomForest’:\n",
      "\n",
      "    margin\n",
      "\n",
      "\n"
     ]
    }
   ],
   "source": [
    "library(randomForest)\n",
    "library(caret)\n",
    "\n",
    "\n",
    "data <- read.csv(\"train_cleaned.csv\")\n",
    "\n",
    "\n",
    "X <- data[, !(names(data) %in% c(\"Credit_Score\"))]\n",
    "y <- as.factor(data$Credit_Score)  \n",
    "\n",
    "\n",
    "set.seed(42) \n",
    "train_index <- createDataPartition(y, p = 0.8, list = FALSE)\n",
    "X_train <- X[train_index, ]\n",
    "y_train <- y[train_index]\n",
    "X_test <- X[-train_index, ]\n",
    "y_test <- y[-train_index]\n",
    "\n",
    "\n",
    "rf_model <- randomForest(y_train ~ ., data = data.frame(cbind(X_train, y_train)), ntree = 1)\n",
    "saveRDS(rf_model, file = \"rf_model.rds\")\n",
    "\n",
    "\n",
    "\n"
   ]
  },
  {
   "cell_type": "code",
   "execution_count": 2,
   "metadata": {
    "vscode": {
     "languageId": "r"
    }
   },
   "outputs": [
    {
     "name": "stdout",
     "output_type": "stream",
     "text": [
      "Confusion Matrix and Statistics\n",
      "\n",
      "          Reference\n",
      "Prediction    0    1    2\n",
      "         0 2206  252 1146\n",
      "         1  241 3866 1642\n",
      "         2 1118 1681 7846\n",
      "\n",
      "Overall Statistics\n",
      "                                          \n",
      "               Accuracy : 0.696           \n",
      "                 95% CI : (0.6895, 0.7023)\n",
      "    No Information Rate : 0.5318          \n",
      "    P-Value [Acc > NIR] : <2e-16          \n",
      "                                          \n",
      "                  Kappa : 0.4945          \n",
      "                                          \n",
      " Mcnemar's Test P-Value : 0.7893          \n",
      "\n",
      "Statistics by Class:\n",
      "\n",
      "                     Class: 0 Class: 1 Class: 2\n",
      "Sensitivity            0.6188   0.6667   0.7378\n",
      "Specificity            0.9149   0.8674   0.7011\n",
      "Pos Pred Value         0.6121   0.6725   0.7371\n",
      "Neg Pred Value         0.9171   0.8643   0.7019\n",
      "Prevalence             0.1783   0.2900   0.5318\n",
      "Detection Rate         0.1103   0.1933   0.3923\n",
      "Detection Prevalence   0.1802   0.2875   0.5323\n",
      "Balanced Accuracy      0.7669   0.7670   0.7195\n"
     ]
    }
   ],
   "source": [
    "loaded_model <- readRDS(file = \"rf_model.rds\")\n",
    "predictions <- predict(rf_model, newdata = X_test)\n",
    "\n",
    "\n",
    "confusion_matrix <- confusionMatrix(predictions, y_test)\n",
    "print(confusion_matrix)"
   ]
  },
  {
   "cell_type": "code",
   "execution_count": 21,
   "metadata": {
    "vscode": {
     "languageId": "r"
    }
   },
   "outputs": [
    {
     "name": "stdout",
     "output_type": "stream",
     "text": [
      "tibble [1 × 24] (S3: tbl_df/tbl/data.frame)\n",
      " $ X                       : int 1\n",
      " $ Month                   : int 3\n",
      " $ Age                     : num 55.3\n",
      " $ Occupation              : int 3\n",
      " $ Annual_Income           : num 5000\n",
      " $ Monthly_Inhand_Salary   : num 1319\n",
      " $ Num_Bank_Accounts       : int 2\n",
      " $ Num_Credit_Card         : int 6\n",
      " $ Interest_Rate           : num 6.41\n",
      " $ Num_of_Loan             : int 5\n",
      " $ Type_of_Loan            : int 343\n",
      " $ Delay_from_due_date     : int 6\n",
      " $ Num_of_Delayed_Payment  : int 9\n",
      " $ Changed_Credit_Limit    : num 2.44\n",
      " $ Num_Credit_Inquiries    : int 3\n",
      " $ Credit_Mix              : int 2\n",
      " $ Outstanding_Debt        : num 689\n",
      " $ Credit_Utilization_Ratio: num 29.8\n",
      " $ Credit_History_Age      : int 290\n",
      " $ Payment_of_Min_Amount   : int 0\n",
      " $ Total_EMI_per_month     : num 78.5\n",
      " $ Amount_invested_monthly : num 210\n",
      " $ Payment_Behaviour       : int 0\n",
      " $ Monthly_Balance         : num 331\n"
     ]
    },
    {
     "data": {
      "text/html": [
       "<table class=\"dataframe\">\n",
       "<caption>A tibble: 1 × 24</caption>\n",
       "<thead>\n",
       "\t<tr><th scope=col>X</th><th scope=col>Month</th><th scope=col>Age</th><th scope=col>Occupation</th><th scope=col>Annual_Income</th><th scope=col>Monthly_Inhand_Salary</th><th scope=col>Num_Bank_Accounts</th><th scope=col>Num_Credit_Card</th><th scope=col>Interest_Rate</th><th scope=col>Num_of_Loan</th><th scope=col>⋯</th><th scope=col>Num_Credit_Inquiries</th><th scope=col>Credit_Mix</th><th scope=col>Outstanding_Debt</th><th scope=col>Credit_Utilization_Ratio</th><th scope=col>Credit_History_Age</th><th scope=col>Payment_of_Min_Amount</th><th scope=col>Total_EMI_per_month</th><th scope=col>Amount_invested_monthly</th><th scope=col>Payment_Behaviour</th><th scope=col>Monthly_Balance</th></tr>\n",
       "\t<tr><th scope=col>&lt;int&gt;</th><th scope=col>&lt;int&gt;</th><th scope=col>&lt;dbl&gt;</th><th scope=col>&lt;int&gt;</th><th scope=col>&lt;dbl&gt;</th><th scope=col>&lt;dbl&gt;</th><th scope=col>&lt;int&gt;</th><th scope=col>&lt;int&gt;</th><th scope=col>&lt;dbl&gt;</th><th scope=col>&lt;int&gt;</th><th scope=col>⋯</th><th scope=col>&lt;int&gt;</th><th scope=col>&lt;int&gt;</th><th scope=col>&lt;dbl&gt;</th><th scope=col>&lt;dbl&gt;</th><th scope=col>&lt;int&gt;</th><th scope=col>&lt;int&gt;</th><th scope=col>&lt;dbl&gt;</th><th scope=col>&lt;dbl&gt;</th><th scope=col>&lt;int&gt;</th><th scope=col>&lt;dbl&gt;</th></tr>\n",
       "</thead>\n",
       "<tbody>\n",
       "\t<tr><td>1</td><td>3</td><td>55.3207</td><td>3</td><td>5000</td><td>1318.895</td><td>2</td><td>6</td><td>6.41148</td><td>5</td><td>⋯</td><td>3</td><td>2</td><td>689.2679</td><td>29.83762</td><td>290</td><td>0</td><td>78.49624</td><td>210.1267</td><td>0</td><td>331.1412</td></tr>\n",
       "</tbody>\n",
       "</table>\n"
      ],
      "text/latex": [
       "A tibble: 1 × 24\n",
       "\\begin{tabular}{lllllllllllllllllllll}\n",
       " X & Month & Age & Occupation & Annual\\_Income & Monthly\\_Inhand\\_Salary & Num\\_Bank\\_Accounts & Num\\_Credit\\_Card & Interest\\_Rate & Num\\_of\\_Loan & ⋯ & Num\\_Credit\\_Inquiries & Credit\\_Mix & Outstanding\\_Debt & Credit\\_Utilization\\_Ratio & Credit\\_History\\_Age & Payment\\_of\\_Min\\_Amount & Total\\_EMI\\_per\\_month & Amount\\_invested\\_monthly & Payment\\_Behaviour & Monthly\\_Balance\\\\\n",
       " <int> & <int> & <dbl> & <int> & <dbl> & <dbl> & <int> & <int> & <dbl> & <int> & ⋯ & <int> & <int> & <dbl> & <dbl> & <int> & <int> & <dbl> & <dbl> & <int> & <dbl>\\\\\n",
       "\\hline\n",
       "\t 1 & 3 & 55.3207 & 3 & 5000 & 1318.895 & 2 & 6 & 6.41148 & 5 & ⋯ & 3 & 2 & 689.2679 & 29.83762 & 290 & 0 & 78.49624 & 210.1267 & 0 & 331.1412\\\\\n",
       "\\end{tabular}\n"
      ],
      "text/markdown": [
       "\n",
       "A tibble: 1 × 24\n",
       "\n",
       "| X &lt;int&gt; | Month &lt;int&gt; | Age &lt;dbl&gt; | Occupation &lt;int&gt; | Annual_Income &lt;dbl&gt; | Monthly_Inhand_Salary &lt;dbl&gt; | Num_Bank_Accounts &lt;int&gt; | Num_Credit_Card &lt;int&gt; | Interest_Rate &lt;dbl&gt; | Num_of_Loan &lt;int&gt; | ⋯ ⋯ | Num_Credit_Inquiries &lt;int&gt; | Credit_Mix &lt;int&gt; | Outstanding_Debt &lt;dbl&gt; | Credit_Utilization_Ratio &lt;dbl&gt; | Credit_History_Age &lt;int&gt; | Payment_of_Min_Amount &lt;int&gt; | Total_EMI_per_month &lt;dbl&gt; | Amount_invested_monthly &lt;dbl&gt; | Payment_Behaviour &lt;int&gt; | Monthly_Balance &lt;dbl&gt; |\n",
       "|---|---|---|---|---|---|---|---|---|---|---|---|---|---|---|---|---|---|---|---|---|\n",
       "| 1 | 3 | 55.3207 | 3 | 5000 | 1318.895 | 2 | 6 | 6.41148 | 5 | ⋯ | 3 | 2 | 689.2679 | 29.83762 | 290 | 0 | 78.49624 | 210.1267 | 0 | 331.1412 |\n",
       "\n"
      ],
      "text/plain": [
       "  X Month Age     Occupation Annual_Income Monthly_Inhand_Salary\n",
       "1 1 3     55.3207 3          5000          1318.895             \n",
       "  Num_Bank_Accounts Num_Credit_Card Interest_Rate Num_of_Loan ⋯\n",
       "1 2                 6               6.41148       5           ⋯\n",
       "  Num_Credit_Inquiries Credit_Mix Outstanding_Debt Credit_Utilization_Ratio\n",
       "1 3                    2          689.2679         29.83762                \n",
       "  Credit_History_Age Payment_of_Min_Amount Total_EMI_per_month\n",
       "1 290                0                     78.49624           \n",
       "  Amount_invested_monthly Payment_Behaviour Monthly_Balance\n",
       "1 210.1267                0                 331.1412       "
      ]
     },
     "metadata": {},
     "output_type": "display_data"
    },
    {
     "data": {
      "text/html": [
       "<table class=\"dataframe\">\n",
       "<caption>A data.frame: 6 × 25</caption>\n",
       "<thead>\n",
       "\t<tr><th></th><th scope=col>X</th><th scope=col>Month</th><th scope=col>Age</th><th scope=col>Occupation</th><th scope=col>Annual_Income</th><th scope=col>Monthly_Inhand_Salary</th><th scope=col>Num_Bank_Accounts</th><th scope=col>Num_Credit_Card</th><th scope=col>Interest_Rate</th><th scope=col>Num_of_Loan</th><th scope=col>⋯</th><th scope=col>Credit_Mix</th><th scope=col>Outstanding_Debt</th><th scope=col>Credit_Utilization_Ratio</th><th scope=col>Credit_History_Age</th><th scope=col>Payment_of_Min_Amount</th><th scope=col>Total_EMI_per_month</th><th scope=col>Amount_invested_monthly</th><th scope=col>Payment_Behaviour</th><th scope=col>Monthly_Balance</th><th scope=col>Credit_Score</th></tr>\n",
       "\t<tr><th></th><th scope=col>&lt;int&gt;</th><th scope=col>&lt;int&gt;</th><th scope=col>&lt;dbl&gt;</th><th scope=col>&lt;int&gt;</th><th scope=col>&lt;dbl&gt;</th><th scope=col>&lt;dbl&gt;</th><th scope=col>&lt;dbl&gt;</th><th scope=col>&lt;dbl&gt;</th><th scope=col>&lt;dbl&gt;</th><th scope=col>&lt;dbl&gt;</th><th scope=col>⋯</th><th scope=col>&lt;int&gt;</th><th scope=col>&lt;dbl&gt;</th><th scope=col>&lt;dbl&gt;</th><th scope=col>&lt;dbl&gt;</th><th scope=col>&lt;int&gt;</th><th scope=col>&lt;dbl&gt;</th><th scope=col>&lt;dbl&gt;</th><th scope=col>&lt;int&gt;</th><th scope=col>&lt;dbl&gt;</th><th scope=col>&lt;int&gt;</th></tr>\n",
       "</thead>\n",
       "<tbody>\n",
       "\t<tr><th scope=row>1</th><td>0</td><td>1</td><td>23</td><td>12</td><td>19114.12</td><td>1824.843</td><td>3</td><td>4</td><td>3</td><td>4</td><td>⋯</td><td>1</td><td>809.98</td><td>26.82262</td><td>265</td><td>1</td><td>49.57495</td><td> 80.41530</td><td>2</td><td>312.4941</td><td>0</td></tr>\n",
       "\t<tr><th scope=row>2</th><td>1</td><td>2</td><td>23</td><td>12</td><td>19114.12</td><td>1824.843</td><td>3</td><td>4</td><td>3</td><td>4</td><td>⋯</td><td>1</td><td>809.98</td><td>31.94496</td><td>265</td><td>1</td><td>49.57495</td><td>118.28022</td><td>3</td><td>284.6292</td><td>0</td></tr>\n",
       "\t<tr><th scope=row>3</th><td>2</td><td>3</td><td>23</td><td>12</td><td>19114.12</td><td>1824.843</td><td>3</td><td>4</td><td>3</td><td>4</td><td>⋯</td><td>1</td><td>809.98</td><td>28.60935</td><td>267</td><td>1</td><td>49.57495</td><td> 81.69952</td><td>4</td><td>331.2099</td><td>0</td></tr>\n",
       "\t<tr><th scope=row>4</th><td>3</td><td>4</td><td>23</td><td>12</td><td>19114.12</td><td>1824.843</td><td>3</td><td>4</td><td>3</td><td>4</td><td>⋯</td><td>1</td><td>809.98</td><td>31.37786</td><td>268</td><td>1</td><td>49.57495</td><td>199.45807</td><td>5</td><td>223.4513</td><td>0</td></tr>\n",
       "\t<tr><th scope=row>5</th><td>4</td><td>5</td><td>23</td><td>12</td><td>19114.12</td><td>1824.843</td><td>3</td><td>4</td><td>3</td><td>4</td><td>⋯</td><td>1</td><td>809.98</td><td>24.79735</td><td>269</td><td>1</td><td>49.57495</td><td> 41.42015</td><td>1</td><td>341.4892</td><td>0</td></tr>\n",
       "\t<tr><th scope=row>6</th><td>5</td><td>6</td><td>23</td><td>12</td><td>19114.12</td><td>1824.843</td><td>3</td><td>4</td><td>3</td><td>4</td><td>⋯</td><td>1</td><td>809.98</td><td>27.26226</td><td>270</td><td>1</td><td>49.57495</td><td> 62.43017</td><td>1</td><td>340.4792</td><td>0</td></tr>\n",
       "</tbody>\n",
       "</table>\n"
      ],
      "text/latex": [
       "A data.frame: 6 × 25\n",
       "\\begin{tabular}{r|lllllllllllllllllllll}\n",
       "  & X & Month & Age & Occupation & Annual\\_Income & Monthly\\_Inhand\\_Salary & Num\\_Bank\\_Accounts & Num\\_Credit\\_Card & Interest\\_Rate & Num\\_of\\_Loan & ⋯ & Credit\\_Mix & Outstanding\\_Debt & Credit\\_Utilization\\_Ratio & Credit\\_History\\_Age & Payment\\_of\\_Min\\_Amount & Total\\_EMI\\_per\\_month & Amount\\_invested\\_monthly & Payment\\_Behaviour & Monthly\\_Balance & Credit\\_Score\\\\\n",
       "  & <int> & <int> & <dbl> & <int> & <dbl> & <dbl> & <dbl> & <dbl> & <dbl> & <dbl> & ⋯ & <int> & <dbl> & <dbl> & <dbl> & <int> & <dbl> & <dbl> & <int> & <dbl> & <int>\\\\\n",
       "\\hline\n",
       "\t1 & 0 & 1 & 23 & 12 & 19114.12 & 1824.843 & 3 & 4 & 3 & 4 & ⋯ & 1 & 809.98 & 26.82262 & 265 & 1 & 49.57495 &  80.41530 & 2 & 312.4941 & 0\\\\\n",
       "\t2 & 1 & 2 & 23 & 12 & 19114.12 & 1824.843 & 3 & 4 & 3 & 4 & ⋯ & 1 & 809.98 & 31.94496 & 265 & 1 & 49.57495 & 118.28022 & 3 & 284.6292 & 0\\\\\n",
       "\t3 & 2 & 3 & 23 & 12 & 19114.12 & 1824.843 & 3 & 4 & 3 & 4 & ⋯ & 1 & 809.98 & 28.60935 & 267 & 1 & 49.57495 &  81.69952 & 4 & 331.2099 & 0\\\\\n",
       "\t4 & 3 & 4 & 23 & 12 & 19114.12 & 1824.843 & 3 & 4 & 3 & 4 & ⋯ & 1 & 809.98 & 31.37786 & 268 & 1 & 49.57495 & 199.45807 & 5 & 223.4513 & 0\\\\\n",
       "\t5 & 4 & 5 & 23 & 12 & 19114.12 & 1824.843 & 3 & 4 & 3 & 4 & ⋯ & 1 & 809.98 & 24.79735 & 269 & 1 & 49.57495 &  41.42015 & 1 & 341.4892 & 0\\\\\n",
       "\t6 & 5 & 6 & 23 & 12 & 19114.12 & 1824.843 & 3 & 4 & 3 & 4 & ⋯ & 1 & 809.98 & 27.26226 & 270 & 1 & 49.57495 &  62.43017 & 1 & 340.4792 & 0\\\\\n",
       "\\end{tabular}\n"
      ],
      "text/markdown": [
       "\n",
       "A data.frame: 6 × 25\n",
       "\n",
       "| <!--/--> | X &lt;int&gt; | Month &lt;int&gt; | Age &lt;dbl&gt; | Occupation &lt;int&gt; | Annual_Income &lt;dbl&gt; | Monthly_Inhand_Salary &lt;dbl&gt; | Num_Bank_Accounts &lt;dbl&gt; | Num_Credit_Card &lt;dbl&gt; | Interest_Rate &lt;dbl&gt; | Num_of_Loan &lt;dbl&gt; | ⋯ ⋯ | Credit_Mix &lt;int&gt; | Outstanding_Debt &lt;dbl&gt; | Credit_Utilization_Ratio &lt;dbl&gt; | Credit_History_Age &lt;dbl&gt; | Payment_of_Min_Amount &lt;int&gt; | Total_EMI_per_month &lt;dbl&gt; | Amount_invested_monthly &lt;dbl&gt; | Payment_Behaviour &lt;int&gt; | Monthly_Balance &lt;dbl&gt; | Credit_Score &lt;int&gt; |\n",
       "|---|---|---|---|---|---|---|---|---|---|---|---|---|---|---|---|---|---|---|---|---|---|\n",
       "| 1 | 0 | 1 | 23 | 12 | 19114.12 | 1824.843 | 3 | 4 | 3 | 4 | ⋯ | 1 | 809.98 | 26.82262 | 265 | 1 | 49.57495 |  80.41530 | 2 | 312.4941 | 0 |\n",
       "| 2 | 1 | 2 | 23 | 12 | 19114.12 | 1824.843 | 3 | 4 | 3 | 4 | ⋯ | 1 | 809.98 | 31.94496 | 265 | 1 | 49.57495 | 118.28022 | 3 | 284.6292 | 0 |\n",
       "| 3 | 2 | 3 | 23 | 12 | 19114.12 | 1824.843 | 3 | 4 | 3 | 4 | ⋯ | 1 | 809.98 | 28.60935 | 267 | 1 | 49.57495 |  81.69952 | 4 | 331.2099 | 0 |\n",
       "| 4 | 3 | 4 | 23 | 12 | 19114.12 | 1824.843 | 3 | 4 | 3 | 4 | ⋯ | 1 | 809.98 | 31.37786 | 268 | 1 | 49.57495 | 199.45807 | 5 | 223.4513 | 0 |\n",
       "| 5 | 4 | 5 | 23 | 12 | 19114.12 | 1824.843 | 3 | 4 | 3 | 4 | ⋯ | 1 | 809.98 | 24.79735 | 269 | 1 | 49.57495 |  41.42015 | 1 | 341.4892 | 0 |\n",
       "| 6 | 5 | 6 | 23 | 12 | 19114.12 | 1824.843 | 3 | 4 | 3 | 4 | ⋯ | 1 | 809.98 | 27.26226 | 270 | 1 | 49.57495 |  62.43017 | 1 | 340.4792 | 0 |\n",
       "\n"
      ],
      "text/plain": [
       "  X Month Age Occupation Annual_Income Monthly_Inhand_Salary Num_Bank_Accounts\n",
       "1 0 1     23  12         19114.12      1824.843              3                \n",
       "2 1 2     23  12         19114.12      1824.843              3                \n",
       "3 2 3     23  12         19114.12      1824.843              3                \n",
       "4 3 4     23  12         19114.12      1824.843              3                \n",
       "5 4 5     23  12         19114.12      1824.843              3                \n",
       "6 5 6     23  12         19114.12      1824.843              3                \n",
       "  Num_Credit_Card Interest_Rate Num_of_Loan ⋯ Credit_Mix Outstanding_Debt\n",
       "1 4               3             4           ⋯ 1          809.98          \n",
       "2 4               3             4           ⋯ 1          809.98          \n",
       "3 4               3             4           ⋯ 1          809.98          \n",
       "4 4               3             4           ⋯ 1          809.98          \n",
       "5 4               3             4           ⋯ 1          809.98          \n",
       "6 4               3             4           ⋯ 1          809.98          \n",
       "  Credit_Utilization_Ratio Credit_History_Age Payment_of_Min_Amount\n",
       "1 26.82262                 265                1                    \n",
       "2 31.94496                 265                1                    \n",
       "3 28.60935                 267                1                    \n",
       "4 31.37786                 268                1                    \n",
       "5 24.79735                 269                1                    \n",
       "6 27.26226                 270                1                    \n",
       "  Total_EMI_per_month Amount_invested_monthly Payment_Behaviour Monthly_Balance\n",
       "1 49.57495             80.41530               2                 312.4941       \n",
       "2 49.57495            118.28022               3                 284.6292       \n",
       "3 49.57495             81.69952               4                 331.2099       \n",
       "4 49.57495            199.45807               5                 223.4513       \n",
       "5 49.57495             41.42015               1                 341.4892       \n",
       "6 49.57495             62.43017               1                 340.4792       \n",
       "  Credit_Score\n",
       "1 0           \n",
       "2 0           \n",
       "3 0           \n",
       "4 0           \n",
       "5 0           \n",
       "6 0           "
      ]
     },
     "metadata": {},
     "output_type": "display_data"
    }
   ],
   "source": [
    "library(tibble)\n",
    "\n",
    "# Generate random data for the dataframe\n",
    "set.seed(123)\n",
    "df <- tibble(\n",
    "  X = seq_len(1),\n",
    "  Month = sample(1:12, 1, replace = TRUE),\n",
    "  Age = runif(1, min = 20, max = 60),\n",
    "  Occupation = sample(1:20, 1, replace = TRUE),\n",
    "  Annual_Income = 5000,\n",
    "  Monthly_Inhand_Salary = runif(1, min = 1000, max = 8000),\n",
    "  Num_Bank_Accounts = sample(1:5, 1, replace = TRUE),\n",
    "  Num_Credit_Card = sample(1:6, 1, replace = TRUE),\n",
    "  Interest_Rate = runif(1, min = 2, max = 10),\n",
    "  Num_of_Loan = sample(1:5, 1, replace = TRUE),\n",
    "  Type_of_Loan = sample(100:900, 1, replace = TRUE),\n",
    "  Delay_from_due_date = sample(1:10, 1, replace = TRUE),\n",
    "  Num_of_Delayed_Payment = sample(1:10, 1, replace = TRUE),\n",
    "  Changed_Credit_Limit = runif(1, min = 1, max = 15),\n",
    "  Num_Credit_Inquiries = sample(1:5, 1, replace = TRUE),\n",
    "  Credit_Mix = sample(1:2, 1, replace = TRUE),\n",
    "  Outstanding_Debt = runif(1, min = 500, max = 5000),\n",
    "  Credit_Utilization_Ratio = runif(1, min = 20, max = 50),\n",
    "  Credit_History_Age = sample(200:400, 1, replace = TRUE),\n",
    "  Payment_of_Min_Amount = sample(0:1, 1, replace = TRUE),\n",
    "  Total_EMI_per_month = runif(1, min = 30, max = 100),\n",
    "  Amount_invested_monthly = runif(1, min = 50, max = 300),\n",
    "  Payment_Behaviour = sample(0:5, 1, replace = TRUE),\n",
    "  Monthly_Balance = runif(1, min = 200, max = 400),\n",
    "  #Credit_Score = sample(0:5, 1, replace = TRUE)\n",
    ")\n",
    "\n",
    "# Show the structure of the dataframe\n",
    "str(df)\n",
    "head(df)\n",
    "head(data)\n"
   ]
  },
  {
   "cell_type": "code",
   "execution_count": 22,
   "metadata": {
    "vscode": {
     "languageId": "r"
    }
   },
   "outputs": [
    {
     "ename": "ERROR",
     "evalue": "Error in table(data, reference, dnn = dnn, ...): all arguments must have the same length\n",
     "output_type": "error",
     "traceback": [
      "Error in table(data, reference, dnn = dnn, ...): all arguments must have the same length\nTraceback:\n",
      "1. confusionMatrix(predictions, y_test)",
      "2. confusionMatrix.default(predictions, y_test)",
      "3. table(data, reference, dnn = dnn, ...)",
      "4. stop(\"all arguments must have the same length\")"
     ]
    }
   ],
   "source": [
    "rf_model <- randomForest(y_train ~ ., data = data.frame(cbind(X_train, y_train)), ntree = 1)\n",
    "\n",
    "\n",
    "predictions <- predict(rf_model, newdata = df)\n",
    "\n",
    "\n",
    "confusion_matrix <- confusionMatrix(predictions, y_test)\n",
    "print(confusion_matrix)"
   ]
  },
  {
   "cell_type": "code",
   "execution_count": 32,
   "metadata": {
    "vscode": {
     "languageId": "r"
    }
   },
   "outputs": [
    {
     "name": "stdout",
     "output_type": "stream",
     "text": [
      "1 \n",
      "2 \n",
      "Levels: 0 1 2\n"
     ]
    }
   ],
   "source": [
    "library(randomForest)\n",
    "library(caret)\n",
    "\n",
    "# Sample dataframe generation code (100,000 observations)\n",
    "library(tibble)\n",
    "\n",
    "set.seed(123)\n",
    "# Assuming user inputs for each variable\n",
    "user_input <- data.frame(\n",
    "  X = 1,  # Example value, replace with actual value\n",
    "  Month = 3,  # Example value, replace with actual value\n",
    "  Age = 30,  # Example value, replace with actual value\n",
    "  Occupation = 15,  # Example value, replace with actual value\n",
    "  Annual_Income = 50000,  # Example value, replace with actual value\n",
    "  Monthly_Inhand_Salary = 4000,  # Example value, replace with actual value\n",
    "  Num_Bank_Accounts = 2,  # Example value, replace with actual value\n",
    "  Num_Credit_Card = 3,  # Example value, replace with actual value\n",
    "  Interest_Rate = 6,  # Example value, replace with actual value\n",
    "  Num_of_Loan = 2,  # Example value, replace with actual value\n",
    "  Type_of_Loan = 250,  # Example value, replace with actual value\n",
    "  Delay_from_due_date = 4,  # Example value, replace with actual value\n",
    "  Num_of_Delayed_Payment = 3,  # Example value, replace with actual value\n",
    "  Changed_Credit_Limit = 8,  # Example value, replace with actual value\n",
    "  Num_Credit_Inquiries = 2,  # Example value, replace with actual value\n",
    "  Credit_Mix = 1,  # Example value, replace with actual value\n",
    "  Outstanding_Debt = 2000,  # Example value, replace with actual value\n",
    "  Credit_Utilization_Ratio = 35,  # Example value, replace with actual value\n",
    "  Credit_History_Age = 300,  # Example value, replace with actual value\n",
    "  Payment_of_Min_Amount = 1,  # Example value, replace with actual value\n",
    "  Total_EMI_per_month = 70,  # Example value, replace with actual value\n",
    "  Amount_invested_monthly = 150,  # Example value, replace with actual value\n",
    "  Payment_Behaviour = 3,  # Example value, replace with actual value\n",
    "  Monthly_Balance = 300  # Example value, replace with actual value\n",
    " \n",
    ")\n",
    "\n",
    "\n",
    "\n",
    "\n",
    "\n",
    "# Building the random forest model\n",
    "rf_model <- randomForest(y_train ~ ., data = data.frame(cbind(X_train, y_train)), ntree = 1)\n",
    "\n",
    "# Making predictions\n",
    "predictions <- predict(rf_model, newdata = user_input)\n",
    "\n",
    "print(predictions)"
   ]
  },
  {
   "cell_type": "code",
   "execution_count": null,
   "metadata": {
    "vscode": {
     "languageId": "r"
    }
   },
   "outputs": [],
   "source": []
  },
  {
   "cell_type": "code",
   "execution_count": null,
   "metadata": {
    "vscode": {
     "languageId": "r"
    }
   },
   "outputs": [],
   "source": []
  }
 ],
 "metadata": {
  "kernelspec": {
   "display_name": "R",
   "language": "R",
   "name": "ir"
  },
  "language_info": {
   "codemirror_mode": "r",
   "file_extension": ".r",
   "mimetype": "text/x-r-source",
   "name": "R",
   "pygments_lexer": "r",
   "version": "4.0.4"
  }
 },
 "nbformat": 4,
 "nbformat_minor": 2
}
